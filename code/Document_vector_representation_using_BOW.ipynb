{
 "cells": [
  {
   "cell_type": "code",
   "execution_count": 1,
   "metadata": {},
   "outputs": [],
   "source": [
    "import pandas as pd\n",
    "import numpy as np\n",
    "import matplotlib.pyplot as plt\n",
    "import seaborn as sns"
   ]
  },
  {
   "cell_type": "code",
   "execution_count": 2,
   "metadata": {},
   "outputs": [],
   "source": [
    "from collections import Counter, defaultdict"
   ]
  },
  {
   "cell_type": "code",
   "execution_count": 3,
   "metadata": {},
   "outputs": [],
   "source": [
    "import arabic_reshaper\n",
    "from bidi.algorithm import get_display"
   ]
  },
  {
   "cell_type": "code",
   "execution_count": 4,
   "metadata": {},
   "outputs": [],
   "source": [
    "import pickle"
   ]
  },
  {
   "cell_type": "code",
   "execution_count": 5,
   "metadata": {},
   "outputs": [],
   "source": [
    "from sklearn.feature_extraction.text import CountVectorizer, TfidfTransformer"
   ]
  },
  {
   "cell_type": "markdown",
   "metadata": {},
   "source": [
    "*****"
   ]
  },
  {
   "cell_type": "markdown",
   "metadata": {},
   "source": [
    "## Read data files\n",
    "\n",
    "- meta data\n",
    "- raw corpus text\n",
    "- tokenized text"
   ]
  },
  {
   "cell_type": "markdown",
   "metadata": {},
   "source": [
    "### raw text data and metadata"
   ]
  },
  {
   "cell_type": "code",
   "execution_count": 6,
   "metadata": {},
   "outputs": [
    {
     "data": {
      "text/plain": [
       "(pandas.core.frame.DataFrame, (39, 9))"
      ]
     },
     "execution_count": 6,
     "metadata": {},
     "output_type": "execute_result"
    }
   ],
   "source": [
    "with open('../pickle_files/doc_parsed_data.pickle', 'rb') as f:\n",
    "    doc_data_df = pickle.load(f)\n",
    "type(doc_data_df),doc_data_df.shape"
   ]
  },
  {
   "cell_type": "code",
   "execution_count": 7,
   "metadata": {},
   "outputs": [
    {
     "data": {
      "text/plain": [
       "hyperlink                                http://saramusik.org/106/textei/\n",
       "filename                                                          106.txt\n",
       "author                  أبو بكر محمّد بن يحيى بن صائغ التّجيبي الأندلس...\n",
       "source                                                  [بريطانيا العظمى]\n",
       "title_arabic                                كتاب النّفس : القول في السّمع\n",
       "title_latin_translit                                                 None\n",
       "tags                    [المدرسة الفارابيّة, الموسيقى والفلسفة, النصوص...\n",
       "section_titles          [القوّة السّامعة, أَثَرُ الحِسِّ الّذِي فِي ال...\n",
       "raw_text                (157ب)\\nوَالقُوَّةُ السَّامِعَةُ هِيَ اسْتِعْم...\n",
       "Name: 18, dtype: object"
      ]
     },
     "execution_count": 7,
     "metadata": {},
     "output_type": "execute_result"
    }
   ],
   "source": [
    "doc_data_df.iloc[18]"
   ]
  },
  {
   "cell_type": "code",
   "execution_count": 8,
   "metadata": {},
   "outputs": [
    {
     "data": {
      "text/plain": [
       "hyperlink                                http://saramusik.org/120/textei/\n",
       "filename                                                          120.txt\n",
       "author                  شمس الدّين أبو عبد اللّه الذّهبي الصّيداوي الد...\n",
       "source                                           [مصر, مصر, فرنسا, تركيا]\n",
       "title_arabic                                كتاب الإنعام في معرفة الأنغام\n",
       "title_latin_translit                                                 None\n",
       "tags                          [نظريّات موسيقيّة, مدرسة الأراجيز والأنغام]\n",
       "section_titles          [مقدّمة, فصل حول الأصول, فصل حول الفروع, فصل ح...\n",
       "raw_text                بِسْمِ اللهِ الرّحْمَانِ الرحِيم وَهْوَ حَسْبُ...\n",
       "Name: 19, dtype: object"
      ]
     },
     "execution_count": 8,
     "metadata": {},
     "output_type": "execute_result"
    }
   ],
   "source": [
    "doc_data_df.iloc[19,:]"
   ]
  },
  {
   "cell_type": "markdown",
   "metadata": {},
   "source": [
    "### tokenized corpus"
   ]
  },
  {
   "cell_type": "code",
   "execution_count": 9,
   "metadata": {},
   "outputs": [
    {
     "data": {
      "text/plain": [
       "39"
      ]
     },
     "execution_count": 9,
     "metadata": {},
     "output_type": "execute_result"
    }
   ],
   "source": [
    "with open('../pickle_files/doc_tokenized_data.pickle', 'rb') as f:\n",
    "    corpus_tokens = pickle.load(f)\n",
    "len(corpus_tokens)"
   ]
  },
  {
   "cell_type": "markdown",
   "metadata": {},
   "source": [
    "******"
   ]
  },
  {
   "cell_type": "markdown",
   "metadata": {},
   "source": [
    "## Calculate document-term matrices"
   ]
  },
  {
   "cell_type": "markdown",
   "metadata": {},
   "source": [
    "### DTM of raw frequency counts"
   ]
  },
  {
   "cell_type": "code",
   "execution_count": 10,
   "metadata": {},
   "outputs": [],
   "source": [
    "MIN_DOC_FREQ = 5\n",
    "MAX_DOC_FREQ = 1.0  #0.7\n",
    "NGRAM_RANGE = (1,3)"
   ]
  },
  {
   "cell_type": "code",
   "execution_count": 11,
   "metadata": {},
   "outputs": [],
   "source": [
    "#?CountVectorizer"
   ]
  },
  {
   "cell_type": "code",
   "execution_count": 12,
   "metadata": {},
   "outputs": [],
   "source": [
    "corpus_tokens_str = [' '.join(doc_tokens) for doc_tokens in corpus_tokens]"
   ]
  },
  {
   "cell_type": "code",
   "execution_count": 13,
   "metadata": {},
   "outputs": [
    {
     "data": {
      "text/plain": [
       "((39, 1258), 1258)"
      ]
     },
     "execution_count": 13,
     "metadata": {},
     "output_type": "execute_result"
    }
   ],
   "source": [
    "count_bow_model = CountVectorizer(min_df=MIN_DOC_FREQ, max_df=MAX_DOC_FREQ, ngram_range=NGRAM_RANGE)\n",
    "\n",
    "count_bow_matrix = count_bow_model.fit_transform(corpus_tokens_str)\n",
    "count_bow_vocab = count_bow_model.get_feature_names()\n",
    "count_bow_matrix.shape,len(count_bow_vocab)"
   ]
  },
  {
   "cell_type": "code",
   "execution_count": 14,
   "metadata": {},
   "outputs": [
    {
     "data": {
      "text/plain": [
       "(1, 377)"
      ]
     },
     "execution_count": 14,
     "metadata": {},
     "output_type": "execute_result"
    }
   ],
   "source": [
    "count_bow_matrix.data.min(), count_bow_matrix.data.max()"
   ]
  },
  {
   "cell_type": "code",
   "execution_count": 15,
   "metadata": {},
   "outputs": [
    {
     "data": {
      "image/png": "[encoded data removed]",
      "text/plain": [
       "<Figure size 432x288 with 1 Axes>"
      ]
     },
     "metadata": {
      "needs_background": "light"
     },
     "output_type": "display_data"
    }
   ],
   "source": [
    "plt.spy(count_bow_matrix,precision=0, markersize=1, aspect='auto')\n",
    "plt.xlabel('term')\n",
    "plt.ylabel('document')\n",
    "fig=plt.title('Frequency counts')"
   ]
  },
  {
   "cell_type": "code",
   "execution_count": 16,
   "metadata": {},
   "outputs": [
    {
     "data": {
      "text/plain": [
       "['1979',\n",
       " '1979 هرس',\n",
       " '1979 هرس شلواح',\n",
       " '2004',\n",
       " 'ئتلاف',\n",
       " 'ابا',\n",
       " 'ابتد',\n",
       " 'ابدا',\n",
       " 'ابراهيم',\n",
       " 'ابراهيم موصل',\n",
       " 'ابعاد',\n",
       " 'ابن',\n",
       " 'ابو',\n",
       " 'ابوسليك',\n",
       " 'ابي',\n",
       " 'اتت',\n",
       " 'اتخذ',\n",
       " 'اتصال',\n",
       " 'اتفاق',\n",
       " 'اتفق',\n",
       " 'اتي',\n",
       " 'اثار',\n",
       " 'اثن',\n",
       " 'اثن عشر',\n",
       " 'اثني',\n",
       " 'اجاب',\n",
       " 'اجتماع',\n",
       " 'اجزاء',\n",
       " 'اجسام',\n",
       " 'اجل',\n",
       " 'اجناس',\n",
       " 'احب',\n",
       " 'احد',\n",
       " 'احد عشر',\n",
       " 'احدا',\n",
       " 'احداهما',\n",
       " 'احدي',\n",
       " 'احسن',\n",
       " 'احمد',\n",
       " 'احوال',\n",
       " 'اختلاف',\n",
       " 'اخذ',\n",
       " 'اخر',\n",
       " 'اخري',\n",
       " 'اخلاق',\n",
       " 'اخير',\n",
       " 'ادرك',\n",
       " 'ادم',\n",
       " 'اراد',\n",
       " 'اربع',\n",
       " 'اربع عشر',\n",
       " 'اربع غمات',\n",
       " 'اربعه',\n",
       " 'ارد',\n",
       " 'اردت',\n",
       " 'ارض',\n",
       " 'ازمن',\n",
       " 'اسباب',\n",
       " 'استعمال',\n",
       " 'اسد',\n",
       " 'اسرع',\n",
       " 'اسفل',\n",
       " 'اسلام',\n",
       " 'اسم',\n",
       " 'اسماء',\n",
       " 'اسمه',\n",
       " 'اسود',\n",
       " 'اشار',\n",
       " 'اشبه',\n",
       " 'اشد',\n",
       " 'اشرف',\n",
       " 'اشعار',\n",
       " 'اشكال',\n",
       " 'اشياء',\n",
       " 'اصابع',\n",
       " 'اصبع',\n",
       " 'اصحاب',\n",
       " 'اصفهان',\n",
       " 'اصل',\n",
       " 'اصلا',\n",
       " 'اصلح',\n",
       " 'اصله',\n",
       " 'اصو',\n",
       " 'اصول',\n",
       " 'اصول فروع',\n",
       " 'اضعف',\n",
       " 'اظهر',\n",
       " 'اعداد',\n",
       " 'اعضاء',\n",
       " 'اعظم',\n",
       " 'اعلم',\n",
       " 'اعني',\n",
       " 'اغان',\n",
       " 'اغلب',\n",
       " 'افضل',\n",
       " 'اقرب',\n",
       " 'الات',\n",
       " 'الان',\n",
       " 'البم',\n",
       " 'الة',\n",
       " 'الح',\n",
       " 'الحس',\n",
       " 'الحق',\n",
       " 'الدساتين',\n",
       " 'الدم',\n",
       " 'الست',\n",
       " 'الطب',\n",
       " 'الف',\n",
       " 'الفاظ',\n",
       " 'الفن',\n",
       " 'الكل',\n",
       " 'الله',\n",
       " 'الله جعفر',\n",
       " 'الله دنا',\n",
       " 'الله دنا محمد',\n",
       " 'الله رحم',\n",
       " 'الله رحم رحيم',\n",
       " 'الله رحمن',\n",
       " 'الله رحمن رحيم',\n",
       " 'الله صلي',\n",
       " 'الله عال',\n",
       " 'الله عنه',\n",
       " 'الله موفق',\n",
       " 'الله وسلم',\n",
       " 'الم',\n",
       " 'المد',\n",
       " 'اله',\n",
       " 'اليد',\n",
       " 'اليه',\n",
       " 'امام',\n",
       " 'امر',\n",
       " 'امرا',\n",
       " 'امكن',\n",
       " 'امور',\n",
       " 'امير',\n",
       " 'انتقال',\n",
       " 'انس',\n",
       " 'انغام',\n",
       " 'انف',\n",
       " 'انفراد',\n",
       " 'انها',\n",
       " 'انهم',\n",
       " 'انوا',\n",
       " 'اهل',\n",
       " 'اهل صناع',\n",
       " 'اهل علم',\n",
       " 'اوائل',\n",
       " 'اواز',\n",
       " 'اوتار',\n",
       " 'اوجه',\n",
       " 'اول',\n",
       " 'اول ثان',\n",
       " 'اولا',\n",
       " 'اولي',\n",
       " 'ايام',\n",
       " 'ايسر',\n",
       " 'ايضا',\n",
       " 'ايقاع',\n",
       " 'باب',\n",
       " 'باس',\n",
       " 'باطن',\n",
       " 'باق',\n",
       " 'باقي',\n",
       " 'بال',\n",
       " 'بان',\n",
       " 'ببعض',\n",
       " 'بتدئ',\n",
       " 'بتداء',\n",
       " 'بحر',\n",
       " 'بحسب',\n",
       " 'بحور',\n",
       " 'بحيث',\n",
       " 'بدا',\n",
       " 'بدن',\n",
       " 'بديع',\n",
       " 'بذلك',\n",
       " 'بربط',\n",
       " 'برد',\n",
       " 'بزرك',\n",
       " 'بسم',\n",
       " 'بسم الله',\n",
       " 'بسم الله رحم',\n",
       " 'بسم الله رحمن',\n",
       " 'بسيط',\n",
       " 'بشر',\n",
       " 'بعاد',\n",
       " 'بعده',\n",
       " 'بعضا',\n",
       " 'بعضه',\n",
       " 'بعلم',\n",
       " 'بعيد',\n",
       " 'بعين',\n",
       " 'بغير',\n",
       " 'بقدر',\n",
       " 'بقي',\n",
       " 'بكر',\n",
       " 'بكل',\n",
       " 'بلا',\n",
       " 'بلد',\n",
       " 'بلغ',\n",
       " 'بلغم',\n",
       " 'بمثل',\n",
       " 'بنجكاه',\n",
       " 'بني',\n",
       " 'بهذا',\n",
       " 'بيات',\n",
       " 'بيان',\n",
       " 'بيت',\n",
       " 'بيته',\n",
       " 'بينا',\n",
       " 'بينه',\n",
       " 'بيوت',\n",
       " 'تاب',\n",
       " 'تاتي',\n",
       " 'تاثير',\n",
       " 'تاخذ',\n",
       " 'تارة',\n",
       " 'تاليف',\n",
       " 'تاليف الح',\n",
       " 'تامل',\n",
       " 'تباع',\n",
       " 'تبع',\n",
       " 'تبين',\n",
       " 'تحت',\n",
       " 'تحدث',\n",
       " 'تحرك',\n",
       " 'تحقيق',\n",
       " 'تخذ',\n",
       " 'تخرج',\n",
       " 'تدخل',\n",
       " 'تذكر',\n",
       " 'ترتيب',\n",
       " 'ترجيع',\n",
       " 'ترك',\n",
       " 'تركب',\n",
       " 'تركيب',\n",
       " 'ترنم',\n",
       " 'تري',\n",
       " 'تزيد',\n",
       " 'تسع',\n",
       " 'تسمي',\n",
       " 'تصير',\n",
       " 'تظهر',\n",
       " 'تعد',\n",
       " 'تعرض',\n",
       " 'تعرف',\n",
       " 'تعلم',\n",
       " 'تغن',\n",
       " 'تغني',\n",
       " 'تقدم',\n",
       " 'تقدير',\n",
       " 'تقع',\n",
       " 'تقول',\n",
       " 'تكلم',\n",
       " 'تكن',\n",
       " 'تكون',\n",
       " 'تمام',\n",
       " 'تمت',\n",
       " 'توضع',\n",
       " 'توفيق',\n",
       " 'ثابت',\n",
       " 'ثالث',\n",
       " 'ثالث رابع',\n",
       " 'ثان',\n",
       " 'ثان خفيف',\n",
       " 'ثان وفي',\n",
       " 'ثاني',\n",
       " 'ثبت',\n",
       " 'ثقل',\n",
       " 'ثقيل',\n",
       " 'ثقيل اول',\n",
       " 'ثقيل ثان',\n",
       " 'ثقيل خفيف',\n",
       " 'ثلاث',\n",
       " 'ثلاث اوجه',\n",
       " 'ثلاث قرات',\n",
       " 'ثلث',\n",
       " 'ثمان',\n",
       " 'ثني',\n",
       " 'ثياب',\n",
       " 'ثير',\n",
       " 'ثيرا',\n",
       " 'جاء',\n",
       " 'جار',\n",
       " 'جاز',\n",
       " 'جامع',\n",
       " 'جانب',\n",
       " 'جاهل',\n",
       " 'جاوز',\n",
       " 'جبن',\n",
       " 'جتماع',\n",
       " 'جتمع',\n",
       " 'جدا',\n",
       " 'جرا',\n",
       " 'جزء',\n",
       " 'جزاء',\n",
       " 'جزائ',\n",
       " 'جسم',\n",
       " 'جعفر',\n",
       " 'جعل',\n",
       " 'جعلت',\n",
       " 'جلس',\n",
       " 'جماع',\n",
       " 'جمال',\n",
       " 'جمع',\n",
       " 'جمل',\n",
       " 'جميع',\n",
       " 'جميل',\n",
       " 'جنس',\n",
       " 'جهة',\n",
       " 'جواب',\n",
       " 'جود',\n",
       " 'جوزاء',\n",
       " 'جوهر',\n",
       " 'حاج',\n",
       " 'حاجة',\n",
       " 'حاد',\n",
       " 'حادة',\n",
       " 'حادث',\n",
       " 'حاذق',\n",
       " 'حال',\n",
       " 'حان',\n",
       " 'حباب',\n",
       " 'حبيب',\n",
       " 'حتاج',\n",
       " 'حجاز',\n",
       " 'حجر',\n",
       " 'حداث',\n",
       " 'حدث',\n",
       " 'حدود',\n",
       " 'حديث',\n",
       " 'حذق',\n",
       " 'حرام',\n",
       " 'حرج',\n",
       " 'حرف',\n",
       " 'حرفا',\n",
       " 'حرك',\n",
       " 'حركة',\n",
       " 'حركت',\n",
       " 'حروف',\n",
       " 'حريك',\n",
       " 'حزن',\n",
       " 'حساب',\n",
       " 'حسب',\n",
       " 'حسن',\n",
       " 'حسيني',\n",
       " 'حصار',\n",
       " 'حصر',\n",
       " 'حصل',\n",
       " 'حضر',\n",
       " 'حفظ',\n",
       " 'حقا',\n",
       " 'حقيق',\n",
       " 'حكم',\n",
       " 'حكماء',\n",
       " 'حكي',\n",
       " 'حكيم',\n",
       " 'حلق',\n",
       " 'حلم',\n",
       " 'حلوق',\n",
       " 'حمد',\n",
       " 'حمد لله',\n",
       " 'حمل',\n",
       " 'حمير',\n",
       " 'حنين',\n",
       " 'حواس',\n",
       " 'حوال',\n",
       " 'حوت',\n",
       " 'حور',\n",
       " 'حول',\n",
       " 'حيل',\n",
       " 'حينئذ',\n",
       " 'حيو',\n",
       " 'خاتم',\n",
       " 'خارج',\n",
       " 'خاص',\n",
       " 'خاصة',\n",
       " 'خالد',\n",
       " 'خالف',\n",
       " 'خامس',\n",
       " 'خامس رابع',\n",
       " 'خبر',\n",
       " 'ختار',\n",
       " 'ختام',\n",
       " 'ختلاف',\n",
       " 'ختلف',\n",
       " 'ختم',\n",
       " 'خراج',\n",
       " 'خرج',\n",
       " 'خروج',\n",
       " 'خفا',\n",
       " 'خفيف',\n",
       " 'خفيف ثقيل',\n",
       " 'خفيف رمل',\n",
       " 'خلاف',\n",
       " 'خلاق',\n",
       " 'خلق',\n",
       " 'خليل',\n",
       " 'خمس',\n",
       " 'خمسة',\n",
       " 'خنصر',\n",
       " 'خواص',\n",
       " 'خوف',\n",
       " 'خير',\n",
       " 'خيل',\n",
       " 'داخل',\n",
       " 'دار',\n",
       " 'دافع',\n",
       " 'داود',\n",
       " 'دخل',\n",
       " 'دخول',\n",
       " 'درا',\n",
       " 'درك',\n",
       " 'دسا',\n",
       " 'دعو',\n",
       " 'دقيق',\n",
       " 'دلال',\n",
       " 'دنا',\n",
       " 'دنا محمد',\n",
       " 'دنا محمد واله',\n",
       " 'دني',\n",
       " 'دهر',\n",
       " 'دور',\n",
       " 'دوكا',\n",
       " 'دوكاه',\n",
       " 'دين',\n",
       " 'ذاكر',\n",
       " 'ذكر',\n",
       " 'ذكره',\n",
       " 'ذهب',\n",
       " 'ذهن',\n",
       " 'ذوات',\n",
       " 'ذيل',\n",
       " 'رئيس',\n",
       " 'رائح',\n",
       " 'رابع',\n",
       " 'رابع ثالث',\n",
       " 'راجع',\n",
       " 'راد',\n",
       " 'راس',\n",
       " 'راست',\n",
       " 'راع',\n",
       " 'رام',\n",
       " 'راي',\n",
       " 'رايت',\n",
       " 'رباب',\n",
       " 'ربع',\n",
       " 'ربم',\n",
       " 'ربما',\n",
       " 'ربيع',\n",
       " 'رتب',\n",
       " 'رتيب',\n",
       " 'رجال',\n",
       " 'رجع',\n",
       " 'رجل',\n",
       " 'رحم',\n",
       " 'رحم رحيم',\n",
       " 'رحمن',\n",
       " 'رحمن رحيم',\n",
       " 'رحمه',\n",
       " 'رحمه الله',\n",
       " 'رحيم',\n",
       " 'رسال',\n",
       " 'رست',\n",
       " 'رست عراق',\n",
       " 'رسل',\n",
       " 'رسم',\n",
       " 'رسول',\n",
       " 'رسول الله',\n",
       " 'رسوم',\n",
       " 'رصد',\n",
       " 'رضي',\n",
       " 'رضي الله',\n",
       " 'رضي الله عنه',\n",
       " 'رطب',\n",
       " 'رفع',\n",
       " 'ركب',\n",
       " 'ركيب',\n",
       " 'رمل',\n",
       " 'رنم',\n",
       " 'رهاوي',\n",
       " 'رهو',\n",
       " 'روا',\n",
       " 'روح',\n",
       " 'روع',\n",
       " 'روم',\n",
       " 'روي',\n",
       " 'رياح',\n",
       " 'رياض',\n",
       " 'ريد',\n",
       " 'زائد',\n",
       " 'زاد',\n",
       " 'زبير',\n",
       " 'زركشي',\n",
       " 'زروكند',\n",
       " 'زروكند اصفهان',\n",
       " 'زعم',\n",
       " 'زما',\n",
       " 'زمان',\n",
       " 'زمر',\n",
       " 'زنكل',\n",
       " 'زهر',\n",
       " 'زوال',\n",
       " 'زياد',\n",
       " 'زيد',\n",
       " 'زير',\n",
       " 'زير مثلث',\n",
       " 'سائر',\n",
       " 'سابع',\n",
       " 'سادس',\n",
       " 'ساع',\n",
       " 'ساكن',\n",
       " 'سال',\n",
       " 'سالت',\n",
       " 'سامع',\n",
       " 'ساوي',\n",
       " 'سباب',\n",
       " 'سباب مثن',\n",
       " 'سبب',\n",
       " 'سبع',\n",
       " 'سبعة',\n",
       " 'سبق',\n",
       " 'سبيل',\n",
       " 'ستة',\n",
       " 'ستدل',\n",
       " 'ستعمل',\n",
       " 'ستعي',\n",
       " 'ستمع',\n",
       " 'سحاق',\n",
       " 'سرع',\n",
       " 'سرور',\n",
       " 'سريع',\n",
       " 'سعد',\n",
       " 'سعيد',\n",
       " 'سلام',\n",
       " 'سلط',\n",
       " 'سلم',\n",
       " 'سلمك',\n",
       " 'سليك',\n",
       " 'سليم',\n",
       " 'سماع',\n",
       " 'سمع',\n",
       " 'سمعا',\n",
       " 'سمعت',\n",
       " 'سمي',\n",
       " 'سميت',\n",
       " 'سناد',\n",
       " 'سنة',\n",
       " 'سهل',\n",
       " 'سواد',\n",
       " 'سواه',\n",
       " 'سوداء',\n",
       " 'سيد',\n",
       " 'سيكاه',\n",
       " 'سيما',\n",
       " 'شاء',\n",
       " 'شاء الله',\n",
       " 'شاء الله عال',\n",
       " 'شار',\n",
       " 'شاعر',\n",
       " 'شاكل',\n",
       " 'شان',\n",
       " 'شاهد',\n",
       " 'شباب',\n",
       " 'شبه',\n",
       " 'شتاء',\n",
       " 'شتمل',\n",
       " 'شجاع',\n",
       " 'شجاع جبن',\n",
       " 'شدة',\n",
       " 'شديد',\n",
       " 'شرب',\n",
       " 'شرح',\n",
       " 'شرع',\n",
       " 'شرف',\n",
       " 'شريف',\n",
       " 'شعار',\n",
       " 'شعب',\n",
       " 'شعر',\n",
       " 'شعرا',\n",
       " 'شكال',\n",
       " 'شكر',\n",
       " 'شكل',\n",
       " 'شلواح',\n",
       " 'شلواح 1979',\n",
       " 'شلواح 1979 هرس',\n",
       " 'شلواح 2004',\n",
       " 'شمال',\n",
       " 'شمس',\n",
       " 'شهد',\n",
       " 'شهر',\n",
       " 'شهناز',\n",
       " 'شهو',\n",
       " 'شواذ',\n",
       " 'شيء',\n",
       " 'شيئا',\n",
       " 'شياء',\n",
       " 'شيخ',\n",
       " 'صاحب',\n",
       " 'صار',\n",
       " 'صارت',\n",
       " 'صاعد',\n",
       " 'صاف',\n",
       " 'صالح',\n",
       " 'صانع',\n",
       " 'صحاب',\n",
       " 'صحب',\n",
       " 'صحب وسلم',\n",
       " 'صحيح',\n",
       " 'صدر',\n",
       " 'صدق',\n",
       " 'صديق',\n",
       " 'صرف',\n",
       " 'صعد',\n",
       " 'صغر',\n",
       " 'صغير',\n",
       " 'صفر',\n",
       " 'صفراء',\n",
       " 'صلا',\n",
       " 'صلي',\n",
       " 'صلي الله',\n",
       " 'صلي الله وسلم',\n",
       " 'صناع',\n",
       " 'صناف',\n",
       " 'صنع',\n",
       " 'صنعة',\n",
       " 'صنف',\n",
       " 'صواب',\n",
       " 'صوات',\n",
       " 'صوت',\n",
       " 'صوت حسن',\n",
       " 'صوتا',\n",
       " 'صوته',\n",
       " 'صور',\n",
       " 'صورة',\n",
       " 'صول',\n",
       " 'صياح',\n",
       " 'صيد',\n",
       " 'صير',\n",
       " 'ضرب',\n",
       " 'ضروب',\n",
       " 'ضعاف',\n",
       " 'ضعف',\n",
       " 'ضعيف',\n",
       " 'طال',\n",
       " 'طالب',\n",
       " 'طالع',\n",
       " 'طبائع',\n",
       " 'طباع',\n",
       " 'طبع',\n",
       " 'طبق',\n",
       " 'طبقة',\n",
       " 'طبول',\n",
       " 'طبيع',\n",
       " 'طرب',\n",
       " 'طرف',\n",
       " 'طريق',\n",
       " 'طلب',\n",
       " 'طنبور',\n",
       " 'طنين',\n",
       " 'طول',\n",
       " 'طويس',\n",
       " 'طويل',\n",
       " 'طيب',\n",
       " 'طير',\n",
       " 'ظاهر',\n",
       " 'ظهر',\n",
       " 'عاد',\n",
       " 'عادة',\n",
       " 'عاشق',\n",
       " 'عال',\n",
       " 'عالم',\n",
       " 'عام',\n",
       " 'عامة',\n",
       " 'عباد',\n",
       " 'عبار',\n",
       " 'عباس',\n",
       " 'عبد',\n",
       " 'عبد الله',\n",
       " 'عبد عزيز',\n",
       " 'عبر',\n",
       " 'عبيد',\n",
       " 'عبيد الله',\n",
       " 'عتدال',\n",
       " 'عتمد',\n",
       " 'عجب',\n",
       " 'عجز',\n",
       " 'عجم',\n",
       " 'عداد',\n",
       " 'عدة',\n",
       " 'عدد',\n",
       " 'عدل',\n",
       " 'عراق',\n",
       " 'عرب',\n",
       " 'عرض',\n",
       " 'عرف',\n",
       " 'عروض',\n",
       " 'عروق',\n",
       " 'عريف',\n",
       " 'عزل',\n",
       " 'عزيز',\n",
       " 'عشاق',\n",
       " 'عشاق زنكل',\n",
       " 'عشر',\n",
       " 'عشرة',\n",
       " 'عشق',\n",
       " 'عظم',\n",
       " 'عظيم',\n",
       " 'عقل',\n",
       " 'عقول',\n",
       " 'عقيق',\n",
       " 'عكبر',\n",
       " 'عكس',\n",
       " 'علا',\n",
       " 'علاج',\n",
       " 'علام',\n",
       " 'علة',\n",
       " 'علق',\n",
       " 'علل',\n",
       " 'علم',\n",
       " 'علم موسيق',\n",
       " 'علما',\n",
       " 'علمت',\n",
       " 'علو',\n",
       " 'علوم',\n",
       " 'على',\n",
       " 'عمد',\n",
       " 'عمر',\n",
       " 'عمرو',\n",
       " 'عمل',\n",
       " 'عنا',\n",
       " 'عنده',\n",
       " 'عنق',\n",
       " 'عنه',\n",
       " 'عنها',\n",
       " 'عنهم',\n",
       " 'عني',\n",
       " 'عهد',\n",
       " 'عود',\n",
       " 'عيد',\n",
       " 'عين',\n",
       " 'عيني',\n",
       " 'غاب',\n",
       " 'غاية',\n",
       " 'غرض',\n",
       " 'غريب',\n",
       " 'غلام',\n",
       " 'غلب',\n",
       " 'غلظ',\n",
       " 'غليظ',\n",
       " 'غمات',\n",
       " 'غمتي',\n",
       " 'غناء',\n",
       " 'غنائ',\n",
       " 'غني',\n",
       " 'غيره',\n",
       " 'فؤاد',\n",
       " 'فارس',\n",
       " 'فاما',\n",
       " 'فانا',\n",
       " 'فانه',\n",
       " 'فاني',\n",
       " 'فاول',\n",
       " 'فتح',\n",
       " 'فتي',\n",
       " 'فجعل',\n",
       " 'فخذ',\n",
       " 'فرح',\n",
       " 'فرد',\n",
       " 'فرس',\n",
       " 'فرع',\n",
       " 'فرغ',\n",
       " 'فرق',\n",
       " 'فروع',\n",
       " 'فصاح',\n",
       " 'فصار',\n",
       " 'فصل',\n",
       " 'فصول',\n",
       " 'فصيل',\n",
       " 'فضل',\n",
       " 'فضله',\n",
       " 'فعل',\n",
       " 'فعلم',\n",
       " 'ففي',\n",
       " 'فقال',\n",
       " 'فقد',\n",
       " 'فقط',\n",
       " 'فقلت',\n",
       " 'فقير',\n",
       " 'فقيل',\n",
       " 'فكان',\n",
       " 'فكر',\n",
       " 'فكل',\n",
       " 'فلاسف',\n",
       " 'فلان',\n",
       " 'فلسف',\n",
       " 'فلك',\n",
       " 'فلم',\n",
       " 'فلما',\n",
       " 'فليس',\n",
       " 'فما',\n",
       " 'فنون',\n",
       " 'فهذا',\n",
       " 'فهذه',\n",
       " 'فهم',\n",
       " 'فهو',\n",
       " 'فهي',\n",
       " 'فوق',\n",
       " 'فوقه',\n",
       " 'فينا',\n",
       " 'قائل',\n",
       " 'قابل',\n",
       " 'قال',\n",
       " 'قالت',\n",
       " 'قاله',\n",
       " 'قام',\n",
       " 'قبل',\n",
       " 'قبله',\n",
       " 'قبول',\n",
       " 'قتصر',\n",
       " 'قدر',\n",
       " 'قدم',\n",
       " 'قدماء',\n",
       " 'قدمت',\n",
       " 'قديم',\n",
       " 'قرا',\n",
       " 'قراء',\n",
       " 'قرات',\n",
       " 'قرب',\n",
       " 'قرتا',\n",
       " 'قرتي',\n",
       " 'قرع',\n",
       " 'قريب',\n",
       " 'قسام',\n",
       " 'قسم',\n",
       " 'قصا',\n",
       " 'قصب',\n",
       " 'قصد',\n",
       " 'قصر',\n",
       " 'قصيد',\n",
       " 'قصير',\n",
       " 'قطع',\n",
       " 'قلب',\n",
       " 'قلت',\n",
       " 'قلنا',\n",
       " 'قليل',\n",
       " 'قمر',\n",
       " 'قوة',\n",
       " 'قوس',\n",
       " 'قول',\n",
       " 'قوله',\n",
       " 'قوم',\n",
       " 'قوي',\n",
       " 'قياس',\n",
       " 'قيام',\n",
       " 'قيل',\n",
       " 'كاتب',\n",
       " 'كامل',\n",
       " 'كانت',\n",
       " 'كانه',\n",
       " 'كبر',\n",
       " 'كبير',\n",
       " 'كتاب',\n",
       " 'كتب',\n",
       " 'كثر',\n",
       " 'كثير',\n",
       " 'كرام',\n",
       " 'كرم',\n",
       " 'كريم',\n",
       " 'كلام',\n",
       " 'كلف',\n",
       " 'كلم',\n",
       " 'كله',\n",
       " 'كلها',\n",
       " 'كمال',\n",
       " 'كمية',\n",
       " 'كنا',\n",
       " 'كنت',\n",
       " 'كوشت',\n",
       " 'كون',\n",
       " 'لابن',\n",
       " 'لاحد',\n",
       " 'لام',\n",
       " 'لان',\n",
       " 'لانه',\n",
       " 'لاول',\n",
       " 'لبعض',\n",
       " 'لحق',\n",
       " 'لحن',\n",
       " 'لحنا',\n",
       " 'لذلك',\n",
       " 'لسان',\n",
       " 'لطف',\n",
       " 'لطيف',\n",
       " 'لفظ',\n",
       " 'لقد',\n",
       " 'لكل',\n",
       " 'لكل واحد',\n",
       " 'لكنه',\n",
       " 'للدم',\n",
       " 'لله',\n",
       " 'لمن',\n",
       " 'لهذا',\n",
       " 'لهو',\n",
       " 'لون',\n",
       " 'ليل',\n",
       " 'لين',\n",
       " 'مؤلف',\n",
       " 'مؤمن',\n",
       " 'ماء',\n",
       " 'مائ',\n",
       " 'ماخذ',\n",
       " 'ماد',\n",
       " 'مال',\n",
       " 'مالك',\n",
       " 'مام',\n",
       " 'ماه',\n",
       " 'ماهو',\n",
       " 'مايا',\n",
       " 'ماياه',\n",
       " 'مبادئ',\n",
       " 'مبتد',\n",
       " 'مبدا',\n",
       " 'متحرك',\n",
       " 'متساو',\n",
       " 'متصل',\n",
       " 'متفق',\n",
       " 'متقدم',\n",
       " 'متناسب',\n",
       " 'متوال',\n",
       " 'مثال',\n",
       " 'مثل',\n",
       " 'مثلا',\n",
       " 'مثلث',\n",
       " 'مثله',\n",
       " 'مثن',\n",
       " 'مجالس',\n",
       " 'مجلس',\n",
       " 'مجموع',\n",
       " 'محاسن',\n",
       " 'محب',\n",
       " 'محدث',\n",
       " 'محدود',\n",
       " 'محرك',\n",
       " 'محسوس',\n",
       " 'محل',\n",
       " 'محمد',\n",
       " 'محمد واله',\n",
       " 'محير',\n",
       " 'محيط',\n",
       " 'مخارج',\n",
       " 'مخالف',\n",
       " 'مختلف',\n",
       " 'مخرج',\n",
       " 'مخزوم',\n",
       " 'مخلوق',\n",
       " 'مدين',\n",
       " 'مذاهب',\n",
       " 'مذكور',\n",
       " 'مذهب',\n",
       " 'مراد',\n",
       " 'مرة',\n",
       " 'مرتب',\n",
       " 'مركب',\n",
       " 'مرو',\n",
       " 'مزاج',\n",
       " 'مزاج طبائع',\n",
       " 'مزامير',\n",
       " 'مزج',\n",
       " 'مزمار',\n",
       " 'مستعمل',\n",
       " 'مستقيم',\n",
       " 'مستمع',\n",
       " 'مسك',\n",
       " 'مسلم',\n",
       " 'مسم',\n",
       " 'مسما',\n",
       " 'مسموع',\n",
       " 'مشاكل',\n",
       " 'مشهور',\n",
       " 'مصيب',\n",
       " 'مطرب',\n",
       " 'مطلب',\n",
       " 'مطلق',\n",
       " 'مطلق البم',\n",
       " 'مطلق مثلث',\n",
       " 'معا',\n",
       " 'معازف',\n",
       " 'معان',\n",
       " 'معتدل',\n",
       " 'معد',\n",
       " 'معدود',\n",
       " 'معرف',\n",
       " 'معروف',\n",
       " 'معشر',\n",
       " 'معن',\n",
       " 'معني',\n",
       " 'معه',\n",
       " 'معها',\n",
       " 'مغن',\n",
       " ...]"
      ]
     },
     "execution_count": 16,
     "metadata": {},
     "output_type": "execute_result"
    }
   ],
   "source": [
    "sorted(count_bow_vocab)"
   ]
  },
  {
   "cell_type": "markdown",
   "metadata": {},
   "source": [
    "### Term weighting with tfidf"
   ]
  },
  {
   "cell_type": "code",
   "execution_count": 17,
   "metadata": {},
   "outputs": [
    {
     "data": {
      "text/plain": [
       "(39, 1258)"
      ]
     },
     "execution_count": 17,
     "metadata": {},
     "output_type": "execute_result"
    }
   ],
   "source": [
    "tfidf_transformer = TfidfTransformer(smooth_idf=True,use_idf=True, norm='l2')\n",
    "tfidf_bow_matrix = tfidf_transformer.fit_transform(count_bow_matrix)\n",
    "tfidf_bow_vocab = count_bow_vocab\n",
    "tfidf_bow_matrix.shape"
   ]
  },
  {
   "cell_type": "code",
   "execution_count": 18,
   "metadata": {},
   "outputs": [
    {
     "data": {
      "text/plain": [
       "(0.0012003848380326176, 0.7672189722896393)"
      ]
     },
     "execution_count": 18,
     "metadata": {},
     "output_type": "execute_result"
    }
   ],
   "source": [
    "tfidf_bow_matrix.data.min(), tfidf_bow_matrix.data.max()"
   ]
  },
  {
   "cell_type": "code",
   "execution_count": 19,
   "metadata": {},
   "outputs": [
    {
     "data": {
      "text/plain": [
       "((1258,), (1258,))"
      ]
     },
     "execution_count": 19,
     "metadata": {},
     "output_type": "execute_result"
    }
   ],
   "source": [
    "words_df = (tfidf_bow_matrix>0).sum(axis=0).A.ravel()\n",
    "words_idf = tfidf_transformer.idf_\n",
    "words_df.shape, words_idf.shape"
   ]
  },
  {
   "cell_type": "code",
   "execution_count": 20,
   "metadata": {},
   "outputs": [
    {
     "data": {
      "text/plain": [
       "(5, 36)"
      ]
     },
     "execution_count": 20,
     "metadata": {},
     "output_type": "execute_result"
    }
   ],
   "source": [
    "words_df.min(), words_df.max()"
   ]
  },
  {
   "cell_type": "code",
   "execution_count": 21,
   "metadata": {},
   "outputs": [
    {
     "data": {
      "text/plain": [
       "(1.077961541469712, 2.8971199848858813)"
      ]
     },
     "execution_count": 21,
     "metadata": {},
     "output_type": "execute_result"
    }
   ],
   "source": [
    "words_idf.min(), words_idf.max()"
   ]
  },
  {
   "cell_type": "code",
   "execution_count": 22,
   "metadata": {},
   "outputs": [
    {
     "data": {
      "text/plain": [
       "('شلواح', 'شلواح')"
      ]
     },
     "execution_count": 22,
     "metadata": {},
     "output_type": "execute_result"
    }
   ],
   "source": [
    "tfidf_bow_vocab[np.argmin(words_idf)],tfidf_bow_vocab[np.argmax(words_df)]"
   ]
  },
  {
   "cell_type": "markdown",
   "metadata": {},
   "source": [
    "****"
   ]
  },
  {
   "cell_type": "markdown",
   "metadata": {},
   "source": [
    "### Write BOW matrices to a file"
   ]
  },
  {
   "cell_type": "code",
   "execution_count": 23,
   "metadata": {},
   "outputs": [],
   "source": [
    "with open('../pickle_files/doc_vector_representation.pickle', 'wb') as f:\n",
    "    pickle.dump([count_bow_matrix,tfidf_bow_matrix,tfidf_bow_vocab], f)"
   ]
  },
  {
   "cell_type": "code",
   "execution_count": null,
   "metadata": {},
   "outputs": [],
   "source": []
  },
  {
   "cell_type": "markdown",
   "metadata": {},
   "source": [
    "****"
   ]
  },
  {
   "cell_type": "markdown",
   "metadata": {},
   "source": [
    "## Exploratory analysis of results"
   ]
  },
  {
   "cell_type": "markdown",
   "metadata": {},
   "source": [
    "### Distribution of length of vocabulary terms"
   ]
  },
  {
   "cell_type": "code",
   "execution_count": 24,
   "metadata": {},
   "outputs": [
    {
     "data": {
      "text/plain": [
       "count    1258.000000\n",
       "mean        4.122417\n",
       "std         1.633273\n",
       "min         3.000000\n",
       "25%         3.000000\n",
       "50%         4.000000\n",
       "75%         4.000000\n",
       "max        14.000000\n",
       "dtype: float64"
      ]
     },
     "execution_count": 24,
     "metadata": {},
     "output_type": "execute_result"
    }
   ],
   "source": [
    "vocab_word_len_df = pd.Series([len(word) for word in count_bow_vocab], index=count_bow_vocab)\n",
    "vocab_word_len_df.describe()"
   ]
  },
  {
   "cell_type": "code",
   "execution_count": 25,
   "metadata": {},
   "outputs": [
    {
     "data": {
      "image/png": "[encoded data removed]",
      "text/plain": [
       "<Figure size 432x288 with 1 Axes>"
      ]
     },
     "metadata": {
      "needs_background": "light"
     },
     "output_type": "display_data"
    }
   ],
   "source": [
    "vocab_word_len_df.plot.hist()\n",
    "plt.xlabel('word length (number of characters)')\n",
    "fig=plt.title('Histogram of length of vocabulary terms')"
   ]
  },
  {
   "cell_type": "code",
   "execution_count": 26,
   "metadata": {},
   "outputs": [
    {
     "data": {
      "text/plain": [
       "(446, 16)"
      ]
     },
     "execution_count": 26,
     "metadata": {},
     "output_type": "execute_result"
    }
   ],
   "source": [
    "(vocab_word_len_df==3).sum(),(vocab_word_len_df>=12).sum()"
   ]
  },
  {
   "cell_type": "code",
   "execution_count": 27,
   "metadata": {},
   "outputs": [
    {
     "data": {
      "text/plain": [
       "1979 هرس شلواح    14\n",
       "ابراهيم موصل      12\n",
       "الله دنا محمد     13\n",
       "الله رحم رحيم     13\n",
       "الله رحمن رحيم    14\n",
       "بسم الله رحم      12\n",
       "بسم الله رحمن     13\n",
       "دنا محمد واله     13\n",
       "رضي الله عنه      12\n",
       "زروكند اصفهان     13\n",
       "شاء الله عال      12\n",
       "شلواح 1979 هرس    14\n",
       "صلي الله وسلم     13\n",
       "هرس شلواح 1979    14\n",
       "هرس شلواح 2004    14\n",
       "وصلي الله دنا     13\n",
       "dtype: int64"
      ]
     },
     "execution_count": 27,
     "metadata": {},
     "output_type": "execute_result"
    }
   ],
   "source": [
    "vocab_word_len_df[vocab_word_len_df>=12]"
   ]
  },
  {
   "cell_type": "markdown",
   "metadata": {},
   "source": [
    "### Distribution of number of vocabulary terms per document"
   ]
  },
  {
   "cell_type": "code",
   "execution_count": 28,
   "metadata": {},
   "outputs": [
    {
     "data": {
      "text/plain": [
       "(39,)"
      ]
     },
     "execution_count": 28,
     "metadata": {},
     "output_type": "execute_result"
    }
   ],
   "source": [
    "nb_terms_per_doc_df = pd.Series((count_bow_matrix>0).sum(axis=1).A.ravel())\n",
    "nb_terms_per_doc_df.shape"
   ]
  },
  {
   "cell_type": "code",
   "execution_count": 29,
   "metadata": {},
   "outputs": [
    {
     "data": {
      "text/plain": [
       "count     39.000000\n",
       "mean     285.205128\n",
       "std      197.866273\n",
       "min       37.000000\n",
       "25%      104.000000\n",
       "50%      277.000000\n",
       "75%      373.500000\n",
       "max      776.000000\n",
       "dtype: float64"
      ]
     },
     "execution_count": 29,
     "metadata": {},
     "output_type": "execute_result"
    }
   ],
   "source": [
    "nb_terms_per_doc_df.describe()"
   ]
  },
  {
   "cell_type": "code",
   "execution_count": 30,
   "metadata": {},
   "outputs": [
    {
     "data": {
      "image/png": "[encoded data removed]",
      "text/plain": [
       "<Figure size 432x288 with 1 Axes>"
      ]
     },
     "metadata": {
      "needs_background": "light"
     },
     "output_type": "display_data"
    }
   ],
   "source": [
    "nb_terms_per_doc_df.plot.hist()\n",
    "fig=plt.title('Histogram of number of vocabulary terms per document')"
   ]
  },
  {
   "cell_type": "markdown",
   "metadata": {},
   "source": [
    "### Distribution of document frequency of each term\n",
    "\n",
    "The number of documents that contain each term."
   ]
  },
  {
   "cell_type": "code",
   "execution_count": 31,
   "metadata": {},
   "outputs": [],
   "source": [
    "nb_docs_per_term_df = pd.DataFrame({'term':count_bow_vocab, 'doc_frequency':(count_bow_matrix>0).sum(axis=0).A.ravel()})"
   ]
  },
  {
   "cell_type": "code",
   "execution_count": 32,
   "metadata": {},
   "outputs": [
    {
     "data": {
      "text/html": [
       "<div>\n",
       "<style scoped>\n",
       "    .dataframe tbody tr th:only-of-type {\n",
       "        vertical-align: middle;\n",
       "    }\n",
       "\n",
       "    .dataframe tbody tr th {\n",
       "        vertical-align: top;\n",
       "    }\n",
       "\n",
       "    .dataframe thead th {\n",
       "        text-align: right;\n",
       "    }\n",
       "</style>\n",
       "<table border=\"1\" class=\"dataframe\">\n",
       "  <thead>\n",
       "    <tr style=\"text-align: right;\">\n",
       "      <th></th>\n",
       "      <th>doc_frequency</th>\n",
       "    </tr>\n",
       "  </thead>\n",
       "  <tbody>\n",
       "    <tr>\n",
       "      <th>count</th>\n",
       "      <td>1258.000000</td>\n",
       "    </tr>\n",
       "    <tr>\n",
       "      <th>mean</th>\n",
       "      <td>8.841812</td>\n",
       "    </tr>\n",
       "    <tr>\n",
       "      <th>std</th>\n",
       "      <td>4.863738</td>\n",
       "    </tr>\n",
       "    <tr>\n",
       "      <th>min</th>\n",
       "      <td>5.000000</td>\n",
       "    </tr>\n",
       "    <tr>\n",
       "      <th>25%</th>\n",
       "      <td>5.000000</td>\n",
       "    </tr>\n",
       "    <tr>\n",
       "      <th>50%</th>\n",
       "      <td>7.000000</td>\n",
       "    </tr>\n",
       "    <tr>\n",
       "      <th>75%</th>\n",
       "      <td>10.000000</td>\n",
       "    </tr>\n",
       "    <tr>\n",
       "      <th>max</th>\n",
       "      <td>36.000000</td>\n",
       "    </tr>\n",
       "  </tbody>\n",
       "</table>\n",
       "</div>"
      ],
      "text/plain": [
       "       doc_frequency\n",
       "count    1258.000000\n",
       "mean        8.841812\n",
       "std         4.863738\n",
       "min         5.000000\n",
       "25%         5.000000\n",
       "50%         7.000000\n",
       "75%        10.000000\n",
       "max        36.000000"
      ]
     },
     "execution_count": 32,
     "metadata": {},
     "output_type": "execute_result"
    }
   ],
   "source": [
    "nb_docs_per_term_df.describe()"
   ]
  },
  {
   "cell_type": "code",
   "execution_count": 33,
   "metadata": {},
   "outputs": [
    {
     "data": {
      "text/html": [
       "<div>\n",
       "<style scoped>\n",
       "    .dataframe tbody tr th:only-of-type {\n",
       "        vertical-align: middle;\n",
       "    }\n",
       "\n",
       "    .dataframe tbody tr th {\n",
       "        vertical-align: top;\n",
       "    }\n",
       "\n",
       "    .dataframe thead th {\n",
       "        text-align: right;\n",
       "    }\n",
       "</style>\n",
       "<table border=\"1\" class=\"dataframe\">\n",
       "  <thead>\n",
       "    <tr style=\"text-align: right;\">\n",
       "      <th></th>\n",
       "      <th>term</th>\n",
       "      <th>doc_frequency</th>\n",
       "    </tr>\n",
       "  </thead>\n",
       "  <tbody>\n",
       "    <tr>\n",
       "      <th>1090</th>\n",
       "      <td>هرس شلواح</td>\n",
       "      <td>36</td>\n",
       "    </tr>\n",
       "    <tr>\n",
       "      <th>1089</th>\n",
       "      <td>هرس</td>\n",
       "      <td>36</td>\n",
       "    </tr>\n",
       "    <tr>\n",
       "      <th>583</th>\n",
       "      <td>شلواح</td>\n",
       "      <td>36</td>\n",
       "    </tr>\n",
       "    <tr>\n",
       "      <th>0</th>\n",
       "      <td>1979</td>\n",
       "      <td>33</td>\n",
       "    </tr>\n",
       "    <tr>\n",
       "      <th>1091</th>\n",
       "      <td>هرس شلواح 1979</td>\n",
       "      <td>33</td>\n",
       "    </tr>\n",
       "    <tr>\n",
       "      <th>584</th>\n",
       "      <td>شلواح 1979</td>\n",
       "      <td>33</td>\n",
       "    </tr>\n",
       "    <tr>\n",
       "      <th>150</th>\n",
       "      <td>اول</td>\n",
       "      <td>32</td>\n",
       "    </tr>\n",
       "    <tr>\n",
       "      <th>1164</th>\n",
       "      <td>وقد</td>\n",
       "      <td>31</td>\n",
       "    </tr>\n",
       "    <tr>\n",
       "      <th>111</th>\n",
       "      <td>الله</td>\n",
       "      <td>29</td>\n",
       "    </tr>\n",
       "    <tr>\n",
       "      <th>1063</th>\n",
       "      <td>نغم</td>\n",
       "      <td>29</td>\n",
       "    </tr>\n",
       "  </tbody>\n",
       "</table>\n",
       "</div>"
      ],
      "text/plain": [
       "                term  doc_frequency\n",
       "1090       هرس شلواح             36\n",
       "1089             هرس             36\n",
       "583            شلواح             36\n",
       "0               1979             33\n",
       "1091  هرس شلواح 1979             33\n",
       "584       شلواح 1979             33\n",
       "150              اول             32\n",
       "1164             وقد             31\n",
       "111             الله             29\n",
       "1063             نغم             29"
      ]
     },
     "execution_count": 33,
     "metadata": {},
     "output_type": "execute_result"
    }
   ],
   "source": [
    "## Top 10 terms\n",
    "\n",
    "nb_docs_per_term_df.sort_values(by='doc_frequency', ascending=False).head(10)"
   ]
  },
  {
   "cell_type": "code",
   "execution_count": 34,
   "metadata": {},
   "outputs": [
    {
     "data": {
      "image/png": "[encoded data removed]",
      "text/plain": [
       "<Figure size 432x288 with 1 Axes>"
      ]
     },
     "metadata": {
      "needs_background": "light"
     },
     "output_type": "display_data"
    }
   ],
   "source": [
    "nb_docs_per_term_df.doc_frequency.plot.hist()\n",
    "fig=plt.title('Histogram of document frequency of vocabulary terms')"
   ]
  },
  {
   "cell_type": "markdown",
   "metadata": {},
   "source": [
    "### Distribution of total frequency of each term\n",
    "\n",
    "The total number of occurrences of each term in all documents."
   ]
  },
  {
   "cell_type": "code",
   "execution_count": 35,
   "metadata": {},
   "outputs": [],
   "source": [
    "total_term_freq_df = pd.DataFrame({'term':count_bow_vocab, 'total_frequency':count_bow_matrix.sum(axis=0).A.ravel()})"
   ]
  },
  {
   "cell_type": "code",
   "execution_count": 36,
   "metadata": {},
   "outputs": [
    {
     "data": {
      "text/html": [
       "<div>\n",
       "<style scoped>\n",
       "    .dataframe tbody tr th:only-of-type {\n",
       "        vertical-align: middle;\n",
       "    }\n",
       "\n",
       "    .dataframe tbody tr th {\n",
       "        vertical-align: top;\n",
       "    }\n",
       "\n",
       "    .dataframe thead th {\n",
       "        text-align: right;\n",
       "    }\n",
       "</style>\n",
       "<table border=\"1\" class=\"dataframe\">\n",
       "  <thead>\n",
       "    <tr style=\"text-align: right;\">\n",
       "      <th></th>\n",
       "      <th>term</th>\n",
       "      <th>total_frequency</th>\n",
       "    </tr>\n",
       "  </thead>\n",
       "  <tbody>\n",
       "    <tr>\n",
       "      <th>812</th>\n",
       "      <td>قال</td>\n",
       "      <td>615</td>\n",
       "    </tr>\n",
       "    <tr>\n",
       "      <th>111</th>\n",
       "      <td>الله</td>\n",
       "      <td>509</td>\n",
       "    </tr>\n",
       "    <tr>\n",
       "      <th>1063</th>\n",
       "      <td>نغم</td>\n",
       "      <td>472</td>\n",
       "    </tr>\n",
       "    <tr>\n",
       "      <th>150</th>\n",
       "      <td>اول</td>\n",
       "      <td>365</td>\n",
       "    </tr>\n",
       "    <tr>\n",
       "      <th>263</th>\n",
       "      <td>ثان</td>\n",
       "      <td>300</td>\n",
       "    </tr>\n",
       "    <tr>\n",
       "      <th>784</th>\n",
       "      <td>فقال</td>\n",
       "      <td>271</td>\n",
       "    </tr>\n",
       "    <tr>\n",
       "      <th>207</th>\n",
       "      <td>بيت</td>\n",
       "      <td>217</td>\n",
       "    </tr>\n",
       "    <tr>\n",
       "      <th>273</th>\n",
       "      <td>ثلاث</td>\n",
       "      <td>214</td>\n",
       "    </tr>\n",
       "    <tr>\n",
       "      <th>629</th>\n",
       "      <td>صوت</td>\n",
       "      <td>202</td>\n",
       "    </tr>\n",
       "    <tr>\n",
       "      <th>269</th>\n",
       "      <td>ثقيل</td>\n",
       "      <td>198</td>\n",
       "    </tr>\n",
       "  </tbody>\n",
       "</table>\n",
       "</div>"
      ],
      "text/plain": [
       "      term  total_frequency\n",
       "812    قال              615\n",
       "111   الله              509\n",
       "1063   نغم              472\n",
       "150    اول              365\n",
       "263    ثان              300\n",
       "784   فقال              271\n",
       "207    بيت              217\n",
       "273   ثلاث              214\n",
       "629    صوت              202\n",
       "269   ثقيل              198"
      ]
     },
     "execution_count": 36,
     "metadata": {},
     "output_type": "execute_result"
    }
   ],
   "source": [
    "## Top 10 words\n",
    "\n",
    "total_term_freq_df.sort_values(by='total_frequency', ascending=False).head(10)"
   ]
  },
  {
   "cell_type": "code",
   "execution_count": 37,
   "metadata": {},
   "outputs": [
    {
     "data": {
      "image/png": "[encoded data removed]",
      "text/plain": [
       "<Figure size 432x288 with 1 Axes>"
      ]
     },
     "metadata": {
      "needs_background": "light"
     },
     "output_type": "display_data"
    }
   ],
   "source": [
    "total_term_freq_df.total_frequency.plot.hist()\n",
    "fig=plt.title('Histogram of total term frequency')"
   ]
  },
  {
   "cell_type": "code",
   "execution_count": 38,
   "metadata": {},
   "outputs": [
    {
     "name": "stderr",
     "output_type": "stream",
     "text": [
      "C:\\Users\\Biware\\Anaconda3\\lib\\site-packages\\sklearn\\utils\\deprecation.py:144: FutureWarning: The sklearn.metrics.classification module is  deprecated in version 0.22 and will be removed in version 0.24. The corresponding classes / functions should instead be imported from sklearn.metrics. Anything that cannot be imported from sklearn.metrics is now part of the private API.\n",
      "  warnings.warn(message, FutureWarning)\n"
     ]
    },
    {
     "data": {
      "image/png": "[encoded data removed]",
      "text/plain": [
       "<Figure size 576x396 with 1 Axes>"
      ]
     },
     "metadata": {},
     "output_type": "display_data"
    },
    {
     "data": {
      "text/plain": [
       "<matplotlib.axes._subplots.AxesSubplot at 0x1c5a8370208>"
      ]
     },
     "execution_count": 38,
     "metadata": {},
     "output_type": "execute_result"
    }
   ],
   "source": [
    "from yellowbrick.text import FreqDistVisualizer\n",
    "\n",
    "count_bow_vocab_reshaped = [get_display(arabic_reshaper.reshape(word)) for word in count_bow_vocab]\n",
    "visualizer = FreqDistVisualizer(features=count_bow_vocab_reshaped, n=30)\n",
    "visualizer.fit(count_bow_matrix)\n",
    "visualizer.poof()"
   ]
  },
  {
   "cell_type": "markdown",
   "metadata": {},
   "source": [
    "### Association (MI) between vocabulary terms and tags\n",
    "\n",
    "- A tag is a manually designated class or category of documents (by domain experts).\n",
    "\n",
    "- We want to know **which vocabulary terms are most associated with each tag**, i.e. words that tend to occur alot in documents tagged by that tag and not occur otherwise. These terms basically characterize or summarize the content of the corresponding class of documents."
   ]
  },
  {
   "cell_type": "code",
   "execution_count": 39,
   "metadata": {},
   "outputs": [],
   "source": [
    "from sklearn.feature_selection import chi2, mutual_info_classif"
   ]
  },
  {
   "cell_type": "code",
   "execution_count": 40,
   "metadata": {},
   "outputs": [],
   "source": [
    "#chi2(X,y)\n",
    "#Compute chi-squared stats between each non-negative feature and class\n",
    "#returns chi2 statistics of each feature in X with respect to the categorical variable in y\n",
    "#?chi2"
   ]
  },
  {
   "cell_type": "code",
   "execution_count": 41,
   "metadata": {},
   "outputs": [
    {
     "data": {
      "text/plain": [
       "['المدرسة الأفلاطونيّة المتجدّدة',\n",
       " 'المدرسة الفارابيّة',\n",
       " 'مدرسة الأراجيز والأنغام',\n",
       " 'النّصوص الأدبيّة الخبريّة']"
      ]
     },
     "execution_count": 41,
     "metadata": {},
     "output_type": "execute_result"
    }
   ],
   "source": [
    "from collections import Counter\n",
    "_ = [y for x in doc_data_df.tags.tolist() for y in x]\n",
    "L = Counter(_).most_common()\n",
    "ranked_tags_list = [x[0] for x in L if x[1]>=5]\n",
    "ranked_tags_list"
   ]
  },
  {
   "cell_type": "code",
   "execution_count": 42,
   "metadata": {},
   "outputs": [
    {
     "data": {
      "text/plain": [
       "Other                             10\n",
       "المدرسة الأفلاطونيّة المتجدّدة    10\n",
       "مدرسة الأراجيز والأنغام            7\n",
       "المدرسة الفارابيّة                 7\n",
       "النّصوص الأدبيّة الخبريّة          5\n",
       "Name: primary_tag, dtype: int64"
      ]
     },
     "execution_count": 42,
     "metadata": {},
     "output_type": "execute_result"
    }
   ],
   "source": [
    "def get_primary_tag(doc_tags):\n",
    "    for tag in ranked_tags_list:\n",
    "        if tag in doc_tags:\n",
    "            return tag\n",
    "    #return doc_tags[0] if doc_tags else \"None\"\n",
    "    return \"Other\"\n",
    "\n",
    "doc_data_df['primary_tag'] = doc_data_df.tags.map(get_primary_tag)\n",
    "doc_data_df.primary_tag.value_counts()"
   ]
  },
  {
   "cell_type": "code",
   "execution_count": 43,
   "metadata": {},
   "outputs": [],
   "source": [
    "assert tfidf_bow_matrix.shape[0]==doc_data_df.shape[0]"
   ]
  },
  {
   "cell_type": "code",
   "execution_count": 44,
   "metadata": {},
   "outputs": [],
   "source": [
    "def process_tag(tag):\n",
    "    # which documents belong to this tag\n",
    "    tag_idx = doc_data_df.primary_tag==tag\n",
    "    print(\"\\n\\n%d documents belong to tag %s.\\n\" %(tag_idx.sum(),tag))\n",
    "    # mutual information between each vocab term and this tag\n",
    "    ch,pv = chi2(tfidf_bow_matrix,tag_idx)\n",
    "    #mi = mutual_info_classif(tfidf_bow_matrix,tag_idx)\n",
    "    # document frequency of each vocab term in documents of this tag\n",
    "    nb_docs_per_term = (tfidf_bow_matrix.A[tag_idx,:]>0).sum(axis=0).ravel()\n",
    "    assert len(nb_docs_per_term)==len(ch)\n",
    "    # put together in a data frame for visualization purposes\n",
    "    df = pd.DataFrame({'chi2':ch, 'doc_freq':nb_docs_per_term},index=tfidf_bow_vocab)\n",
    "    #print(df.corr())\n",
    "    #print()\n",
    "    print(df.sort_values(by='chi2',ascending=False).head(10).index.tolist())\n",
    "    #print(df.sort_values(by='chi2',ascending=False).head(10))\n",
    "    print()\n",
    "    #print(df.sort_values(by='mi',ascending=False).head(10))\n",
    "    #print()\n",
    "    #sns.pairplot(df)\n",
    "    #plt.show()\n",
    "    return df"
   ]
  },
  {
   "cell_type": "code",
   "execution_count": 45,
   "metadata": {},
   "outputs": [
    {
     "name": "stdout",
     "output_type": "stream",
     "text": [
      "\n",
      "\n",
      "10 documents belong to tag المدرسة الأفلاطونيّة المتجدّدة.\n",
      "\n",
      "['مثن', 'مثلث', 'زير', 'البم', 'خنصر', 'مطلق', 'سباب', 'نفس', 'متوال', 'موسيقار']\n",
      "\n",
      "\n",
      "\n",
      "10 documents belong to tag Other.\n",
      "\n",
      "['فقال', 'بيات', 'بعضا', 'طالع', 'قوله', 'محل', 'برد', 'يحدث', 'اجسام', 'اصو']\n",
      "\n",
      "\n",
      "\n",
      "7 documents belong to tag المدرسة الفارابيّة.\n",
      "\n",
      "['دور', 'وكل', 'صناف', 'عداد', 'فلسف', 'علم موسيق', 'هواء', 'قدمت', 'مبادئ', 'نفسان']\n",
      "\n",
      "\n",
      "\n",
      "7 documents belong to tag مدرسة الأراجيز والأنغام.\n",
      "\n",
      "['رست', 'حسيني', 'انغام', 'عشاق', 'حجاز', 'اصفهان', 'بزرك', 'هبط', 'زنكل', 'رهو']\n",
      "\n",
      "\n",
      "\n",
      "5 documents belong to tag النّصوص الأدبيّة الخبريّة.\n",
      "\n",
      "['قال', 'خاتم', 'حدث', 'عني', 'الله موفق', 'بديع', 'نته', 'سرع', 'غناء', 'صواب']\n",
      "\n"
     ]
    }
   ],
   "source": [
    "for tag in doc_data_df.primary_tag.unique():\n",
    "    _ = process_tag(tag)"
   ]
  },
  {
   "cell_type": "markdown",
   "metadata": {},
   "source": [
    "#### Remarks and conclusions\n",
    "\n",
    "- chi2 is a much better measure of association than mi \n",
    "- mi seems to follow document frequency"
   ]
  },
  {
   "cell_type": "code",
   "execution_count": null,
   "metadata": {},
   "outputs": [],
   "source": []
  }
 ],
 "metadata": {
  "kernelspec": {
   "display_name": "Python 3",
   "language": "python",
   "name": "python3"
  },
  "language_info": {
   "codemirror_mode": {
    "name": "ipython",
    "version": 3
   },
   "file_extension": ".py",
   "mimetype": "text/x-python",
   "name": "python",
   "nbconvert_exporter": "python",
   "pygments_lexer": "ipython3",
   "version": "3.7.3"
  },
  "toc": {
   "base_numbering": 1,
   "nav_menu": {},
   "number_sections": true,
   "sideBar": true,
   "skip_h1_title": false,
   "title_cell": "Table of Contents",
   "title_sidebar": "Contents",
   "toc_cell": false,
   "toc_position": {
    "height": "calc(100% - 180px)",
    "left": "10px",
    "top": "150px",
    "width": "316.26px"
   },
   "toc_section_display": true,
   "toc_window_display": true
  }
 },
 "nbformat": 4,
 "nbformat_minor": 2
}
