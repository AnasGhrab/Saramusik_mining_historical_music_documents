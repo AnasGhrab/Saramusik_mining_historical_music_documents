{
 "cells": [
  {
   "cell_type": "markdown",
   "metadata": {},
   "source": [
    "## Read and parse XML data"
   ]
  },
  {
   "cell_type": "raw",
   "metadata": {},
   "source": [
    "import xml.etree.ElementTree as ET\n",
    "import urllib3\n",
    "from xml.etree.ElementTree import ParseError"
   ]
  },
  {
   "cell_type": "code",
   "execution_count": 2,
   "metadata": {},
   "outputs": [],
   "source": [
    "http = urllib3.PoolManager()"
   ]
  },
  {
   "cell_type": "code",
   "execution_count": 3,
   "metadata": {},
   "outputs": [
    {
     "name": "stdout",
     "output_type": "stream",
     "text": [
      "http://saramusik.org/0/textei/\n",
      "http://saramusik.org/1/textei/\n",
      "http://saramusik.org/2/textei/\n",
      "http://saramusik.org/3/textei/\n",
      "http://saramusik.org/4/textei/\n",
      "http://saramusik.org/5/textei/ 135 lines\n",
      "\n",
      "http://saramusik.org/5/textei/\n",
      "http://saramusik.org/6/textei/ 133 lines\n",
      "\n",
      "http://saramusik.org/6/textei/\n",
      "http://saramusik.org/7/textei/ 75 lines\n",
      "\n",
      "http://saramusik.org/7/textei/\n",
      "http://saramusik.org/8/textei/\n",
      "http://saramusik.org/9/textei/ 142 lines\n",
      "\n",
      "http://saramusik.org/9/textei/\n",
      "http://saramusik.org/10/textei/ 7 lines\n",
      "\n",
      "http://saramusik.org/10/textei/\n",
      "http://saramusik.org/11/textei/\n",
      "http://saramusik.org/12/textei/\n",
      "http://saramusik.org/13/textei/ 44 lines\n",
      "\n",
      "http://saramusik.org/13/textei/\n",
      "http://saramusik.org/14/textei/\n",
      "http://saramusik.org/15/textei/\n",
      "http://saramusik.org/16/textei/ 37 lines\n",
      "\n",
      "http://saramusik.org/16/textei/\n",
      "http://saramusik.org/17/textei/\n",
      "http://saramusik.org/18/textei/\n",
      "http://saramusik.org/19/textei/\n",
      "http://saramusik.org/20/textei/\n",
      "http://saramusik.org/21/textei/\n",
      "http://saramusik.org/22/textei/\n",
      "http://saramusik.org/23/textei/\n",
      "http://saramusik.org/24/textei/\n",
      "http://saramusik.org/25/textei/\n",
      "http://saramusik.org/26/textei/\n",
      "http://saramusik.org/27/textei/\n",
      "http://saramusik.org/28/textei/\n",
      "http://saramusik.org/29/textei/\n",
      "http://saramusik.org/30/textei/\n",
      "http://saramusik.org/31/textei/\n",
      "http://saramusik.org/32/textei/\n",
      "http://saramusik.org/33/textei/\n",
      "http://saramusik.org/34/textei/\n",
      "http://saramusik.org/35/textei/\n",
      "http://saramusik.org/36/textei/\n",
      "http://saramusik.org/37/textei/\n",
      "http://saramusik.org/38/textei/\n",
      "http://saramusik.org/39/textei/\n",
      "http://saramusik.org/40/textei/\n",
      "http://saramusik.org/41/textei/\n",
      "http://saramusik.org/42/textei/\n",
      "http://saramusik.org/43/textei/\n",
      "http://saramusik.org/44/textei/\n",
      "http://saramusik.org/45/textei/\n",
      "http://saramusik.org/46/textei/\n",
      "http://saramusik.org/47/textei/\n",
      "http://saramusik.org/48/textei/\n",
      "http://saramusik.org/49/textei/\n",
      "http://saramusik.org/50/textei/\n",
      "http://saramusik.org/51/textei/\n",
      "http://saramusik.org/52/textei/\n",
      "http://saramusik.org/53/textei/\n",
      "http://saramusik.org/54/textei/\n",
      "http://saramusik.org/55/textei/\n",
      "http://saramusik.org/56/textei/\n",
      "http://saramusik.org/57/textei/\n",
      "http://saramusik.org/58/textei/\n",
      "http://saramusik.org/59/textei/\n",
      "http://saramusik.org/60/textei/ 17 lines\n",
      "\n",
      "http://saramusik.org/60/textei/\n",
      "http://saramusik.org/61/textei/ 53 lines\n",
      "\n",
      "http://saramusik.org/61/textei/\n",
      "http://saramusik.org/62/textei/ 95 lines\n",
      "\n",
      "http://saramusik.org/62/textei/\n",
      "http://saramusik.org/63/textei/ 23 lines\n",
      "\n",
      "http://saramusik.org/63/textei/\n",
      "http://saramusik.org/64/textei/ 434 lines\n",
      "\n",
      "http://saramusik.org/64/textei/\n",
      "http://saramusik.org/65/textei/\n",
      "http://saramusik.org/66/textei/ 9 lines\n",
      "\n",
      "http://saramusik.org/66/textei/\n",
      "http://saramusik.org/67/textei/\n",
      "http://saramusik.org/68/textei/\n",
      "http://saramusik.org/69/textei/ 13 lines\n",
      "\n",
      "http://saramusik.org/69/textei/\n",
      "http://saramusik.org/70/textei/\n",
      "http://saramusik.org/71/textei/ 71 lines\n",
      "\n",
      "http://saramusik.org/71/textei/\n",
      "http://saramusik.org/72/textei/\n",
      "http://saramusik.org/73/textei/\n",
      "http://saramusik.org/74/textei/\n",
      "http://saramusik.org/75/textei/\n",
      "http://saramusik.org/76/textei/\n",
      "http://saramusik.org/77/textei/\n",
      "http://saramusik.org/78/textei/\n",
      "http://saramusik.org/79/textei/\n",
      "http://saramusik.org/80/textei/\n",
      "http://saramusik.org/81/textei/\n",
      "http://saramusik.org/82/textei/\n",
      "http://saramusik.org/83/textei/\n",
      "http://saramusik.org/84/textei/\n",
      "http://saramusik.org/85/textei/ 21 lines\n",
      "\n",
      "http://saramusik.org/85/textei/\n",
      "http://saramusik.org/86/textei/\n",
      "http://saramusik.org/87/textei/\n",
      "http://saramusik.org/88/textei/\n",
      "http://saramusik.org/89/textei/\n",
      "http://saramusik.org/90/textei/\n",
      "http://saramusik.org/91/textei/\n",
      "http://saramusik.org/92/textei/\n",
      "http://saramusik.org/93/textei/\n",
      "http://saramusik.org/94/textei/\n",
      "http://saramusik.org/95/textei/\n",
      "http://saramusik.org/96/textei/ 13 lines\n",
      "\n",
      "http://saramusik.org/96/textei/\n",
      "http://saramusik.org/97/textei/\n",
      "http://saramusik.org/98/textei/\n",
      "http://saramusik.org/99/textei/\n",
      "http://saramusik.org/100/textei/\n",
      "http://saramusik.org/101/textei/\n",
      "http://saramusik.org/102/textei/\n",
      "http://saramusik.org/103/textei/\n",
      "http://saramusik.org/104/textei/\n",
      "http://saramusik.org/105/textei/\n",
      "http://saramusik.org/106/textei/ 5 lines\n",
      "\n",
      "http://saramusik.org/106/textei/\n",
      "http://saramusik.org/107/textei/\n",
      "http://saramusik.org/108/textei/\n",
      "http://saramusik.org/109/textei/\n",
      "http://saramusik.org/110/textei/\n",
      "http://saramusik.org/111/textei/\n",
      "http://saramusik.org/112/textei/\n",
      "http://saramusik.org/113/textei/\n",
      "http://saramusik.org/114/textei/\n",
      "http://saramusik.org/115/textei/\n",
      "http://saramusik.org/116/textei/\n",
      "http://saramusik.org/117/textei/\n",
      "http://saramusik.org/118/textei/\n",
      "http://saramusik.org/119/textei/\n",
      "http://saramusik.org/120/textei/ 258 lines\n",
      "\n",
      "http://saramusik.org/120/textei/\n",
      "http://saramusik.org/121/textei/\n",
      "http://saramusik.org/122/textei/\n",
      "http://saramusik.org/123/textei/\n",
      "http://saramusik.org/124/textei/\n",
      "http://saramusik.org/125/textei/\n",
      "http://saramusik.org/126/textei/\n",
      "http://saramusik.org/127/textei/\n",
      "http://saramusik.org/128/textei/\n",
      "http://saramusik.org/129/textei/\n",
      "http://saramusik.org/130/textei/\n",
      "http://saramusik.org/131/textei/\n",
      "http://saramusik.org/132/textei/\n",
      "http://saramusik.org/133/textei/\n",
      "http://saramusik.org/134/textei/\n",
      "http://saramusik.org/135/textei/\n",
      "http://saramusik.org/136/textei/\n",
      "http://saramusik.org/137/textei/\n",
      "http://saramusik.org/138/textei/\n",
      "http://saramusik.org/139/textei/\n",
      "http://saramusik.org/140/textei/\n",
      "http://saramusik.org/141/textei/\n",
      "http://saramusik.org/142/textei/\n",
      "http://saramusik.org/143/textei/\n",
      "http://saramusik.org/144/textei/\n",
      "http://saramusik.org/145/textei/ 13 lines\n",
      "\n",
      "http://saramusik.org/145/textei/\n",
      "http://saramusik.org/146/textei/\n",
      "http://saramusik.org/147/textei/\n",
      "http://saramusik.org/148/textei/\n",
      "http://saramusik.org/149/textei/\n",
      "http://saramusik.org/150/textei/\n",
      "http://saramusik.org/151/textei/\n",
      "http://saramusik.org/152/textei/\n",
      "http://saramusik.org/153/textei/\n",
      "http://saramusik.org/154/textei/\n",
      "http://saramusik.org/155/textei/\n",
      "http://saramusik.org/156/textei/\n",
      "http://saramusik.org/157/textei/\n",
      "http://saramusik.org/158/textei/\n",
      "http://saramusik.org/159/textei/\n",
      "http://saramusik.org/160/textei/\n",
      "http://saramusik.org/161/textei/\n",
      "http://saramusik.org/162/textei/\n",
      "http://saramusik.org/163/textei/\n",
      "http://saramusik.org/164/textei/\n",
      "http://saramusik.org/165/textei/ 39 lines\n",
      "\n",
      "http://saramusik.org/165/textei/\n",
      "http://saramusik.org/166/textei/\n",
      "http://saramusik.org/167/textei/\n",
      "http://saramusik.org/168/textei/\n",
      "http://saramusik.org/169/textei/\n",
      "http://saramusik.org/170/textei/\n",
      "http://saramusik.org/171/textei/\n",
      "http://saramusik.org/172/textei/\n",
      "http://saramusik.org/173/textei/\n",
      "http://saramusik.org/174/textei/ 139 lines\n",
      "\n",
      "http://saramusik.org/174/textei/\n",
      "http://saramusik.org/175/textei/\n",
      "http://saramusik.org/176/textei/\n",
      "http://saramusik.org/177/textei/\n",
      "http://saramusik.org/178/textei/\n",
      "http://saramusik.org/179/textei/\n",
      "http://saramusik.org/180/textei/\n",
      "http://saramusik.org/181/textei/\n",
      "http://saramusik.org/182/textei/\n",
      "http://saramusik.org/183/textei/\n",
      "http://saramusik.org/184/textei/\n",
      "http://saramusik.org/185/textei/ 27 lines\n",
      "\n",
      "http://saramusik.org/185/textei/\n",
      "http://saramusik.org/186/textei/\n",
      "http://saramusik.org/187/textei/\n",
      "http://saramusik.org/188/textei/\n",
      "http://saramusik.org/189/textei/\n",
      "http://saramusik.org/190/textei/\n",
      "http://saramusik.org/191/textei/\n",
      "http://saramusik.org/192/textei/\n",
      "http://saramusik.org/193/textei/\n",
      "http://saramusik.org/194/textei/ 137 lines\n",
      "\n",
      "http://saramusik.org/194/textei/\n",
      "http://saramusik.org/195/textei/ 8 lines\n",
      "\n",
      "http://saramusik.org/195/textei/\n",
      "http://saramusik.org/196/textei/\n",
      "http://saramusik.org/197/textei/ 7 lines\n",
      "\n",
      "http://saramusik.org/197/textei/\n",
      "http://saramusik.org/198/textei/\n",
      "http://saramusik.org/199/textei/\n",
      "http://saramusik.org/200/textei/\n",
      "http://saramusik.org/201/textei/\n",
      "http://saramusik.org/202/textei/\n",
      "http://saramusik.org/203/textei/\n",
      "http://saramusik.org/204/textei/\n",
      "http://saramusik.org/205/textei/\n",
      "http://saramusik.org/206/textei/\n",
      "http://saramusik.org/207/textei/\n",
      "http://saramusik.org/208/textei/\n",
      "http://saramusik.org/209/textei/\n",
      "http://saramusik.org/210/textei/\n",
      "http://saramusik.org/211/textei/\n",
      "http://saramusik.org/212/textei/\n",
      "http://saramusik.org/213/textei/\n",
      "http://saramusik.org/214/textei/\n",
      "http://saramusik.org/215/textei/\n",
      "http://saramusik.org/216/textei/\n",
      "http://saramusik.org/217/textei/\n",
      "http://saramusik.org/218/textei/\n"
     ]
    },
    {
     "name": "stdout",
     "output_type": "stream",
     "text": [
      "http://saramusik.org/219/textei/\n",
      "http://saramusik.org/220/textei/\n",
      "http://saramusik.org/221/textei/\n",
      "http://saramusik.org/222/textei/\n",
      "http://saramusik.org/223/textei/\n",
      "http://saramusik.org/224/textei/\n",
      "http://saramusik.org/225/textei/\n",
      "http://saramusik.org/226/textei/\n",
      "http://saramusik.org/227/textei/\n",
      "http://saramusik.org/228/textei/\n",
      "http://saramusik.org/229/textei/ 774 lines\n",
      "\n",
      "http://saramusik.org/229/textei/\n",
      "http://saramusik.org/230/textei/\n",
      "http://saramusik.org/231/textei/\n",
      "http://saramusik.org/232/textei/\n",
      "http://saramusik.org/233/textei/\n",
      "http://saramusik.org/234/textei/\n",
      "http://saramusik.org/235/textei/\n",
      "http://saramusik.org/236/textei/\n",
      "http://saramusik.org/237/textei/\n",
      "http://saramusik.org/238/textei/\n",
      "http://saramusik.org/239/textei/\n",
      "http://saramusik.org/240/textei/\n",
      "http://saramusik.org/241/textei/\n",
      "http://saramusik.org/242/textei/\n",
      "http://saramusik.org/243/textei/\n",
      "http://saramusik.org/244/textei/\n",
      "http://saramusik.org/245/textei/ 242 lines\n",
      "\n",
      "http://saramusik.org/245/textei/\n",
      "http://saramusik.org/246/textei/ 61 lines\n",
      "\n",
      "http://saramusik.org/246/textei/\n",
      "http://saramusik.org/247/textei/\n",
      "http://saramusik.org/248/textei/ 38 lines\n",
      "\n",
      "http://saramusik.org/248/textei/\n",
      "http://saramusik.org/249/textei/\n",
      "http://saramusik.org/250/textei/\n",
      "http://saramusik.org/251/textei/\n",
      "http://saramusik.org/252/textei/\n",
      "http://saramusik.org/253/textei/ 435 lines\n",
      "\n",
      "http://saramusik.org/253/textei/\n",
      "http://saramusik.org/254/textei/ 143 lines\n",
      "\n",
      "http://saramusik.org/254/textei/\n",
      "http://saramusik.org/255/textei/\n",
      "http://saramusik.org/256/textei/ 21 lines\n",
      "\n",
      "http://saramusik.org/256/textei/\n",
      "http://saramusik.org/257/textei/ 13 lines\n",
      "\n",
      "http://saramusik.org/257/textei/\n",
      "http://saramusik.org/258/textei/\n",
      "http://saramusik.org/259/textei/\n",
      "http://saramusik.org/260/textei/\n",
      "http://saramusik.org/261/textei/\n",
      "http://saramusik.org/262/textei/\n",
      "http://saramusik.org/263/textei/\n",
      "http://saramusik.org/264/textei/\n",
      "http://saramusik.org/265/textei/\n",
      "http://saramusik.org/266/textei/\n",
      "http://saramusik.org/267/textei/\n",
      "http://saramusik.org/268/textei/\n",
      "http://saramusik.org/269/textei/\n",
      "http://saramusik.org/270/textei/\n",
      "http://saramusik.org/271/textei/\n",
      "http://saramusik.org/272/textei/\n",
      "http://saramusik.org/273/textei/\n",
      "http://saramusik.org/274/textei/\n",
      "http://saramusik.org/275/textei/\n",
      "http://saramusik.org/276/textei/\n",
      "http://saramusik.org/277/textei/\n",
      "http://saramusik.org/278/textei/\n",
      "http://saramusik.org/279/textei/\n",
      "http://saramusik.org/280/textei/\n",
      "http://saramusik.org/281/textei/\n",
      "http://saramusik.org/282/textei/\n",
      "http://saramusik.org/283/textei/\n",
      "http://saramusik.org/284/textei/\n",
      "http://saramusik.org/285/textei/\n",
      "http://saramusik.org/286/textei/\n",
      "http://saramusik.org/287/textei/\n",
      "http://saramusik.org/288/textei/\n",
      "http://saramusik.org/289/textei/\n",
      "http://saramusik.org/290/textei/\n",
      "http://saramusik.org/291/textei/\n",
      "http://saramusik.org/292/textei/\n",
      "http://saramusik.org/293/textei/\n",
      "http://saramusik.org/294/textei/\n",
      "http://saramusik.org/295/textei/ 11 lines\n",
      "\n",
      "http://saramusik.org/295/textei/\n",
      "http://saramusik.org/296/textei/\n",
      "http://saramusik.org/297/textei/\n",
      "http://saramusik.org/298/textei/\n",
      "http://saramusik.org/299/textei/\n",
      "http://saramusik.org/300/textei/\n",
      "http://saramusik.org/301/textei/\n",
      "http://saramusik.org/302/textei/\n",
      "http://saramusik.org/303/textei/\n",
      "http://saramusik.org/304/textei/\n",
      "http://saramusik.org/305/textei/\n",
      "http://saramusik.org/306/textei/\n",
      "http://saramusik.org/307/textei/\n",
      "http://saramusik.org/308/textei/\n",
      "http://saramusik.org/309/textei/\n",
      "http://saramusik.org/310/textei/\n",
      "http://saramusik.org/311/textei/\n",
      "http://saramusik.org/312/textei/\n",
      "http://saramusik.org/313/textei/\n",
      "http://saramusik.org/314/textei/\n",
      "http://saramusik.org/315/textei/\n",
      "http://saramusik.org/316/textei/\n",
      "http://saramusik.org/317/textei/\n",
      "http://saramusik.org/318/textei/\n",
      "http://saramusik.org/319/textei/\n",
      "http://saramusik.org/320/textei/\n",
      "http://saramusik.org/321/textei/\n",
      "http://saramusik.org/322/textei/\n",
      "http://saramusik.org/323/textei/\n",
      "http://saramusik.org/324/textei/\n",
      "http://saramusik.org/325/textei/\n",
      "http://saramusik.org/326/textei/\n",
      "http://saramusik.org/327/textei/\n",
      "http://saramusik.org/328/textei/\n",
      "http://saramusik.org/329/textei/\n",
      "http://saramusik.org/330/textei/\n",
      "http://saramusik.org/331/textei/\n",
      "http://saramusik.org/332/textei/\n",
      "http://saramusik.org/333/textei/\n",
      "http://saramusik.org/334/textei/\n",
      "http://saramusik.org/335/textei/\n",
      "http://saramusik.org/336/textei/\n",
      "http://saramusik.org/337/textei/\n",
      "http://saramusik.org/338/textei/\n",
      "http://saramusik.org/339/textei/\n",
      "http://saramusik.org/340/textei/\n",
      "http://saramusik.org/341/textei/\n",
      "http://saramusik.org/342/textei/\n",
      "http://saramusik.org/343/textei/\n",
      "http://saramusik.org/344/textei/\n",
      "http://saramusik.org/345/textei/\n",
      "http://saramusik.org/346/textei/\n",
      "http://saramusik.org/347/textei/\n",
      "http://saramusik.org/348/textei/\n",
      "http://saramusik.org/349/textei/\n",
      "http://saramusik.org/350/textei/\n",
      "http://saramusik.org/351/textei/\n",
      "http://saramusik.org/352/textei/\n",
      "http://saramusik.org/353/textei/\n",
      "http://saramusik.org/354/textei/\n",
      "http://saramusik.org/355/textei/\n",
      "http://saramusik.org/356/textei/\n",
      "http://saramusik.org/357/textei/\n",
      "http://saramusik.org/358/textei/\n",
      "http://saramusik.org/359/textei/\n",
      "http://saramusik.org/360/textei/\n",
      "http://saramusik.org/361/textei/\n",
      "http://saramusik.org/362/textei/\n",
      "http://saramusik.org/363/textei/\n",
      "http://saramusik.org/364/textei/\n",
      "http://saramusik.org/365/textei/\n",
      "http://saramusik.org/366/textei/\n",
      "http://saramusik.org/367/textei/\n",
      "http://saramusik.org/368/textei/\n",
      "http://saramusik.org/369/textei/\n",
      "http://saramusik.org/370/textei/\n",
      "http://saramusik.org/371/textei/\n",
      "http://saramusik.org/372/textei/\n",
      "http://saramusik.org/373/textei/\n",
      "http://saramusik.org/374/textei/\n",
      "http://saramusik.org/375/textei/\n",
      "http://saramusik.org/376/textei/\n",
      "http://saramusik.org/377/textei/\n",
      "http://saramusik.org/378/textei/\n",
      "http://saramusik.org/379/textei/\n",
      "http://saramusik.org/380/textei/\n",
      "http://saramusik.org/381/textei/\n",
      "http://saramusik.org/382/textei/\n",
      "http://saramusik.org/383/textei/\n",
      "http://saramusik.org/384/textei/\n",
      "http://saramusik.org/385/textei/\n",
      "http://saramusik.org/386/textei/\n",
      "http://saramusik.org/387/textei/\n",
      "http://saramusik.org/388/textei/\n",
      "http://saramusik.org/389/textei/\n",
      "http://saramusik.org/390/textei/\n",
      "http://saramusik.org/391/textei/\n",
      "http://saramusik.org/392/textei/\n",
      "http://saramusik.org/393/textei/\n",
      "http://saramusik.org/394/textei/\n",
      "http://saramusik.org/395/textei/\n",
      "http://saramusik.org/396/textei/\n",
      "http://saramusik.org/397/textei/\n",
      "http://saramusik.org/398/textei/\n",
      "http://saramusik.org/399/textei/\n",
      "http://saramusik.org/400/textei/\n",
      "http://saramusik.org/401/textei/\n",
      "http://saramusik.org/402/textei/\n",
      "http://saramusik.org/403/textei/\n",
      "http://saramusik.org/404/textei/\n",
      "http://saramusik.org/405/textei/\n",
      "http://saramusik.org/406/textei/\n",
      "http://saramusik.org/407/textei/\n",
      "http://saramusik.org/408/textei/\n",
      "http://saramusik.org/409/textei/\n",
      "http://saramusik.org/410/textei/\n",
      "http://saramusik.org/411/textei/\n",
      "http://saramusik.org/412/textei/\n",
      "http://saramusik.org/413/textei/\n",
      "http://saramusik.org/414/textei/\n",
      "http://saramusik.org/415/textei/\n",
      "http://saramusik.org/416/textei/\n",
      "http://saramusik.org/417/textei/\n",
      "http://saramusik.org/418/textei/\n",
      "http://saramusik.org/419/textei/\n",
      "http://saramusik.org/420/textei/\n",
      "http://saramusik.org/421/textei/\n",
      "http://saramusik.org/422/textei/\n",
      "http://saramusik.org/423/textei/\n",
      "http://saramusik.org/424/textei/\n",
      "http://saramusik.org/425/textei/\n",
      "http://saramusik.org/426/textei/\n",
      "http://saramusik.org/427/textei/\n",
      "http://saramusik.org/428/textei/\n",
      "http://saramusik.org/429/textei/\n",
      "http://saramusik.org/430/textei/\n",
      "http://saramusik.org/431/textei/\n",
      "http://saramusik.org/432/textei/\n",
      "http://saramusik.org/433/textei/\n",
      "http://saramusik.org/434/textei/\n",
      "http://saramusik.org/435/textei/\n",
      "http://saramusik.org/436/textei/\n",
      "http://saramusik.org/437/textei/\n",
      "http://saramusik.org/438/textei/\n",
      "http://saramusik.org/439/textei/\n",
      "http://saramusik.org/440/textei/\n",
      "http://saramusik.org/441/textei/\n",
      "http://saramusik.org/442/textei/\n",
      "http://saramusik.org/443/textei/\n",
      "http://saramusik.org/444/textei/\n",
      "http://saramusik.org/445/textei/\n",
      "http://saramusik.org/446/textei/\n",
      "http://saramusik.org/447/textei/\n",
      "http://saramusik.org/448/textei/\n",
      "http://saramusik.org/449/textei/\n",
      "http://saramusik.org/450/textei/\n",
      "http://saramusik.org/451/textei/\n",
      "http://saramusik.org/452/textei/\n",
      "http://saramusik.org/453/textei/\n",
      "http://saramusik.org/454/textei/\n",
      "http://saramusik.org/455/textei/\n",
      "http://saramusik.org/456/textei/\n",
      "http://saramusik.org/457/textei/\n"
     ]
    },
    {
     "name": "stdout",
     "output_type": "stream",
     "text": [
      "http://saramusik.org/458/textei/\n",
      "http://saramusik.org/459/textei/\n",
      "http://saramusik.org/460/textei/\n",
      "http://saramusik.org/461/textei/\n",
      "http://saramusik.org/462/textei/\n",
      "http://saramusik.org/463/textei/\n",
      "http://saramusik.org/464/textei/\n",
      "http://saramusik.org/465/textei/\n",
      "http://saramusik.org/466/textei/\n",
      "http://saramusik.org/467/textei/\n",
      "http://saramusik.org/468/textei/\n",
      "http://saramusik.org/469/textei/\n",
      "http://saramusik.org/470/textei/\n",
      "http://saramusik.org/471/textei/\n",
      "http://saramusik.org/472/textei/\n",
      "http://saramusik.org/473/textei/\n",
      "http://saramusik.org/474/textei/\n",
      "http://saramusik.org/475/textei/\n",
      "http://saramusik.org/476/textei/ 43 lines\n",
      "\n",
      "http://saramusik.org/476/textei/\n",
      "http://saramusik.org/477/textei/\n",
      "http://saramusik.org/478/textei/\n",
      "http://saramusik.org/479/textei/\n",
      "http://saramusik.org/480/textei/\n",
      "http://saramusik.org/481/textei/\n",
      "http://saramusik.org/482/textei/\n",
      "http://saramusik.org/483/textei/\n",
      "http://saramusik.org/484/textei/\n",
      "http://saramusik.org/485/textei/\n",
      "http://saramusik.org/486/textei/\n",
      "http://saramusik.org/487/textei/\n",
      "http://saramusik.org/488/textei/\n",
      "http://saramusik.org/489/textei/\n",
      "http://saramusik.org/490/textei/\n",
      "http://saramusik.org/491/textei/\n",
      "http://saramusik.org/492/textei/\n",
      "http://saramusik.org/493/textei/\n",
      "http://saramusik.org/494/textei/\n",
      "http://saramusik.org/495/textei/\n",
      "http://saramusik.org/496/textei/\n",
      "http://saramusik.org/497/textei/\n",
      "http://saramusik.org/498/textei/\n",
      "http://saramusik.org/499/textei/\n",
      "http://saramusik.org/500/textei/\n",
      "http://saramusik.org/501/textei/\n",
      "http://saramusik.org/502/textei/\n",
      "http://saramusik.org/503/textei/\n",
      "http://saramusik.org/504/textei/\n",
      "http://saramusik.org/505/textei/\n",
      "http://saramusik.org/506/textei/\n",
      "http://saramusik.org/507/textei/\n",
      "http://saramusik.org/508/textei/\n",
      "http://saramusik.org/509/textei/\n",
      "http://saramusik.org/510/textei/\n",
      "http://saramusik.org/511/textei/\n",
      "http://saramusik.org/512/textei/\n",
      "http://saramusik.org/513/textei/\n",
      "http://saramusik.org/514/textei/\n",
      "http://saramusik.org/515/textei/\n",
      "http://saramusik.org/516/textei/\n",
      "http://saramusik.org/517/textei/\n",
      "http://saramusik.org/518/textei/\n",
      "http://saramusik.org/519/textei/\n",
      "http://saramusik.org/520/textei/\n",
      "http://saramusik.org/521/textei/\n",
      "http://saramusik.org/522/textei/\n",
      "http://saramusik.org/523/textei/\n",
      "http://saramusik.org/524/textei/\n",
      "http://saramusik.org/525/textei/\n",
      "http://saramusik.org/526/textei/\n",
      "http://saramusik.org/527/textei/\n",
      "http://saramusik.org/528/textei/\n",
      "http://saramusik.org/529/textei/\n",
      "http://saramusik.org/530/textei/\n",
      "http://saramusik.org/531/textei/\n",
      "http://saramusik.org/532/textei/\n",
      "http://saramusik.org/533/textei/\n",
      "http://saramusik.org/534/textei/\n",
      "http://saramusik.org/535/textei/\n",
      "http://saramusik.org/536/textei/\n",
      "http://saramusik.org/537/textei/\n",
      "http://saramusik.org/538/textei/\n",
      "http://saramusik.org/539/textei/\n",
      "http://saramusik.org/540/textei/\n",
      "http://saramusik.org/541/textei/\n",
      "http://saramusik.org/542/textei/\n",
      "http://saramusik.org/543/textei/\n",
      "http://saramusik.org/544/textei/\n",
      "http://saramusik.org/545/textei/\n",
      "http://saramusik.org/546/textei/\n",
      "http://saramusik.org/547/textei/\n",
      "http://saramusik.org/548/textei/\n",
      "http://saramusik.org/549/textei/\n",
      "http://saramusik.org/550/textei/\n",
      "http://saramusik.org/551/textei/\n",
      "http://saramusik.org/552/textei/\n",
      "http://saramusik.org/553/textei/\n",
      "http://saramusik.org/554/textei/\n",
      "http://saramusik.org/555/textei/\n",
      "http://saramusik.org/556/textei/\n",
      "http://saramusik.org/557/textei/\n",
      "http://saramusik.org/558/textei/\n",
      "http://saramusik.org/559/textei/\n",
      "http://saramusik.org/560/textei/\n",
      "http://saramusik.org/561/textei/\n",
      "http://saramusik.org/562/textei/\n",
      "http://saramusik.org/563/textei/\n",
      "http://saramusik.org/564/textei/\n",
      "http://saramusik.org/565/textei/\n",
      "http://saramusik.org/566/textei/\n",
      "http://saramusik.org/567/textei/ 14 lines\n",
      "\n",
      "http://saramusik.org/567/textei/\n",
      "http://saramusik.org/568/textei/\n",
      "http://saramusik.org/569/textei/\n",
      "http://saramusik.org/570/textei/\n",
      "http://saramusik.org/571/textei/\n",
      "http://saramusik.org/572/textei/\n",
      "http://saramusik.org/573/textei/\n",
      "http://saramusik.org/574/textei/\n",
      "http://saramusik.org/575/textei/\n",
      "http://saramusik.org/576/textei/\n",
      "http://saramusik.org/577/textei/\n",
      "http://saramusik.org/578/textei/\n",
      "http://saramusik.org/579/textei/\n",
      "http://saramusik.org/580/textei/\n",
      "http://saramusik.org/581/textei/\n",
      "http://saramusik.org/582/textei/\n",
      "http://saramusik.org/583/textei/\n",
      "http://saramusik.org/584/textei/\n",
      "http://saramusik.org/585/textei/\n",
      "http://saramusik.org/586/textei/\n",
      "http://saramusik.org/587/textei/\n",
      "http://saramusik.org/588/textei/\n",
      "http://saramusik.org/589/textei/\n",
      "http://saramusik.org/590/textei/\n",
      "http://saramusik.org/591/textei/\n",
      "http://saramusik.org/592/textei/\n",
      "http://saramusik.org/593/textei/\n",
      "http://saramusik.org/594/textei/\n",
      "http://saramusik.org/595/textei/\n",
      "http://saramusik.org/596/textei/\n",
      "http://saramusik.org/597/textei/\n",
      "http://saramusik.org/598/textei/\n",
      "http://saramusik.org/599/textei/\n",
      "http://saramusik.org/600/textei/\n",
      "http://saramusik.org/601/textei/\n",
      "http://saramusik.org/602/textei/\n",
      "http://saramusik.org/603/textei/\n",
      "http://saramusik.org/604/textei/\n",
      "http://saramusik.org/605/textei/\n",
      "http://saramusik.org/606/textei/\n",
      "http://saramusik.org/607/textei/\n",
      "http://saramusik.org/608/textei/\n",
      "http://saramusik.org/609/textei/\n",
      "http://saramusik.org/610/textei/\n",
      "http://saramusik.org/611/textei/\n",
      "http://saramusik.org/612/textei/\n",
      "http://saramusik.org/613/textei/\n",
      "http://saramusik.org/614/textei/\n",
      "http://saramusik.org/615/textei/\n",
      "http://saramusik.org/616/textei/\n",
      "http://saramusik.org/617/textei/\n",
      "http://saramusik.org/618/textei/\n",
      "http://saramusik.org/619/textei/\n",
      "http://saramusik.org/620/textei/\n",
      "http://saramusik.org/621/textei/\n",
      "http://saramusik.org/622/textei/\n",
      "http://saramusik.org/623/textei/\n",
      "http://saramusik.org/624/textei/\n",
      "http://saramusik.org/625/textei/\n",
      "http://saramusik.org/626/textei/\n",
      "http://saramusik.org/627/textei/\n",
      "http://saramusik.org/628/textei/\n",
      "http://saramusik.org/629/textei/\n",
      "http://saramusik.org/630/textei/\n",
      "http://saramusik.org/631/textei/\n",
      "http://saramusik.org/632/textei/\n",
      "http://saramusik.org/633/textei/\n",
      "http://saramusik.org/634/textei/\n",
      "http://saramusik.org/635/textei/\n",
      "http://saramusik.org/636/textei/\n",
      "http://saramusik.org/637/textei/\n",
      "http://saramusik.org/638/textei/\n",
      "http://saramusik.org/639/textei/\n",
      "http://saramusik.org/640/textei/\n",
      "http://saramusik.org/641/textei/\n",
      "http://saramusik.org/642/textei/\n",
      "http://saramusik.org/643/textei/\n",
      "http://saramusik.org/644/textei/\n",
      "http://saramusik.org/645/textei/\n",
      "http://saramusik.org/646/textei/\n",
      "http://saramusik.org/647/textei/\n",
      "http://saramusik.org/648/textei/\n",
      "http://saramusik.org/649/textei/\n",
      "http://saramusik.org/650/textei/\n",
      "http://saramusik.org/651/textei/\n",
      "http://saramusik.org/652/textei/\n",
      "http://saramusik.org/653/textei/\n",
      "http://saramusik.org/654/textei/\n",
      "http://saramusik.org/655/textei/\n",
      "http://saramusik.org/656/textei/\n",
      "http://saramusik.org/657/textei/\n",
      "http://saramusik.org/658/textei/\n",
      "http://saramusik.org/659/textei/\n",
      "http://saramusik.org/660/textei/\n",
      "http://saramusik.org/661/textei/\n",
      "http://saramusik.org/662/textei/\n",
      "http://saramusik.org/663/textei/\n",
      "http://saramusik.org/664/textei/\n",
      "http://saramusik.org/665/textei/\n",
      "http://saramusik.org/666/textei/\n",
      "http://saramusik.org/667/textei/\n",
      "http://saramusik.org/668/textei/\n",
      "http://saramusik.org/669/textei/\n",
      "http://saramusik.org/670/textei/\n",
      "http://saramusik.org/671/textei/\n",
      "http://saramusik.org/672/textei/\n",
      "http://saramusik.org/673/textei/\n",
      "http://saramusik.org/674/textei/\n",
      "http://saramusik.org/675/textei/\n",
      "http://saramusik.org/676/textei/\n",
      "http://saramusik.org/677/textei/\n",
      "http://saramusik.org/678/textei/\n",
      "http://saramusik.org/679/textei/\n",
      "http://saramusik.org/680/textei/\n",
      "http://saramusik.org/681/textei/\n",
      "http://saramusik.org/682/textei/\n",
      "http://saramusik.org/683/textei/\n",
      "http://saramusik.org/684/textei/\n",
      "http://saramusik.org/685/textei/\n",
      "http://saramusik.org/686/textei/\n",
      "http://saramusik.org/687/textei/\n",
      "http://saramusik.org/688/textei/\n",
      "http://saramusik.org/689/textei/\n",
      "http://saramusik.org/690/textei/\n",
      "http://saramusik.org/691/textei/\n",
      "http://saramusik.org/692/textei/\n",
      "http://saramusik.org/693/textei/\n",
      "http://saramusik.org/694/textei/\n",
      "http://saramusik.org/695/textei/\n",
      "http://saramusik.org/696/textei/\n",
      "http://saramusik.org/697/textei/\n",
      "http://saramusik.org/698/textei/\n",
      "http://saramusik.org/699/textei/\n",
      "http://saramusik.org/700/textei/\n",
      "http://saramusik.org/701/textei/\n",
      "http://saramusik.org/702/textei/\n",
      "http://saramusik.org/703/textei/\n"
     ]
    },
    {
     "name": "stdout",
     "output_type": "stream",
     "text": [
      "http://saramusik.org/704/textei/\n",
      "http://saramusik.org/705/textei/\n",
      "http://saramusik.org/706/textei/\n",
      "http://saramusik.org/707/textei/\n",
      "http://saramusik.org/708/textei/\n",
      "http://saramusik.org/709/textei/\n",
      "http://saramusik.org/710/textei/\n",
      "http://saramusik.org/711/textei/\n",
      "http://saramusik.org/712/textei/\n",
      "http://saramusik.org/713/textei/\n",
      "http://saramusik.org/714/textei/\n",
      "http://saramusik.org/715/textei/\n",
      "http://saramusik.org/716/textei/\n",
      "http://saramusik.org/717/textei/\n",
      "http://saramusik.org/718/textei/\n",
      "http://saramusik.org/719/textei/\n",
      "http://saramusik.org/720/textei/\n",
      "http://saramusik.org/721/textei/\n",
      "http://saramusik.org/722/textei/\n",
      "http://saramusik.org/723/textei/\n",
      "http://saramusik.org/724/textei/\n",
      "http://saramusik.org/725/textei/\n",
      "http://saramusik.org/726/textei/\n",
      "http://saramusik.org/727/textei/\n",
      "http://saramusik.org/728/textei/\n",
      "http://saramusik.org/729/textei/\n",
      "http://saramusik.org/730/textei/\n",
      "http://saramusik.org/731/textei/\n",
      "http://saramusik.org/732/textei/\n",
      "http://saramusik.org/733/textei/\n",
      "http://saramusik.org/734/textei/\n",
      "http://saramusik.org/735/textei/\n",
      "http://saramusik.org/736/textei/\n",
      "http://saramusik.org/737/textei/\n",
      "http://saramusik.org/738/textei/\n",
      "http://saramusik.org/739/textei/\n",
      "http://saramusik.org/740/textei/\n",
      "http://saramusik.org/741/textei/\n",
      "http://saramusik.org/742/textei/\n",
      "http://saramusik.org/743/textei/\n",
      "http://saramusik.org/744/textei/\n",
      "http://saramusik.org/745/textei/\n",
      "http://saramusik.org/746/textei/\n",
      "http://saramusik.org/747/textei/\n",
      "http://saramusik.org/748/textei/\n",
      "http://saramusik.org/749/textei/\n",
      "http://saramusik.org/750/textei/\n",
      "http://saramusik.org/751/textei/\n",
      "http://saramusik.org/752/textei/\n",
      "http://saramusik.org/753/textei/\n",
      "http://saramusik.org/754/textei/\n",
      "http://saramusik.org/755/textei/\n",
      "http://saramusik.org/756/textei/\n",
      "http://saramusik.org/757/textei/\n",
      "http://saramusik.org/758/textei/\n",
      "http://saramusik.org/759/textei/\n",
      "http://saramusik.org/760/textei/\n",
      "http://saramusik.org/761/textei/\n",
      "http://saramusik.org/762/textei/\n",
      "http://saramusik.org/763/textei/\n",
      "http://saramusik.org/764/textei/\n",
      "http://saramusik.org/765/textei/\n",
      "http://saramusik.org/766/textei/\n",
      "http://saramusik.org/767/textei/\n",
      "http://saramusik.org/768/textei/\n",
      "http://saramusik.org/769/textei/\n",
      "http://saramusik.org/770/textei/\n",
      "http://saramusik.org/771/textei/\n",
      "http://saramusik.org/772/textei/\n",
      "http://saramusik.org/773/textei/\n",
      "http://saramusik.org/774/textei/\n",
      "http://saramusik.org/775/textei/\n",
      "http://saramusik.org/776/textei/\n",
      "http://saramusik.org/777/textei/\n",
      "http://saramusik.org/778/textei/\n",
      "http://saramusik.org/779/textei/\n",
      "http://saramusik.org/780/textei/\n",
      "http://saramusik.org/781/textei/\n",
      "http://saramusik.org/782/textei/\n",
      "http://saramusik.org/783/textei/\n",
      "http://saramusik.org/784/textei/\n",
      "http://saramusik.org/785/textei/\n",
      "http://saramusik.org/786/textei/\n",
      "http://saramusik.org/787/textei/\n",
      "http://saramusik.org/788/textei/\n",
      "http://saramusik.org/789/textei/\n",
      "http://saramusik.org/790/textei/\n",
      "http://saramusik.org/791/textei/\n",
      "http://saramusik.org/792/textei/\n",
      "http://saramusik.org/793/textei/\n",
      "http://saramusik.org/794/textei/\n",
      "http://saramusik.org/795/textei/\n",
      "http://saramusik.org/796/textei/\n",
      "http://saramusik.org/797/textei/\n",
      "http://saramusik.org/798/textei/\n",
      "http://saramusik.org/799/textei/\n",
      "http://saramusik.org/800/textei/\n",
      "http://saramusik.org/801/textei/\n",
      "http://saramusik.org/802/textei/\n",
      "http://saramusik.org/803/textei/\n",
      "http://saramusik.org/804/textei/\n",
      "http://saramusik.org/805/textei/\n",
      "http://saramusik.org/806/textei/\n",
      "http://saramusik.org/807/textei/\n",
      "http://saramusik.org/808/textei/\n",
      "http://saramusik.org/809/textei/\n",
      "http://saramusik.org/810/textei/\n",
      "http://saramusik.org/811/textei/\n",
      "http://saramusik.org/812/textei/\n",
      "http://saramusik.org/813/textei/\n",
      "http://saramusik.org/814/textei/\n",
      "http://saramusik.org/815/textei/\n",
      "http://saramusik.org/816/textei/\n",
      "http://saramusik.org/817/textei/\n",
      "http://saramusik.org/818/textei/\n",
      "http://saramusik.org/819/textei/\n",
      "http://saramusik.org/820/textei/\n",
      "http://saramusik.org/821/textei/\n",
      "http://saramusik.org/822/textei/\n",
      "http://saramusik.org/823/textei/\n",
      "http://saramusik.org/824/textei/\n",
      "http://saramusik.org/825/textei/\n",
      "http://saramusik.org/826/textei/\n",
      "http://saramusik.org/827/textei/\n",
      "http://saramusik.org/828/textei/\n",
      "http://saramusik.org/829/textei/\n",
      "http://saramusik.org/830/textei/\n",
      "http://saramusik.org/831/textei/\n",
      "http://saramusik.org/832/textei/\n",
      "http://saramusik.org/833/textei/\n",
      "http://saramusik.org/834/textei/\n",
      "http://saramusik.org/835/textei/\n",
      "http://saramusik.org/836/textei/\n",
      "http://saramusik.org/837/textei/\n",
      "http://saramusik.org/838/textei/\n",
      "http://saramusik.org/839/textei/\n",
      "http://saramusik.org/840/textei/\n",
      "http://saramusik.org/841/textei/\n",
      "http://saramusik.org/842/textei/\n",
      "http://saramusik.org/843/textei/\n",
      "http://saramusik.org/844/textei/\n",
      "http://saramusik.org/845/textei/\n",
      "http://saramusik.org/846/textei/\n",
      "http://saramusik.org/847/textei/\n",
      "http://saramusik.org/848/textei/\n",
      "http://saramusik.org/849/textei/\n",
      "http://saramusik.org/850/textei/\n",
      "http://saramusik.org/851/textei/\n",
      "http://saramusik.org/852/textei/\n",
      "http://saramusik.org/853/textei/\n",
      "http://saramusik.org/854/textei/\n",
      "http://saramusik.org/855/textei/\n",
      "http://saramusik.org/856/textei/\n",
      "http://saramusik.org/857/textei/\n",
      "http://saramusik.org/858/textei/\n",
      "http://saramusik.org/859/textei/\n",
      "http://saramusik.org/860/textei/\n",
      "http://saramusik.org/861/textei/\n",
      "http://saramusik.org/862/textei/\n",
      "http://saramusik.org/863/textei/\n",
      "http://saramusik.org/864/textei/\n",
      "http://saramusik.org/865/textei/\n",
      "http://saramusik.org/866/textei/\n",
      "http://saramusik.org/867/textei/\n",
      "http://saramusik.org/868/textei/\n",
      "http://saramusik.org/869/textei/\n",
      "http://saramusik.org/870/textei/\n",
      "http://saramusik.org/871/textei/\n",
      "http://saramusik.org/872/textei/\n",
      "http://saramusik.org/873/textei/\n",
      "http://saramusik.org/874/textei/\n",
      "http://saramusik.org/875/textei/\n",
      "http://saramusik.org/876/textei/\n",
      "http://saramusik.org/877/textei/\n",
      "http://saramusik.org/878/textei/\n",
      "http://saramusik.org/879/textei/\n",
      "http://saramusik.org/880/textei/\n",
      "http://saramusik.org/881/textei/\n",
      "http://saramusik.org/882/textei/\n",
      "http://saramusik.org/883/textei/\n",
      "http://saramusik.org/884/textei/\n",
      "http://saramusik.org/885/textei/\n",
      "http://saramusik.org/886/textei/\n",
      "http://saramusik.org/887/textei/\n",
      "http://saramusik.org/888/textei/\n",
      "http://saramusik.org/889/textei/\n",
      "http://saramusik.org/890/textei/\n",
      "http://saramusik.org/891/textei/\n",
      "http://saramusik.org/892/textei/\n",
      "http://saramusik.org/893/textei/\n",
      "http://saramusik.org/894/textei/\n",
      "http://saramusik.org/895/textei/\n",
      "http://saramusik.org/896/textei/\n",
      "http://saramusik.org/897/textei/\n",
      "http://saramusik.org/898/textei/\n",
      "http://saramusik.org/899/textei/\n",
      "http://saramusik.org/900/textei/\n",
      "http://saramusik.org/901/textei/\n",
      "http://saramusik.org/902/textei/\n",
      "http://saramusik.org/903/textei/\n",
      "http://saramusik.org/904/textei/\n",
      "http://saramusik.org/905/textei/\n",
      "http://saramusik.org/906/textei/\n",
      "http://saramusik.org/907/textei/\n",
      "http://saramusik.org/908/textei/\n",
      "http://saramusik.org/909/textei/\n",
      "http://saramusik.org/910/textei/\n",
      "http://saramusik.org/911/textei/\n",
      "http://saramusik.org/912/textei/\n",
      "http://saramusik.org/913/textei/\n",
      "http://saramusik.org/914/textei/\n",
      "http://saramusik.org/915/textei/\n",
      "http://saramusik.org/916/textei/\n",
      "http://saramusik.org/917/textei/\n",
      "http://saramusik.org/918/textei/\n",
      "http://saramusik.org/919/textei/\n",
      "http://saramusik.org/920/textei/\n",
      "http://saramusik.org/921/textei/\n",
      "http://saramusik.org/922/textei/\n",
      "http://saramusik.org/923/textei/\n",
      "http://saramusik.org/924/textei/\n",
      "http://saramusik.org/925/textei/\n",
      "http://saramusik.org/926/textei/\n",
      "http://saramusik.org/927/textei/\n",
      "http://saramusik.org/928/textei/\n",
      "http://saramusik.org/929/textei/\n",
      "http://saramusik.org/930/textei/\n",
      "http://saramusik.org/931/textei/\n",
      "http://saramusik.org/932/textei/\n",
      "http://saramusik.org/933/textei/\n",
      "http://saramusik.org/934/textei/\n",
      "http://saramusik.org/935/textei/\n",
      "http://saramusik.org/936/textei/\n",
      "http://saramusik.org/937/textei/\n",
      "http://saramusik.org/938/textei/\n",
      "http://saramusik.org/939/textei/\n",
      "http://saramusik.org/940/textei/\n",
      "http://saramusik.org/941/textei/\n",
      "http://saramusik.org/942/textei/\n",
      "http://saramusik.org/943/textei/\n",
      "http://saramusik.org/944/textei/\n",
      "http://saramusik.org/945/textei/\n",
      "http://saramusik.org/946/textei/\n",
      "http://saramusik.org/947/textei/\n",
      "http://saramusik.org/948/textei/\n",
      "http://saramusik.org/949/textei/\n",
      "http://saramusik.org/950/textei/\n",
      "http://saramusik.org/951/textei/\n",
      "http://saramusik.org/952/textei/\n",
      "http://saramusik.org/953/textei/\n"
     ]
    },
    {
     "name": "stdout",
     "output_type": "stream",
     "text": [
      "http://saramusik.org/954/textei/\n",
      "http://saramusik.org/955/textei/\n",
      "http://saramusik.org/956/textei/\n",
      "http://saramusik.org/957/textei/\n",
      "http://saramusik.org/958/textei/\n",
      "http://saramusik.org/959/textei/\n",
      "http://saramusik.org/960/textei/\n",
      "http://saramusik.org/961/textei/\n",
      "http://saramusik.org/962/textei/\n",
      "http://saramusik.org/963/textei/\n",
      "http://saramusik.org/964/textei/\n",
      "http://saramusik.org/965/textei/\n",
      "http://saramusik.org/966/textei/\n",
      "http://saramusik.org/967/textei/\n",
      "http://saramusik.org/968/textei/\n",
      "http://saramusik.org/969/textei/\n",
      "http://saramusik.org/970/textei/\n",
      "http://saramusik.org/971/textei/\n",
      "http://saramusik.org/972/textei/\n",
      "http://saramusik.org/973/textei/\n",
      "http://saramusik.org/974/textei/\n",
      "http://saramusik.org/975/textei/\n",
      "http://saramusik.org/976/textei/\n",
      "http://saramusik.org/977/textei/\n",
      "http://saramusik.org/978/textei/\n",
      "http://saramusik.org/979/textei/\n",
      "http://saramusik.org/980/textei/\n",
      "http://saramusik.org/981/textei/\n",
      "http://saramusik.org/982/textei/\n",
      "http://saramusik.org/983/textei/\n",
      "http://saramusik.org/984/textei/\n",
      "http://saramusik.org/985/textei/\n",
      "http://saramusik.org/986/textei/\n",
      "http://saramusik.org/987/textei/\n",
      "http://saramusik.org/988/textei/\n",
      "http://saramusik.org/989/textei/\n",
      "http://saramusik.org/990/textei/\n",
      "http://saramusik.org/991/textei/\n",
      "http://saramusik.org/992/textei/\n",
      "http://saramusik.org/993/textei/\n",
      "http://saramusik.org/994/textei/\n",
      "http://saramusik.org/995/textei/\n",
      "http://saramusik.org/996/textei/\n",
      "http://saramusik.org/997/textei/\n",
      "http://saramusik.org/998/textei/\n",
      "http://saramusik.org/999/textei/\n"
     ]
    },
    {
     "data": {
      "text/plain": [
       "37"
      ]
     },
     "execution_count": 3,
     "metadata": {},
     "output_type": "execute_result"
    }
   ],
   "source": [
    "L = []\n",
    "write_data_to_file = False\n",
    "\n",
    "for i in range(1000):\n",
    "\n",
    "    hyperlink = 'http://saramusik.org/' + str(i) + '/textei/'\n",
    "    raw_file_name = str(i) + '.txt'\n",
    "    r = http.request('GET', hyperlink)\n",
    "\n",
    "    try:\n",
    "        root = ET.fromstring(r.data)\n",
    "        lines = [elem.text.strip() for elem in root.findall(\".//body//p\")  if elem.text!=None]\n",
    "\n",
    "        print(hyperlink,len(lines),\"lines\")\n",
    "        print()\n",
    "\n",
    "        if len(lines) >= 3:\n",
    "            if write_data_to_file:\n",
    "                doc = '\\n'.join(lines)\n",
    "                raw_file_path = '../data/raw_files/'+ raw_file_name\n",
    "                with open(raw_file_path, \"w\", encoding='UTF8') as textfile:\n",
    "                    textfile.write(doc)\n",
    "\n",
    "            section_titles_ = [elem.text.strip() for elem in root.findall(\".//body//head\")  if elem.text!=None]\n",
    "            section_titles = [x[1:-1] for x in section_titles_]\n",
    "            keyword_tags = [elem.text.strip() for elem in root.findall(\".//textClass/keywords/term\")  if elem.text!=None]\n",
    "            #keyword_tags = [re.match('\\d+\\s*:\\s*(.*)\\s*',x).group(1) for x in keyword_tags_]\n",
    "            author = [elem.text.strip() for elem in root.findall(\"./teiHeader/fileDesc/titleStmt/author/persName/surname\")  if elem.text!=None]\n",
    "            title = [elem.text.strip() for elem in root.findall(\"./teiHeader/fileDesc/titleStmt/title/*\")  if elem.text!=None]\n",
    "            source = [elem.text.strip() for elem in root.findall(\"./teiHeader/fileDesc/sourceDesc//country\")  if elem.text!=None]\n",
    "\n",
    "            L.append((hyperlink,raw_file_name,author,title,source,section_titles,keyword_tags))\n",
    "\n",
    "    except ParseError:\n",
    "        print(\"Parse Error at \", hyperlink)\n",
    "        print()\n",
    "        continue\n",
    "\n",
    "len(L)"
   ]
  },
  {
   "cell_type": "markdown",
   "metadata": {},
   "source": [
    "***"
   ]
  },
  {
   "cell_type": "code",
   "execution_count": 4,
   "metadata": {},
   "outputs": [],
   "source": [
    "import pandas as pd"
   ]
  },
  {
   "cell_type": "code",
   "execution_count": 5,
   "metadata": {},
   "outputs": [],
   "source": [
    "from matplotlib import pyplot as plt\n",
    "import seaborn as sns"
   ]
  },
  {
   "cell_type": "code",
   "execution_count": 6,
   "metadata": {},
   "outputs": [
    {
     "data": {
      "text/plain": [
       "(37, 7)"
      ]
     },
     "execution_count": 6,
     "metadata": {},
     "output_type": "execute_result"
    }
   ],
   "source": [
    "meta_info_df = pd.DataFrame(L, columns=['hyperlink','filename','author','title','source','section_titles','keyword_tags'])\n",
    "meta_info_df.shape"
   ]
  },
  {
   "cell_type": "code",
   "execution_count": 7,
   "metadata": {
    "scrolled": false
   },
   "outputs": [
    {
     "data": {
      "text/html": [
       "<div>\n",
       "<style scoped>\n",
       "    .dataframe tbody tr th:only-of-type {\n",
       "        vertical-align: middle;\n",
       "    }\n",
       "\n",
       "    .dataframe tbody tr th {\n",
       "        vertical-align: top;\n",
       "    }\n",
       "\n",
       "    .dataframe thead th {\n",
       "        text-align: right;\n",
       "    }\n",
       "</style>\n",
       "<table border=\"1\" class=\"dataframe\">\n",
       "  <thead>\n",
       "    <tr style=\"text-align: right;\">\n",
       "      <th></th>\n",
       "      <th>hyperlink</th>\n",
       "      <th>filename</th>\n",
       "      <th>author</th>\n",
       "      <th>title</th>\n",
       "      <th>source</th>\n",
       "      <th>section_titles</th>\n",
       "      <th>keyword_tags</th>\n",
       "    </tr>\n",
       "  </thead>\n",
       "  <tbody>\n",
       "    <tr>\n",
       "      <th>0</th>\n",
       "      <td>http://saramusik.org/5/textei/</td>\n",
       "      <td>5.txt</td>\n",
       "      <td>[يعقوب بن إسحاق الكندي]</td>\n",
       "      <td>[رسالة في خبر صناعة التّأليف, risāla fī ẖabar ...</td>\n",
       "      <td>[بريطانيا العظمى]</td>\n",
       "      <td>[1 , تبيا, النّغم المتشابه في الكيفيّة, تمثيل ...</td>\n",
       "      <td>[المدرسة الأفلاطونيّة المتجدّدة, الموسيقى والف...</td>\n",
       "    </tr>\n",
       "    <tr>\n",
       "      <th>1</th>\n",
       "      <td>http://saramusik.org/6/textei/</td>\n",
       "      <td>6.txt</td>\n",
       "      <td>[يعقوب بن إسحاق الكندي]</td>\n",
       "      <td>[كتاب المصوّتات الوتريّة من ذات الوتر الواحد إ...</td>\n",
       "      <td>[بريطانيا العظمى]</td>\n",
       "      <td>[لمقالة الأولى : في ذكر الآلات الصّوتيّة وسائر...</td>\n",
       "      <td>[المدرسة الأفلاطونيّة المتجدّدة, الموسيقى والف...</td>\n",
       "    </tr>\n",
       "    <tr>\n",
       "      <th>2</th>\n",
       "      <td>http://saramusik.org/7/textei/</td>\n",
       "      <td>7.txt</td>\n",
       "      <td>[يعقوب بن إسحاق الكندي]</td>\n",
       "      <td>[رسالة في أجزاء خبريّة في الموسيقى, risāla fī ...</td>\n",
       "      <td>[ألمانيا, تونس, ألمانيا]</td>\n",
       "      <td>[مقدّمة, لمقالة الأول, لمقالة الثّاني, لمقالة ...</td>\n",
       "      <td>[المدرسة الأفلاطونيّة المتجدّدة]</td>\n",
       "    </tr>\n",
       "    <tr>\n",
       "      <th>3</th>\n",
       "      <td>http://saramusik.org/9/textei/</td>\n",
       "      <td>9.txt</td>\n",
       "      <td>[يعقوب بن إسحاق الكندي]</td>\n",
       "      <td>[رسالة الكندي في اللّحون والنّغم, Risālat al-k...</td>\n",
       "      <td>[ألمانيا, تركيا, ألمانيا]</td>\n",
       "      <td>[مقدّمة, لفنّ الأوّل : [في تركيب العود وقسمة ا...</td>\n",
       "      <td>[المدرسة الأفلاطونيّة المتجدّدة]</td>\n",
       "    </tr>\n",
       "    <tr>\n",
       "      <th>4</th>\n",
       "      <td>http://saramusik.org/10/textei/</td>\n",
       "      <td>10.txt</td>\n",
       "      <td>[صفي الدّين عبد المؤمن أبو يوسف بن فخر الأرموي]</td>\n",
       "      <td>[كتاب الأدوار, Kitāb al-Adwār]</td>\n",
       "      <td>[تونس, تونس, نمسا, سعوديّة, مصر, مصر, مصر, مصر...</td>\n",
       "      <td>[مقدّمة, ِي تَعْرِيفِ النَّغَمِ وَبَيَانِ الحِ...</td>\n",
       "      <td>[المدرسة الأرمويّة, نظريّات موسيقيّة]</td>\n",
       "    </tr>\n",
       "  </tbody>\n",
       "</table>\n",
       "</div>"
      ],
      "text/plain": [
       "                         hyperlink filename  \\\n",
       "0   http://saramusik.org/5/textei/    5.txt   \n",
       "1   http://saramusik.org/6/textei/    6.txt   \n",
       "2   http://saramusik.org/7/textei/    7.txt   \n",
       "3   http://saramusik.org/9/textei/    9.txt   \n",
       "4  http://saramusik.org/10/textei/   10.txt   \n",
       "\n",
       "                                            author  \\\n",
       "0                          [يعقوب بن إسحاق الكندي]   \n",
       "1                          [يعقوب بن إسحاق الكندي]   \n",
       "2                          [يعقوب بن إسحاق الكندي]   \n",
       "3                          [يعقوب بن إسحاق الكندي]   \n",
       "4  [صفي الدّين عبد المؤمن أبو يوسف بن فخر الأرموي]   \n",
       "\n",
       "                                               title  \\\n",
       "0  [رسالة في خبر صناعة التّأليف, risāla fī ẖabar ...   \n",
       "1  [كتاب المصوّتات الوتريّة من ذات الوتر الواحد إ...   \n",
       "2  [رسالة في أجزاء خبريّة في الموسيقى, risāla fī ...   \n",
       "3  [رسالة الكندي في اللّحون والنّغم, Risālat al-k...   \n",
       "4                     [كتاب الأدوار, Kitāb al-Adwār]   \n",
       "\n",
       "                                              source  \\\n",
       "0                                  [بريطانيا العظمى]   \n",
       "1                                  [بريطانيا العظمى]   \n",
       "2                           [ألمانيا, تونس, ألمانيا]   \n",
       "3                          [ألمانيا, تركيا, ألمانيا]   \n",
       "4  [تونس, تونس, نمسا, سعوديّة, مصر, مصر, مصر, مصر...   \n",
       "\n",
       "                                      section_titles  \\\n",
       "0  [1 , تبيا, النّغم المتشابه في الكيفيّة, تمثيل ...   \n",
       "1  [لمقالة الأولى : في ذكر الآلات الصّوتيّة وسائر...   \n",
       "2  [مقدّمة, لمقالة الأول, لمقالة الثّاني, لمقالة ...   \n",
       "3  [مقدّمة, لفنّ الأوّل : [في تركيب العود وقسمة ا...   \n",
       "4  [مقدّمة, ِي تَعْرِيفِ النَّغَمِ وَبَيَانِ الحِ...   \n",
       "\n",
       "                                        keyword_tags  \n",
       "0  [المدرسة الأفلاطونيّة المتجدّدة, الموسيقى والف...  \n",
       "1  [المدرسة الأفلاطونيّة المتجدّدة, الموسيقى والف...  \n",
       "2                   [المدرسة الأفلاطونيّة المتجدّدة]  \n",
       "3                   [المدرسة الأفلاطونيّة المتجدّدة]  \n",
       "4              [المدرسة الأرمويّة, نظريّات موسيقيّة]  "
      ]
     },
     "execution_count": 7,
     "metadata": {},
     "output_type": "execute_result"
    }
   ],
   "source": [
    "meta_info_df.head()"
   ]
  },
  {
   "cell_type": "markdown",
   "metadata": {},
   "source": [
    "***"
   ]
  },
  {
   "cell_type": "markdown",
   "metadata": {},
   "source": [
    "##  Visualize and cleanup meta data fields"
   ]
  },
  {
   "cell_type": "code",
   "execution_count": 23,
   "metadata": {},
   "outputs": [],
   "source": [
    "import arabic_reshaper\n",
    "from bidi.algorithm import get_display"
   ]
  },
  {
   "cell_type": "markdown",
   "metadata": {},
   "source": [
    "### title field"
   ]
  },
  {
   "cell_type": "code",
   "execution_count": 8,
   "metadata": {},
   "outputs": [
    {
     "data": {
      "text/plain": [
       "[['رسالة في خبر صناعة التّأليف', 'risāla fī ẖabar ṣināʿat al-taʾlīf'],\n",
       " ['كتاب المصوّتات الوتريّة من ذات الوتر الواحد إلى ذات العشرة أوتار',\n",
       "  'kitāb al-muṣawwiṭāt al-watariyya min ḍāt al-watar al-wāḥid ilā ḍāt al-ʿašarat awtār'],\n",
       " ['رسالة في أجزاء خبريّة في الموسيقى',\n",
       "  'risāla fī aǧzāʾ ẖabariyya fī al-mūsīqā'],\n",
       " ['رسالة الكندي في اللّحون والنّغم',\n",
       "  'Risālat al-kindī fī al-luhūn wa al-naġam'],\n",
       " ['كتاب الأدوار', 'Kitāb al-Adwār'],\n",
       " ['قول على اللّحون وصنعة المعازف ومخارج الحروف',\n",
       "  'Qawl ʿalā al-luḥūn wa ṣanʿat al-maʿāzif wa maẖāriǧ al-ḥurūf'],\n",
       " ['كتاب النّغم', 'Kitāb al-Naġam'],\n",
       " ['مسألة في الموسيقى', 'Masʾala fīʼl-mūsīḳā'],\n",
       " ['كتاب عنصر الموسيقى وما افترقت عليه الفلاسفة من تركيبه ومايته', 'None'],\n",
       " ['كتاب إحصاء الإيقاعات', 'None'],\n",
       " ['القول على أجناس الّذي بالأربعة',\n",
       "  'al-Ḳawl ʿalā adjnās al-ladhī biʼl-arbaʿa'],\n",
       " ['برء الأسقام، شرح القصيدة في الأنغام',\n",
       "  'Burʾ al-ʾasḳām, sharḥ al-qaṣīda fī’l-anġām'],\n",
       " ['كتاب الامتاع والانتفاع في مسألة سماع السّماع',\n",
       "  'Kitāb al-imtāʿ waʼl-intifāʿ fī masʾalat samāʿ al-samāʿ'],\n",
       " ['كتاب الأمانات والاعتقادات', 'Kitāb al-ʾamānāt waʼl-iʿtiḳādāt'],\n",
       " ['في الموسيقى', 'None'],\n",
       " ['نظم شجرة الطّبوع والطّبائع', 'Naẓm šadjarat al-ṭubūʿ waʼl-ṭabāʾiʿ'],\n",
       " ['رسالة في التّعريف ببعض كلمات فارسيّة وردت في تأليف شهاب الدّين العجمي في علم الموسيقى',\n",
       "  'Risāla fīʼl-taʿrīf bi-baʿḍ kalimāt fārisīya waradat fī taʾlīf Ŝihāb al-dīn al-ʿadjmī'],\n",
       " ['كتاب النّفس : القول في السّمع', 'None'],\n",
       " ['كتاب الإنعام في معرفة الأنغام', 'None'],\n",
       " ['رسالة الكشّاف في علم الأنغام / مقدّمة في علم الموسيقى', 'None'],\n",
       " ['كتاب المحاسن والمساوي', 'None'],\n",
       " ['كتاب في علم الموسيقى ومعرفة الانغام', 'None'],\n",
       " ['شرح كتاب الأدوار', 'Šarḥ kitāb al-adwār'],\n",
       " ['رسالة القيان'],\n",
       " ['طبقات المغنّين'],\n",
       " ['كتاب التّربيع والتّدوير', 'None'],\n",
       " ['العقد الفريد', 'None'],\n",
       " ['أرجوزة في الأنغام', 'None'],\n",
       " ['مقدّمة في قوانين الأنغام', 'None'],\n",
       " ['فنّ الأنغام', 'Fann al-anġām'],\n",
       " ['كتاب اللهو والملاهي', 'Kitāb al-Lahw wa al-Malāhī'],\n",
       " ['كتاب الملاهي', 'Kitāb al-Malāhī'],\n",
       " ['المقدّمة : صناعة الغناء', 'Al-Muqaddima'],\n",
       " ['إحصاء العلوم', 'ّIḥṣāʾ al-ʿUlūm'],\n",
       " ['تلخيص كتاب النّفس', 'Talḫīṣ kitāb al-nafs'],\n",
       " ['إيقاد الشّموع للذّة المسموع بنغمات الطبوع', 'None'],\n",
       " ['تعريفات العلوم أو كتاب الفوائد الخاقانيّة الأحمديّة في بيان العلوم الشرعيّة والأدبيّة والعقليّة وآداب الملوك : علم الموسيقى',\n",
       "  'None']]"
      ]
     },
     "execution_count": 8,
     "metadata": {},
     "output_type": "execute_result"
    }
   ],
   "source": [
    "meta_info_df.title.tolist()"
   ]
  },
  {
   "cell_type": "code",
   "execution_count": 9,
   "metadata": {},
   "outputs": [
    {
     "data": {
      "text/plain": [
       "2    35\n",
       "1     2\n",
       "Name: title, dtype: int64"
      ]
     },
     "execution_count": 9,
     "metadata": {},
     "output_type": "execute_result"
    }
   ],
   "source": [
    "meta_info_df.title.map(len).value_counts()"
   ]
  },
  {
   "cell_type": "code",
   "execution_count": 10,
   "metadata": {},
   "outputs": [
    {
     "data": {
      "text/plain": [
       "23      [رسالة القيان]\n",
       "24    [طبقات المغنّين]\n",
       "Name: title, dtype: object"
      ]
     },
     "execution_count": 10,
     "metadata": {},
     "output_type": "execute_result"
    }
   ],
   "source": [
    "meta_info_df.title[meta_info_df.title.map(len)==1]"
   ]
  },
  {
   "cell_type": "code",
   "execution_count": 11,
   "metadata": {},
   "outputs": [
    {
     "data": {
      "text/html": [
       "<div>\n",
       "<style scoped>\n",
       "    .dataframe tbody tr th:only-of-type {\n",
       "        vertical-align: middle;\n",
       "    }\n",
       "\n",
       "    .dataframe tbody tr th {\n",
       "        vertical-align: top;\n",
       "    }\n",
       "\n",
       "    .dataframe thead th {\n",
       "        text-align: right;\n",
       "    }\n",
       "</style>\n",
       "<table border=\"1\" class=\"dataframe\">\n",
       "  <thead>\n",
       "    <tr style=\"text-align: right;\">\n",
       "      <th></th>\n",
       "      <th>title_clean</th>\n",
       "      <th>title_arabic</th>\n",
       "      <th>title_latin_translit</th>\n",
       "    </tr>\n",
       "  </thead>\n",
       "  <tbody>\n",
       "    <tr>\n",
       "      <th>0</th>\n",
       "      <td>[رسالة في خبر صناعة التّأليف, risāla fī ẖabar ...</td>\n",
       "      <td>رسالة في خبر صناعة التّأليف</td>\n",
       "      <td>risāla fī ẖabar ṣināʿat al-taʾlīf</td>\n",
       "    </tr>\n",
       "    <tr>\n",
       "      <th>1</th>\n",
       "      <td>[كتاب المصوّتات الوتريّة من ذات الوتر الواحد إ...</td>\n",
       "      <td>كتاب المصوّتات الوتريّة من ذات الوتر الواحد إل...</td>\n",
       "      <td>kitāb al-muṣawwiṭāt al-watariyya min ḍāt al-wa...</td>\n",
       "    </tr>\n",
       "    <tr>\n",
       "      <th>2</th>\n",
       "      <td>[رسالة في أجزاء خبريّة في الموسيقى, risāla fī ...</td>\n",
       "      <td>رسالة في أجزاء خبريّة في الموسيقى</td>\n",
       "      <td>risāla fī aǧzāʾ ẖabariyya fī al-mūsīqā</td>\n",
       "    </tr>\n",
       "    <tr>\n",
       "      <th>3</th>\n",
       "      <td>[رسالة الكندي في اللّحون والنّغم, Risālat al-k...</td>\n",
       "      <td>رسالة الكندي في اللّحون والنّغم</td>\n",
       "      <td>Risālat al-kindī fī al-luhūn wa al-naġam</td>\n",
       "    </tr>\n",
       "    <tr>\n",
       "      <th>4</th>\n",
       "      <td>[كتاب الأدوار, Kitāb al-Adwār]</td>\n",
       "      <td>كتاب الأدوار</td>\n",
       "      <td>Kitāb al-Adwār</td>\n",
       "    </tr>\n",
       "    <tr>\n",
       "      <th>5</th>\n",
       "      <td>[قول على اللّحون وصنعة المعازف ومخارج الحروف, ...</td>\n",
       "      <td>قول على اللّحون وصنعة المعازف ومخارج الحروف</td>\n",
       "      <td>Qawl ʿalā al-luḥūn wa ṣanʿat al-maʿāzif wa maẖ...</td>\n",
       "    </tr>\n",
       "    <tr>\n",
       "      <th>6</th>\n",
       "      <td>[كتاب النّغم, Kitāb al-Naġam]</td>\n",
       "      <td>كتاب النّغم</td>\n",
       "      <td>Kitāb al-Naġam</td>\n",
       "    </tr>\n",
       "    <tr>\n",
       "      <th>7</th>\n",
       "      <td>[مسألة في الموسيقى, Masʾala fīʼl-mūsīḳā]</td>\n",
       "      <td>مسألة في الموسيقى</td>\n",
       "      <td>Masʾala fīʼl-mūsīḳā</td>\n",
       "    </tr>\n",
       "    <tr>\n",
       "      <th>8</th>\n",
       "      <td>[كتاب عنصر الموسيقى وما افترقت عليه الفلاسفة م...</td>\n",
       "      <td>كتاب عنصر الموسيقى وما افترقت عليه الفلاسفة من...</td>\n",
       "      <td>None</td>\n",
       "    </tr>\n",
       "    <tr>\n",
       "      <th>9</th>\n",
       "      <td>[كتاب إحصاء الإيقاعات, None]</td>\n",
       "      <td>كتاب إحصاء الإيقاعات</td>\n",
       "      <td>None</td>\n",
       "    </tr>\n",
       "    <tr>\n",
       "      <th>10</th>\n",
       "      <td>[القول على أجناس الّذي بالأربعة, al-Ḳawl ʿalā ...</td>\n",
       "      <td>القول على أجناس الّذي بالأربعة</td>\n",
       "      <td>al-Ḳawl ʿalā adjnās al-ladhī biʼl-arbaʿa</td>\n",
       "    </tr>\n",
       "    <tr>\n",
       "      <th>11</th>\n",
       "      <td>[برء الأسقام، شرح القصيدة في الأنغام, Burʾ al-...</td>\n",
       "      <td>برء الأسقام، شرح القصيدة في الأنغام</td>\n",
       "      <td>Burʾ al-ʾasḳām, sharḥ al-qaṣīda fī’l-anġām</td>\n",
       "    </tr>\n",
       "    <tr>\n",
       "      <th>12</th>\n",
       "      <td>[كتاب الامتاع والانتفاع في مسألة سماع السّماع,...</td>\n",
       "      <td>كتاب الامتاع والانتفاع في مسألة سماع السّماع</td>\n",
       "      <td>Kitāb al-imtāʿ waʼl-intifāʿ fī masʾalat samāʿ ...</td>\n",
       "    </tr>\n",
       "    <tr>\n",
       "      <th>13</th>\n",
       "      <td>[كتاب الأمانات والاعتقادات, Kitāb al-ʾamānāt w...</td>\n",
       "      <td>كتاب الأمانات والاعتقادات</td>\n",
       "      <td>Kitāb al-ʾamānāt waʼl-iʿtiḳādāt</td>\n",
       "    </tr>\n",
       "    <tr>\n",
       "      <th>14</th>\n",
       "      <td>[في الموسيقى, None]</td>\n",
       "      <td>في الموسيقى</td>\n",
       "      <td>None</td>\n",
       "    </tr>\n",
       "    <tr>\n",
       "      <th>15</th>\n",
       "      <td>[نظم شجرة الطّبوع والطّبائع, Naẓm šadjarat al-...</td>\n",
       "      <td>نظم شجرة الطّبوع والطّبائع</td>\n",
       "      <td>Naẓm šadjarat al-ṭubūʿ waʼl-ṭabāʾiʿ</td>\n",
       "    </tr>\n",
       "    <tr>\n",
       "      <th>16</th>\n",
       "      <td>[رسالة في التّعريف ببعض كلمات فارسيّة وردت في ...</td>\n",
       "      <td>رسالة في التّعريف ببعض كلمات فارسيّة وردت في ت...</td>\n",
       "      <td>Risāla fīʼl-taʿrīf bi-baʿḍ kalimāt fārisīya wa...</td>\n",
       "    </tr>\n",
       "    <tr>\n",
       "      <th>17</th>\n",
       "      <td>[كتاب النّفس : القول في السّمع, None]</td>\n",
       "      <td>كتاب النّفس : القول في السّمع</td>\n",
       "      <td>None</td>\n",
       "    </tr>\n",
       "    <tr>\n",
       "      <th>18</th>\n",
       "      <td>[كتاب الإنعام في معرفة الأنغام, None]</td>\n",
       "      <td>كتاب الإنعام في معرفة الأنغام</td>\n",
       "      <td>None</td>\n",
       "    </tr>\n",
       "    <tr>\n",
       "      <th>19</th>\n",
       "      <td>[رسالة الكشّاف في علم الأنغام / مقدّمة في علم ...</td>\n",
       "      <td>رسالة الكشّاف في علم الأنغام / مقدّمة في علم ا...</td>\n",
       "      <td>None</td>\n",
       "    </tr>\n",
       "    <tr>\n",
       "      <th>20</th>\n",
       "      <td>[كتاب المحاسن والمساوي, None]</td>\n",
       "      <td>كتاب المحاسن والمساوي</td>\n",
       "      <td>None</td>\n",
       "    </tr>\n",
       "    <tr>\n",
       "      <th>21</th>\n",
       "      <td>[كتاب في علم الموسيقى ومعرفة الانغام, None]</td>\n",
       "      <td>كتاب في علم الموسيقى ومعرفة الانغام</td>\n",
       "      <td>None</td>\n",
       "    </tr>\n",
       "    <tr>\n",
       "      <th>22</th>\n",
       "      <td>[شرح كتاب الأدوار, Šarḥ kitāb al-adwār]</td>\n",
       "      <td>شرح كتاب الأدوار</td>\n",
       "      <td>Šarḥ kitāb al-adwār</td>\n",
       "    </tr>\n",
       "    <tr>\n",
       "      <th>23</th>\n",
       "      <td>[رسالة القيان, None]</td>\n",
       "      <td>رسالة القيان</td>\n",
       "      <td>None</td>\n",
       "    </tr>\n",
       "    <tr>\n",
       "      <th>24</th>\n",
       "      <td>[طبقات المغنّين, None]</td>\n",
       "      <td>طبقات المغنّين</td>\n",
       "      <td>None</td>\n",
       "    </tr>\n",
       "    <tr>\n",
       "      <th>25</th>\n",
       "      <td>[كتاب التّربيع والتّدوير, None]</td>\n",
       "      <td>كتاب التّربيع والتّدوير</td>\n",
       "      <td>None</td>\n",
       "    </tr>\n",
       "    <tr>\n",
       "      <th>26</th>\n",
       "      <td>[العقد الفريد, None]</td>\n",
       "      <td>العقد الفريد</td>\n",
       "      <td>None</td>\n",
       "    </tr>\n",
       "    <tr>\n",
       "      <th>27</th>\n",
       "      <td>[أرجوزة في الأنغام, None]</td>\n",
       "      <td>أرجوزة في الأنغام</td>\n",
       "      <td>None</td>\n",
       "    </tr>\n",
       "    <tr>\n",
       "      <th>28</th>\n",
       "      <td>[مقدّمة في قوانين الأنغام, None]</td>\n",
       "      <td>مقدّمة في قوانين الأنغام</td>\n",
       "      <td>None</td>\n",
       "    </tr>\n",
       "    <tr>\n",
       "      <th>29</th>\n",
       "      <td>[فنّ الأنغام, Fann al-anġām]</td>\n",
       "      <td>فنّ الأنغام</td>\n",
       "      <td>Fann al-anġām</td>\n",
       "    </tr>\n",
       "    <tr>\n",
       "      <th>30</th>\n",
       "      <td>[كتاب اللهو والملاهي, Kitāb al-Lahw wa al-Malāhī]</td>\n",
       "      <td>كتاب اللهو والملاهي</td>\n",
       "      <td>Kitāb al-Lahw wa al-Malāhī</td>\n",
       "    </tr>\n",
       "    <tr>\n",
       "      <th>31</th>\n",
       "      <td>[كتاب الملاهي, Kitāb al-Malāhī]</td>\n",
       "      <td>كتاب الملاهي</td>\n",
       "      <td>Kitāb al-Malāhī</td>\n",
       "    </tr>\n",
       "    <tr>\n",
       "      <th>32</th>\n",
       "      <td>[المقدّمة : صناعة الغناء, Al-Muqaddima]</td>\n",
       "      <td>المقدّمة : صناعة الغناء</td>\n",
       "      <td>Al-Muqaddima</td>\n",
       "    </tr>\n",
       "    <tr>\n",
       "      <th>33</th>\n",
       "      <td>[إحصاء العلوم, ّIḥṣāʾ al-ʿUlūm]</td>\n",
       "      <td>إحصاء العلوم</td>\n",
       "      <td>ّIḥṣāʾ al-ʿUlūm</td>\n",
       "    </tr>\n",
       "    <tr>\n",
       "      <th>34</th>\n",
       "      <td>[تلخيص كتاب النّفس, Talḫīṣ kitāb al-nafs]</td>\n",
       "      <td>تلخيص كتاب النّفس</td>\n",
       "      <td>Talḫīṣ kitāb al-nafs</td>\n",
       "    </tr>\n",
       "    <tr>\n",
       "      <th>35</th>\n",
       "      <td>[إيقاد الشّموع للذّة المسموع بنغمات الطبوع, None]</td>\n",
       "      <td>إيقاد الشّموع للذّة المسموع بنغمات الطبوع</td>\n",
       "      <td>None</td>\n",
       "    </tr>\n",
       "    <tr>\n",
       "      <th>36</th>\n",
       "      <td>[تعريفات العلوم أو كتاب الفوائد الخاقانيّة الأ...</td>\n",
       "      <td>تعريفات العلوم أو كتاب الفوائد الخاقانيّة الأح...</td>\n",
       "      <td>None</td>\n",
       "    </tr>\n",
       "  </tbody>\n",
       "</table>\n",
       "</div>"
      ],
      "text/plain": [
       "                                          title_clean  \\\n",
       "0   [رسالة في خبر صناعة التّأليف, risāla fī ẖabar ...   \n",
       "1   [كتاب المصوّتات الوتريّة من ذات الوتر الواحد إ...   \n",
       "2   [رسالة في أجزاء خبريّة في الموسيقى, risāla fī ...   \n",
       "3   [رسالة الكندي في اللّحون والنّغم, Risālat al-k...   \n",
       "4                      [كتاب الأدوار, Kitāb al-Adwār]   \n",
       "5   [قول على اللّحون وصنعة المعازف ومخارج الحروف, ...   \n",
       "6                       [كتاب النّغم, Kitāb al-Naġam]   \n",
       "7            [مسألة في الموسيقى, Masʾala fīʼl-mūsīḳā]   \n",
       "8   [كتاب عنصر الموسيقى وما افترقت عليه الفلاسفة م...   \n",
       "9                        [كتاب إحصاء الإيقاعات, None]   \n",
       "10  [القول على أجناس الّذي بالأربعة, al-Ḳawl ʿalā ...   \n",
       "11  [برء الأسقام، شرح القصيدة في الأنغام, Burʾ al-...   \n",
       "12  [كتاب الامتاع والانتفاع في مسألة سماع السّماع,...   \n",
       "13  [كتاب الأمانات والاعتقادات, Kitāb al-ʾamānāt w...   \n",
       "14                                [في الموسيقى, None]   \n",
       "15  [نظم شجرة الطّبوع والطّبائع, Naẓm šadjarat al-...   \n",
       "16  [رسالة في التّعريف ببعض كلمات فارسيّة وردت في ...   \n",
       "17              [كتاب النّفس : القول في السّمع, None]   \n",
       "18              [كتاب الإنعام في معرفة الأنغام, None]   \n",
       "19  [رسالة الكشّاف في علم الأنغام / مقدّمة في علم ...   \n",
       "20                      [كتاب المحاسن والمساوي, None]   \n",
       "21        [كتاب في علم الموسيقى ومعرفة الانغام, None]   \n",
       "22            [شرح كتاب الأدوار, Šarḥ kitāb al-adwār]   \n",
       "23                               [رسالة القيان, None]   \n",
       "24                             [طبقات المغنّين, None]   \n",
       "25                    [كتاب التّربيع والتّدوير, None]   \n",
       "26                               [العقد الفريد, None]   \n",
       "27                          [أرجوزة في الأنغام, None]   \n",
       "28                   [مقدّمة في قوانين الأنغام, None]   \n",
       "29                       [فنّ الأنغام, Fann al-anġām]   \n",
       "30  [كتاب اللهو والملاهي, Kitāb al-Lahw wa al-Malāhī]   \n",
       "31                    [كتاب الملاهي, Kitāb al-Malāhī]   \n",
       "32            [المقدّمة : صناعة الغناء, Al-Muqaddima]   \n",
       "33                    [إحصاء العلوم, ّIḥṣāʾ al-ʿUlūm]   \n",
       "34          [تلخيص كتاب النّفس, Talḫīṣ kitāb al-nafs]   \n",
       "35  [إيقاد الشّموع للذّة المسموع بنغمات الطبوع, None]   \n",
       "36  [تعريفات العلوم أو كتاب الفوائد الخاقانيّة الأ...   \n",
       "\n",
       "                                         title_arabic  \\\n",
       "0                         رسالة في خبر صناعة التّأليف   \n",
       "1   كتاب المصوّتات الوتريّة من ذات الوتر الواحد إل...   \n",
       "2                   رسالة في أجزاء خبريّة في الموسيقى   \n",
       "3                     رسالة الكندي في اللّحون والنّغم   \n",
       "4                                        كتاب الأدوار   \n",
       "5         قول على اللّحون وصنعة المعازف ومخارج الحروف   \n",
       "6                                         كتاب النّغم   \n",
       "7                                   مسألة في الموسيقى   \n",
       "8   كتاب عنصر الموسيقى وما افترقت عليه الفلاسفة من...   \n",
       "9                                كتاب إحصاء الإيقاعات   \n",
       "10                     القول على أجناس الّذي بالأربعة   \n",
       "11                برء الأسقام، شرح القصيدة في الأنغام   \n",
       "12       كتاب الامتاع والانتفاع في مسألة سماع السّماع   \n",
       "13                          كتاب الأمانات والاعتقادات   \n",
       "14                                        في الموسيقى   \n",
       "15                         نظم شجرة الطّبوع والطّبائع   \n",
       "16  رسالة في التّعريف ببعض كلمات فارسيّة وردت في ت...   \n",
       "17                      كتاب النّفس : القول في السّمع   \n",
       "18                      كتاب الإنعام في معرفة الأنغام   \n",
       "19  رسالة الكشّاف في علم الأنغام / مقدّمة في علم ا...   \n",
       "20                              كتاب المحاسن والمساوي   \n",
       "21                كتاب في علم الموسيقى ومعرفة الانغام   \n",
       "22                                   شرح كتاب الأدوار   \n",
       "23                                       رسالة القيان   \n",
       "24                                     طبقات المغنّين   \n",
       "25                            كتاب التّربيع والتّدوير   \n",
       "26                                       العقد الفريد   \n",
       "27                                  أرجوزة في الأنغام   \n",
       "28                           مقدّمة في قوانين الأنغام   \n",
       "29                                        فنّ الأنغام   \n",
       "30                                كتاب اللهو والملاهي   \n",
       "31                                       كتاب الملاهي   \n",
       "32                            المقدّمة : صناعة الغناء   \n",
       "33                                       إحصاء العلوم   \n",
       "34                                  تلخيص كتاب النّفس   \n",
       "35          إيقاد الشّموع للذّة المسموع بنغمات الطبوع   \n",
       "36  تعريفات العلوم أو كتاب الفوائد الخاقانيّة الأح...   \n",
       "\n",
       "                                 title_latin_translit  \n",
       "0                   risāla fī ẖabar ṣināʿat al-taʾlīf  \n",
       "1   kitāb al-muṣawwiṭāt al-watariyya min ḍāt al-wa...  \n",
       "2              risāla fī aǧzāʾ ẖabariyya fī al-mūsīqā  \n",
       "3            Risālat al-kindī fī al-luhūn wa al-naġam  \n",
       "4                                      Kitāb al-Adwār  \n",
       "5   Qawl ʿalā al-luḥūn wa ṣanʿat al-maʿāzif wa maẖ...  \n",
       "6                                      Kitāb al-Naġam  \n",
       "7                                 Masʾala fīʼl-mūsīḳā  \n",
       "8                                                None  \n",
       "9                                                None  \n",
       "10           al-Ḳawl ʿalā adjnās al-ladhī biʼl-arbaʿa  \n",
       "11         Burʾ al-ʾasḳām, sharḥ al-qaṣīda fī’l-anġām  \n",
       "12  Kitāb al-imtāʿ waʼl-intifāʿ fī masʾalat samāʿ ...  \n",
       "13                    Kitāb al-ʾamānāt waʼl-iʿtiḳādāt  \n",
       "14                                               None  \n",
       "15                Naẓm šadjarat al-ṭubūʿ waʼl-ṭabāʾiʿ  \n",
       "16  Risāla fīʼl-taʿrīf bi-baʿḍ kalimāt fārisīya wa...  \n",
       "17                                               None  \n",
       "18                                               None  \n",
       "19                                               None  \n",
       "20                                               None  \n",
       "21                                               None  \n",
       "22                                Šarḥ kitāb al-adwār  \n",
       "23                                               None  \n",
       "24                                               None  \n",
       "25                                               None  \n",
       "26                                               None  \n",
       "27                                               None  \n",
       "28                                               None  \n",
       "29                                      Fann al-anġām  \n",
       "30                         Kitāb al-Lahw wa al-Malāhī  \n",
       "31                                    Kitāb al-Malāhī  \n",
       "32                                       Al-Muqaddima  \n",
       "33                                    ّIḥṣāʾ al-ʿUlūm  \n",
       "34                               Talḫīṣ kitāb al-nafs  \n",
       "35                                               None  \n",
       "36                                               None  "
      ]
     },
     "execution_count": 11,
     "metadata": {},
     "output_type": "execute_result"
    }
   ],
   "source": [
    "#meta_info_df['title_clean'] = meta_info_df.title.map(lambda x: [y for y in x if y!='None'])\n",
    "meta_info_df['title_clean'] = meta_info_df.title.map(lambda x: x if len(x)==2 else x+['None'])\n",
    "meta_info_df['title_arabic'] = meta_info_df.title_clean.map(lambda x: x[0])\n",
    "meta_info_df['title_latin_translit'] = meta_info_df.title_clean.map(lambda x: x[1])\n",
    "meta_info_df[['title_clean','title_arabic','title_latin_translit']]"
   ]
  },
  {
   "cell_type": "code",
   "execution_count": 12,
   "metadata": {},
   "outputs": [],
   "source": [
    "assert meta_info_df.title_clean.map(len).nunique()==1"
   ]
  },
  {
   "cell_type": "code",
   "execution_count": 13,
   "metadata": {},
   "outputs": [
    {
     "data": {
      "text/plain": [
       "None                                                                                   16\n",
       "Naẓm šadjarat al-ṭubūʿ waʼl-ṭabāʾiʿ                                                     1\n",
       "Talḫīṣ kitāb al-nafs                                                                    1\n",
       "risāla fī aǧzāʾ ẖabariyya fī al-mūsīqā                                                  1\n",
       "kitāb al-muṣawwiṭāt al-watariyya min ḍāt al-watar al-wāḥid ilā ḍāt al-ʿašarat awtār     1\n",
       "Name: title_latin_translit, dtype: int64"
      ]
     },
     "execution_count": 13,
     "metadata": {},
     "output_type": "execute_result"
    }
   ],
   "source": [
    "meta_info_df.title_latin_translit.value_counts().head()"
   ]
  },
  {
   "cell_type": "markdown",
   "metadata": {},
   "source": [
    "### keyword tags"
   ]
  },
  {
   "cell_type": "code",
   "execution_count": 14,
   "metadata": {},
   "outputs": [
    {
     "data": {
      "text/plain": [
       "count    37.000000\n",
       "mean      1.432432\n",
       "std       0.867325\n",
       "min       0.000000\n",
       "25%       1.000000\n",
       "50%       1.000000\n",
       "75%       2.000000\n",
       "max       4.000000\n",
       "Name: keyword_tags, dtype: float64"
      ]
     },
     "execution_count": 14,
     "metadata": {},
     "output_type": "execute_result"
    }
   ],
   "source": [
    "meta_info_df.keyword_tags.map(len).describe()"
   ]
  },
  {
   "cell_type": "code",
   "execution_count": 15,
   "metadata": {},
   "outputs": [
    {
     "name": "stdout",
     "output_type": "stream",
     "text": [
      "1\n"
     ]
    }
   ],
   "source": [
    "# how many documents have no tags?\n",
    "idx=meta_info_df.keyword_tags.map(len)==0\n",
    "print(idx.sum())"
   ]
  },
  {
   "cell_type": "code",
   "execution_count": 16,
   "metadata": {},
   "outputs": [
    {
     "data": {
      "text/plain": [
       "30    كتاب اللهو والملاهي\n",
       "Name: title_arabic, dtype: object"
      ]
     },
     "execution_count": 16,
     "metadata": {},
     "output_type": "execute_result"
    }
   ],
   "source": [
    "# which documents have no tags?\n",
    "meta_info_df[idx].title_arabic"
   ]
  },
  {
   "cell_type": "code",
   "execution_count": null,
   "metadata": {},
   "outputs": [],
   "source": [
    "keyword_tags_list = meta_info_df.keyword_tags.tolist()\n",
    "keyword_tags_flat_list = [y for x in keyword_tags_list for y in x]\n",
    "keyword_tags_distinct = sorted(list(set(keyword_tags_flat_list)))"
   ]
  },
  {
   "cell_type": "code",
   "execution_count": 17,
   "metadata": {},
   "outputs": [
    {
     "data": {
      "text/plain": [
       "53"
      ]
     },
     "execution_count": 17,
     "metadata": {},
     "output_type": "execute_result"
    }
   ],
   "source": [
    "list(map([keyword_tags_list,keyword_tags_flat_list,keyword_tags_distinct]))"
   ]
  },
  {
   "cell_type": "code",
   "execution_count": null,
   "metadata": {},
   "outputs": [],
   "source": [
    "reshaped_keyword_tags = [get_display(arabic_reshaper.reshape(x)) for x in keyword_tags_distinct]\n",
    "reshaped_keyword_tags_flat_list = [get_display(arabic_reshaper.reshape(x)) for x in keyword_tags_flat_list]"
   ]
  },
  {
   "cell_type": "code",
   "execution_count": 21,
   "metadata": {},
   "outputs": [
    {
     "data": {
      "text/plain": [
       "[['المدرسة الأفلاطونيّة المتجدّدة', 'الموسيقى والفلسفة'],\n",
       " ['المدرسة الأفلاطونيّة المتجدّدة', 'الموسيقى والفلسفة'],\n",
       " ['المدرسة الأفلاطونيّة المتجدّدة'],\n",
       " ['المدرسة الأفلاطونيّة المتجدّدة'],\n",
       " ['المدرسة الأرمويّة', 'نظريّات موسيقيّة']]"
      ]
     },
     "execution_count": 21,
     "metadata": {},
     "output_type": "execute_result"
    }
   ],
   "source": [
    "keyword_tags_list[0:5]"
   ]
  },
  {
   "cell_type": "code",
   "execution_count": 22,
   "metadata": {},
   "outputs": [
    {
     "data": {
      "text/plain": [
       "['إعادة التّحديد',\n",
       " 'الآلات الموسيقيّة',\n",
       " 'الأخبار والإخبار والأعلام',\n",
       " 'التّاريخ والتّأريخ (التّوثيق)',\n",
       " 'المدرسة الأرمويّة',\n",
       " 'المدرسة الأفلاطونيّة المتجدّدة',\n",
       " 'المدرسة الفارابيّة',\n",
       " 'المدرسة المغاربيّة الحديثة',\n",
       " 'المدرسة المغاربيّة القديمة',\n",
       " 'الموسيقى والطّبّ',\n",
       " 'الموسيقى والفلسفة',\n",
       " 'النصوص الأندلسيّة',\n",
       " 'النّصوص الأدبيّة الخبريّة',\n",
       " 'مدرسة الأراجيز والأنغام',\n",
       " 'مدرسة سمرقند',\n",
       " 'نصوص إغريقيّة مترجمة',\n",
       " 'نظريّات موسيقيّة']"
      ]
     },
     "execution_count": 22,
     "metadata": {},
     "output_type": "execute_result"
    }
   ],
   "source": [
    "keyword_tags_distinct"
   ]
  },
  {
   "cell_type": "code",
   "execution_count": 18,
   "metadata": {},
   "outputs": [
    {
     "data": {
      "text/plain": [
       "المدرسة الأفلاطونيّة المتجدّدة    10\n",
       "مدرسة الأراجيز والأنغام            7\n",
       "المدرسة الفارابيّة                 6\n",
       "النّصوص الأدبيّة الخبريّة          5\n",
       "الموسيقى والفلسفة                  4\n",
       "نظريّات موسيقيّة                   4\n",
       "النصوص الأندلسيّة                  3\n",
       "المدرسة المغاربيّة القديمة         3\n",
       "المدرسة الأرمويّة                  2\n",
       "إعادة التّحديد                     2\n",
       "الموسيقى والطّبّ                   1\n",
       "المدرسة المغاربيّة الحديثة         1\n",
       "التّاريخ والتّأريخ (التّوثيق)      1\n",
       "الآلات الموسيقيّة                  1\n",
       "مدرسة سمرقند                       1\n",
       "نصوص إغريقيّة مترجمة               1\n",
       "الأخبار والإخبار والأعلام          1\n",
       "dtype: int64"
      ]
     },
     "execution_count": 18,
     "metadata": {},
     "output_type": "execute_result"
    }
   ],
   "source": [
    "pd.Series(keyword_tags_flat_list).value_counts()"
   ]
  },
  {
   "cell_type": "code",
   "execution_count": null,
   "metadata": {},
   "outputs": [],
   "source": [
    "pd.Series(reshaped_keyword_tags_flat_list).value_counts().plot(kind='pie')"
   ]
  },
  {
   "cell_type": "code",
   "execution_count": 20,
   "metadata": {},
   "outputs": [
    {
     "data": {
      "text/plain": [
       "(37, 17)"
      ]
     },
     "execution_count": 20,
     "metadata": {},
     "output_type": "execute_result"
    }
   ],
   "source": [
    "doc_tags_mat = pd.np.zeros((len(keyword_tags_list),len(keyword_tags_distinct)))\n",
    "\n",
    "for i,x in enumerate(keyword_tags_list):\n",
    "    for j,y in enumerate(keyword_tags_distinct):\n",
    "        if y in x:\n",
    "            doc_tags_mat[i,j] = 1\n",
    "\n",
    "doc_tags_mat.shape"
   ]
  },
  {
   "cell_type": "code",
   "execution_count": 26,
   "metadata": {},
   "outputs": [
    {
     "data": {
      "image/png": "[encoded data removed]",
      "text/plain": [
       "<Figure size 432x288 with 1 Axes>"
      ]
     },
     "metadata": {
      "needs_background": "light"
     },
     "output_type": "display_data"
    }
   ],
   "source": [
    "plt.spy(doc_tags_mat,precision=0, markersize=3, aspect='auto')\n",
    "plt.xlabel('tag')\n",
    "plt.ylabel('document')\n",
    "u=plt.xticks(list(range(len(keyword_tags_distinct))), reshaped_keyword_tags, rotation=80)\n",
    "#plt.title('Frequency counts')"
   ]
  },
  {
   "cell_type": "code",
   "execution_count": 27,
   "metadata": {},
   "outputs": [
    {
     "data": {
      "text/plain": [
       "(37, 17)"
      ]
     },
     "execution_count": 27,
     "metadata": {},
     "output_type": "execute_result"
    }
   ],
   "source": [
    "doc_tags_df = pd.DataFrame(doc_tags_mat, columns=keyword_tags_distinct, index=meta_info_df.title_arabic)\n",
    "doc_tags_df.shape"
   ]
  },
  {
   "cell_type": "code",
   "execution_count": 28,
   "metadata": {},
   "outputs": [
    {
     "data": {
      "text/html": [
       "<div>\n",
       "<style scoped>\n",
       "    .dataframe tbody tr th:only-of-type {\n",
       "        vertical-align: middle;\n",
       "    }\n",
       "\n",
       "    .dataframe tbody tr th {\n",
       "        vertical-align: top;\n",
       "    }\n",
       "\n",
       "    .dataframe thead th {\n",
       "        text-align: right;\n",
       "    }\n",
       "</style>\n",
       "<table border=\"1\" class=\"dataframe\">\n",
       "  <thead>\n",
       "    <tr style=\"text-align: right;\">\n",
       "      <th></th>\n",
       "      <th>إعادة التّحديد</th>\n",
       "      <th>الآلات الموسيقيّة</th>\n",
       "      <th>الأخبار والإخبار والأعلام</th>\n",
       "      <th>التّاريخ والتّأريخ (التّوثيق)</th>\n",
       "      <th>المدرسة الأرمويّة</th>\n",
       "      <th>المدرسة الأفلاطونيّة المتجدّدة</th>\n",
       "      <th>المدرسة الفارابيّة</th>\n",
       "      <th>المدرسة المغاربيّة الحديثة</th>\n",
       "      <th>المدرسة المغاربيّة القديمة</th>\n",
       "      <th>الموسيقى والطّبّ</th>\n",
       "      <th>الموسيقى والفلسفة</th>\n",
       "      <th>النصوص الأندلسيّة</th>\n",
       "      <th>النّصوص الأدبيّة الخبريّة</th>\n",
       "      <th>مدرسة الأراجيز والأنغام</th>\n",
       "      <th>مدرسة سمرقند</th>\n",
       "      <th>نصوص إغريقيّة مترجمة</th>\n",
       "      <th>نظريّات موسيقيّة</th>\n",
       "    </tr>\n",
       "    <tr>\n",
       "      <th>title_arabic</th>\n",
       "      <th></th>\n",
       "      <th></th>\n",
       "      <th></th>\n",
       "      <th></th>\n",
       "      <th></th>\n",
       "      <th></th>\n",
       "      <th></th>\n",
       "      <th></th>\n",
       "      <th></th>\n",
       "      <th></th>\n",
       "      <th></th>\n",
       "      <th></th>\n",
       "      <th></th>\n",
       "      <th></th>\n",
       "      <th></th>\n",
       "      <th></th>\n",
       "      <th></th>\n",
       "    </tr>\n",
       "  </thead>\n",
       "  <tbody>\n",
       "    <tr>\n",
       "      <th>رسالة في خبر صناعة التّأليف</th>\n",
       "      <td>0.0</td>\n",
       "      <td>0.0</td>\n",
       "      <td>0.0</td>\n",
       "      <td>0.0</td>\n",
       "      <td>0.0</td>\n",
       "      <td>1.0</td>\n",
       "      <td>0.0</td>\n",
       "      <td>0.0</td>\n",
       "      <td>0.0</td>\n",
       "      <td>0.0</td>\n",
       "      <td>1.0</td>\n",
       "      <td>0.0</td>\n",
       "      <td>0.0</td>\n",
       "      <td>0.0</td>\n",
       "      <td>0.0</td>\n",
       "      <td>0.0</td>\n",
       "      <td>0.0</td>\n",
       "    </tr>\n",
       "    <tr>\n",
       "      <th>كتاب المصوّتات الوتريّة من ذات الوتر الواحد إلى ذات العشرة أوتار</th>\n",
       "      <td>0.0</td>\n",
       "      <td>0.0</td>\n",
       "      <td>0.0</td>\n",
       "      <td>0.0</td>\n",
       "      <td>0.0</td>\n",
       "      <td>1.0</td>\n",
       "      <td>0.0</td>\n",
       "      <td>0.0</td>\n",
       "      <td>0.0</td>\n",
       "      <td>0.0</td>\n",
       "      <td>1.0</td>\n",
       "      <td>0.0</td>\n",
       "      <td>0.0</td>\n",
       "      <td>0.0</td>\n",
       "      <td>0.0</td>\n",
       "      <td>0.0</td>\n",
       "      <td>0.0</td>\n",
       "    </tr>\n",
       "    <tr>\n",
       "      <th>رسالة في أجزاء خبريّة في الموسيقى</th>\n",
       "      <td>0.0</td>\n",
       "      <td>0.0</td>\n",
       "      <td>0.0</td>\n",
       "      <td>0.0</td>\n",
       "      <td>0.0</td>\n",
       "      <td>1.0</td>\n",
       "      <td>0.0</td>\n",
       "      <td>0.0</td>\n",
       "      <td>0.0</td>\n",
       "      <td>0.0</td>\n",
       "      <td>0.0</td>\n",
       "      <td>0.0</td>\n",
       "      <td>0.0</td>\n",
       "      <td>0.0</td>\n",
       "      <td>0.0</td>\n",
       "      <td>0.0</td>\n",
       "      <td>0.0</td>\n",
       "    </tr>\n",
       "    <tr>\n",
       "      <th>رسالة الكندي في اللّحون والنّغم</th>\n",
       "      <td>0.0</td>\n",
       "      <td>0.0</td>\n",
       "      <td>0.0</td>\n",
       "      <td>0.0</td>\n",
       "      <td>0.0</td>\n",
       "      <td>1.0</td>\n",
       "      <td>0.0</td>\n",
       "      <td>0.0</td>\n",
       "      <td>0.0</td>\n",
       "      <td>0.0</td>\n",
       "      <td>0.0</td>\n",
       "      <td>0.0</td>\n",
       "      <td>0.0</td>\n",
       "      <td>0.0</td>\n",
       "      <td>0.0</td>\n",
       "      <td>0.0</td>\n",
       "      <td>0.0</td>\n",
       "    </tr>\n",
       "    <tr>\n",
       "      <th>كتاب الأدوار</th>\n",
       "      <td>0.0</td>\n",
       "      <td>0.0</td>\n",
       "      <td>0.0</td>\n",
       "      <td>0.0</td>\n",
       "      <td>1.0</td>\n",
       "      <td>0.0</td>\n",
       "      <td>0.0</td>\n",
       "      <td>0.0</td>\n",
       "      <td>0.0</td>\n",
       "      <td>0.0</td>\n",
       "      <td>0.0</td>\n",
       "      <td>0.0</td>\n",
       "      <td>0.0</td>\n",
       "      <td>0.0</td>\n",
       "      <td>0.0</td>\n",
       "      <td>0.0</td>\n",
       "      <td>1.0</td>\n",
       "    </tr>\n",
       "  </tbody>\n",
       "</table>\n",
       "</div>"
      ],
      "text/plain": [
       "                                                    إعادة التّحديد  \\\n",
       "title_arabic                                                         \n",
       "رسالة في خبر صناعة التّأليف                                    0.0   \n",
       "كتاب المصوّتات الوتريّة من ذات الوتر الواحد إلى...             0.0   \n",
       "رسالة في أجزاء خبريّة في الموسيقى                              0.0   \n",
       "رسالة الكندي في اللّحون والنّغم                                0.0   \n",
       "كتاب الأدوار                                                   0.0   \n",
       "\n",
       "                                                    الآلات الموسيقيّة  \\\n",
       "title_arabic                                                            \n",
       "رسالة في خبر صناعة التّأليف                                       0.0   \n",
       "كتاب المصوّتات الوتريّة من ذات الوتر الواحد إلى...                0.0   \n",
       "رسالة في أجزاء خبريّة في الموسيقى                                 0.0   \n",
       "رسالة الكندي في اللّحون والنّغم                                   0.0   \n",
       "كتاب الأدوار                                                      0.0   \n",
       "\n",
       "                                                    الأخبار والإخبار والأعلام  \\\n",
       "title_arabic                                                                    \n",
       "رسالة في خبر صناعة التّأليف                                               0.0   \n",
       "كتاب المصوّتات الوتريّة من ذات الوتر الواحد إلى...                        0.0   \n",
       "رسالة في أجزاء خبريّة في الموسيقى                                         0.0   \n",
       "رسالة الكندي في اللّحون والنّغم                                           0.0   \n",
       "كتاب الأدوار                                                              0.0   \n",
       "\n",
       "                                                    التّاريخ والتّأريخ (التّوثيق)  \\\n",
       "title_arabic                                                                        \n",
       "رسالة في خبر صناعة التّأليف                                                   0.0   \n",
       "كتاب المصوّتات الوتريّة من ذات الوتر الواحد إلى...                            0.0   \n",
       "رسالة في أجزاء خبريّة في الموسيقى                                             0.0   \n",
       "رسالة الكندي في اللّحون والنّغم                                               0.0   \n",
       "كتاب الأدوار                                                                  0.0   \n",
       "\n",
       "                                                    المدرسة الأرمويّة  \\\n",
       "title_arabic                                                            \n",
       "رسالة في خبر صناعة التّأليف                                       0.0   \n",
       "كتاب المصوّتات الوتريّة من ذات الوتر الواحد إلى...                0.0   \n",
       "رسالة في أجزاء خبريّة في الموسيقى                                 0.0   \n",
       "رسالة الكندي في اللّحون والنّغم                                   0.0   \n",
       "كتاب الأدوار                                                      1.0   \n",
       "\n",
       "                                                    المدرسة الأفلاطونيّة المتجدّدة  \\\n",
       "title_arabic                                                                         \n",
       "رسالة في خبر صناعة التّأليف                                                    1.0   \n",
       "كتاب المصوّتات الوتريّة من ذات الوتر الواحد إلى...                             1.0   \n",
       "رسالة في أجزاء خبريّة في الموسيقى                                              1.0   \n",
       "رسالة الكندي في اللّحون والنّغم                                                1.0   \n",
       "كتاب الأدوار                                                                   0.0   \n",
       "\n",
       "                                                    المدرسة الفارابيّة  \\\n",
       "title_arabic                                                             \n",
       "رسالة في خبر صناعة التّأليف                                        0.0   \n",
       "كتاب المصوّتات الوتريّة من ذات الوتر الواحد إلى...                 0.0   \n",
       "رسالة في أجزاء خبريّة في الموسيقى                                  0.0   \n",
       "رسالة الكندي في اللّحون والنّغم                                    0.0   \n",
       "كتاب الأدوار                                                       0.0   \n",
       "\n",
       "                                                    المدرسة المغاربيّة الحديثة  \\\n",
       "title_arabic                                                                     \n",
       "رسالة في خبر صناعة التّأليف                                                0.0   \n",
       "كتاب المصوّتات الوتريّة من ذات الوتر الواحد إلى...                         0.0   \n",
       "رسالة في أجزاء خبريّة في الموسيقى                                          0.0   \n",
       "رسالة الكندي في اللّحون والنّغم                                            0.0   \n",
       "كتاب الأدوار                                                               0.0   \n",
       "\n",
       "                                                    المدرسة المغاربيّة القديمة  \\\n",
       "title_arabic                                                                     \n",
       "رسالة في خبر صناعة التّأليف                                                0.0   \n",
       "كتاب المصوّتات الوتريّة من ذات الوتر الواحد إلى...                         0.0   \n",
       "رسالة في أجزاء خبريّة في الموسيقى                                          0.0   \n",
       "رسالة الكندي في اللّحون والنّغم                                            0.0   \n",
       "كتاب الأدوار                                                               0.0   \n",
       "\n",
       "                                                    الموسيقى والطّبّ  \\\n",
       "title_arabic                                                           \n",
       "رسالة في خبر صناعة التّأليف                                      0.0   \n",
       "كتاب المصوّتات الوتريّة من ذات الوتر الواحد إلى...               0.0   \n",
       "رسالة في أجزاء خبريّة في الموسيقى                                0.0   \n",
       "رسالة الكندي في اللّحون والنّغم                                  0.0   \n",
       "كتاب الأدوار                                                     0.0   \n",
       "\n",
       "                                                    الموسيقى والفلسفة  \\\n",
       "title_arabic                                                            \n",
       "رسالة في خبر صناعة التّأليف                                       1.0   \n",
       "كتاب المصوّتات الوتريّة من ذات الوتر الواحد إلى...                1.0   \n",
       "رسالة في أجزاء خبريّة في الموسيقى                                 0.0   \n",
       "رسالة الكندي في اللّحون والنّغم                                   0.0   \n",
       "كتاب الأدوار                                                      0.0   \n",
       "\n",
       "                                                    النصوص الأندلسيّة  \\\n",
       "title_arabic                                                            \n",
       "رسالة في خبر صناعة التّأليف                                       0.0   \n",
       "كتاب المصوّتات الوتريّة من ذات الوتر الواحد إلى...                0.0   \n",
       "رسالة في أجزاء خبريّة في الموسيقى                                 0.0   \n",
       "رسالة الكندي في اللّحون والنّغم                                   0.0   \n",
       "كتاب الأدوار                                                      0.0   \n",
       "\n",
       "                                                    النّصوص الأدبيّة الخبريّة  \\\n",
       "title_arabic                                                                    \n",
       "رسالة في خبر صناعة التّأليف                                               0.0   \n",
       "كتاب المصوّتات الوتريّة من ذات الوتر الواحد إلى...                        0.0   \n",
       "رسالة في أجزاء خبريّة في الموسيقى                                         0.0   \n",
       "رسالة الكندي في اللّحون والنّغم                                           0.0   \n",
       "كتاب الأدوار                                                              0.0   \n",
       "\n",
       "                                                    مدرسة الأراجيز والأنغام  \\\n",
       "title_arabic                                                                  \n",
       "رسالة في خبر صناعة التّأليف                                             0.0   \n",
       "كتاب المصوّتات الوتريّة من ذات الوتر الواحد إلى...                      0.0   \n",
       "رسالة في أجزاء خبريّة في الموسيقى                                       0.0   \n",
       "رسالة الكندي في اللّحون والنّغم                                         0.0   \n",
       "كتاب الأدوار                                                            0.0   \n",
       "\n",
       "                                                    مدرسة سمرقند  \\\n",
       "title_arabic                                                       \n",
       "رسالة في خبر صناعة التّأليف                                  0.0   \n",
       "كتاب المصوّتات الوتريّة من ذات الوتر الواحد إلى...           0.0   \n",
       "رسالة في أجزاء خبريّة في الموسيقى                            0.0   \n",
       "رسالة الكندي في اللّحون والنّغم                              0.0   \n",
       "كتاب الأدوار                                                 0.0   \n",
       "\n",
       "                                                    نصوص إغريقيّة مترجمة  \\\n",
       "title_arabic                                                               \n",
       "رسالة في خبر صناعة التّأليف                                          0.0   \n",
       "كتاب المصوّتات الوتريّة من ذات الوتر الواحد إلى...                   0.0   \n",
       "رسالة في أجزاء خبريّة في الموسيقى                                    0.0   \n",
       "رسالة الكندي في اللّحون والنّغم                                      0.0   \n",
       "كتاب الأدوار                                                         0.0   \n",
       "\n",
       "                                                    نظريّات موسيقيّة  \n",
       "title_arabic                                                          \n",
       "رسالة في خبر صناعة التّأليف                                      0.0  \n",
       "كتاب المصوّتات الوتريّة من ذات الوتر الواحد إلى...               0.0  \n",
       "رسالة في أجزاء خبريّة في الموسيقى                                0.0  \n",
       "رسالة الكندي في اللّحون والنّغم                                  0.0  \n",
       "كتاب الأدوار                                                     1.0  "
      ]
     },
     "execution_count": 28,
     "metadata": {},
     "output_type": "execute_result"
    }
   ],
   "source": [
    "doc_tags_df.head()"
   ]
  },
  {
   "cell_type": "code",
   "execution_count": 29,
   "metadata": {},
   "outputs": [
    {
     "data": {
      "text/plain": [
       "المدرسة الأفلاطونيّة المتجدّدة    10.0\n",
       "مدرسة الأراجيز والأنغام            7.0\n",
       "المدرسة الفارابيّة                 6.0\n",
       "النّصوص الأدبيّة الخبريّة          5.0\n",
       "نظريّات موسيقيّة                   4.0\n",
       "الموسيقى والفلسفة                  4.0\n",
       "المدرسة المغاربيّة القديمة         3.0\n",
       "النصوص الأندلسيّة                  3.0\n",
       "المدرسة الأرمويّة                  2.0\n",
       "إعادة التّحديد                     2.0\n",
       "الموسيقى والطّبّ                   1.0\n",
       "نصوص إغريقيّة مترجمة               1.0\n",
       "المدرسة المغاربيّة الحديثة         1.0\n",
       "مدرسة سمرقند                       1.0\n",
       "التّاريخ والتّأريخ (التّوثيق)      1.0\n",
       "الأخبار والإخبار والأعلام          1.0\n",
       "الآلات الموسيقيّة                  1.0\n",
       "dtype: float64"
      ]
     },
     "execution_count": 29,
     "metadata": {},
     "output_type": "execute_result"
    }
   ],
   "source": [
    "# total frequency of occurrence of each tag\n",
    "doc_tags_df.sum(axis=0).sort_values(ascending=False)"
   ]
  },
  {
   "cell_type": "code",
   "execution_count": 30,
   "metadata": {},
   "outputs": [
    {
     "data": {
      "text/plain": [
       "title_arabic\n",
       "المقدّمة : صناعة الغناء                                                                                                        4.0\n",
       "كتاب النّفس : القول في السّمع                                                                                                  4.0\n",
       "برء الأسقام، شرح القصيدة في الأنغام                                                                                            3.0\n",
       "شرح كتاب الأدوار                                                                                                               3.0\n",
       "تعريفات العلوم أو كتاب الفوائد الخاقانيّة الأحمديّة في بيان العلوم الشرعيّة والأدبيّة والعقليّة وآداب الملوك : علم الموسيقى    2.0\n",
       "العقد الفريد                                                                                                                   2.0\n",
       "كتاب المصوّتات الوتريّة من ذات الوتر الواحد إلى ذات العشرة أوتار                                                               2.0\n",
       "كتاب الأدوار                                                                                                                   2.0\n",
       "قول على اللّحون وصنعة المعازف ومخارج الحروف                                                                                    2.0\n",
       "كتاب الإنعام في معرفة الأنغام                                                                                                  2.0\n",
       "رسالة في خبر صناعة التّأليف                                                                                                    2.0\n",
       "كتاب التّربيع والتّدوير                                                                                                        1.0\n",
       "تلخيص كتاب النّفس                                                                                                              1.0\n",
       "رسالة في أجزاء خبريّة في الموسيقى                                                                                              1.0\n",
       "رسالة الكندي في اللّحون والنّغم                                                                                                1.0\n",
       "إحصاء العلوم                                                                                                                   1.0\n",
       "كتاب الملاهي                                                                                                                   1.0\n",
       "كتاب النّغم                                                                                                                    1.0\n",
       "مسألة في الموسيقى                                                                                                              1.0\n",
       "كتاب عنصر الموسيقى وما افترقت عليه الفلاسفة من تركيبه ومايته                                                                   1.0\n",
       "كتاب إحصاء الإيقاعات                                                                                                           1.0\n",
       "القول على أجناس الّذي بالأربعة                                                                                                 1.0\n",
       "كتاب الامتاع والانتفاع في مسألة سماع السّماع                                                                                   1.0\n",
       "أرجوزة في الأنغام                                                                                                              1.0\n",
       "في الموسيقى                                                                                                                    1.0\n",
       "نظم شجرة الطّبوع والطّبائع                                                                                                     1.0\n",
       "رسالة في التّعريف ببعض كلمات فارسيّة وردت في تأليف شهاب الدّين العجمي في علم الموسيقى                                          1.0\n",
       "فنّ الأنغام                                                                                                                    1.0\n",
       "إيقاد الشّموع للذّة المسموع بنغمات الطبوع                                                                                      1.0\n",
       "رسالة الكشّاف في علم الأنغام / مقدّمة في علم الموسيقى                                                                          1.0\n",
       "كتاب المحاسن والمساوي                                                                                                          1.0\n",
       "كتاب في علم الموسيقى ومعرفة الانغام                                                                                            1.0\n",
       "مقدّمة في قوانين الأنغام                                                                                                       1.0\n",
       "رسالة القيان                                                                                                                   1.0\n",
       "طبقات المغنّين                                                                                                                 1.0\n",
       "كتاب الأمانات والاعتقادات                                                                                                      1.0\n",
       "كتاب اللهو والملاهي                                                                                                            0.0\n",
       "dtype: float64"
      ]
     },
     "execution_count": 30,
     "metadata": {},
     "output_type": "execute_result"
    }
   ],
   "source": [
    "# number of tags per document\n",
    "doc_tags_df.sum(axis=1).sort_values(ascending=False)"
   ]
  },
  {
   "cell_type": "code",
   "execution_count": 31,
   "metadata": {},
   "outputs": [
    {
     "data": {
      "text/plain": [
       "(37, 17)"
      ]
     },
     "execution_count": 31,
     "metadata": {},
     "output_type": "execute_result"
    }
   ],
   "source": [
    "# for visualization purposes\n",
    "reshaped_titles = [get_display(arabic_reshaper.reshape(x[0:20])) for x in meta_info_df.title_arabic.tolist()]\n",
    "doc_tags_df2 = pd.DataFrame(doc_tags_mat, columns=reshaped_keyword_tags, index=reshaped_titles)\n",
    "doc_tags_df2.shape"
   ]
  },
  {
   "cell_type": "code",
   "execution_count": 32,
   "metadata": {},
   "outputs": [
    {
     "data": {
      "text/plain": [
       "Text(311.7152702702703, 0.5, 'document title')"
      ]
     },
     "execution_count": 32,
     "metadata": {},
     "output_type": "execute_result"
    },
    {
     "data": {
      "image/png": "[encoded data removed]",
      "text/plain": [
       "<Figure size 720x576 with 2 Axes>"
      ]
     },
     "metadata": {
      "needs_background": "light"
     },
     "output_type": "display_data"
    }
   ],
   "source": [
    "plt.figure(figsize=(10,8))\n",
    "plt.title('keyword tags and documents', y=1.05, size=12)\n",
    "sns.heatmap(doc_tags_df2, linewidths=0.1, square=True, linecolor='white', annot=False, cmap=plt.cm.RdBu)\n",
    "plt.xlabel('keyword tag')\n",
    "plt.ylabel('document title')"
   ]
  },
  {
   "cell_type": "code",
   "execution_count": 33,
   "metadata": {},
   "outputs": [
    {
     "data": {
      "text/plain": [
       "المدرسة الأفلاطونيّة المتجدّدة    10.0\n",
       "مدرسة الأراجيز والأنغام            7.0\n",
       "المدرسة الفارابيّة                 6.0\n",
       "النّصوص الأدبيّة الخبريّة          5.0\n",
       "نظريّات موسيقيّة                   4.0\n",
       "الموسيقى والفلسفة                  4.0\n",
       "المدرسة المغاربيّة القديمة         3.0\n",
       "النصوص الأندلسيّة                  3.0\n",
       "المدرسة الأرمويّة                  2.0\n",
       "إعادة التّحديد                     2.0\n",
       "الموسيقى والطّبّ                   1.0\n",
       "نصوص إغريقيّة مترجمة               1.0\n",
       "المدرسة المغاربيّة الحديثة         1.0\n",
       "مدرسة سمرقند                       1.0\n",
       "التّاريخ والتّأريخ (التّوثيق)      1.0\n",
       "الأخبار والإخبار والأعلام          1.0\n",
       "الآلات الموسيقيّة                  1.0\n",
       "dtype: float64"
      ]
     },
     "execution_count": 33,
     "metadata": {},
     "output_type": "execute_result"
    }
   ],
   "source": [
    "doc_tags_df.sum(axis=0).sort_values(ascending=False)"
   ]
  },
  {
   "cell_type": "code",
   "execution_count": 34,
   "metadata": {},
   "outputs": [
    {
     "data": {
      "text/plain": [
       "1.0    25\n",
       "2.0     7\n",
       "4.0     2\n",
       "3.0     2\n",
       "0.0     1\n",
       "dtype: int64"
      ]
     },
     "execution_count": 34,
     "metadata": {},
     "output_type": "execute_result"
    }
   ],
   "source": [
    "doc_tags_df.sum(axis=1).value_counts()"
   ]
  },
  {
   "cell_type": "code",
   "execution_count": 35,
   "metadata": {},
   "outputs": [
    {
     "name": "stdout",
     "output_type": "stream",
     "text": [
      "1\n"
     ]
    },
    {
     "data": {
      "text/plain": [
       "((37, 17), (36, 17))"
      ]
     },
     "execution_count": 35,
     "metadata": {},
     "output_type": "execute_result"
    }
   ],
   "source": [
    "idx = doc_tags_df.sum(axis=1)==0\n",
    "print(idx.sum())\n",
    "doc_tags_df_sub = doc_tags_df[~idx]\n",
    "doc_tags_df.shape,doc_tags_df_sub.shape"
   ]
  },
  {
   "cell_type": "code",
   "execution_count": 36,
   "metadata": {},
   "outputs": [
    {
     "data": {
      "text/plain": [
       "(17, 17)"
      ]
     },
     "execution_count": 36,
     "metadata": {},
     "output_type": "execute_result"
    }
   ],
   "source": [
    "C2 = pd.DataFrame(pd.np.asmatrix(doc_tags_df_sub.T)*pd.np.asmatrix(doc_tags_df_sub))\n",
    "C2.index = reshaped_keyword_tags\n",
    "C2.columns = reshaped_keyword_tags\n",
    "C2.shape"
   ]
  },
  {
   "cell_type": "code",
   "execution_count": 37,
   "metadata": {},
   "outputs": [
    {
     "data": {
      "text/plain": [
       "Text(76.64500000000001, 0.5, 'keyword tag')"
      ]
     },
     "execution_count": 37,
     "metadata": {},
     "output_type": "execute_result"
    },
    {
     "data": {
      "image/png": "[encoded data removed]",
      "text/plain": [
       "<Figure size 720x576 with 2 Axes>"
      ]
     },
     "metadata": {
      "needs_background": "light"
     },
     "output_type": "display_data"
    }
   ],
   "source": [
    "plt.figure(figsize=(10,8))\n",
    "plt.title('Co-occurrence of keyword tags', y=1.05, size=12)\n",
    "sns.heatmap(C2, linewidths=0.1, square=True, linecolor='white', annot=True, cmap=plt.cm.RdBu)\n",
    "plt.xlabel('keyword tag')\n",
    "plt.ylabel('keyword tag')"
   ]
  },
  {
   "cell_type": "code",
   "execution_count": 38,
   "metadata": {},
   "outputs": [
    {
     "data": {
      "text/plain": [
       "(17, 17)"
      ]
     },
     "execution_count": 38,
     "metadata": {},
     "output_type": "execute_result"
    }
   ],
   "source": [
    "C = doc_tags_df_sub.corr()\n",
    "C.index = reshaped_keyword_tags\n",
    "C.columns = reshaped_keyword_tags\n",
    "C.shape"
   ]
  },
  {
   "cell_type": "code",
   "execution_count": 39,
   "metadata": {},
   "outputs": [
    {
     "data": {
      "text/plain": [
       "((17, 17), 17)"
      ]
     },
     "execution_count": 39,
     "metadata": {},
     "output_type": "execute_result"
    }
   ],
   "source": [
    "C.shape,len(reshaped_keyword_tags)"
   ]
  },
  {
   "cell_type": "code",
   "execution_count": 40,
   "metadata": {},
   "outputs": [
    {
     "data": {
      "text/plain": [
       "Text(76.64500000000001, 0.5, 'keyword tag')"
      ]
     },
     "execution_count": 40,
     "metadata": {},
     "output_type": "execute_result"
    },
    {
     "data": {
      "image/png": "[encoded data removed]",
      "text/plain": [
       "<Figure size 720x576 with 2 Axes>"
      ]
     },
     "metadata": {
      "needs_background": "light"
     },
     "output_type": "display_data"
    }
   ],
   "source": [
    "plt.figure(figsize=(10,8))\n",
    "plt.title('Correlation between keyword tags', y=1.05, size=12)\n",
    "sns.heatmap(C, linewidths=0.1, square=True, linecolor='white', annot=False, cmap=plt.cm.RdBu)\n",
    "plt.xlabel('keyword tag')\n",
    "plt.ylabel('keyword tag')"
   ]
  },
  {
   "cell_type": "code",
   "execution_count": 41,
   "metadata": {},
   "outputs": [],
   "source": [
    "## PCA\n",
    "from sklearn.decomposition import TruncatedSVD"
   ]
  },
  {
   "cell_type": "code",
   "execution_count": 42,
   "metadata": {},
   "outputs": [
    {
     "data": {
      "text/plain": [
       "(36, 17)"
      ]
     },
     "execution_count": 42,
     "metadata": {},
     "output_type": "execute_result"
    }
   ],
   "source": [
    "X = doc_tags_df_sub\n",
    "X.shape"
   ]
  },
  {
   "cell_type": "code",
   "execution_count": 43,
   "metadata": {},
   "outputs": [
    {
     "data": {
      "text/plain": [
       "(36, 10)"
      ]
     },
     "execution_count": 43,
     "metadata": {},
     "output_type": "execute_result"
    }
   ],
   "source": [
    "svd = TruncatedSVD(n_components=10, n_iter=7, random_state=42)\n",
    "X_pca = svd.fit_transform(X)\n",
    "X_pca.shape"
   ]
  },
  {
   "cell_type": "code",
   "execution_count": 44,
   "metadata": {},
   "outputs": [
    {
     "data": {
      "text/plain": [
       "array([0.14575345, 0.14323767, 0.16007201, 0.10601282, 0.10326806])"
      ]
     },
     "execution_count": 44,
     "metadata": {},
     "output_type": "execute_result"
    }
   ],
   "source": [
    "svd.explained_variance_ratio_[0:5]"
   ]
  },
  {
   "cell_type": "code",
   "execution_count": 45,
   "metadata": {},
   "outputs": [
    {
     "name": "stdout",
     "output_type": "stream",
     "text": [
      "0.9270676606485483\n"
     ]
    }
   ],
   "source": [
    "print(svd.explained_variance_ratio_.sum())"
   ]
  },
  {
   "cell_type": "code",
   "execution_count": 46,
   "metadata": {},
   "outputs": [
    {
     "data": {
      "text/plain": [
       "<matplotlib.axes._subplots.AxesSubplot at 0x20ecc625400>"
      ]
     },
     "execution_count": 46,
     "metadata": {},
     "output_type": "execute_result"
    },
    {
     "data": {
      "image/png": "[encoded data removed]",
      "text/plain": [
       "<Figure size 432x288 with 1 Axes>"
      ]
     },
     "metadata": {
      "needs_background": "light"
     },
     "output_type": "display_data"
    }
   ],
   "source": [
    "pd.Series(svd.explained_variance_ratio_.cumsum()).plot()"
   ]
  },
  {
   "cell_type": "code",
   "execution_count": 47,
   "metadata": {},
   "outputs": [
    {
     "data": {
      "text/plain": [
       "(10, 17)"
      ]
     },
     "execution_count": 47,
     "metadata": {},
     "output_type": "execute_result"
    }
   ],
   "source": [
    "svd.components_.shape"
   ]
  },
  {
   "cell_type": "code",
   "execution_count": 48,
   "metadata": {},
   "outputs": [
    {
     "data": {
      "text/plain": [
       "(17, 10)"
      ]
     },
     "execution_count": 48,
     "metadata": {},
     "output_type": "execute_result"
    }
   ],
   "source": [
    "K = svd.components_.shape[0]\n",
    "components_df = pd.DataFrame(svd.components_.T, index=doc_tags_df_sub.columns, columns=['PC'+str(i) for i in range(1,K+1)])\n",
    "components_df.shape"
   ]
  },
  {
   "cell_type": "code",
   "execution_count": 49,
   "metadata": {},
   "outputs": [
    {
     "data": {
      "text/html": [
       "<div>\n",
       "<style scoped>\n",
       "    .dataframe tbody tr th:only-of-type {\n",
       "        vertical-align: middle;\n",
       "    }\n",
       "\n",
       "    .dataframe tbody tr th {\n",
       "        vertical-align: top;\n",
       "    }\n",
       "\n",
       "    .dataframe thead th {\n",
       "        text-align: right;\n",
       "    }\n",
       "</style>\n",
       "<table border=\"1\" class=\"dataframe\">\n",
       "  <thead>\n",
       "    <tr style=\"text-align: right;\">\n",
       "      <th></th>\n",
       "      <th>PC1</th>\n",
       "      <th>PC2</th>\n",
       "      <th>PC3</th>\n",
       "      <th>PC4</th>\n",
       "      <th>PC5</th>\n",
       "      <th>PC6</th>\n",
       "      <th>PC7</th>\n",
       "      <th>PC8</th>\n",
       "      <th>PC9</th>\n",
       "      <th>PC10</th>\n",
       "    </tr>\n",
       "  </thead>\n",
       "  <tbody>\n",
       "    <tr>\n",
       "      <th>إعادة التّحديد</th>\n",
       "      <td>0.000000e+00</td>\n",
       "      <td>0.000000e+00</td>\n",
       "      <td>0.000000e+00</td>\n",
       "      <td>-0.000000e+00</td>\n",
       "      <td>-0.000000e+00</td>\n",
       "      <td>0.000000e+00</td>\n",
       "      <td>-0.000000e+00</td>\n",
       "      <td>1.0</td>\n",
       "      <td>-0.000000e+00</td>\n",
       "      <td>-0.000000e+00</td>\n",
       "    </tr>\n",
       "    <tr>\n",
       "      <th>الآلات الموسيقيّة</th>\n",
       "      <td>1.072043e-02</td>\n",
       "      <td>-2.079840e-15</td>\n",
       "      <td>6.408985e-02</td>\n",
       "      <td>8.206998e-03</td>\n",
       "      <td>-4.584582e-15</td>\n",
       "      <td>4.018838e-01</td>\n",
       "      <td>2.051816e-01</td>\n",
       "      <td>0.0</td>\n",
       "      <td>-7.410867e-02</td>\n",
       "      <td>6.413212e-16</td>\n",
       "    </tr>\n",
       "    <tr>\n",
       "      <th>الأخبار والإخبار والأعلام</th>\n",
       "      <td>1.072043e-02</td>\n",
       "      <td>-2.409997e-15</td>\n",
       "      <td>6.408985e-02</td>\n",
       "      <td>8.206998e-03</td>\n",
       "      <td>-4.547165e-15</td>\n",
       "      <td>4.018838e-01</td>\n",
       "      <td>2.051816e-01</td>\n",
       "      <td>0.0</td>\n",
       "      <td>-7.410867e-02</td>\n",
       "      <td>5.037869e-16</td>\n",
       "    </tr>\n",
       "    <tr>\n",
       "      <th>التّاريخ والتّأريخ (التّوثيق)</th>\n",
       "      <td>1.072043e-02</td>\n",
       "      <td>-2.021419e-15</td>\n",
       "      <td>6.408985e-02</td>\n",
       "      <td>8.206998e-03</td>\n",
       "      <td>-4.459562e-15</td>\n",
       "      <td>4.018838e-01</td>\n",
       "      <td>2.051816e-01</td>\n",
       "      <td>0.0</td>\n",
       "      <td>-7.410867e-02</td>\n",
       "      <td>6.026661e-16</td>\n",
       "    </tr>\n",
       "    <tr>\n",
       "      <th>المدرسة الأرمويّة</th>\n",
       "      <td>-9.816944e-18</td>\n",
       "      <td>1.711083e-01</td>\n",
       "      <td>5.700615e-15</td>\n",
       "      <td>5.708833e-17</td>\n",
       "      <td>5.492314e-01</td>\n",
       "      <td>6.028140e-15</td>\n",
       "      <td>5.027714e-16</td>\n",
       "      <td>-0.0</td>\n",
       "      <td>1.062546e-16</td>\n",
       "      <td>-4.307950e-01</td>\n",
       "    </tr>\n",
       "  </tbody>\n",
       "</table>\n",
       "</div>"
      ],
      "text/plain": [
       "                                        PC1           PC2           PC3  \\\n",
       "إعادة التّحديد                 0.000000e+00  0.000000e+00  0.000000e+00   \n",
       "الآلات الموسيقيّة              1.072043e-02 -2.079840e-15  6.408985e-02   \n",
       "الأخبار والإخبار والأعلام      1.072043e-02 -2.409997e-15  6.408985e-02   \n",
       "التّاريخ والتّأريخ (التّوثيق)  1.072043e-02 -2.021419e-15  6.408985e-02   \n",
       "المدرسة الأرمويّة             -9.816944e-18  1.711083e-01  5.700615e-15   \n",
       "\n",
       "                                        PC4           PC5           PC6  \\\n",
       "إعادة التّحديد                -0.000000e+00 -0.000000e+00  0.000000e+00   \n",
       "الآلات الموسيقيّة              8.206998e-03 -4.584582e-15  4.018838e-01   \n",
       "الأخبار والإخبار والأعلام      8.206998e-03 -4.547165e-15  4.018838e-01   \n",
       "التّاريخ والتّأريخ (التّوثيق)  8.206998e-03 -4.459562e-15  4.018838e-01   \n",
       "المدرسة الأرمويّة              5.708833e-17  5.492314e-01  6.028140e-15   \n",
       "\n",
       "                                        PC7  PC8           PC9          PC10  \n",
       "إعادة التّحديد                -0.000000e+00  1.0 -0.000000e+00 -0.000000e+00  \n",
       "الآلات الموسيقيّة              2.051816e-01  0.0 -7.410867e-02  6.413212e-16  \n",
       "الأخبار والإخبار والأعلام      2.051816e-01  0.0 -7.410867e-02  5.037869e-16  \n",
       "التّاريخ والتّأريخ (التّوثيق)  2.051816e-01  0.0 -7.410867e-02  6.026661e-16  \n",
       "المدرسة الأرمويّة              5.027714e-16 -0.0  1.062546e-16 -4.307950e-01  "
      ]
     },
     "execution_count": 49,
     "metadata": {},
     "output_type": "execute_result"
    }
   ],
   "source": [
    "components_df.head()"
   ]
  },
  {
   "cell_type": "code",
   "execution_count": 50,
   "metadata": {},
   "outputs": [
    {
     "data": {
      "text/plain": [
       "Text(255.71323529411768, 0.5, 'keyword tag')"
      ]
     },
     "execution_count": 50,
     "metadata": {},
     "output_type": "execute_result"
    },
    {
     "data": {
      "image/png": "[encoded data removed]",
      "text/plain": [
       "<Figure size 720x576 with 2 Axes>"
      ]
     },
     "metadata": {
      "needs_background": "light"
     },
     "output_type": "display_data"
    }
   ],
   "source": [
    "components_df.index = reshaped_keyword_tags\n",
    "plt.figure(figsize=(10,8))\n",
    "plt.title('keyword tags and their principal components', y=1.05, size=12)\n",
    "sns.heatmap(components_df, linewidths=0.1, square=True, linecolor='white', annot=False, cmap=plt.cm.RdBu)\n",
    "plt.xlabel('principal component')\n",
    "plt.ylabel('keyword tag')"
   ]
  },
  {
   "cell_type": "code",
   "execution_count": 51,
   "metadata": {},
   "outputs": [
    {
     "data": {
      "text/plain": [
       "((36, 10), numpy.ndarray)"
      ]
     },
     "execution_count": 51,
     "metadata": {},
     "output_type": "execute_result"
    }
   ],
   "source": [
    "X_pca.shape,type(X_pca)"
   ]
  },
  {
   "cell_type": "code",
   "execution_count": 52,
   "metadata": {
    "scrolled": true
   },
   "outputs": [
    {
     "data": {
      "text/html": [
       "<div>\n",
       "<style scoped>\n",
       "    .dataframe tbody tr th:only-of-type {\n",
       "        vertical-align: middle;\n",
       "    }\n",
       "\n",
       "    .dataframe tbody tr th {\n",
       "        vertical-align: top;\n",
       "    }\n",
       "\n",
       "    .dataframe thead th {\n",
       "        text-align: right;\n",
       "    }\n",
       "</style>\n",
       "<table border=\"1\" class=\"dataframe\">\n",
       "  <thead>\n",
       "    <tr style=\"text-align: right;\">\n",
       "      <th></th>\n",
       "      <th>PC1</th>\n",
       "      <th>PC2</th>\n",
       "      <th>PC3</th>\n",
       "      <th>PC4</th>\n",
       "      <th>PC5</th>\n",
       "      <th>PC6</th>\n",
       "      <th>PC7</th>\n",
       "      <th>PC8</th>\n",
       "      <th>PC9</th>\n",
       "      <th>PC10</th>\n",
       "    </tr>\n",
       "    <tr>\n",
       "      <th>title_arabic</th>\n",
       "      <th></th>\n",
       "      <th></th>\n",
       "      <th></th>\n",
       "      <th></th>\n",
       "      <th></th>\n",
       "      <th></th>\n",
       "      <th></th>\n",
       "      <th></th>\n",
       "      <th></th>\n",
       "      <th></th>\n",
       "    </tr>\n",
       "  </thead>\n",
       "  <tbody>\n",
       "    <tr>\n",
       "      <th>رسالة في خبر صناعة التّأليف</th>\n",
       "      <td>1.259428e+00</td>\n",
       "      <td>-5.253249e-16</td>\n",
       "      <td>7.208963e-03</td>\n",
       "      <td>-3.217500e-02</td>\n",
       "      <td>7.030693e-16</td>\n",
       "      <td>-1.452664e-02</td>\n",
       "      <td>-3.924417e-01</td>\n",
       "      <td>-4.167905e-17</td>\n",
       "      <td>-4.810550e-01</td>\n",
       "      <td>1.913338e-16</td>\n",
       "    </tr>\n",
       "    <tr>\n",
       "      <th>كتاب المصوّتات الوتريّة من ذات الوتر الواحد إلى ذات العشرة أوتار</th>\n",
       "      <td>1.259428e+00</td>\n",
       "      <td>-5.002002e-16</td>\n",
       "      <td>7.208963e-03</td>\n",
       "      <td>-3.217500e-02</td>\n",
       "      <td>6.675714e-16</td>\n",
       "      <td>-1.452664e-02</td>\n",
       "      <td>-3.924417e-01</td>\n",
       "      <td>-6.264139e-17</td>\n",
       "      <td>-4.810550e-01</td>\n",
       "      <td>2.676052e-16</td>\n",
       "    </tr>\n",
       "    <tr>\n",
       "      <th>رسالة في أجزاء خبريّة في الموسيقى</th>\n",
       "      <td>9.111340e-01</td>\n",
       "      <td>1.078295e-14</td>\n",
       "      <td>-3.441298e-01</td>\n",
       "      <td>2.395927e-02</td>\n",
       "      <td>-7.095331e-16</td>\n",
       "      <td>8.294747e-03</td>\n",
       "      <td>1.516777e-01</td>\n",
       "      <td>4.547866e-17</td>\n",
       "      <td>1.601338e-01</td>\n",
       "      <td>-2.380577e-16</td>\n",
       "    </tr>\n",
       "    <tr>\n",
       "      <th>رسالة الكندي في اللّحون والنّغم</th>\n",
       "      <td>9.111340e-01</td>\n",
       "      <td>1.072072e-14</td>\n",
       "      <td>-3.441298e-01</td>\n",
       "      <td>2.395927e-02</td>\n",
       "      <td>-5.394961e-17</td>\n",
       "      <td>8.294747e-03</td>\n",
       "      <td>1.516777e-01</td>\n",
       "      <td>5.420628e-17</td>\n",
       "      <td>1.601338e-01</td>\n",
       "      <td>-1.364946e-16</td>\n",
       "    </tr>\n",
       "    <tr>\n",
       "      <th>كتاب الأدوار</th>\n",
       "      <td>4.158280e-16</td>\n",
       "      <td>6.774971e-01</td>\n",
       "      <td>2.126306e-14</td>\n",
       "      <td>7.558217e-16</td>\n",
       "      <td>1.132910e+00</td>\n",
       "      <td>1.253432e-14</td>\n",
       "      <td>9.311602e-16</td>\n",
       "      <td>-4.900847e-18</td>\n",
       "      <td>5.826887e-16</td>\n",
       "      <td>-6.543706e-02</td>\n",
       "    </tr>\n",
       "  </tbody>\n",
       "</table>\n",
       "</div>"
      ],
      "text/plain": [
       "                                                             PC1  \\\n",
       "title_arabic                                                       \n",
       "رسالة في خبر صناعة التّأليف                         1.259428e+00   \n",
       "كتاب المصوّتات الوتريّة من ذات الوتر الواحد إلى...  1.259428e+00   \n",
       "رسالة في أجزاء خبريّة في الموسيقى                   9.111340e-01   \n",
       "رسالة الكندي في اللّحون والنّغم                     9.111340e-01   \n",
       "كتاب الأدوار                                        4.158280e-16   \n",
       "\n",
       "                                                             PC2  \\\n",
       "title_arabic                                                       \n",
       "رسالة في خبر صناعة التّأليف                        -5.253249e-16   \n",
       "كتاب المصوّتات الوتريّة من ذات الوتر الواحد إلى... -5.002002e-16   \n",
       "رسالة في أجزاء خبريّة في الموسيقى                   1.078295e-14   \n",
       "رسالة الكندي في اللّحون والنّغم                     1.072072e-14   \n",
       "كتاب الأدوار                                        6.774971e-01   \n",
       "\n",
       "                                                             PC3  \\\n",
       "title_arabic                                                       \n",
       "رسالة في خبر صناعة التّأليف                         7.208963e-03   \n",
       "كتاب المصوّتات الوتريّة من ذات الوتر الواحد إلى...  7.208963e-03   \n",
       "رسالة في أجزاء خبريّة في الموسيقى                  -3.441298e-01   \n",
       "رسالة الكندي في اللّحون والنّغم                    -3.441298e-01   \n",
       "كتاب الأدوار                                        2.126306e-14   \n",
       "\n",
       "                                                             PC4  \\\n",
       "title_arabic                                                       \n",
       "رسالة في خبر صناعة التّأليف                        -3.217500e-02   \n",
       "كتاب المصوّتات الوتريّة من ذات الوتر الواحد إلى... -3.217500e-02   \n",
       "رسالة في أجزاء خبريّة في الموسيقى                   2.395927e-02   \n",
       "رسالة الكندي في اللّحون والنّغم                     2.395927e-02   \n",
       "كتاب الأدوار                                        7.558217e-16   \n",
       "\n",
       "                                                             PC5  \\\n",
       "title_arabic                                                       \n",
       "رسالة في خبر صناعة التّأليف                         7.030693e-16   \n",
       "كتاب المصوّتات الوتريّة من ذات الوتر الواحد إلى...  6.675714e-16   \n",
       "رسالة في أجزاء خبريّة في الموسيقى                  -7.095331e-16   \n",
       "رسالة الكندي في اللّحون والنّغم                    -5.394961e-17   \n",
       "كتاب الأدوار                                        1.132910e+00   \n",
       "\n",
       "                                                             PC6  \\\n",
       "title_arabic                                                       \n",
       "رسالة في خبر صناعة التّأليف                        -1.452664e-02   \n",
       "كتاب المصوّتات الوتريّة من ذات الوتر الواحد إلى... -1.452664e-02   \n",
       "رسالة في أجزاء خبريّة في الموسيقى                   8.294747e-03   \n",
       "رسالة الكندي في اللّحون والنّغم                     8.294747e-03   \n",
       "كتاب الأدوار                                        1.253432e-14   \n",
       "\n",
       "                                                             PC7  \\\n",
       "title_arabic                                                       \n",
       "رسالة في خبر صناعة التّأليف                        -3.924417e-01   \n",
       "كتاب المصوّتات الوتريّة من ذات الوتر الواحد إلى... -3.924417e-01   \n",
       "رسالة في أجزاء خبريّة في الموسيقى                   1.516777e-01   \n",
       "رسالة الكندي في اللّحون والنّغم                     1.516777e-01   \n",
       "كتاب الأدوار                                        9.311602e-16   \n",
       "\n",
       "                                                             PC8  \\\n",
       "title_arabic                                                       \n",
       "رسالة في خبر صناعة التّأليف                        -4.167905e-17   \n",
       "كتاب المصوّتات الوتريّة من ذات الوتر الواحد إلى... -6.264139e-17   \n",
       "رسالة في أجزاء خبريّة في الموسيقى                   4.547866e-17   \n",
       "رسالة الكندي في اللّحون والنّغم                     5.420628e-17   \n",
       "كتاب الأدوار                                       -4.900847e-18   \n",
       "\n",
       "                                                             PC9          PC10  \n",
       "title_arabic                                                                    \n",
       "رسالة في خبر صناعة التّأليف                        -4.810550e-01  1.913338e-16  \n",
       "كتاب المصوّتات الوتريّة من ذات الوتر الواحد إلى... -4.810550e-01  2.676052e-16  \n",
       "رسالة في أجزاء خبريّة في الموسيقى                   1.601338e-01 -2.380577e-16  \n",
       "رسالة الكندي في اللّحون والنّغم                     1.601338e-01 -1.364946e-16  \n",
       "كتاب الأدوار                                        5.826887e-16 -6.543706e-02  "
      ]
     },
     "execution_count": 52,
     "metadata": {},
     "output_type": "execute_result"
    }
   ],
   "source": [
    "documents_pcs_df = pd.DataFrame(X_pca[:,0:K], index=doc_tags_df_sub.index, columns=['PC'+str(i) for i in range(1,K+1)])\n",
    "documents_pcs_df.head()"
   ]
  },
  {
   "cell_type": "code",
   "execution_count": 53,
   "metadata": {},
   "outputs": [],
   "source": [
    "#sns.pairplot(documents_pcs_df.iloc[:,0:5])"
   ]
  },
  {
   "cell_type": "code",
   "execution_count": 55,
   "metadata": {},
   "outputs": [
    {
     "data": {
      "text/plain": [
       "Text(390.7250000000001, 0.5, 'principal component')"
      ]
     },
     "execution_count": 55,
     "metadata": {},
     "output_type": "execute_result"
    },
    {
     "data": {
      "image/png": "[encoded data removed]",
      "text/plain": [
       "<Figure size 720x576 with 2 Axes>"
      ]
     },
     "metadata": {
      "needs_background": "light"
     },
     "output_type": "display_data"
    }
   ],
   "source": [
    "documents_pcs_df.index = documents_pcs_df.index.map(lambda x: get_display(arabic_reshaper.reshape(x[0:20])))\n",
    "plt.figure(figsize=(10,8))\n",
    "plt.title('', y=1.05, size=12)\n",
    "sns.heatmap(documents_pcs_df, linewidths=0.1, square=True, linecolor='white', annot=False, cmap=plt.cm.RdBu)\n",
    "plt.xlabel('document title')\n",
    "plt.ylabel('principal component')"
   ]
  },
  {
   "cell_type": "code",
   "execution_count": null,
   "metadata": {},
   "outputs": [],
   "source": []
  },
  {
   "cell_type": "markdown",
   "metadata": {},
   "source": [
    "***"
   ]
  },
  {
   "cell_type": "markdown",
   "metadata": {},
   "source": [
    "### author field"
   ]
  },
  {
   "cell_type": "code",
   "execution_count": 56,
   "metadata": {},
   "outputs": [
    {
     "data": {
      "text/plain": [
       "0                            [يعقوب بن إسحاق الكندي]\n",
       "1                            [يعقوب بن إسحاق الكندي]\n",
       "2                            [يعقوب بن إسحاق الكندي]\n",
       "3                            [يعقوب بن إسحاق الكندي]\n",
       "4    [صفي الدّين عبد المؤمن أبو يوسف بن فخر الأرموي]\n",
       "Name: author, dtype: object"
      ]
     },
     "execution_count": 56,
     "metadata": {},
     "output_type": "execute_result"
    }
   ],
   "source": [
    "meta_info_df.author.head()"
   ]
  },
  {
   "cell_type": "code",
   "execution_count": 57,
   "metadata": {},
   "outputs": [
    {
     "data": {
      "text/plain": [
       "1    37\n",
       "Name: author, dtype: int64"
      ]
     },
     "execution_count": 57,
     "metadata": {},
     "output_type": "execute_result"
    }
   ],
   "source": [
    "meta_info_df.author.map(len).value_counts()"
   ]
  },
  {
   "cell_type": "code",
   "execution_count": 58,
   "metadata": {},
   "outputs": [],
   "source": [
    "meta_info_df['author'] = meta_info_df.author.map(lambda x: x[0])"
   ]
  },
  {
   "cell_type": "code",
   "execution_count": 59,
   "metadata": {},
   "outputs": [
    {
     "data": {
      "text/plain": [
       "0                            يعقوب بن إسحاق الكندي\n",
       "1                            يعقوب بن إسحاق الكندي\n",
       "2                            يعقوب بن إسحاق الكندي\n",
       "3                            يعقوب بن إسحاق الكندي\n",
       "4    صفي الدّين عبد المؤمن أبو يوسف بن فخر الأرموي\n",
       "Name: author, dtype: object"
      ]
     },
     "execution_count": 59,
     "metadata": {},
     "output_type": "execute_result"
    }
   ],
   "source": [
    "meta_info_df.author.head()"
   ]
  },
  {
   "cell_type": "code",
   "execution_count": 60,
   "metadata": {},
   "outputs": [
    {
     "data": {
      "text/plain": [
       "يعقوب بن إسحاق الكندي                                               4\n",
       "أبو عثمان عمر بن بحر الفُقيمي البصري الجاحظ                         3\n",
       "أبو نصر محمد بن محمد بن طرخان اوزلغ الفارابي                        2\n",
       "عبد القادر بن محمود القادري                                         1\n",
       "أبو بكر محمّد بن يحيى بن صائغ التّجيبي الأندلسي السرقسطي بن باجة    1\n",
       "أبو القاسم عبيد اللّه بن عبد اللّه بن خُرّداذبه                     1\n",
       "أبو الوليد محمّد بن أحمد بن محمّد بن رشد الحفيد                     1\n",
       "أبو عبد اللّه محمّد بن عمر بن سليمان بن عبد اللّه بن الدّرّاج       1\n",
       "شمس الدّين أبو عبد اللّه الذّهبي الصّيداوي الدّمشقي                 1\n",
       "أبو عبد اللّه محمّد بن يوسف السّنوسي                                1\n",
       "أبو طالب بن عاصم الضبي مفضّل بن سلمة                                1\n",
       "صفي الدّين عبد المؤمن أبو يوسف بن فخر الأرموي                       1\n",
       "أبو عبد اللّه محمّد بن أحمد بن يوسف الكاتب الخوارزمي                1\n",
       "مجهول 7                                                             1\n",
       "أبو الحسن بن مروان ثابت بن قرّة                                     1\n",
       "عمر الخيام                                                          1\n",
       "ابراهيم بن محمّد البيهقي                                            1\n",
       "عبد الرحمان بن خلدون                                                1\n",
       "عبد اللّه المصوّر بن حسين المظفّر الحصكفي الموسيقي                  1\n",
       "محمّد بن محمّد بن الصّبّاح الذّهبي                                  1\n",
       "أبو أحمد يحيى بن علي بن يحيى بن المنجم                              1\n",
       "إقليدس                                                              1\n",
       "عبد اللّه بن خليل بن يوسف جمال الدّين القاهري المارديني             1\n",
       "جندوبي )الـ)                                                        1\n",
       "أبو عمر أحمد بن محمّد بن عبد ربّه                                   1\n",
       "محمّد البوعصامي                                                     1\n",
       "مبارك شاه                                                           1\n",
       "بولس (Paul)                                                         1\n",
       "مجهول 13 = سيلكوني (الـ)                                            1\n",
       "محمّد أمين الشرواني                                                 1\n",
       "سعيد بن يوسف الفيّومي (سعديّا)                                      1\n",
       "Name: author, dtype: int64"
      ]
     },
     "execution_count": 60,
     "metadata": {},
     "output_type": "execute_result"
    }
   ],
   "source": [
    "meta_info_df.author.value_counts()"
   ]
  },
  {
   "cell_type": "markdown",
   "metadata": {},
   "source": [
    "### source field"
   ]
  },
  {
   "cell_type": "code",
   "execution_count": 61,
   "metadata": {},
   "outputs": [
    {
     "data": {
      "text/plain": [
       "0                                    [بريطانيا العظمى]\n",
       "1                                    [بريطانيا العظمى]\n",
       "2                             [ألمانيا, تونس, ألمانيا]\n",
       "3                            [ألمانيا, تركيا, ألمانيا]\n",
       "4    [تونس, تونس, نمسا, سعوديّة, مصر, مصر, مصر, مصر...\n",
       "Name: source, dtype: object"
      ]
     },
     "execution_count": 61,
     "metadata": {},
     "output_type": "execute_result"
    }
   ],
   "source": [
    "meta_info_df.source.head()"
   ]
  },
  {
   "cell_type": "code",
   "execution_count": 62,
   "metadata": {},
   "outputs": [
    {
     "data": {
      "text/plain": [
       "[تركيا]                                                                                                    6\n",
       "[ألمانيا]                                                                                                  5\n",
       "[بريطانيا العظمى]                                                                                          3\n",
       "[بريطانيا العظمى, تركيا]                                                                                   3\n",
       "[تونس]                                                                                                     3\n",
       "[مصر, ألمانيا]                                                                                             1\n",
       "[بريطانيا العظمى, هند]                                                                                     1\n",
       "[اسبانيا, تركيا]                                                                                           1\n",
       "[]                                                                                                         1\n",
       "[تركيا, ألمانيا]                                                                                           1\n",
       "[مغرب, اسبانيا]                                                                                            1\n",
       "[اسبانيا]                                                                                                  1\n",
       "[بريطانيا العظمى, تركيا, هولاندا, نمسا, ألمانيا]                                                           1\n",
       "[ألمانيا, تركيا]                                                                                           1\n",
       "[مغرب, سعوديّة, اسبانيا, تونس]                                                                             1\n",
       "[مصر, تركيا, فرنسا]                                                                                        1\n",
       "[تونس, ألمانيا]                                                                                            1\n",
       "[لبنان]                                                                                                    1\n",
       "[بريطانيا العظمى, هولاندا, مصر, ألمانيا]                                                                   1\n",
       "[تونس, سعوديّة, إيرلندا, بريطانيا العظمى, تركيا, نمسا, فرنسا, مصر, ألمانيا, ولايات المتّحدة الأمريكيّة]    1\n",
       "[هولاندا, فرنسا]                                                                                           1\n",
       "[هولاندا]                                                                                                  1\n",
       "Name: source, dtype: int64"
      ]
     },
     "execution_count": 62,
     "metadata": {},
     "output_type": "execute_result"
    }
   ],
   "source": [
    "meta_info_df.source.map(lambda x: list(set(x))).value_counts()"
   ]
  },
  {
   "cell_type": "markdown",
   "metadata": {},
   "source": [
    "****"
   ]
  },
  {
   "cell_type": "markdown",
   "metadata": {},
   "source": [
    "## Save meta data to a file"
   ]
  },
  {
   "cell_type": "code",
   "execution_count": 63,
   "metadata": {},
   "outputs": [
    {
     "data": {
      "text/plain": [
       "Index(['hyperlink', 'filename', 'author', 'title', 'source', 'section_titles',\n",
       "       'keyword_tags', 'title_clean', 'title_arabic', 'title_latin_translit'],\n",
       "      dtype='object')"
      ]
     },
     "execution_count": 63,
     "metadata": {},
     "output_type": "execute_result"
    }
   ],
   "source": [
    "meta_info_df.columns"
   ]
  },
  {
   "cell_type": "code",
   "execution_count": 64,
   "metadata": {},
   "outputs": [],
   "source": [
    "selected_fields = ['hyperlink', 'filename', 'author', 'source', 'title_arabic', 'title_latin_translit','keyword_tags','section_titles']"
   ]
  },
  {
   "cell_type": "code",
   "execution_count": 65,
   "metadata": {},
   "outputs": [
    {
     "data": {
      "text/html": [
       "<div>\n",
       "<style scoped>\n",
       "    .dataframe tbody tr th:only-of-type {\n",
       "        vertical-align: middle;\n",
       "    }\n",
       "\n",
       "    .dataframe tbody tr th {\n",
       "        vertical-align: top;\n",
       "    }\n",
       "\n",
       "    .dataframe thead th {\n",
       "        text-align: right;\n",
       "    }\n",
       "</style>\n",
       "<table border=\"1\" class=\"dataframe\">\n",
       "  <thead>\n",
       "    <tr style=\"text-align: right;\">\n",
       "      <th></th>\n",
       "      <th>hyperlink</th>\n",
       "      <th>filename</th>\n",
       "      <th>author</th>\n",
       "      <th>source</th>\n",
       "      <th>title_arabic</th>\n",
       "      <th>title_latin_translit</th>\n",
       "      <th>keyword_tags</th>\n",
       "      <th>section_titles</th>\n",
       "    </tr>\n",
       "  </thead>\n",
       "  <tbody>\n",
       "    <tr>\n",
       "      <th>0</th>\n",
       "      <td>http://saramusik.org/5/textei/</td>\n",
       "      <td>5.txt</td>\n",
       "      <td>يعقوب بن إسحاق الكندي</td>\n",
       "      <td>[بريطانيا العظمى]</td>\n",
       "      <td>رسالة في خبر صناعة التّأليف</td>\n",
       "      <td>risāla fī ẖabar ṣināʿat al-taʾlīf</td>\n",
       "      <td>[المدرسة الأفلاطونيّة المتجدّدة, الموسيقى والف...</td>\n",
       "      <td>[1 , تبيا, النّغم المتشابه في الكيفيّة, تمثيل ...</td>\n",
       "    </tr>\n",
       "    <tr>\n",
       "      <th>1</th>\n",
       "      <td>http://saramusik.org/6/textei/</td>\n",
       "      <td>6.txt</td>\n",
       "      <td>يعقوب بن إسحاق الكندي</td>\n",
       "      <td>[بريطانيا العظمى]</td>\n",
       "      <td>كتاب المصوّتات الوتريّة من ذات الوتر الواحد إل...</td>\n",
       "      <td>kitāb al-muṣawwiṭāt al-watariyya min ḍāt al-wa...</td>\n",
       "      <td>[المدرسة الأفلاطونيّة المتجدّدة, الموسيقى والف...</td>\n",
       "      <td>[لمقالة الأولى : في ذكر الآلات الصّوتيّة وسائر...</td>\n",
       "    </tr>\n",
       "    <tr>\n",
       "      <th>2</th>\n",
       "      <td>http://saramusik.org/7/textei/</td>\n",
       "      <td>7.txt</td>\n",
       "      <td>يعقوب بن إسحاق الكندي</td>\n",
       "      <td>[ألمانيا, تونس, ألمانيا]</td>\n",
       "      <td>رسالة في أجزاء خبريّة في الموسيقى</td>\n",
       "      <td>risāla fī aǧzāʾ ẖabariyya fī al-mūsīqā</td>\n",
       "      <td>[المدرسة الأفلاطونيّة المتجدّدة]</td>\n",
       "      <td>[مقدّمة, لمقالة الأول, لمقالة الثّاني, لمقالة ...</td>\n",
       "    </tr>\n",
       "    <tr>\n",
       "      <th>3</th>\n",
       "      <td>http://saramusik.org/9/textei/</td>\n",
       "      <td>9.txt</td>\n",
       "      <td>يعقوب بن إسحاق الكندي</td>\n",
       "      <td>[ألمانيا, تركيا, ألمانيا]</td>\n",
       "      <td>رسالة الكندي في اللّحون والنّغم</td>\n",
       "      <td>Risālat al-kindī fī al-luhūn wa al-naġam</td>\n",
       "      <td>[المدرسة الأفلاطونيّة المتجدّدة]</td>\n",
       "      <td>[مقدّمة, لفنّ الأوّل : [في تركيب العود وقسمة ا...</td>\n",
       "    </tr>\n",
       "    <tr>\n",
       "      <th>4</th>\n",
       "      <td>http://saramusik.org/10/textei/</td>\n",
       "      <td>10.txt</td>\n",
       "      <td>صفي الدّين عبد المؤمن أبو يوسف بن فخر الأرموي</td>\n",
       "      <td>[تونس, تونس, نمسا, سعوديّة, مصر, مصر, مصر, مصر...</td>\n",
       "      <td>كتاب الأدوار</td>\n",
       "      <td>Kitāb al-Adwār</td>\n",
       "      <td>[المدرسة الأرمويّة, نظريّات موسيقيّة]</td>\n",
       "      <td>[مقدّمة, ِي تَعْرِيفِ النَّغَمِ وَبَيَانِ الحِ...</td>\n",
       "    </tr>\n",
       "  </tbody>\n",
       "</table>\n",
       "</div>"
      ],
      "text/plain": [
       "                         hyperlink filename  \\\n",
       "0   http://saramusik.org/5/textei/    5.txt   \n",
       "1   http://saramusik.org/6/textei/    6.txt   \n",
       "2   http://saramusik.org/7/textei/    7.txt   \n",
       "3   http://saramusik.org/9/textei/    9.txt   \n",
       "4  http://saramusik.org/10/textei/   10.txt   \n",
       "\n",
       "                                          author  \\\n",
       "0                          يعقوب بن إسحاق الكندي   \n",
       "1                          يعقوب بن إسحاق الكندي   \n",
       "2                          يعقوب بن إسحاق الكندي   \n",
       "3                          يعقوب بن إسحاق الكندي   \n",
       "4  صفي الدّين عبد المؤمن أبو يوسف بن فخر الأرموي   \n",
       "\n",
       "                                              source  \\\n",
       "0                                  [بريطانيا العظمى]   \n",
       "1                                  [بريطانيا العظمى]   \n",
       "2                           [ألمانيا, تونس, ألمانيا]   \n",
       "3                          [ألمانيا, تركيا, ألمانيا]   \n",
       "4  [تونس, تونس, نمسا, سعوديّة, مصر, مصر, مصر, مصر...   \n",
       "\n",
       "                                        title_arabic  \\\n",
       "0                        رسالة في خبر صناعة التّأليف   \n",
       "1  كتاب المصوّتات الوتريّة من ذات الوتر الواحد إل...   \n",
       "2                  رسالة في أجزاء خبريّة في الموسيقى   \n",
       "3                    رسالة الكندي في اللّحون والنّغم   \n",
       "4                                       كتاب الأدوار   \n",
       "\n",
       "                                title_latin_translit  \\\n",
       "0                  risāla fī ẖabar ṣināʿat al-taʾlīf   \n",
       "1  kitāb al-muṣawwiṭāt al-watariyya min ḍāt al-wa...   \n",
       "2             risāla fī aǧzāʾ ẖabariyya fī al-mūsīqā   \n",
       "3           Risālat al-kindī fī al-luhūn wa al-naġam   \n",
       "4                                     Kitāb al-Adwār   \n",
       "\n",
       "                                        keyword_tags  \\\n",
       "0  [المدرسة الأفلاطونيّة المتجدّدة, الموسيقى والف...   \n",
       "1  [المدرسة الأفلاطونيّة المتجدّدة, الموسيقى والف...   \n",
       "2                   [المدرسة الأفلاطونيّة المتجدّدة]   \n",
       "3                   [المدرسة الأفلاطونيّة المتجدّدة]   \n",
       "4              [المدرسة الأرمويّة, نظريّات موسيقيّة]   \n",
       "\n",
       "                                      section_titles  \n",
       "0  [1 , تبيا, النّغم المتشابه في الكيفيّة, تمثيل ...  \n",
       "1  [لمقالة الأولى : في ذكر الآلات الصّوتيّة وسائر...  \n",
       "2  [مقدّمة, لمقالة الأول, لمقالة الثّاني, لمقالة ...  \n",
       "3  [مقدّمة, لفنّ الأوّل : [في تركيب العود وقسمة ا...  \n",
       "4  [مقدّمة, ِي تَعْرِيفِ النَّغَمِ وَبَيَانِ الحِ...  "
      ]
     },
     "execution_count": 65,
     "metadata": {},
     "output_type": "execute_result"
    }
   ],
   "source": [
    "meta_info_df[selected_fields].head()"
   ]
  },
  {
   "cell_type": "code",
   "execution_count": 66,
   "metadata": {},
   "outputs": [],
   "source": [
    "import pickle\n",
    "with open('../pickle_files/meta_data.pickle', 'wb') as f:\n",
    "    pickle.dump(meta_info_df[selected_fields], f)"
   ]
  },
  {
   "cell_type": "code",
   "execution_count": null,
   "metadata": {},
   "outputs": [],
   "source": []
  }
 ],
 "metadata": {
  "kernelspec": {
   "display_name": "Python 3",
   "language": "python",
   "name": "python3"
  },
  "language_info": {
   "codemirror_mode": {
    "name": "ipython",
    "version": 3
   },
   "file_extension": ".py",
   "mimetype": "text/x-python",
   "name": "python",
   "nbconvert_exporter": "python",
   "pygments_lexer": "ipython3",
   "version": "3.7.3"
  },
  "toc": {
   "base_numbering": 1,
   "nav_menu": {},
   "number_sections": true,
   "sideBar": true,
   "skip_h1_title": false,
   "title_cell": "Table of Contents",
   "title_sidebar": "Contents",
   "toc_cell": false,
   "toc_position": {},
   "toc_section_display": true,
   "toc_window_display": true
  }
 },
 "nbformat": 4,
 "nbformat_minor": 2
}
