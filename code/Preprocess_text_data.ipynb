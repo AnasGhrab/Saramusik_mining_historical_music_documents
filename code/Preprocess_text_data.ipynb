{
 "cells": [
  {
   "cell_type": "code",
   "execution_count": 1,
   "metadata": {},
   "outputs": [],
   "source": [
    "import pandas as pd\n",
    "from matplotlib import pyplot as plt"
   ]
  },
  {
   "cell_type": "code",
   "execution_count": 2,
   "metadata": {},
   "outputs": [],
   "source": [
    "import re\n",
    "from collections import Counter"
   ]
  },
  {
   "cell_type": "markdown",
   "metadata": {},
   "source": [
    "## Read Corpus"
   ]
  },
  {
   "cell_type": "code",
   "execution_count": 3,
   "metadata": {},
   "outputs": [],
   "source": [
    "import pickle"
   ]
  },
  {
   "cell_type": "code",
   "execution_count": 4,
   "metadata": {},
   "outputs": [
    {
     "data": {
      "text/plain": [
       "(pandas.core.frame.DataFrame, (39, 9))"
      ]
     },
     "execution_count": 4,
     "metadata": {},
     "output_type": "execute_result"
    }
   ],
   "source": [
    "with open('../pickle_files/doc_parsed_data.pickle', 'rb') as f:\n",
    "    doc_data_df = pickle.load(f)\n",
    "type(doc_data_df),doc_data_df.shape"
   ]
  },
  {
   "cell_type": "code",
   "execution_count": 5,
   "metadata": {
    "scrolled": false
   },
   "outputs": [
    {
     "data": {
      "text/html": [
       "<div>\n",
       "<style scoped>\n",
       "    .dataframe tbody tr th:only-of-type {\n",
       "        vertical-align: middle;\n",
       "    }\n",
       "\n",
       "    .dataframe tbody tr th {\n",
       "        vertical-align: top;\n",
       "    }\n",
       "\n",
       "    .dataframe thead th {\n",
       "        text-align: right;\n",
       "    }\n",
       "</style>\n",
       "<table border=\"1\" class=\"dataframe\">\n",
       "  <thead>\n",
       "    <tr style=\"text-align: right;\">\n",
       "      <th></th>\n",
       "      <th>hyperlink</th>\n",
       "      <th>filename</th>\n",
       "      <th>author</th>\n",
       "      <th>source</th>\n",
       "      <th>title_arabic</th>\n",
       "      <th>title_latin_translit</th>\n",
       "      <th>tags</th>\n",
       "      <th>section_titles</th>\n",
       "      <th>raw_text</th>\n",
       "    </tr>\n",
       "  </thead>\n",
       "  <tbody>\n",
       "    <tr>\n",
       "      <th>0</th>\n",
       "      <td>http://saramusik.org/5/textei/</td>\n",
       "      <td>5.txt</td>\n",
       "      <td>يعقوب بن إسحاق الكندي</td>\n",
       "      <td>[بريطانيا العظمى]</td>\n",
       "      <td>رسالة في خبر صناعة التّأليف</td>\n",
       "      <td>risāla fī ẖabar ṣināʿat al-taʾlīf</td>\n",
       "      <td>[الموسيقى والفلسفة, المدرسة الأفلاطونيّة المتج...</td>\n",
       "      <td>[1 , تبيا, النّغم المتشابه في الكيفيّة, تمثيل ...</td>\n",
       "      <td>[بالاعتماد على تحقيق يوسف شوقي.]\\n[الرّسالة من...</td>\n",
       "    </tr>\n",
       "    <tr>\n",
       "      <th>1</th>\n",
       "      <td>http://saramusik.org/6/textei/</td>\n",
       "      <td>6.txt</td>\n",
       "      <td>يعقوب بن إسحاق الكندي</td>\n",
       "      <td>[بريطانيا العظمى]</td>\n",
       "      <td>كتاب المصوّتات الوتريّة من ذات الوتر الواحد إل...</td>\n",
       "      <td>kitāb al-muṣawwiṭāt al-watariyya min ḍāt al-wa...</td>\n",
       "      <td>[الموسيقى والفلسفة, المدرسة الأفلاطونيّة المتج...</td>\n",
       "      <td>[لمقالة الأولى : في ذكر الآلات الصّوتيّة وسائر...</td>\n",
       "      <td>[اعتمادا على تحقيق زكريّا يوسف]\\n\\nأَطَالَ الَ...</td>\n",
       "    </tr>\n",
       "    <tr>\n",
       "      <th>2</th>\n",
       "      <td>http://saramusik.org/7/textei/</td>\n",
       "      <td>7.txt</td>\n",
       "      <td>يعقوب بن إسحاق الكندي</td>\n",
       "      <td>[ألمانيا, تونس, ألمانيا]</td>\n",
       "      <td>رسالة في أجزاء خبريّة في الموسيقى</td>\n",
       "      <td>risāla fī aǧzāʾ ẖabariyya fī al-mūsīqā</td>\n",
       "      <td>[المدرسة الأفلاطونيّة المتجدّدة]</td>\n",
       "      <td>[مقدّمة, لمقالة الأول, لمقالة الثّاني, لمقالة ...</td>\n",
       "      <td>أنار إليه من خفيّات الأمور بموضحات الرّسوم أفض...</td>\n",
       "    </tr>\n",
       "    <tr>\n",
       "      <th>3</th>\n",
       "      <td>http://saramusik.org/9/textei/</td>\n",
       "      <td>9.txt</td>\n",
       "      <td>يعقوب بن إسحاق الكندي</td>\n",
       "      <td>[ألمانيا, تركيا, ألمانيا]</td>\n",
       "      <td>رسالة الكندي في اللّحون والنّغم</td>\n",
       "      <td>Risālat al-kindī fī al-luhūn wa al-naġam</td>\n",
       "      <td>[المدرسة الأفلاطونيّة المتجدّدة]</td>\n",
       "      <td>[مقدّمة, لفنّ الأوّل : [في تركيب العود وقسمة ا...</td>\n",
       "      <td>بِسْمِ اللَّهِ الرَّحْمَانِ الرَّحِيمِ\\nوَمَا ...</td>\n",
       "    </tr>\n",
       "    <tr>\n",
       "      <th>4</th>\n",
       "      <td>http://saramusik.org/10/textei/</td>\n",
       "      <td>10.txt</td>\n",
       "      <td>صفي الدّين عبد المؤمن أبو يوسف بن فخر الأرموي</td>\n",
       "      <td>[تونس, تونس, نمسا, سعوديّة, مصر, مصر, مصر, مصر...</td>\n",
       "      <td>كتاب الأدوار</td>\n",
       "      <td>Kitāb al-Adwār</td>\n",
       "      <td>[نظريّات موسيقيّة, المدرسة الأرمويّة]</td>\n",
       "      <td>[مقدّمة, ِي تَعْرِيفِ النَّغَمِ وَبَيَانِ الحِ...</td>\n",
       "      <td>الدَّسَاتِينُ هِيَ عَلَامَاتٌ تُوضَعُ عَلَى سَ...</td>\n",
       "    </tr>\n",
       "  </tbody>\n",
       "</table>\n",
       "</div>"
      ],
      "text/plain": [
       "                         hyperlink filename  \\\n",
       "0   http://saramusik.org/5/textei/    5.txt   \n",
       "1   http://saramusik.org/6/textei/    6.txt   \n",
       "2   http://saramusik.org/7/textei/    7.txt   \n",
       "3   http://saramusik.org/9/textei/    9.txt   \n",
       "4  http://saramusik.org/10/textei/   10.txt   \n",
       "\n",
       "                                          author  \\\n",
       "0                          يعقوب بن إسحاق الكندي   \n",
       "1                          يعقوب بن إسحاق الكندي   \n",
       "2                          يعقوب بن إسحاق الكندي   \n",
       "3                          يعقوب بن إسحاق الكندي   \n",
       "4  صفي الدّين عبد المؤمن أبو يوسف بن فخر الأرموي   \n",
       "\n",
       "                                              source  \\\n",
       "0                                  [بريطانيا العظمى]   \n",
       "1                                  [بريطانيا العظمى]   \n",
       "2                           [ألمانيا, تونس, ألمانيا]   \n",
       "3                          [ألمانيا, تركيا, ألمانيا]   \n",
       "4  [تونس, تونس, نمسا, سعوديّة, مصر, مصر, مصر, مصر...   \n",
       "\n",
       "                                        title_arabic  \\\n",
       "0                        رسالة في خبر صناعة التّأليف   \n",
       "1  كتاب المصوّتات الوتريّة من ذات الوتر الواحد إل...   \n",
       "2                  رسالة في أجزاء خبريّة في الموسيقى   \n",
       "3                    رسالة الكندي في اللّحون والنّغم   \n",
       "4                                       كتاب الأدوار   \n",
       "\n",
       "                                title_latin_translit  \\\n",
       "0                  risāla fī ẖabar ṣināʿat al-taʾlīf   \n",
       "1  kitāb al-muṣawwiṭāt al-watariyya min ḍāt al-wa...   \n",
       "2             risāla fī aǧzāʾ ẖabariyya fī al-mūsīqā   \n",
       "3           Risālat al-kindī fī al-luhūn wa al-naġam   \n",
       "4                                     Kitāb al-Adwār   \n",
       "\n",
       "                                                tags  \\\n",
       "0  [الموسيقى والفلسفة, المدرسة الأفلاطونيّة المتج...   \n",
       "1  [الموسيقى والفلسفة, المدرسة الأفلاطونيّة المتج...   \n",
       "2                   [المدرسة الأفلاطونيّة المتجدّدة]   \n",
       "3                   [المدرسة الأفلاطونيّة المتجدّدة]   \n",
       "4              [نظريّات موسيقيّة, المدرسة الأرمويّة]   \n",
       "\n",
       "                                      section_titles  \\\n",
       "0  [1 , تبيا, النّغم المتشابه في الكيفيّة, تمثيل ...   \n",
       "1  [لمقالة الأولى : في ذكر الآلات الصّوتيّة وسائر...   \n",
       "2  [مقدّمة, لمقالة الأول, لمقالة الثّاني, لمقالة ...   \n",
       "3  [مقدّمة, لفنّ الأوّل : [في تركيب العود وقسمة ا...   \n",
       "4  [مقدّمة, ِي تَعْرِيفِ النَّغَمِ وَبَيَانِ الحِ...   \n",
       "\n",
       "                                            raw_text  \n",
       "0  [بالاعتماد على تحقيق يوسف شوقي.]\\n[الرّسالة من...  \n",
       "1  [اعتمادا على تحقيق زكريّا يوسف]\\n\\nأَطَالَ الَ...  \n",
       "2  أنار إليه من خفيّات الأمور بموضحات الرّسوم أفض...  \n",
       "3  بِسْمِ اللَّهِ الرَّحْمَانِ الرَّحِيمِ\\nوَمَا ...  \n",
       "4  الدَّسَاتِينُ هِيَ عَلَامَاتٌ تُوضَعُ عَلَى سَ...  "
      ]
     },
     "execution_count": 5,
     "metadata": {},
     "output_type": "execute_result"
    }
   ],
   "source": [
    "doc_data_df.head()"
   ]
  },
  {
   "cell_type": "markdown",
   "metadata": {},
   "source": [
    "****"
   ]
  },
  {
   "cell_type": "markdown",
   "metadata": {},
   "source": [
    "## Exploratory data analysis\n",
    "\n",
    "Stopped here 2/26/2020"
   ]
  },
  {
   "cell_type": "code",
   "execution_count": 8,
   "metadata": {},
   "outputs": [],
   "source": [
    "from nltk import FreqDist\n",
    "\n",
    "def analyze_corpus_charset(corpus):\n",
    "    fdist = FreqDist([c for doc in corpus for c in doc])\n",
    "\n",
    "    corpus_chars_df = pd.DataFrame(fdist.items())\n",
    "    corpus_chars_df.columns = ['character','frequency']\n",
    "    corpus_chars_df['unicode_dec']= corpus_chars_df.character.map(ord)\n",
    "    corpus_chars_df['unicode_hex']= corpus_chars_df.character.map(lambda x: hex(ord(x)))\n",
    "    corpus_chars_df = corpus_chars_df.set_index('character')\n",
    "\n",
    "    idx1 = corpus_chars_df.unicode_hex.str.startswith('0x6') & (corpus_chars_df.unicode_hex.map(len)==5)\n",
    "    idx2 = (corpus_chars_df.unicode_hex.str.startswith('0xfb') | corpus_chars_df.unicode_hex.str.startswith('0xfc') | corpus_chars_df.unicode_hex.str.startswith('0xfd') | corpus_chars_df.unicode_hex.str.startswith('0xfe')) & (corpus_chars_df.unicode_hex.map(len)==6)\n",
    "\n",
    "    print(\"number of characters:\" + str(fdist.N()))\n",
    "    print(\"number of unique characters:\" + str(fdist.B()))\n",
    "    print(\"Number of characters from the Standard Arabic character set: %d\" %idx1.sum())\n",
    "    print(\"Number of characters from the Extended Arabic character set: %d\" %idx2.sum())\n",
    "\n",
    "    print('List of distinct characters:')\n",
    "    print(sorted(list(fdist.keys())))\n",
    "\n",
    "    print('The 20 most common characters:')\n",
    "    print(fdist.most_common(20))\n",
    "\n",
    "    print('The 20 least common characters:')\n",
    "    print(fdist.most_common()[-20:])\n",
    "\n",
    "    fdist.plot(20, cumulative=True)\n",
    "\n",
    "    return (fdist,corpus_chars_df)"
   ]
  },
  {
   "cell_type": "code",
   "execution_count": 10,
   "metadata": {},
   "outputs": [
    {
     "name": "stdout",
     "output_type": "stream",
     "text": [
      "number of characters:542130\n",
      "number of unique characters:128\n",
      "Number of characters from the Standard Arabic character set: 69\n",
      "Number of characters from the Extended Arabic character set: 0\n",
      "List of distinct characters:\n",
      "['\\t', '\\n', ' ', '!', '\"', '(', ')', '*', '+', '-', '.', '/', '0', '1', '2', '3', '4', '5', '6', '7', '8', '9', ':', '>', 'N', '[', ']', 'e', 'n', 'o', '{', '}', '~', '\\xa0', '¦', '«', '»', 'έ', 'γ', 'ν', 'ο', 'ς', 'ג', 'ד', 'ה', 'ז', 'ח', 'כ', 'ן', '،', '؛', '؟', 'ء', 'آ', 'أ', 'ؤ', 'إ', 'ئ', 'ا', 'ب', 'ة', 'ت', 'ث', 'ج', 'ح', 'خ', 'د', 'ذ', 'ر', 'ز', 'س', 'ش', 'ص', 'ض', 'ط', 'ظ', 'ع', 'غ', 'ـ', 'ف', 'ق', 'ك', 'ل', 'م', 'ن', 'ه', 'و', 'ى', 'ي', 'ً', 'ٌ', 'ٍ', 'َ', 'ُ', 'ِ', 'ّ', 'ْ', 'ٓ', 'ٔ', 'ٕ', '٠', '١', '٢', '٣', '٤', '٥', '٦', '٧', '٨', '٩', '٬', '٭', 'ٱ', 'ە', '۟', '۴', '۵', '۶', '\\u200f', '‘', '’', '“', '”', '…', '\\u2028', '\\u202c', '\\u202e', '❊']\n",
      "The 20 most common characters:\n",
      "[(' ', 82207), ('ا', 49313), ('ل', 41807), ('َ', 31558), ('ي', 22936), ('و', 22492), ('ن', 22113), ('م', 21927), ('ِ', 15484), ('ر', 14677), ('ه', 14295), ('ب', 13448), ('ّ', 12773), ('ت', 12313), ('ع', 12075), ('ف', 10736), ('ْ', 10567), ('د', 8590), ('أ', 8497), ('ُ', 8448)]\n",
      "The 20 least common characters:\n",
      "[('‘', 3), ('ە', 2), ('ד', 2), ('>', 2), ('γ', 1), ('έ', 1), ('ν', 1), ('ο', 1), ('ς', 1), ('٭', 1), ('כ', 1), ('ג', 1), ('ה', 1), ('ן', 1), ('ז', 1), ('ח', 1), ('۟', 1), ('\\u202e', 1), ('\\u202c', 1), ('٬', 1)]\n"
     ]
    },
    {
     "data": {
      "image/png": "[encoded data removed]",
      "text/plain": [
       "<Figure size 432x288 with 1 Axes>"
      ]
     },
     "metadata": {
      "needs_background": "light"
     },
     "output_type": "display_data"
    }
   ],
   "source": [
    "raw_corpus_chars_fdist,raw_corpus_chars_df = analyze_corpus_charset(doc_data_df.raw_text)"
   ]
  },
  {
   "cell_type": "code",
   "execution_count": 11,
   "metadata": {},
   "outputs": [
    {
     "data": {
      "text/html": [
       "<div>\n",
       "<style scoped>\n",
       "    .dataframe tbody tr th:only-of-type {\n",
       "        vertical-align: middle;\n",
       "    }\n",
       "\n",
       "    .dataframe tbody tr th {\n",
       "        vertical-align: top;\n",
       "    }\n",
       "\n",
       "    .dataframe thead th {\n",
       "        text-align: right;\n",
       "    }\n",
       "</style>\n",
       "<table border=\"1\" class=\"dataframe\">\n",
       "  <thead>\n",
       "    <tr style=\"text-align: right;\">\n",
       "      <th></th>\n",
       "      <th>frequency</th>\n",
       "      <th>unicode_dec</th>\n",
       "      <th>unicode_hex</th>\n",
       "    </tr>\n",
       "    <tr>\n",
       "      <th>character</th>\n",
       "      <th></th>\n",
       "      <th></th>\n",
       "      <th></th>\n",
       "    </tr>\n",
       "  </thead>\n",
       "  <tbody>\n",
       "    <tr>\n",
       "      <th>[</th>\n",
       "      <td>580</td>\n",
       "      <td>91</td>\n",
       "      <td>0x5b</td>\n",
       "    </tr>\n",
       "    <tr>\n",
       "      <th>ب</th>\n",
       "      <td>13448</td>\n",
       "      <td>1576</td>\n",
       "      <td>0x628</td>\n",
       "    </tr>\n",
       "    <tr>\n",
       "      <th>ا</th>\n",
       "      <td>49313</td>\n",
       "      <td>1575</td>\n",
       "      <td>0x627</td>\n",
       "    </tr>\n",
       "    <tr>\n",
       "      <th>ل</th>\n",
       "      <td>41807</td>\n",
       "      <td>1604</td>\n",
       "      <td>0x644</td>\n",
       "    </tr>\n",
       "    <tr>\n",
       "      <th>ع</th>\n",
       "      <td>12075</td>\n",
       "      <td>1593</td>\n",
       "      <td>0x639</td>\n",
       "    </tr>\n",
       "  </tbody>\n",
       "</table>\n",
       "</div>"
      ],
      "text/plain": [
       "           frequency  unicode_dec unicode_hex\n",
       "character                                    \n",
       "[                580           91        0x5b\n",
       "ب              13448         1576       0x628\n",
       "ا              49313         1575       0x627\n",
       "ل              41807         1604       0x644\n",
       "ع              12075         1593       0x639"
      ]
     },
     "execution_count": 11,
     "metadata": {},
     "output_type": "execute_result"
    }
   ],
   "source": [
    "raw_corpus_chars_df.head()"
   ]
  },
  {
   "cell_type": "code",
   "execution_count": 32,
   "metadata": {},
   "outputs": [
    {
     "data": {
      "text/plain": [
       "23"
      ]
     },
     "execution_count": 32,
     "metadata": {},
     "output_type": "execute_result"
    }
   ],
   "source": [
    "idx=raw_corpus_chars_df.unicode_hex.str.startswith('0x64')|raw_corpus_chars_df.unicode_hex.str.startswith('0x65')\n",
    "idx.sum()"
   ]
  },
  {
   "cell_type": "code",
   "execution_count": 34,
   "metadata": {},
   "outputs": [
    {
     "data": {
      "text/html": [
       "<div>\n",
       "<style scoped>\n",
       "    .dataframe tbody tr th:only-of-type {\n",
       "        vertical-align: middle;\n",
       "    }\n",
       "\n",
       "    .dataframe tbody tr th {\n",
       "        vertical-align: top;\n",
       "    }\n",
       "\n",
       "    .dataframe thead th {\n",
       "        text-align: right;\n",
       "    }\n",
       "</style>\n",
       "<table border=\"1\" class=\"dataframe\">\n",
       "  <thead>\n",
       "    <tr style=\"text-align: right;\">\n",
       "      <th></th>\n",
       "      <th>frequency</th>\n",
       "      <th>unicode_dec</th>\n",
       "      <th>unicode_hex</th>\n",
       "    </tr>\n",
       "    <tr>\n",
       "      <th>character</th>\n",
       "      <th></th>\n",
       "      <th></th>\n",
       "      <th></th>\n",
       "    </tr>\n",
       "  </thead>\n",
       "  <tbody>\n",
       "    <tr>\n",
       "      <th>ـ</th>\n",
       "      <td>2803</td>\n",
       "      <td>1600</td>\n",
       "      <td>0x640</td>\n",
       "    </tr>\n",
       "    <tr>\n",
       "      <th>ف</th>\n",
       "      <td>10736</td>\n",
       "      <td>1601</td>\n",
       "      <td>0x641</td>\n",
       "    </tr>\n",
       "    <tr>\n",
       "      <th>ق</th>\n",
       "      <td>8138</td>\n",
       "      <td>1602</td>\n",
       "      <td>0x642</td>\n",
       "    </tr>\n",
       "    <tr>\n",
       "      <th>ك</th>\n",
       "      <td>8144</td>\n",
       "      <td>1603</td>\n",
       "      <td>0x643</td>\n",
       "    </tr>\n",
       "    <tr>\n",
       "      <th>ل</th>\n",
       "      <td>41807</td>\n",
       "      <td>1604</td>\n",
       "      <td>0x644</td>\n",
       "    </tr>\n",
       "    <tr>\n",
       "      <th>م</th>\n",
       "      <td>21927</td>\n",
       "      <td>1605</td>\n",
       "      <td>0x645</td>\n",
       "    </tr>\n",
       "    <tr>\n",
       "      <th>ن</th>\n",
       "      <td>22113</td>\n",
       "      <td>1606</td>\n",
       "      <td>0x646</td>\n",
       "    </tr>\n",
       "    <tr>\n",
       "      <th>ه</th>\n",
       "      <td>14295</td>\n",
       "      <td>1607</td>\n",
       "      <td>0x647</td>\n",
       "    </tr>\n",
       "    <tr>\n",
       "      <th>و</th>\n",
       "      <td>22492</td>\n",
       "      <td>1608</td>\n",
       "      <td>0x648</td>\n",
       "    </tr>\n",
       "    <tr>\n",
       "      <th>ى</th>\n",
       "      <td>3565</td>\n",
       "      <td>1609</td>\n",
       "      <td>0x649</td>\n",
       "    </tr>\n",
       "    <tr>\n",
       "      <th>ي</th>\n",
       "      <td>22936</td>\n",
       "      <td>1610</td>\n",
       "      <td>0x64a</td>\n",
       "    </tr>\n",
       "    <tr>\n",
       "      <th>ً</th>\n",
       "      <td>932</td>\n",
       "      <td>1611</td>\n",
       "      <td>0x64b</td>\n",
       "    </tr>\n",
       "    <tr>\n",
       "      <th>ٌ</th>\n",
       "      <td>1113</td>\n",
       "      <td>1612</td>\n",
       "      <td>0x64c</td>\n",
       "    </tr>\n",
       "    <tr>\n",
       "      <th>ٍ</th>\n",
       "      <td>889</td>\n",
       "      <td>1613</td>\n",
       "      <td>0x64d</td>\n",
       "    </tr>\n",
       "    <tr>\n",
       "      <th>َ</th>\n",
       "      <td>31558</td>\n",
       "      <td>1614</td>\n",
       "      <td>0x64e</td>\n",
       "    </tr>\n",
       "    <tr>\n",
       "      <th>ُ</th>\n",
       "      <td>8448</td>\n",
       "      <td>1615</td>\n",
       "      <td>0x64f</td>\n",
       "    </tr>\n",
       "    <tr>\n",
       "      <th>e</th>\n",
       "      <td>17</td>\n",
       "      <td>101</td>\n",
       "      <td>0x65</td>\n",
       "    </tr>\n",
       "    <tr>\n",
       "      <th>ِ</th>\n",
       "      <td>15484</td>\n",
       "      <td>1616</td>\n",
       "      <td>0x650</td>\n",
       "    </tr>\n",
       "    <tr>\n",
       "      <th>ّ</th>\n",
       "      <td>12773</td>\n",
       "      <td>1617</td>\n",
       "      <td>0x651</td>\n",
       "    </tr>\n",
       "    <tr>\n",
       "      <th>ْ</th>\n",
       "      <td>10567</td>\n",
       "      <td>1618</td>\n",
       "      <td>0x652</td>\n",
       "    </tr>\n",
       "    <tr>\n",
       "      <th>ٓ</th>\n",
       "      <td>6</td>\n",
       "      <td>1619</td>\n",
       "      <td>0x653</td>\n",
       "    </tr>\n",
       "    <tr>\n",
       "      <th>ٔ</th>\n",
       "      <td>101</td>\n",
       "      <td>1620</td>\n",
       "      <td>0x654</td>\n",
       "    </tr>\n",
       "    <tr>\n",
       "      <th>ٕ</th>\n",
       "      <td>65</td>\n",
       "      <td>1621</td>\n",
       "      <td>0x655</td>\n",
       "    </tr>\n",
       "  </tbody>\n",
       "</table>\n",
       "</div>"
      ],
      "text/plain": [
       "           frequency  unicode_dec unicode_hex\n",
       "character                                    \n",
       "ـ               2803         1600       0x640\n",
       "ف              10736         1601       0x641\n",
       "ق               8138         1602       0x642\n",
       "ك               8144         1603       0x643\n",
       "ل              41807         1604       0x644\n",
       "م              21927         1605       0x645\n",
       "ن              22113         1606       0x646\n",
       "ه              14295         1607       0x647\n",
       "و              22492         1608       0x648\n",
       "ى               3565         1609       0x649\n",
       "ي              22936         1610       0x64a\n",
       "ً                932         1611       0x64b\n",
       "ٌ               1113         1612       0x64c\n",
       "ٍ                889         1613       0x64d\n",
       "َ              31558         1614       0x64e\n",
       "ُ               8448         1615       0x64f\n",
       "e                 17          101        0x65\n",
       "ِ              15484         1616       0x650\n",
       "ّ              12773         1617       0x651\n",
       "ْ              10567         1618       0x652\n",
       "ٓ                  6         1619       0x653\n",
       "ٔ                101         1620       0x654\n",
       "ٕ                 65         1621       0x655"
      ]
     },
     "execution_count": 34,
     "metadata": {},
     "output_type": "execute_result"
    }
   ],
   "source": [
    "raw_corpus_chars_df[idx].sort_values(by='unicode_hex')"
   ]
  },
  {
   "cell_type": "markdown",
   "metadata": {},
   "source": [
    "### Analyze rare and non-rare characters"
   ]
  },
  {
   "cell_type": "code",
   "execution_count": 13,
   "metadata": {},
   "outputs": [
    {
     "data": {
      "text/plain": [
       "count      128.000000\n",
       "mean      4235.390625\n",
       "std      10441.276488\n",
       "min          1.000000\n",
       "25%         17.000000\n",
       "50%         94.500000\n",
       "75%       3374.500000\n",
       "max      82207.000000\n",
       "Name: frequency, dtype: float64"
      ]
     },
     "execution_count": 13,
     "metadata": {},
     "output_type": "execute_result"
    }
   ],
   "source": [
    "raw_corpus_chars_df.frequency.describe()"
   ]
  },
  {
   "cell_type": "code",
   "execution_count": 12,
   "metadata": {},
   "outputs": [
    {
     "data": {
      "text/plain": [
       "<matplotlib.axes._subplots.AxesSubplot at 0x1991936d898>"
      ]
     },
     "execution_count": 12,
     "metadata": {},
     "output_type": "execute_result"
    },
    {
     "data": {
      "image/png": "[encoded data removed]",
      "text/plain": [
       "<Figure size 432x288 with 1 Axes>"
      ]
     },
     "metadata": {
      "needs_background": "light"
     },
     "output_type": "display_data"
    }
   ],
   "source": [
    "raw_corpus_chars_df.frequency.plot.hist()"
   ]
  },
  {
   "cell_type": "code",
   "execution_count": 17,
   "metadata": {},
   "outputs": [
    {
     "data": {
      "image/png": "[encoded data removed]",
      "text/plain": [
       "<Figure size 432x288 with 1 Axes>"
      ]
     },
     "metadata": {
      "needs_background": "light"
     },
     "output_type": "display_data"
    },
    {
     "data": {
      "text/plain": [
       "<matplotlib.axes._subplots.AxesSubplot at 0x19918f7f048>"
      ]
     },
     "execution_count": 17,
     "metadata": {},
     "output_type": "execute_result"
    },
    {
     "data": {
      "image/png": "[encoded data removed]",
      "text/plain": [
       "<Figure size 432x288 with 1 Axes>"
      ]
     },
     "metadata": {
      "needs_background": "light"
     },
     "output_type": "display_data"
    }
   ],
   "source": [
    "idx = raw_corpus_chars_df.frequency<=5000\n",
    "raw_corpus_chars_df.loc[idx,'frequency'].plot.hist()\n",
    "plt.show()\n",
    "raw_corpus_chars_df.loc[idx,'frequency'].plot.box()"
   ]
  },
  {
   "cell_type": "code",
   "execution_count": 24,
   "metadata": {},
   "outputs": [
    {
     "name": "stdout",
     "output_type": "stream",
     "text": [
      "70 58\n"
     ]
    },
    {
     "data": {
      "image/png": "[encoded data removed]",
      "text/plain": [
       "<Figure size 432x288 with 1 Axes>"
      ]
     },
     "metadata": {
      "needs_background": "light"
     },
     "output_type": "display_data"
    },
    {
     "data": {
      "text/plain": [
       "<matplotlib.axes._subplots.AxesSubplot at 0x19918e862b0>"
      ]
     },
     "execution_count": 24,
     "metadata": {},
     "output_type": "execute_result"
    },
    {
     "data": {
      "image/png": "[encoded data removed]",
      "text/plain": [
       "<Figure size 432x288 with 1 Axes>"
      ]
     },
     "metadata": {
      "needs_background": "light"
     },
     "output_type": "display_data"
    }
   ],
   "source": [
    "idx = raw_corpus_chars_df.frequency<=300\n",
    "print(idx.sum(),(~idx).sum())\n",
    "\n",
    "raw_corpus_chars_df.loc[idx,'frequency'].plot.hist()\n",
    "plt.show()\n",
    "raw_corpus_chars_df.loc[idx,'frequency'].plot.box()"
   ]
  },
  {
   "cell_type": "code",
   "execution_count": 37,
   "metadata": {},
   "outputs": [
    {
     "name": "stdout",
     "output_type": "stream",
     "text": [
      "65 63\n"
     ]
    },
    {
     "data": {
      "text/plain": [
       "['\\t',\n",
       " '(',\n",
       " ')',\n",
       " '+',\n",
       " '/',\n",
       " '0',\n",
       " '1',\n",
       " '2',\n",
       " '3',\n",
       " '4',\n",
       " '5',\n",
       " '6',\n",
       " '7',\n",
       " '8',\n",
       " '9',\n",
       " '>',\n",
       " 'N',\n",
       " 'e',\n",
       " 'n',\n",
       " 'o',\n",
       " '{',\n",
       " '}',\n",
       " '~',\n",
       " '¦',\n",
       " 'έ',\n",
       " 'γ',\n",
       " 'ν',\n",
       " 'ο',\n",
       " 'ς',\n",
       " 'ג',\n",
       " 'ד',\n",
       " 'ה',\n",
       " 'ז',\n",
       " 'ח',\n",
       " 'כ',\n",
       " 'ן',\n",
       " 'ٓ',\n",
       " 'ٔ',\n",
       " 'ٕ',\n",
       " '٠',\n",
       " '١',\n",
       " '٢',\n",
       " '٣',\n",
       " '٤',\n",
       " '٥',\n",
       " '٦',\n",
       " '٧',\n",
       " '٨',\n",
       " '٩',\n",
       " '٬',\n",
       " '٭',\n",
       " 'ە',\n",
       " '۟',\n",
       " '۴',\n",
       " '۵',\n",
       " '۶',\n",
       " '‘',\n",
       " '’',\n",
       " '“',\n",
       " '”',\n",
       " '…',\n",
       " '\\u2028',\n",
       " '\\u202c',\n",
       " '\\u202e',\n",
       " '❊']"
      ]
     },
     "execution_count": 37,
     "metadata": {},
     "output_type": "execute_result"
    }
   ],
   "source": [
    "idx = raw_corpus_chars_df.frequency<=150\n",
    "print(idx.sum(),(~idx).sum())\n",
    "sorted(raw_corpus_chars_df[idx].index.tolist())"
   ]
  },
  {
   "cell_type": "code",
   "execution_count": 38,
   "metadata": {},
   "outputs": [
    {
     "data": {
      "text/plain": [
       "['\\n',\n",
       " ' ',\n",
       " '!',\n",
       " '\"',\n",
       " '*',\n",
       " '-',\n",
       " '.',\n",
       " ':',\n",
       " '[',\n",
       " ']',\n",
       " '\\xa0',\n",
       " '«',\n",
       " '»',\n",
       " '،',\n",
       " '؛',\n",
       " '؟',\n",
       " 'ء',\n",
       " 'آ',\n",
       " 'أ',\n",
       " 'ؤ',\n",
       " 'إ',\n",
       " 'ئ',\n",
       " 'ا',\n",
       " 'ب',\n",
       " 'ة',\n",
       " 'ت',\n",
       " 'ث',\n",
       " 'ج',\n",
       " 'ح',\n",
       " 'خ',\n",
       " 'د',\n",
       " 'ذ',\n",
       " 'ر',\n",
       " 'ز',\n",
       " 'س',\n",
       " 'ش',\n",
       " 'ص',\n",
       " 'ض',\n",
       " 'ط',\n",
       " 'ظ',\n",
       " 'ع',\n",
       " 'غ',\n",
       " 'ـ',\n",
       " 'ف',\n",
       " 'ق',\n",
       " 'ك',\n",
       " 'ل',\n",
       " 'م',\n",
       " 'ن',\n",
       " 'ه',\n",
       " 'و',\n",
       " 'ى',\n",
       " 'ي',\n",
       " 'ً',\n",
       " 'ٌ',\n",
       " 'ٍ',\n",
       " 'َ',\n",
       " 'ُ',\n",
       " 'ِ',\n",
       " 'ّ',\n",
       " 'ْ',\n",
       " 'ٱ',\n",
       " '\\u200f']"
      ]
     },
     "execution_count": 38,
     "metadata": {},
     "output_type": "execute_result"
    }
   ],
   "source": [
    "sorted(raw_corpus_chars_df[~idx].index.tolist())"
   ]
  },
  {
   "cell_type": "code",
   "execution_count": 39,
   "metadata": {},
   "outputs": [
    {
     "data": {
      "text/html": [
       "<div>\n",
       "<style scoped>\n",
       "    .dataframe tbody tr th:only-of-type {\n",
       "        vertical-align: middle;\n",
       "    }\n",
       "\n",
       "    .dataframe tbody tr th {\n",
       "        vertical-align: top;\n",
       "    }\n",
       "\n",
       "    .dataframe thead th {\n",
       "        text-align: right;\n",
       "    }\n",
       "</style>\n",
       "<table border=\"1\" class=\"dataframe\">\n",
       "  <thead>\n",
       "    <tr style=\"text-align: right;\">\n",
       "      <th></th>\n",
       "      <th>frequency</th>\n",
       "      <th>unicode_dec</th>\n",
       "      <th>unicode_hex</th>\n",
       "    </tr>\n",
       "    <tr>\n",
       "      <th>character</th>\n",
       "      <th></th>\n",
       "      <th></th>\n",
       "      <th></th>\n",
       "    </tr>\n",
       "  </thead>\n",
       "  <tbody>\n",
       "    <tr>\n",
       "      <th>\\n</th>\n",
       "      <td>3773</td>\n",
       "      <td>10</td>\n",
       "      <td>0xa</td>\n",
       "    </tr>\n",
       "    <tr>\n",
       "      <th></th>\n",
       "      <td>82207</td>\n",
       "      <td>32</td>\n",
       "      <td>0x20</td>\n",
       "    </tr>\n",
       "    <tr>\n",
       "      <th>!</th>\n",
       "      <td>207</td>\n",
       "      <td>33</td>\n",
       "      <td>0x21</td>\n",
       "    </tr>\n",
       "    <tr>\n",
       "      <th>\"</th>\n",
       "      <td>317</td>\n",
       "      <td>34</td>\n",
       "      <td>0x22</td>\n",
       "    </tr>\n",
       "    <tr>\n",
       "      <th>*</th>\n",
       "      <td>2068</td>\n",
       "      <td>42</td>\n",
       "      <td>0x2a</td>\n",
       "    </tr>\n",
       "    <tr>\n",
       "      <th>-</th>\n",
       "      <td>301</td>\n",
       "      <td>45</td>\n",
       "      <td>0x2d</td>\n",
       "    </tr>\n",
       "    <tr>\n",
       "      <th>.</th>\n",
       "      <td>3164</td>\n",
       "      <td>46</td>\n",
       "      <td>0x2e</td>\n",
       "    </tr>\n",
       "    <tr>\n",
       "      <th>:</th>\n",
       "      <td>1939</td>\n",
       "      <td>58</td>\n",
       "      <td>0x3a</td>\n",
       "    </tr>\n",
       "    <tr>\n",
       "      <th>[</th>\n",
       "      <td>580</td>\n",
       "      <td>91</td>\n",
       "      <td>0x5b</td>\n",
       "    </tr>\n",
       "    <tr>\n",
       "      <th>]</th>\n",
       "      <td>574</td>\n",
       "      <td>93</td>\n",
       "      <td>0x5d</td>\n",
       "    </tr>\n",
       "    <tr>\n",
       "      <th></th>\n",
       "      <td>286</td>\n",
       "      <td>160</td>\n",
       "      <td>0xa0</td>\n",
       "    </tr>\n",
       "    <tr>\n",
       "      <th>«</th>\n",
       "      <td>398</td>\n",
       "      <td>171</td>\n",
       "      <td>0xab</td>\n",
       "    </tr>\n",
       "    <tr>\n",
       "      <th>»</th>\n",
       "      <td>387</td>\n",
       "      <td>187</td>\n",
       "      <td>0xbb</td>\n",
       "    </tr>\n",
       "    <tr>\n",
       "      <th>،</th>\n",
       "      <td>4259</td>\n",
       "      <td>1548</td>\n",
       "      <td>0x60c</td>\n",
       "    </tr>\n",
       "    <tr>\n",
       "      <th>؛</th>\n",
       "      <td>345</td>\n",
       "      <td>1563</td>\n",
       "      <td>0x61b</td>\n",
       "    </tr>\n",
       "    <tr>\n",
       "      <th>؟</th>\n",
       "      <td>208</td>\n",
       "      <td>1567</td>\n",
       "      <td>0x61f</td>\n",
       "    </tr>\n",
       "    <tr>\n",
       "      <th>ء</th>\n",
       "      <td>1255</td>\n",
       "      <td>1569</td>\n",
       "      <td>0x621</td>\n",
       "    </tr>\n",
       "    <tr>\n",
       "      <th>آ</th>\n",
       "      <td>380</td>\n",
       "      <td>1570</td>\n",
       "      <td>0x622</td>\n",
       "    </tr>\n",
       "    <tr>\n",
       "      <th>أ</th>\n",
       "      <td>8497</td>\n",
       "      <td>1571</td>\n",
       "      <td>0x623</td>\n",
       "    </tr>\n",
       "    <tr>\n",
       "      <th>ؤ</th>\n",
       "      <td>228</td>\n",
       "      <td>1572</td>\n",
       "      <td>0x624</td>\n",
       "    </tr>\n",
       "    <tr>\n",
       "      <th>إ</th>\n",
       "      <td>3311</td>\n",
       "      <td>1573</td>\n",
       "      <td>0x625</td>\n",
       "    </tr>\n",
       "    <tr>\n",
       "      <th>ئ</th>\n",
       "      <td>746</td>\n",
       "      <td>1574</td>\n",
       "      <td>0x626</td>\n",
       "    </tr>\n",
       "    <tr>\n",
       "      <th>ا</th>\n",
       "      <td>49313</td>\n",
       "      <td>1575</td>\n",
       "      <td>0x627</td>\n",
       "    </tr>\n",
       "    <tr>\n",
       "      <th>ب</th>\n",
       "      <td>13448</td>\n",
       "      <td>1576</td>\n",
       "      <td>0x628</td>\n",
       "    </tr>\n",
       "    <tr>\n",
       "      <th>ة</th>\n",
       "      <td>5909</td>\n",
       "      <td>1577</td>\n",
       "      <td>0x629</td>\n",
       "    </tr>\n",
       "    <tr>\n",
       "      <th>ت</th>\n",
       "      <td>12313</td>\n",
       "      <td>1578</td>\n",
       "      <td>0x62a</td>\n",
       "    </tr>\n",
       "    <tr>\n",
       "      <th>ث</th>\n",
       "      <td>3781</td>\n",
       "      <td>1579</td>\n",
       "      <td>0x62b</td>\n",
       "    </tr>\n",
       "    <tr>\n",
       "      <th>ج</th>\n",
       "      <td>4163</td>\n",
       "      <td>1580</td>\n",
       "      <td>0x62c</td>\n",
       "    </tr>\n",
       "    <tr>\n",
       "      <th>ح</th>\n",
       "      <td>6467</td>\n",
       "      <td>1581</td>\n",
       "      <td>0x62d</td>\n",
       "    </tr>\n",
       "    <tr>\n",
       "      <th>خ</th>\n",
       "      <td>2758</td>\n",
       "      <td>1582</td>\n",
       "      <td>0x62e</td>\n",
       "    </tr>\n",
       "    <tr>\n",
       "      <th>...</th>\n",
       "      <td>...</td>\n",
       "      <td>...</td>\n",
       "      <td>...</td>\n",
       "    </tr>\n",
       "    <tr>\n",
       "      <th>ز</th>\n",
       "      <td>2824</td>\n",
       "      <td>1586</td>\n",
       "      <td>0x632</td>\n",
       "    </tr>\n",
       "    <tr>\n",
       "      <th>س</th>\n",
       "      <td>7595</td>\n",
       "      <td>1587</td>\n",
       "      <td>0x633</td>\n",
       "    </tr>\n",
       "    <tr>\n",
       "      <th>ش</th>\n",
       "      <td>3049</td>\n",
       "      <td>1588</td>\n",
       "      <td>0x634</td>\n",
       "    </tr>\n",
       "    <tr>\n",
       "      <th>ص</th>\n",
       "      <td>3694</td>\n",
       "      <td>1589</td>\n",
       "      <td>0x635</td>\n",
       "    </tr>\n",
       "    <tr>\n",
       "      <th>ض</th>\n",
       "      <td>1870</td>\n",
       "      <td>1590</td>\n",
       "      <td>0x636</td>\n",
       "    </tr>\n",
       "    <tr>\n",
       "      <th>ط</th>\n",
       "      <td>2714</td>\n",
       "      <td>1591</td>\n",
       "      <td>0x637</td>\n",
       "    </tr>\n",
       "    <tr>\n",
       "      <th>ظ</th>\n",
       "      <td>626</td>\n",
       "      <td>1592</td>\n",
       "      <td>0x638</td>\n",
       "    </tr>\n",
       "    <tr>\n",
       "      <th>ع</th>\n",
       "      <td>12075</td>\n",
       "      <td>1593</td>\n",
       "      <td>0x639</td>\n",
       "    </tr>\n",
       "    <tr>\n",
       "      <th>غ</th>\n",
       "      <td>2561</td>\n",
       "      <td>1594</td>\n",
       "      <td>0x63a</td>\n",
       "    </tr>\n",
       "    <tr>\n",
       "      <th>ـ</th>\n",
       "      <td>2803</td>\n",
       "      <td>1600</td>\n",
       "      <td>0x640</td>\n",
       "    </tr>\n",
       "    <tr>\n",
       "      <th>ف</th>\n",
       "      <td>10736</td>\n",
       "      <td>1601</td>\n",
       "      <td>0x641</td>\n",
       "    </tr>\n",
       "    <tr>\n",
       "      <th>ق</th>\n",
       "      <td>8138</td>\n",
       "      <td>1602</td>\n",
       "      <td>0x642</td>\n",
       "    </tr>\n",
       "    <tr>\n",
       "      <th>ك</th>\n",
       "      <td>8144</td>\n",
       "      <td>1603</td>\n",
       "      <td>0x643</td>\n",
       "    </tr>\n",
       "    <tr>\n",
       "      <th>ل</th>\n",
       "      <td>41807</td>\n",
       "      <td>1604</td>\n",
       "      <td>0x644</td>\n",
       "    </tr>\n",
       "    <tr>\n",
       "      <th>م</th>\n",
       "      <td>21927</td>\n",
       "      <td>1605</td>\n",
       "      <td>0x645</td>\n",
       "    </tr>\n",
       "    <tr>\n",
       "      <th>ن</th>\n",
       "      <td>22113</td>\n",
       "      <td>1606</td>\n",
       "      <td>0x646</td>\n",
       "    </tr>\n",
       "    <tr>\n",
       "      <th>ه</th>\n",
       "      <td>14295</td>\n",
       "      <td>1607</td>\n",
       "      <td>0x647</td>\n",
       "    </tr>\n",
       "    <tr>\n",
       "      <th>و</th>\n",
       "      <td>22492</td>\n",
       "      <td>1608</td>\n",
       "      <td>0x648</td>\n",
       "    </tr>\n",
       "    <tr>\n",
       "      <th>ى</th>\n",
       "      <td>3565</td>\n",
       "      <td>1609</td>\n",
       "      <td>0x649</td>\n",
       "    </tr>\n",
       "    <tr>\n",
       "      <th>ي</th>\n",
       "      <td>22936</td>\n",
       "      <td>1610</td>\n",
       "      <td>0x64a</td>\n",
       "    </tr>\n",
       "    <tr>\n",
       "      <th>ً</th>\n",
       "      <td>932</td>\n",
       "      <td>1611</td>\n",
       "      <td>0x64b</td>\n",
       "    </tr>\n",
       "    <tr>\n",
       "      <th>ٌ</th>\n",
       "      <td>1113</td>\n",
       "      <td>1612</td>\n",
       "      <td>0x64c</td>\n",
       "    </tr>\n",
       "    <tr>\n",
       "      <th>ٍ</th>\n",
       "      <td>889</td>\n",
       "      <td>1613</td>\n",
       "      <td>0x64d</td>\n",
       "    </tr>\n",
       "    <tr>\n",
       "      <th>َ</th>\n",
       "      <td>31558</td>\n",
       "      <td>1614</td>\n",
       "      <td>0x64e</td>\n",
       "    </tr>\n",
       "    <tr>\n",
       "      <th>ُ</th>\n",
       "      <td>8448</td>\n",
       "      <td>1615</td>\n",
       "      <td>0x64f</td>\n",
       "    </tr>\n",
       "    <tr>\n",
       "      <th>ِ</th>\n",
       "      <td>15484</td>\n",
       "      <td>1616</td>\n",
       "      <td>0x650</td>\n",
       "    </tr>\n",
       "    <tr>\n",
       "      <th>ّ</th>\n",
       "      <td>12773</td>\n",
       "      <td>1617</td>\n",
       "      <td>0x651</td>\n",
       "    </tr>\n",
       "    <tr>\n",
       "      <th>ْ</th>\n",
       "      <td>10567</td>\n",
       "      <td>1618</td>\n",
       "      <td>0x652</td>\n",
       "    </tr>\n",
       "    <tr>\n",
       "      <th>ٱ</th>\n",
       "      <td>1954</td>\n",
       "      <td>1649</td>\n",
       "      <td>0x671</td>\n",
       "    </tr>\n",
       "    <tr>\n",
       "      <th>‏</th>\n",
       "      <td>246</td>\n",
       "      <td>8207</td>\n",
       "      <td>0x200f</td>\n",
       "    </tr>\n",
       "  </tbody>\n",
       "</table>\n",
       "<p>63 rows × 3 columns</p>\n",
       "</div>"
      ],
      "text/plain": [
       "           frequency  unicode_dec unicode_hex\n",
       "character                                    \n",
       "\\n              3773           10         0xa\n",
       "               82207           32        0x20\n",
       "!                207           33        0x21\n",
       "\"                317           34        0x22\n",
       "*               2068           42        0x2a\n",
       "-                301           45        0x2d\n",
       ".               3164           46        0x2e\n",
       ":               1939           58        0x3a\n",
       "[                580           91        0x5b\n",
       "]                574           93        0x5d\n",
       "                 286          160        0xa0\n",
       "«                398          171        0xab\n",
       "»                387          187        0xbb\n",
       "،               4259         1548       0x60c\n",
       "؛                345         1563       0x61b\n",
       "؟                208         1567       0x61f\n",
       "ء               1255         1569       0x621\n",
       "آ                380         1570       0x622\n",
       "أ               8497         1571       0x623\n",
       "ؤ                228         1572       0x624\n",
       "إ               3311         1573       0x625\n",
       "ئ                746         1574       0x626\n",
       "ا              49313         1575       0x627\n",
       "ب              13448         1576       0x628\n",
       "ة               5909         1577       0x629\n",
       "ت              12313         1578       0x62a\n",
       "ث               3781         1579       0x62b\n",
       "ج               4163         1580       0x62c\n",
       "ح               6467         1581       0x62d\n",
       "خ               2758         1582       0x62e\n",
       "...              ...          ...         ...\n",
       "ز               2824         1586       0x632\n",
       "س               7595         1587       0x633\n",
       "ش               3049         1588       0x634\n",
       "ص               3694         1589       0x635\n",
       "ض               1870         1590       0x636\n",
       "ط               2714         1591       0x637\n",
       "ظ                626         1592       0x638\n",
       "ع              12075         1593       0x639\n",
       "غ               2561         1594       0x63a\n",
       "ـ               2803         1600       0x640\n",
       "ف              10736         1601       0x641\n",
       "ق               8138         1602       0x642\n",
       "ك               8144         1603       0x643\n",
       "ل              41807         1604       0x644\n",
       "م              21927         1605       0x645\n",
       "ن              22113         1606       0x646\n",
       "ه              14295         1607       0x647\n",
       "و              22492         1608       0x648\n",
       "ى               3565         1609       0x649\n",
       "ي              22936         1610       0x64a\n",
       "ً                932         1611       0x64b\n",
       "ٌ               1113         1612       0x64c\n",
       "ٍ                889         1613       0x64d\n",
       "َ              31558         1614       0x64e\n",
       "ُ               8448         1615       0x64f\n",
       "ِ              15484         1616       0x650\n",
       "ّ              12773         1617       0x651\n",
       "ْ              10567         1618       0x652\n",
       "ٱ               1954         1649       0x671\n",
       "‏                246         8207      0x200f\n",
       "\n",
       "[63 rows x 3 columns]"
      ]
     },
     "execution_count": 39,
     "metadata": {},
     "output_type": "execute_result"
    }
   ],
   "source": [
    "raw_corpus_chars_df[~idx].sort_values(by='unicode_dec')"
   ]
  },
  {
   "cell_type": "markdown",
   "metadata": {},
   "source": [
    "### Observations and conclusions\n",
    "\n",
    "- Non-rare characters:\n",
    "\n",
    "        standard arabic letters\n",
    "        visual formatting symbols\n",
    "        digits\n",
    "        punctuation marks\n",
    "        whitespace\n",
    "        invisible control characters: \\u200f (bidirectional ordering character), \\xa0 (U+00A0 NO-BREAK SPACE)\n",
    "        diacritic marks: \\u064B,\\u064C,\\u064D,\\u064E,\\u064F,\\u0650,\\u0651,\\u0652\n",
    "\n",
    "- Rare characters:\n",
    "\n",
    "        non-standard arabic letters (they are variations of standard arabic letters)\n",
    "        non-arabic characters (latin)\n",
    "        visual formatting symbols: ❊\n",
    "        digits\n",
    "        punctuation marks\n",
    "        whitespace\n",
    "        invisible control characters: \\u2028,\\u202c,\\u202e (bidirectional ordering characters)\n",
    "\n",
    "- Characters that should be normalized: non-standard arabic letters\n",
    "\n",
    "       'ٱ'   ARABIC ALEF WASLA  (extended letter used in Koranic Arabic)  \\u0671\n",
    "       'ە'   EXTENDED ARABIC LETTER AE  (used in middle-asian countries ...)  \\u06D5\n",
    "       '۶'   EXTENDED ARABIC-INDIC DIGIT SIX   \\u06F6 \n",
    "\n",
    "- Characters that convey little meaning and should be removed:\n",
    "\n",
    "        TATWIL character (kashida)  \\u0640\n",
    "        visual formatting symbols\n",
    "        punctuation marks\n",
    "        whitespace\n",
    "        invisible control characters\n",
    "\n",
    "\n",
    "**Note about the NO-BREAK SPACE character**\n",
    "\n",
    "- Also called non-breaking space, non-breakable space (NBSP), hard space, or fixed space.\n",
    "- It is a space character that prevents an automatic line break at its position."
   ]
  },
  {
   "cell_type": "markdown",
   "metadata": {},
   "source": [
    "*****"
   ]
  },
  {
   "cell_type": "markdown",
   "metadata": {},
   "source": [
    "## Text preprocessing\n",
    "\n",
    "processing pipeline:\n",
    "\n",
    "1. Orthographic normalization (remove diacritic marks; tatwil; normalize alif character; )\n",
    "2. Tokenization (remove non-word characters and convert to sequence of words ...]\n",
    "3. Light stemming based on common prefixes and suffixes (**TO DO**)\n",
    "4. remove stopwords\n",
    "5. Convert to word ngrams"
   ]
  },
  {
   "cell_type": "code",
   "execution_count": 45,
   "metadata": {},
   "outputs": [],
   "source": [
    "from nltk.util import ngrams\n",
    "from nltk.corpus import stopwords\n",
    "from nltk.tokenize import word_tokenize, regexp_tokenize"
   ]
  },
  {
   "cell_type": "code",
   "execution_count": 61,
   "metadata": {},
   "outputs": [],
   "source": [
    "## character-level preprocessing\n",
    "\n",
    "from arabic_nlp_utils import remove_tatweel, remove_diacritics, normalize_arabic_letters\n",
    "\n",
    "def cleanup_arabic_text(text):\n",
    "\n",
    "    # orthographic normalization of certain arabic characters\n",
    "    text = remove_diacritics(text)\n",
    "    text = remove_tatweel(text)\n",
    "    text = normalize_arabic_letters(text)\n",
    "    \n",
    "    # Remove redundant white spaces\n",
    "    text = re.sub('\\s+', ' ', text)\n",
    "    text = text.strip()\n",
    "\n",
    "    return text"
   ]
  },
  {
   "cell_type": "code",
   "execution_count": 84,
   "metadata": {},
   "outputs": [],
   "source": [
    "## word-level preprocessing\n",
    "\n",
    "#tokenize_regex = \"(\\w+)|(«\\s{0,}\\w+\\s{0,}»)\"\n",
    "tokenize_regex = \"\\w+\"\n",
    "stop_words_ar = stopwords.words('arabic')\n",
    "\n",
    "def preprocess_text(doc,ngram_range=1):\n",
    "\n",
    "    clean_doc = cleanup_arabic_text(doc)\n",
    "\n",
    "    ## Tokenization using custom regular expression\n",
    "    doc_tokens = [''.join(_) for _ in regexp_tokenize(clean_doc,tokenize_regex)]\n",
    "\n",
    "    ## TO DO: light stemming based on common prefixes\n",
    "\n",
    "    ## Remove stopwords and one-character tokens\n",
    "    doc_tokens = [tok for tok in doc_tokens if (tok not in stop_words_ar and len(tok)>1)]\n",
    "\n",
    "    ## Convert to ngrams instead of single tokens\n",
    "    doc_ngrams = doc_tokens\n",
    "    if ngram_range>1:\n",
    "        for n in range(2,ngram_range+1):\n",
    "            doc_ngrams = doc_ngrams + [' '.join(list(_)) for _ in ngrams(doc_tokens, n)]\n",
    "\n",
    "    return doc_ngrams"
   ]
  },
  {
   "cell_type": "markdown",
   "metadata": {},
   "source": [
    "***"
   ]
  },
  {
   "cell_type": "markdown",
   "metadata": {},
   "source": [
    "BEGIN UNIT TEST"
   ]
  },
  {
   "cell_type": "code",
   "execution_count": 46,
   "metadata": {},
   "outputs": [
    {
     "data": {
      "text/plain": [
       "22768"
      ]
     },
     "execution_count": 46,
     "metadata": {},
     "output_type": "execute_result"
    }
   ],
   "source": [
    "doc = doc_data_df.raw_text[0]\n",
    "len(doc)"
   ]
  },
  {
   "cell_type": "code",
   "execution_count": 47,
   "metadata": {},
   "outputs": [
    {
     "data": {
      "text/plain": [
       "'[بالاعتماد على تحقيق يوسف شوقي.]\\n[الرّسالة منقوصة في بدايتها.]\\nوَ « ك » إِلَى « ا »\\nوَقَدْ بَيَّنَّا أَنَّ فَضْلَ\\nفَإِذًا، بُعْدُ « و » الَّتِي هِيَ مُطْلَقُ المَثْلَثِ مِنْ « ا » الَّتِي هِيَ أَوَّلُ دَسَاتِينِ المَثْنَى هُوَ البُعْدُ الَّذِي بِالخَمْسَةِ.\\nوَمِنَ الَّذِي بِالخَمْسَةِ وَالَّذِي بِالأَرْبَعَةِ رُكِّبَ الَّذِي بِالكُلِّ.\\nفَإذًا بُعْدُ « ا » مِنَ البَمِّ مِنْ « ا » مِنَ المَثْنَى هُوَ الَّذِي بِالكُلِّ. فَإِذًا نِسْبَةُ « ا » مِنَ البَمِّ إِلَى « ا » مِنَ المَثْنَى هِيَ نِسْبَةُ المُضَاعَفِ بِالإِثْنَينِ. فَبِالاضْطِرَارِ أَنْ تَكُونُ « ا » مِنَ المَثْنَى مِنْ كَيْفِيَّةِ « ا » مِنَ البَمِّ، لِمَا قَدَّمْنَا.\\nوَعَلَى هَذَا المِثَالِ يَتَتَالَى النَّغَمُ المُتَتَالِي فِي التَّشَابُهِ فِي الكَيْفِيَّةِ، فَإِنَّ « ب » مِنَ المَثْنَى هِيَ « ب » مِنَ\\nوَكَذَلِكَ « جـ » مِنَ المَثْنَى هِيَ « جـ » مِنَ البَمِّ.\\nوَ« د » مِنَ المَثْنَى « د » مِنَ البَمِّ، وَهْيَ « د » مِنَ الزِّيرِ.\\nوَكَذَلِكَ « و » مِنَ الزِّيرِ هِيَ « و » مِنَ المَثْلَثِ.\\nوَ « ز » مِنَ الزِّيرِ هِيَ « ز » مِنَ المَثْلَثِ المُعَرَّاةِ مِنَ الاسْتِعْمَالِ.\\nوَ « ح » مِنَ الزِّيرِ هِيَ « ح » مِنَ المَثْلَثِ.\\nوَ « ط » مِنَ الزِّيرِ هِيَ « ط » مِنَ المَثْلَثِ، وَ « ط » مِنَ الزِّيرِ الأَسْفَلِ.\\nوَ « ي » مِنَ الزِّيرِ الأَسْفَلِ هِيَ « ي » مِنَ المَثْلَثِ.\\nوَ « ك » مِنَ الزِّيرِ الأَسْفَلِ هِيَ « ك » مِنَ المَثْلَثِ، وَ « ك » مِنَ المَثْنَى.\\nوَ « ل » مِنَ الزِّيرِ الأَسْفَلِ هِيَ « ل » [مِنَ المَثْنَى] المُعَرَّاةِ مِنَ الاسْتِعْمَالِ.\\nوَ « ا » مِنَ الزِّيرِ الأَسْفَلِ هِيَ [« ا » مِنَ] المَثْنَى.\\nو « ب » مِنَ الزِّيرِ الأَسْفَلِ هِيَ « ب » مِنَ المَثْنَى.\\nوَ « ج » مِنَ الزِّيرِ الأَسْفَلِ هِيَ « جـ » مِنَ المَثْنَى، لِلْعِلَلِ الَّتِي قَدَّمْنَا ذِكْرَهَا، اضْطِرَارًا.\\nوَلَوْ كَانَ المَثْنَى نِصْفُ المَثْلَثِ، فَإِنَّ المَثْنَى إِذَا مُدَّ مَدًّا مُسَاوِيًا لِلْمَثْلَثِ، لَمْ تَكُنْ نَغْمَةُ إِطْلَاقِهِ مُسَاوِيَةً لِنَغْمَةِ خِنْصَرِ المَثْلَثِ، لِأَنَّ المَثْنَى ثُلُثَا المَثْلَثِ.\\n[وَإِذَا كَانَ المَثْنَى ثُلُثَيْ المَثْلَثِ]، وَإِذَا كَانَ المَدُّ مُسَاوِيًا، كَانَ المَثْنَى يُعْطِي صَوْتَ النَّغْمَةِ الَّتِي تَحْتَ الدَّسْتَانِ الرَّابِعِ مِنَ المَثْلَثِ الَّتِي بَعْدَهَا مِنْ « و » مِنَ المَثْلَثِ ثُلُثُ المَثْلَثِ، لِيَكُونَ صَوْتُ الثُّلُثَيْنِ مِنَ المَثْلَثِ مُسَاوِيًا صَوْتَ المَثْنَى، الَّذِي هُوَ ثُلُثَا كَمِّيَّةِ المَثْلَثِ.\\nوَالَّذِي بَيْنَ الرُّبُعِ وَالثُّلُثِ هُوَ ثُلُثُ الرُّبُعِ. فَيَنْبَغِي أَنْ يَكُونَ المَثْنَى أَلْيَنُ، لِتُسَاوِي « ك » مِنَ المَثْنَى « ك » مِنَ المَثْلَثِ.\\nفَيَكُونُ إِذًا : إِذَا كَانَ بُعْدُ « ك » مِنَ المَثْنَى مِنْ « ا » مِنْهُ تِسْعُ كُلِّهِ، إِذًا، يَكُونُ المُسَاوِي لِلْأَلِفِ مِنَ المَثْنَى مِنَ المَثْلَثِ أَسْفَلَ مِنْ « ك » تِسْعُ مَا بَيْنَ « ك » إِلَى [نِهَايَةِ الوَتَرِ].\\nفَتَكُونُ إِذًا « ك » كُلُّهُ وَثُمُنَ كُلٍّ لِتِلْكَ النَّغْمَةِ، وَ « ك » كُلُّهُ وَثُمُنَ كُلٍّ لٍلْأَلِفِ مِنَ المَثْنَى.\\nفَبِاضْطِرَارٍ أَنَّ « ا » مِنَ المَثْنَى هِيَ « ا » مِنَ البَمِّ فِي الكَيْفِيَّةِ.\\nوَلْنُمَثِّلْ ذَلِكَ مِنَ العَدَدِ فَنَفْرِضُ « ا » مِنَ البَمِّ مِنَ العَدَدِ 16، [فَالـ « و »] إِذًا مِنَ البَمِّ 12 لِأَنَّ « ا » كُلٌّ وَثُلُثُ كُلٍّ « و ».\\nوَ« و » مِنَ البَمِّ هِيَ « و » مِنَ المَثْلَثِ، فـَ« ك » مِنَ المَثْلَثِ إِذًا 9 لِأَنَّ « و » مِنَ المَثْلَثِ كُلُّ وِثُلُثِ كُلِّ « ك » مِنَ المَثْلَثِ.\\nوَ« ك » مِنَ المَثْنَى كُلٌّ وَثُمُنُ كُلٍّ مِنَ المَثْنَى.\\nفَـ« ا » إِذًا مِنَ البَمِّ [ضِعْفُ كُلِّ « ا » مِنَ المَثْنَى] إِذْ هِيَ [8].\\nوَإِذَا عُرِضَ ذِكْرُ، فَلْنَذْكُرْ مَا يَخْلِفُ مِنْ ذِكْرِ\\nإِنَّ مَوَاضِعَ النَّغَمِ مِنَ\\nوَالَّذِي بِالكُلِّ مَرَّتَيْنِ نَوْعَانِ :\\nأَحَدُهُمَا يُسَمَّى « المُتَّصِلُ »، وَهْوَ الَّذِي نَغْمَةُ « ا » مِنْ وَتَرِ المَثْنَى مُشْتَرِكَةٌ [فِيهِ لِلآخَرِ مِنَ الَّذِي بِالكُّلِّ الأَوَّلِ، وَلِأَوَّلِ الَّذِي بِالكُلِّ الثَّانِي].\\nفَأَمَّا جَمْعُ الافْتِرَاقِ فَهْوَ الَّذِي مُبْتَدَأُ الأَوَّلِ مِنْهُ « ا » البَمِّ [و]نِهَايَتُهُ « ا » المَثْنَى، وَمُبْتَدَأُ الثَّانِي مِنْهُ « جـ » المَثْنَى وَنِهَايَتُهُ « حـ » الزِّيرِ الثَّانِي. وَ[هَذَا الجَمْعُ مُنْفَصِلٌ] بِبُعْدِ « ا » المَثْنَى إِلَى « جـ » المَثْنَى الَّذِي هُوَ بُعْدُ طَنِينٍ، أَعْنِي نِسْبَةَ كُلٍّ وَثُمُنَ كُلٍّ.\\nفَهَذِهِ النَّغَمُ الَّتِي ذَكَرْنَا هِيَ الَّتِي تُحِيطُ بِجَمْعِ الانْفِصَالِ وَمَا دُونَهُ.\\nوَإِذْ ذَكَرْنَا مَوَاضِعَ النَّغَمِ، وَالنَّغَمَ المُسْتَعْمَلَةَ، فَيَنْبَغِي أَنْ نَذْكُرَ النَّغَمَ الَّتِي فِي جَمْعِ الَّذِي بِالكُلِّ مَرَّتَيْنِ، وَنَذْكُرَ عِدَّةَ مَوَاضِعِهَا.\\nوَأَمَّا عِدَّةُ مَوَاضِعِهَا، فَعِشْرُونَ مَوْضِعًا، لِأَنَّ فِي كُلِّ وَتَرٍ أَرْبَعُ نَغَمَاتٍ، أَعْنِي بِالَّذِي بِالْأَرْبَعَةِ، وَهْيَ خَمْسَةُ أَوْتَارٍ، وَالنَّغْمَةُ الَّتِي هِيَ « جـ » مِنَ\\nفَأَمَّا كَمْ مَوَاضِعُهَا المُسْتَعْمَلَةُ :\\nالـ « و » فَمِنَ البَمِّ وَمِنَ المَثْلَثِ وَاحِدَةٌ.\\nوَالـ « ك » مِنَ المَثْلَثِ وَالمَثْنَى وَاحِدَةٌ.\\nوَالـ « د » [مِنَ المَثْنَى]، وَالزِّيرِ الأَوَّلِ وَاحِدَةٌ.\\nوَالـ « ط » مِنَ الزِّيرِ الأَوَّلِ وَالزِّيرِ الثَّانِي وَاحِدَةٌ،\\nفَإِذًا تَبْقَى النَّغَمُ سِتَّةَ عَشَرَ نَغَمًا - وَهَذِهِ\\nفَإِنَّ اسْتِعْمَالَ الأَنْوَاعِ يُبَدِّلُ مَا كَانَ فِيمَا بَيْنَ النِّهَايَاتِ، لِأَنَّ الأَوَّلَ مِنَ الطَّنِينِ\\nوَلْنَضَعْ لِلنَّغَمِ أَسْمَاءً لِيَسْهُلَ بِهَا تِكْرَارُ القَوْلِ فِيهَا :\\nفَنُسَمِّي مُطْلَقَ البَمِّ الَّذِي هُوَ البَمُّ « المَفْرُوضَةَ » لِأَنَّنَا نَفْرِضُهَا مُبْتَدَأَ النَّغَمِ.\\nوَنُسَمِّى البَاقِيَاتِ عَلَى مَا هُوَ أَقْرَبُ مِنْ فَهْمِكَ، وَمَا يَسْهَلُ بِهِ عَلَيْكَ حِفْظُ ذَلِكَ.\\nفَأَمَّا كَيْفَ سَمَّاهَا القُدَمَاءُ، وَكَيْفَ سَمَّينَاهَا نَحْنُ عَلَى اسْتِحْقَاقٍ، وَعِلَلُ ذَلِكَ، فَقَدْ أَوْضَحْنَا ذَلِكَ فِي كِتَابِنَا الأَعْظَمِ فِي تَأْلِيفِ اللُّحُونِ.\\nوَلْنُبَيِّنْ عِلَّةَ مَا وَضَعْنَا أَسْمَاءَهَا :\\nفَنُسَمِّى الجُمُوعَ اللَّاتِي بِالأَرْبَعَةِ المُتَتَالِيَةِ بِأَسْمَاءَ خَاصَّةٍ بِهَا، مُشْتَقَّةٍ مِنْ أَحْوَالِهَا.\\nفَنُسَمِّى الجَمْعَ الأَوَّلَ الَّذِي فِي البَمِّ مِنَ اللَّوَاتِي بِالأَرْبَعَةِ : « المُقَدَّمَ » لِأَنَّ أَكْثَرَ مَا يُسْتَعْمَلُ فِي الجِنْسِ الطَّنِينِي مِنَ النَّوْعِ الأَوَّلِ وَالنَّوْعِ الثَّانِي يَصِيرُ [مُبْتَدَاهُ مِنَ الدَّسْتَانِ الأَوَّلِ]. فَأَمَّا النَّوْعُ الثَّالِثُ فَإِنَّهُ يَخْرُجُ بَدْؤُهُ مِنْ مُطْلَقِ الوَتَرِ.\\nفَلِذَلِكَ سَمَّيْنَا مُطْلَقَ البَمِّ - الَّذِي هُوَ « ا » « المَفْرُوضَةَ » وَنِهَايَةَ النَّغَمِ الَّتِي هِيَ « ا » مِنَ الزِّيرِ الثَّانِي « حَادَّةَ الحَادَّاتِ » لَأَنَّهَا نِهَايَةُ الحِدَّةِ مِنَ المَفْرُوضَةِ فِي جَمْعِ الاتِّصَالِ الأَعْظَمِ.\\nوَتُسَمَّى « ا » الَّتِي هِيَ عَلَى أَوَّلِ دَسْتَانٍ مِنَ المَثْنَى « الوُسْطَى » إِذْ هِيَ مُتَوَسِّطَةٌ فِي البُعْدِ مِنَ المَفْرُوضَةِ وَحَادَّةِ الحَادَّاتِ فِي الجَمْعِ الأَعْظَمِ ذِي الاتِّصِالَ.\\nوَقَدْ قُلْنَا: إِنَّ الجَمْعَ الَّذِي بِالأَرْبَعَةِ الَّذِي مُبْتَدَاهُ الجِيمُ هُوَ « الجَمْعُ المُقَدَّمُ » فَنُسَمِّي نَغَمَهُ جَمِيعًا « المُقَدَّمَات ».\\nوَنُسَمِّى الجَمْعَ الَّذِي مبتداه الحاء « جمع الأوساط » إذ نهايته الوسطى الّتي هي « ا » من المثنى.\\nونسمّى الجمع الّذي يلي هذا « جمع الوسطى ».\\nونسمّى الجمع الّذي يليه الّذي مبتداه « و » من الزّير الأوّل  « جمع الحادّات ».\\nونسمّى الجمع الّذي يليه، [الذي] مبتداه « ك » من الزّير الثّاني « جمع حادّات الحادّات ».\\nفإذا، نسمّى « ج » من البمّ الّتي هي على أوّل الدّساتين « مقدّمة المقدّمات »،\\nو « د » من البمّ إن استعملنا النّوع الأوّل والثّاني من الطّنين، أو « هـ » إن استعملنا النّوع الثّالث من الطّنين « القريبة من مقدّمة المقدّمات ».\\n[و « و » من البمّ] « ثالثة المقدّمات ».\\nو « ح » من المثلث « مقدّمة الأوساط » إذ هي أوّل الجمعين المتوسّطين.\\nو « ط » أو « ي » أيّهما استعمل في الجمع « القريبة من مقدّمة الأوساط »\\nو « ك » من المثلث « ثالثة الأوساط »\\nو « ا » من المثنى « الوسطى »\\nو « ب » من المثنى أو « جـ » منه « القريبة من الوسطى »\\nو « د » من المثنى « ثالثة الوسطى »\\nو « و » من الزّير الأوّل « مقدّمة الحادّات »\\nو « ز » أو « ح » منه أيهما استعملت « القريبة من مقدّمة الحادّات »\\nو « ط » منه ثالثة الحادّات\\nو « ك » من الزّير الثّاني « حادّة الحادّات »\\nو « ل » أو « ا »، أيهما استعملت في جمع [الاتّصال] « القريبة من حادّة الحادّات »\\nو « ب » أو « جـ » منه أيّهما استعملت في جمع الانفصال « ثالثة حادّة الحادّات »\\nفإذ تقدّم هذا الوصف لنقل الآن إنّ النّغم المستعملة في جمع الاتّصال خمسة عشر، لأنّ [ا] المثنى مشتركة لجمعي الّذي بالكلّ جميعا.\\nفإذا، إذ الّذي بالكلّ ثماني نغمات، و « ا » مشتركة للجمعين، وكلّ جمع يشبه [الآخر]، فإذا المستعملة في جمع اتصّال [15 نغمة].\\nفَأَمَّا كَمِ النَّغَمُ فِي الكَيْفِيَّةِ فِي جَمْعِ الَّذِي بِالكُلِّ مَرَّتَيْنِ، فَسَبْعُ نَغَمَاتٍ، يَخْرُجُ بِهَا كَلُّ لَحْنٍ، لِأَنَّ « ا » مِنَ المَثْنَى هِيَ « ا » مِنَ البَمِّ بِالكَيْفِيَّةِ.\\nفَإِذًا، الحَاصِلُ مِنَ الَّذِي بِالكُلِّ سَبْعُ نَغَمَاتٍ، إِذْ نِهَايَتَاهُ جَمِيعًا نَغْمَةٌ وَاحِدَةُ بِالكَيْفِيَّةِ.\\nفَلْنَقُلِ الآنَ مَا الأَوَّلُ مِنَ الطَّنِينَاتِ، أَعْنِي اللُّحُونَ، الَّتِي تُسَمَّى « الجَوَانِبَ »، فَإِنَّهَا سُمِّيَتِ الجَوَانِبَ لِأَنَّ كُلَّ نَغْمَةٍ صَارَتْ ابْتِدَاءً لِلَّحْنِ، أَعْنِى أَنْ يَنْصَرِفَ مِنْهَا الجَانِبُ جِهَةَ الحِدَّةِ أَوْ جِهَةَ الثِّقَلِ وَيَعُودُ إِلَيهَا. [وَ]لَهَا جِهَتَانِ : الجِهَةُ الَّتِي تَلِي الثِّقَلَ وَالجِهَةُ الَّتِي تَلِي الحِدَّةَ.\\n[وَ]نُسَمِّى لِكُلِّ لَحْنٍ جَانِبَيْنِ : إِنْ أُخِذَ مِنَ النَّغْمَةِ المُبْتَدَاةِ إِلَى الحِدَّةِ سُمِّي الجَانِبَ الأَحَدَّ، وِإِنْ أُخِذَ مِنَ المُبْتَدَاةِ إِلَى الثِّقَلِ، سُمِّي الجَانِبَ الأَثْقَلَ.\\nوَقَدْ يُمْكِنُنَا أَنْ نَسْتَعْمِلَ [أَوَّلَ] هَذِهِ اللُّحُونِ اسْتِعْمَالَيْنِ :\\nأَحَدُهُمَا : أَنْ نَفْرِضَ الأَوَّلَ الَّذِي مُبْتَدَاهُ نَغْمَةُ « و مِنَ الزِّيرِ » الأَوَّلِ صَاعِدِينَ - أَعْنِي تَنْصِيبًا - أَوْ مُنْحَدِرِينَ، إِلَى أَنْ نَعُودَ فِي ذَلِكَ كُلَّهُ إِلَى الـ « و » الَّتِي ابْتَدَأْنَا بِهَا. مِنْهَا صَعَدْنَا فِي الحِدَّةِ أَوِ انْحَدَرْنَا فِي الثِّقَلِ.\\nوَنُسَمِّى النَّغَمَاتِ الَّتِي تَخْرُجُ فِي جِهَةِ الثِّقَلِ مِنْهُ « الجَانِبَ الأَثْقَلَ » وَالَّتِي تَخْرُجُ فِي جَانِبِ [الحِدَّةِ مِنْهُ] « الجَانِبَ الأَحَدَّ ».\\nوَالثَّانِي مُبْتَدَاهُ مِنْ « د » فِي المَثْنَى، أَخَذْنَا مِنْهَا إِلَى الثِّقَلِ أَوْ إِلَى الحِدَّةِ. وَنُسَمِّي الأَخْذَ إِلَى الثِّقَلِ مِنْهَا « الجَانِبَ الأَثْقَلَ مِنَ الثَّانِي » وَنُسَمِّى الأَخْذَ مِنْهَا إِلَى الحِدَّةِ « الجَانِبَ الأَحَدَّ مِنَ الثَّانِي ».\\nفَأَمَّا الثَّالِثُ فَبُعْدُهُ مِنَ الثَّانِي المُسَمَّى نِصْفَ طَنِينٍ، أَعْنِي أَنَّ مُبْتَدَاهُ « حـ » مِنَ المَثْنَى، أُخِذَ إِلَى الحِدَّةِ أَوِ الثِّقَلِ. وَنُسَمِّي جَانِبَيْهِ مِنْهُ كَمَا سَمَّيْنَا الَّذِي قَبْلَهُ.\\nفَأَمَّا الرَّابِعُ فَبُعْدُهُ مِنَ الثَّالِثِ بُعْدٍ طَنِينِي. أَعْنِي أَنَّ مُبْتَدَاهُ [ا] مِنَ المَثْنَى، الَّتِي هِيَ الوُسْطَى مِنَ النَّغَمِ، وَهْوَ [الأَوْسَطُ مِنَ] اللُّحُونِ إِذْ هِيَ سَبْعَةٌ، وَجَانِبَاهُ آخِذَانِ أَسْمَاءَ الثِّقَلِ وَالحِدَّةِ كَالَّذِي قَبْلَهُ.\\nفَأَمَّا الخَامِسُ فَبُعْدُهُ مِنَ الرَّابِعِ طَنِينِ إِلَى الثِّقَلِ، وَمُبْتَدَاهُ « ك » مِنَ المَثْلَثِ.\\nفَأَمَّا السَّادِسُ، فَبُعْدُهُ مِنْ « ك » البُعْدُ المُسَمَّى بُعْدَ طَنِينٍ، وَهْوَ « ط » مِنَ المَثْلَثِ.\\nفَأَمَّا السَّابِعُ، فَإِنَّ بُعْدَهُ مِنَ السَّادِسِ البُعْدُ المُسَمَّى [نِصْفَ طَنِينٍ] إِلَى الثِّقَلِ، وَمُبْتَدَاهُ « ح » مِنَ المَثْلَثِ، لِتَكُونَ نِهَايَةُ الَّذِي بِالأَرْبَعَةِ إِلَى الثِّقَلِ مِنْهُ « مُقَدَّمَةَ المُقَدَّمَاتِ ». وَقَدْ يُسْتَعْمَلُ [كَالأَوَّلِ] إِنْ قَرَنْتَ فِيهِ [ا] المَثْنَى وَ « ي » فِي تَرْتِيبٍ كَالأَوَّلِ، فَيَأْخُذُ كُلُّ وَاحِدٍ مِنْ هَذِهِ الأَلْحَانِ غَيْرَ جِنْسِهِ مِنْ بُعْدِ الَّذِي بِالأَرْبَعَةِ، [إِلَّا أَنَّ الَّذِي يَسْتَعْمِلُهُ] يَفْرِضُ لِأَوَّلِهِ عَلاَمَةَ « و » مِنَ الزِّيرِ الأَوَّلِ.\\nوَقَدْ أَوْضَحْنَا فِي كِتَابِنَا الأَعْظَمِ فِي التَّأْلِيفِ العِلَلَ الَّتِي صَيَّرَتْ هَذِهِ اللُّحُونَ سَبْعَةً، لَا أَقَلَّ وَلَا أَكْثَرَ، بِالبَرَاهِينِ الوَاضِحَةِ. فَأَمَّا هَا هُنَا فَإِنَّمَا غَرَضُنَا أَنْ نُخْبِرَ عَنْ أَغْرَاضِ الصِّنَاعَةِ بِالأَمْرِ المُجَرَّدِ الخَبَرِي، إِلَّا فِي الأَقَلِّ مِمَّا يُحْتَاجُ إِلَى أَنْ يُدَلَّ عَلَى عِلَلِهِ بَعْضَ الدَّلَالَةِ. وَأَمَّا هُنَاكَ فَالأَغْرَاضُ الرَّدِيَّةُ المُفْسِدَةُ لِقَوْلِ مَنْ زَعَمَ أَنَّ اللُّحُونَ ثَلَاثَةٌ أَوْ أَرْبَعَةٌ أَوْ سِتَّةٌ أَوْ ثَلَاثَةَ عَشَرَ أَوْ خَمْسَةَ عَشَرَ.\\nوَإِذَا أَتَيْنَا عَلَى ذِكْرِ الطَّنِينَاتِ، أَعْنِي اللُّحُونَ، فَلْنَقُلِ الآنَ عَلَى الاسْتِحَالَاتِ الصَّوْتِيَّةِ، وَقَدْ قُلْنَا آنِفًا فِي صَدْرِ هَذَا القَوْلِ،\\nوَإِذْ تَكْمُلُ صِنَاعَةٌ التَّأْلِيفِ الصَّوْتِي أَنْ تَكُونَ مَسْمُوعَاتُ الأَصْوَاتِ مُؤْتَلِفَةً مُسْتَحْسَنَةً فِي السَّمْعِ، مُسْتَأْثَرَةٌ وَلَا مُسْتَكْرَهَةٌ، فَإِذًا يَنْبَغِي أَنْ تَكُونَ جَمِيعُ هَذِهِ الاسْتِحَالَاتِ الَّتِي وَصَفْنَا مُؤْتَلِفَةً : أَعْنِي أَنْ نَنْتَقِلَ مِنْ نَغْمَةٍ إِلَى نَغْمَةٍ مُتَآلِفَةٍ لَهَا، أَعْنِي مَعَهَا فِي نِسْبَةٍ بَسِيطَةٍ.\\nوَكَذَلِكَ إِذَا انْتَقَلْنَا مِنْ بُعْدٍ، انْتَقَلْنَا إِلَى بُعْدٍ مُشَاكِلٍ لَهُ، فَإِنَّ الأَبْعَادَ المُتَبَايِنَةَ جِدًّا، المُتَبَاعِدَةٍ النِّهَايَاتِ، إِذَا انْتُقِلَ مِنْهَا إِلَى بُعْدٍ مُتَقَارِبِ النِّهَايَاتِ، أَحْدَثَتْ تَبَايُنًا فِي المَسْمُوعِ. فَيَنْبَغِي أَنْ تَكُونَ النُّقْلَةُ مِنَ البُعْدِ الأَعْظَمِ إِلَى بُعْدٍ مُقَارِبِ لَهُ، فَإِنَّا إِذَا انْتقَلْنَا مِنْ نَغْمَتَيْنِ بُعْدُ إِحْدَاهُمَا مِنَ الأُخْرَى بُعْدُ الَّذِي بِالكُلِّ إِلَى نَغْمَتَيْنِ بُعْدُ إِحْدَاهِمَا مِنَ الأُخْرَى بُعْدُ طَنِينٍ، حَنَّتِ الحَرَكَةُ النَّفْسَانِيَّةُ المُتَحَرِّكَةُ لِحَرَكَةِ الصُّونِ وَأَحْدَثَتْ تَبَايُنًا فِي النَّفَسِ، لِلانْتِقَالِ مِنَ العُلُوِّ وَشِدَّةِ الحَرَكَةِ إِلَى الانْقِبَاضِ وَصِغَرِ الحَرَكَةِ، وَهَذَا يُسْتَعْمَلُ كَثِيرًا فِي الأَصْواتِ المُحْزِنَةِ - فَأَمَّا فِي المُطْرِبَةِ الُمحَرِّكَةِ النَّاشِطَةِ، فَمُضَادٌّ لَهَا.\\nوَكَذَلِكَ الاسْتِحَالَةُ مِن النَّغْمَتَيْنِ اللَّتَيْنِ فِي بُعْدِ كُلٍّ وَنِصْفِ كُلٍّ، الَّذِي هُوَ بِالخَمْسَةِ، إِلَى البُعْدِ المُسَمَّى نِصْفَ طَنِينٍ أَوْ مَا قَارَبَهُ مِنَ الأَبْعَادِ المُؤْتَلِفَةِ.\\nوَكَذَلِكَ يَعْرِضُ فِي الَّذِي بِالأَرْبَعَةِ وَالبُعْدِ المُسَمَّى إِرْخَاءً وَمَا كَانَ كَذَلِكَ.\\nفَيَنْبَغِي إِذًا أَنْ تَكُونَ النُّقْلَةُ فِي الأَبْعَادِ نُقْلَةٌ مِنْ بُعْدٍ إِلَى بُعْدٍ مُقَارِبٍ لَهُ مُؤْتَلِفِ النِّهَايَاتِ.\\nوَأَمَّا الاسْتِحَالَةُ فِي الأَجْنَاسِ (γένος)، فَأَنْ تَكُونَ الاسْتِحَالَةُ [مِنْ] جِنْسٍ إِلَى جِنْسٍ مُقَارِبٍ لَهُ فِي فُصُولِ الأَبْعَادِ كَالطَّنِينِ إِلَى اللَّوْنِي وَاللَّوْنِي إِلَى التَّأْلِيفِي،- [وَ]أَعْنِي بِالطَّنِينِي، المَفْصُولِ بِطَنِينٍ وَطَنِينٍ، وَأَعْنِي بِاللَّونِي المَفْصُولَ بِثَلَاثَةِ أَنْصَافِ طَنِينٍ، وَأَعْنِي بِالتَّأْلِيفِيِّ المَفْصُولَ بِالبُعْدِ المُسَمَّى [إرخاء وإرخاء وضعف] طنين -، فَإِنَّ الانْتِقَالَ مِنْ طَنِينٍ إِلَى طَنِينٍ [وطنين] أَبْعَدُ مِنَ الانْتِقَالِ مِنْ طَنِينٍ إِلَى ثَلَاثَةِ أَنْصَافِ طَنِينٍ.\\nوَيَنْبَغِي أَنْ تَكُونَ النُّقْلَةُ فِي الجِنْسِ فِي الأَبْعَادِ العُظْمَى، فَإِنَّهَا أَشَدُّ إِفْصَاحًا بِتَبَاعُدِ النَّغَمِ وَأَظْهَرُ إِيلَافًا. فَأَمَّا مِنْ أَبْعَادِهَا الصُّغْرَى إِلَى أَبْعَادِهَا الصُّغْرَى، وَإِنِ انْتُقِلَتْ عَلَى ائْتِلَافٍ، فَإِنَّ ائْتِلَافَهَا غَيْرُ مُفْصِحٍ كَإِفْصَاحِ الأَبْعَادِ العُظْمَى.\\nفَأَمَّا الانْتِقَالُ مِنْ جَمْعٍ إِلَى جَمْعٍ فَأَنْ تَكُونَ نِهَايَتَا الجَمْعَيْنِ اللَّذَيْنِ انْتُقِلَ مِنْ أَحَدِهِمَا إِلَى الآخَرِ نَغْمَةٌ مَشْتَرَكَةٌ، أَوْ [أَنْ يَكُونَ] بُعْدُ نِهَايَةِ المُبْتَدَإِ مِنْهَا الأَخِيرَةَ إِلَى نِهَايَةِ المُبْتَدَإِ مِنْهَا الأُولَى فِي نِسْبَةٍ بَسِيطَةٍ ظَاهِرَةِ الائْتِلَافِ، كَالَّذِي بِالخَمْسَةِ وَمَا قَرِبَ مِنْهُ، وَأَنْ تَكُونَ أَوَّلُ نَغَمِ الثَّانِي مِنَ الجَمْعَيْنِ مَوَالِفَةً لِبُعْدِ النُّقْلَةِ، أَعْنِي المَسَافَةَ بَيْنَ نِهَايَتَي الجَمْعَيْنِ، وَأَنْ تَكُونَ نِهَايَةُ الجَمْعِ الأَخِيرِ عَائِدَةً إِلَى مُبْتَدَإِ الجَمْعِ الأَوَّلِ بِالكَيْفِيَّةِ، لِيَكُونَ الانْتِقَالُ فِي دَوْرٍ مُتَّصِلٍ.\\nوَأَمَّا الاسْتِحَالَةُ الَّتِي فِي الطَّنِينِ، أَعْنِي الَّتِي فِي اللُّحُونِ، فَأَنْ تَكُونَ النُّقْلَةُ عَلَى تَتَالِي مَرَاتِبِهَا، أَوِ الانْتِقَالُ فِي بُعْدِ الَّذِي بِالخَمْسَةِ مُصْعِدًا أَوْ هَابِطًا، كَالانْتِقَالِ مِنَ الأَوَّلِ إِلَى الثَّالِثِ وَمَا أَشْبَهَ ذَلِكَ.\\nوَلَا تَكُونُ النُّقْلَةُ مِنْ لَحْنِ إِلَى لَحْنٍ حَتَّى يَعُودَ دَوْرُ اللَّحْنِ إِلَى مَرْتَبَتِهِ، ثُمَّ يُنْتَقَلُ مِنْهَا إِلَى مَرْتَبَةِ اللَّحْنِ الَّذِي قُصِدَ الانْتِقَالُ إِلَيْهِ.\\nفَإِنْ عَرَضَ أَنْ يُنْتَقَلَ مِنْ نَغْمَةٍ غَيْرِ نَغْمَةِ مُرَتِّبَةِ اللَّحْنِ، الَّتِي هِيَ مُبْتَدَأُ نَغْمَةٍ إِلَى مُشَاكِلَةٍ لَهَا مِنْ لَحْنٍ آخَرَ، اسْتَرَقَ السَّمْعُ انْتِقَالَ اللَّحْنِ وَلَمْ يُفْصِحْ بِهِ إِلَّا بَعْدَ أَنْ يَعُودَ إِلَى مَرْتَبَةِ اللَّحْنِ، ثُمَّ يُنْتَقَلُ مِنْهَا إِلَى مُرَتِّبَةٍ غَيْرَهُ، لِأَنَّ النَّغْمَةَ المُتَوَسِّطَةَ فِي اللَّحْنِ قَدْ تَعْرِضُ إِنْ مُشْتَرِكَةٌ لِلَحْنَيْنِ وَلَا تَبِينُ النُّقْلَةُ مِنْهَا.\\nوَقَدْ يَعْرِضُ أَنْ يُنْتَقَلَ فِي هَذِهِ اللُّحُونِ كَثِيرًا فِي المُشَابَهَةِ : أَعْنِي الطَّرَبِي إِلى الطَّرَبِي، وَالحَزِينُ إِلَى الحَزِينِ، وَلَسْتُ أَعْنِي أَنَّهُمَا جَمِيعًا [طَرِبَانِ أَوْ] حَزِينَانِ لِأَنَّ أَشْكَالَهُمَا بِالطَّرَبِ وَاحِدَةٌ، وَأَشْكَالُهُمَا بِالحُزْنِ وَاحِدَةٌ، وَلَكِنَّ أَقْرَبَ الأَشْيَاءِ إِلَى المُحْزِنِ شَبِيهٌ بِالمُحْزِنِ، وَأَقْرَبُ الأَشْيَاءِ إِلَى المُطْرِبِ شَبِيهٌ بِالمُطْرِبِ.\\nفَلْنَقُلِ الآنَ عَلَى صَنْعَةِ اللَّحْنِ، الَّتِي هِيَ غَرَضُ هَذِهِ الصِّنَاعَةِ، فَنَقُولُ :\\nإِنَّ صِنَاعَةَ اللَّحْنِ أَنْ تَقْصِدَ جَمْعًا مُؤْتَلِفًا، أَعْنِي مُؤْتَلِفَ النَّغَمَ، يَسْتَعْمِلُ فِيهِ جِنْسًا وَاحِدًا، وَنَوْعًا مِنَ الجِنْسِ وَاحِدًا، وَلَحْنًا وَاحِدًا، وَنُقْلَةُ نِهَايَاتِهِ مُؤْتَلِفَةٌ إِمًّا دَوْرًا تَامَّا، أَعْنِي دَوْرَ نِهَايَاتِ الَّذِي بِالكُلِّ، أَوْ دَوْرَ نِهَايَاتِ الَّذِي بِالخَمْسَةِ، حَتَّى يَكُونَ الانْصِرَافُ مِنْ آخِرِ التَّأْلِيفِ الَّذِي فِيهِ إِلَى مُبْتَدَاهُ مُؤْتَلِفًا.\\nفَأَمَّا عَلَى كَمْ ضَرْبٍ يَكُونُ اللَّحْنُ، فَهْوَ يَنْقَسِمُ إِلَى قِسْمَينِ : أَحَدُهُمَا « المُتَتَالِي » وَالآخَرُ « اللَّامُتَتَالِي ».\\nأَمَّا المُتَتَالِي، فَكَالابْتِدَاءِ مِنْ نَغْمَةٍ، ثُمَّ التَّزَيُّدُ فِي الحِدَّةِ أَوِ الثِّقَلِ عَلَى اسْتِقَامَةٍ.\\nوَأَمَّا اللَّامُتَتَالِي، فَيَنْقَسِمُ قِسْمَينِ : أَحَدُهُمَا « اللَّوْلَبِي »، وَالآخَرُ « المُوَشَّحُ ».\\nأَمَّا اللَّوْلَبِي فَأَنْ يُبْتَدَئَ بِنَغْمَةٍ، ثُمَّ يُثَنَّى بِنِهَايَةِ البُعْدِ، ثُمَّ يُثَلَّثُ بِالَّتِي تَلِي النَّغْمَةَ المُبْتَدَاةَ، ثُمَّ يُرَبَّعُ بِالَّتِي تَلِي النَّغْمَةَ الأَخِيرَةَ، حَتَّى يَنْتَهِي إِلَى نِهَايَةِ نَغَمِ الجَمْعِ، ثُمَّ يَكُونُ الانْصِرَافُ مِنَ الَّتِي انْتَهَى إِلَيْهَا إِلَى المُبْتَدَأَةِ. وَهَذَا يُسَمَّى « اللَّوْلَبِيُّ الدَّاخِلُ ».\\nوَأَمَّا النَّوْعُ الآخَرُ مِنَ اللَّوْلَبِي، فَأَنْ يَبْتَدِئَ مِنْ هَذِهِ النَّغْمَةِ الَّتِي فُرِضَتْ أَخِيرًا، ثُمَّ تَكُونُ النُّقْلَةُ مِنْهَا بِالدَّوْرِ كَمَا وَصَفْنَا فِي الَّذِي قَبْلَهُ، حَتَّى يَنْتَهِي إِلَى أَحَدِّ نِهَايَتَيْ الجَمْعِ، ثُمَّ يَكُونُ الانْصِرَافُ إِلَى هَذِهِ المُبْتَدَأَةِ. وَهَذَا النَّوْعُ مِنَ اللَّوْلَبِي يُسَمَّى « اللَّوْلَبِي الخَارِجِي ».\\nوأمّا النّوع الثّاني من الّذي ليس [بمتتال]، المسمّى الضّفير، فهو المبتدأ من نغمة ثمّ ينتقل إلى أخرى، ثمّ ينتقل منها إلى دور الأولى، ثمّ ينتقل منها إلى خلف نهايته، ثمّ كذلك حتّى يؤتى على جميع نغم الجمع، ثمّ تكون النّقلة من آخره إلى مبتداه مؤتلفة.\\nوهذا الضّفير يكون نوعين : أحدهما منفصل، والآخر مشتبك.\\nأمّا المشتبك، فهذا الّذي وصفنا أوّلا.\\nوأمّا المنفصل فأن يبدأ من نغمة ثمّ ينتقل منها إلى أخرى، ثمّ ينتقل منها إلى دور الأولى، ثمّ ينتقل منها إلى خارجة من الثّانية، تقع فيما بين الثّانينة والّتي انتقل منها، ثمّ ينتقل منها إلى خارجة عن الّتي انتقل منها أيضا، حتّى يؤتى على آخر نغم الجمع. وتكون النّقلة من آخره إلى ابتداء النّغم نقلة مؤتلفة.\\nونضع لذلك مثالا في صورة، ليكون أشدّ تقريبا لفهم ذلك من أنفس المتعلّمين، ونضع ذلك في الجمع الّذي بالكلّ : ا، ج، د، و، ح، ط، ك ا.\\nفنفرض النّغمة الأولى منه، المسمّاة المفروضة، نغمة « ا »، ومقدّمة المقدّمات « جـ »، والقريبة من مقدّمة المقدّمات « د »، وحادّة المقدّمات « و »، ورئيسة الأوساط « ح »، والقريبة من [رئيسة] الأوساط « ط »، وحادّة الأوساط « ك »، والوسطى « ا ».\\nفأمّا التّأليف المستقيم المتتالي، كانتقالنا من « ا » إلى « جـ »، ومن « جـ » إلى « د » ومن « د » إلى « و »، ومن « و » إلى « ح » ومن « ح » إلى « ط »، ومن « ط » إلى « ك »، ومن « ك » إلى « ا » المبتداة [بها]، [أو] من [الحدّة إلى الثّقل] كانتقالنا من « ا » [الحادّة] إلى « ك » ومن « ك » إلى « ط » ومن « ط » إلى « ح » ومن « ح » إلى « و » ومن « و » إلى « د » ومن « د » إلى « جـ » ومن « جـ » إلى « ا » المبتداة.\\nوأمّا الدّور في [اللّولبي الدّاخل] فالانتقال من « ا » إلى « ح » ومن « ح » إلى « جـ » ومن « جـ » إلى « و » ومن « و » إلى « ا ».\\nوأمّا اللّولبي الخارجي فكالانتقال من « و » إلى « جـ » ومن « جـ » إلى « ح » ومن « ح » إلى « ا » ومن « ا » إلى « و ».\\nأمّا الصّفير المشتبك، فنضع له جدولا للنّغم كلّه، ليكون أمكن في استعماله كانتقالنا من « ا » الحادّة إلى « و » الأولى ثمّ من « و » إلى « ب » الأولى، ثمّ من « ب » إلى « ي » الأولى، ثمّ من « ي » إلى « هـ » ثمّ من « هـ » إلى « ل » ثمّ من « ل » إلى « ط » الأولى ثمّ من « ط » إلى « ك » الثّانية، وكذلك إلى حيث يتناهى الضّفير، ثمّ العودة إلى المبتدإ.\\nا - ج - د - و - ح - ط - ي\\nك - ل - ا - جـ - د - هـ - و\\nز - ح - ط - ك - ل - ا - ب\\nوأمّا الضّفير المنفصل، فكالابتداء من [« ا »] الحادّة والانتقال إلى « و » الأولى، ثمّ الانتقال من « و » إلى « جـ »، ومن « جـ » إلى « ي » الأولى، ومن « ي » إلى « ح » الأولى ومن « ح » إلى « ا » الثّانية.\\nوَفِيمَا قَدَّمْنَا فِيهِ كِفَايَةٌ لِلتَّنْبِيهِ والتّذكرة. وأمّا تحصيل ذلك على الكمال والاستقصاء فَقَدْ أَتَيْنَا عَلَيْهِ فِي كِتَابِنَا الأَعْظَمِ فِي التَّأْليفِ.\\nفأمّا خاصّة التّأليف بالقول المرسل الّذي يجب أن يقال فيه بتقصّي البرهان، والقسم، وقسم القسم، والخواصّ، والعوامّ، فليس في صناعة هذا الكتاب، بل من صناعة كتابنا الأعظم.\\nفَأَمَّا تَكْمِيلُ المُوسِيقَارِيَّةِ فَهْيَ مَوْضِعُ التَّأْلِيفِ فِي قَوْلٍ عَدَدِيٍّ مُتَنَاسِبٍ، نَقِيٍّ مِنَ الأَعْرَاضِ المُفْسِدَةِ لِلْقَوْلِ العَدَدِيِّ، وَبِأَزْمَانٍ مُتَسَاوِيَةِ الأَرْكَانِ مُتَشَابِهَةِ النِّسَبِ الَّتِي مِنْ عَادَةِ النَّاسِ أَنْ يُسَمُّوهَا إِيقَاعًا، كَمَا قَدْ أَنْبَأَنَا بِذَلِكَ فِي كِتَابِنَا فِي الأَقَاوِيلِ العَدَدِيَّةِ وَفِي كِتَابِنَا فِي النِّسَبِ الزَّمَنِيَّةِ.\\nإِلَّا أَنَّنَا نَقُولُ هَا هُنَا بَعْضَ مَا يُكَمِّلُ صِنَاعَةَ التَّأْلِيفِ عِنْدَ مَنَ عَرَفَ صِنَاعَةَ الأَعْدَادِ القَوْلِيَّةِ، وَصِنَاعَةِ النِّسَبِ الزَّمَانِيَّةِ فَنَقُولُ :\\nإِنَّ التَّأْلِيفَ إِمَّا أَنْ يَكُونَ مِنَ النَّوْعِ الَّذِي يُسَمَّى « البَسْطِي »، وَإِمَّا مِنَ النَّوْعِ الَّذِي يُسَمَّى « القَبْضِي »، وَإِمَّا أَنْ يَكُونَ مِنَ النَّوْعِ الَّذِي يُسَمَّى « المُعْتَدِلَ ».\\nأَمَّا القَبْضِيُّ، فَالنَّوْعُ المُحْزِنُ؛ وَأَمَّا البَسْطِيُّ فَالمُحَرِّكُ المُطْرِبُ، وَأَمَّا المُعْتَدِلُ فَالمُحَرِّكُ الجَلَالَةَ وَالكَرَمَ وَالمَدْحَ الجَمِيلَ المُسْتَجَادَ.\\nفَيَنْبَغِي أَنْ يَكُونَ القَوْلُ العَدَدِي - أَعْنِي الشِّعْرَ - المُلْبِسَ اللَّحْنَ مُشَاكِلًا فِي المَعْنَى لِطَبْعِ اللَّحْنِ فِي هَذِهِ الأَنْحَاءِ الثَّلَاثَةِ وَأَنْوَاعِهَا، وَفِي نِسْبَةٍ زَمَانِيَّةٍ، أَعْنِي إِيقَاعًا مُشَاكِلًا لِمَعْنَى اللَّحْنِ.\\nفَإِنَّ الإِيقَاعَاتِ الثَّقِيلَةَ المُمْتَدَّةَ الأَزْمَانِ مُشَاكِلَةٌ لِلشَّجَى وَالحُزْنِ، وَالخَفِيفَةُ المُتَقَارِبَةُ مُشَاكِلَةٌ لِلطَّرَبِ وَشِدَّةِ الحَرَكَةِ وَالتَّبَسُّطِ، وَالمُعْتَدِلَةُ مُشَاكِلَةٌ لِلْمُعْتَدِلِ.\\nوَكَذَلِكَ أَوْزَانُ الأَقْوَالِ العَدَدِيَّةِ المُشَابِهَةِ لِلنِّسَبِ، كَمَا قَدْ أَنْبَأْنَا وَأَوْضَحْنَا ذَلِكَ فِي كِتَابِنَا فِيهَا، فَيَنْبَغِي أَنْ تُوضَعَ مُشَابَهَةٌ لِنَحْوٍ مِنْ هَذِهِ الثَّلَاثَةِ الأَنْحَاءِ.\\nفَإِنْ يَكْمُلْ ذَلِكَ، يَكُنْ تَكْمِيلُ حَرَكَةِ النَّفْسِ فِي النَّوْعِ الَّذِي قَدْ [يَكُونُ] تَحْرِيكُهَا فِيهِ مِنَ الأَنْحَاءِ الثَّلَاثَةِ وَأَقْسَامِهَا.\\nوهذا فيما سألت كاف، كفاك اللّه المهمّ من أمر دنياك وآخرتك، والحمد للّه ربّ العالمين.\\nكملت رسالة يعقوب بن إسحاق الكندي في خبر تأليف الألحان.\\nوفرغنا من تحريره 18 شهر ربيع الثّاني سنة 1073، وكان المنقول عنه مكتوبا في أواخر شوّال سنة 631 بمدينة دمشق، من نسخة سقيمة غير معتمدة.\\nفهرست شلواح 1979: [175]'"
      ]
     },
     "execution_count": 47,
     "metadata": {},
     "output_type": "execute_result"
    }
   ],
   "source": [
    "doc"
   ]
  },
  {
   "cell_type": "code",
   "execution_count": 51,
   "metadata": {},
   "outputs": [
    {
     "data": {
      "text/plain": [
       "['[بالاعتماد على تحقيق يوسف شوقي.]',\n",
       " '[الرّسالة منقوصة في بدايتها.]',\n",
       " 'وَ « ك » إِلَى « ا »',\n",
       " 'وَقَدْ بَيَّنَّا أَنَّ فَضْلَ',\n",
       " 'فَإِذًا، بُعْدُ « و » الَّتِي هِيَ مُطْلَقُ المَثْلَثِ مِنْ « ا » الَّتِي هِيَ أَوَّلُ دَسَاتِينِ المَثْنَى هُوَ البُعْدُ الَّذِي بِالخَمْسَةِ.',\n",
       " 'وَمِنَ الَّذِي بِالخَمْسَةِ وَالَّذِي بِالأَرْبَعَةِ رُكِّبَ الَّذِي بِالكُلِّ.',\n",
       " 'فَإذًا بُعْدُ « ا » مِنَ البَمِّ مِنْ « ا » مِنَ المَثْنَى هُوَ الَّذِي بِالكُلِّ. فَإِذًا نِسْبَةُ « ا » مِنَ البَمِّ إِلَى « ا » مِنَ المَثْنَى هِيَ نِسْبَةُ المُضَاعَفِ بِالإِثْنَينِ. فَبِالاضْطِرَارِ أَنْ تَكُونُ « ا » مِنَ المَثْنَى مِنْ كَيْفِيَّةِ « ا » مِنَ البَمِّ، لِمَا قَدَّمْنَا.',\n",
       " 'وَعَلَى هَذَا المِثَالِ يَتَتَالَى النَّغَمُ المُتَتَالِي فِي التَّشَابُهِ فِي الكَيْفِيَّةِ، فَإِنَّ « ب » مِنَ المَثْنَى هِيَ « ب » مِنَ',\n",
       " 'وَكَذَلِكَ « جـ » مِنَ المَثْنَى هِيَ « جـ » مِنَ البَمِّ.',\n",
       " 'وَ« د » مِنَ المَثْنَى « د » مِنَ البَمِّ، وَهْيَ « د » مِنَ الزِّيرِ.',\n",
       " 'وَكَذَلِكَ « و » مِنَ الزِّيرِ هِيَ « و » مِنَ المَثْلَثِ.',\n",
       " 'وَ « ز » مِنَ الزِّيرِ هِيَ « ز » مِنَ المَثْلَثِ المُعَرَّاةِ مِنَ الاسْتِعْمَالِ.',\n",
       " 'وَ « ح » مِنَ الزِّيرِ هِيَ « ح » مِنَ المَثْلَثِ.',\n",
       " 'وَ « ط » مِنَ الزِّيرِ هِيَ « ط » مِنَ المَثْلَثِ، وَ « ط » مِنَ الزِّيرِ الأَسْفَلِ.',\n",
       " 'وَ « ي » مِنَ الزِّيرِ الأَسْفَلِ هِيَ « ي » مِنَ المَثْلَثِ.',\n",
       " 'وَ « ك » مِنَ الزِّيرِ الأَسْفَلِ هِيَ « ك » مِنَ المَثْلَثِ، وَ « ك » مِنَ المَثْنَى.',\n",
       " 'وَ « ل » مِنَ الزِّيرِ الأَسْفَلِ هِيَ « ل » [مِنَ المَثْنَى] المُعَرَّاةِ مِنَ الاسْتِعْمَالِ.',\n",
       " 'وَ « ا » مِنَ الزِّيرِ الأَسْفَلِ هِيَ [« ا » مِنَ] المَثْنَى.',\n",
       " 'و « ب » مِنَ الزِّيرِ الأَسْفَلِ هِيَ « ب » مِنَ المَثْنَى.',\n",
       " 'وَ « ج » مِنَ الزِّيرِ الأَسْفَلِ هِيَ « جـ » مِنَ المَثْنَى، لِلْعِلَلِ الَّتِي قَدَّمْنَا ذِكْرَهَا، اضْطِرَارًا.',\n",
       " 'وَلَوْ كَانَ المَثْنَى نِصْفُ المَثْلَثِ، فَإِنَّ المَثْنَى إِذَا مُدَّ مَدًّا مُسَاوِيًا لِلْمَثْلَثِ، لَمْ تَكُنْ نَغْمَةُ إِطْلَاقِهِ مُسَاوِيَةً لِنَغْمَةِ خِنْصَرِ المَثْلَثِ، لِأَنَّ المَثْنَى ثُلُثَا المَثْلَثِ.',\n",
       " '[وَإِذَا كَانَ المَثْنَى ثُلُثَيْ المَثْلَثِ]، وَإِذَا كَانَ المَدُّ مُسَاوِيًا، كَانَ المَثْنَى يُعْطِي صَوْتَ النَّغْمَةِ الَّتِي تَحْتَ الدَّسْتَانِ الرَّابِعِ مِنَ المَثْلَثِ الَّتِي بَعْدَهَا مِنْ « و » مِنَ المَثْلَثِ ثُلُثُ المَثْلَثِ، لِيَكُونَ صَوْتُ الثُّلُثَيْنِ مِنَ المَثْلَثِ مُسَاوِيًا صَوْتَ المَثْنَى، الَّذِي هُوَ ثُلُثَا كَمِّيَّةِ المَثْلَثِ.',\n",
       " 'وَالَّذِي بَيْنَ الرُّبُعِ وَالثُّلُثِ هُوَ ثُلُثُ الرُّبُعِ. فَيَنْبَغِي أَنْ يَكُونَ المَثْنَى أَلْيَنُ، لِتُسَاوِي « ك » مِنَ المَثْنَى « ك » مِنَ المَثْلَثِ.',\n",
       " 'فَيَكُونُ إِذًا : إِذَا كَانَ بُعْدُ « ك » مِنَ المَثْنَى مِنْ « ا » مِنْهُ تِسْعُ كُلِّهِ، إِذًا، يَكُونُ المُسَاوِي لِلْأَلِفِ مِنَ المَثْنَى مِنَ المَثْلَثِ أَسْفَلَ مِنْ « ك » تِسْعُ مَا بَيْنَ « ك » إِلَى [نِهَايَةِ الوَتَرِ].',\n",
       " 'فَتَكُونُ إِذًا « ك » كُلُّهُ وَثُمُنَ كُلٍّ لِتِلْكَ النَّغْمَةِ، وَ « ك » كُلُّهُ وَثُمُنَ كُلٍّ لٍلْأَلِفِ مِنَ المَثْنَى.',\n",
       " 'فَبِاضْطِرَارٍ أَنَّ « ا » مِنَ المَثْنَى هِيَ « ا » مِنَ البَمِّ فِي الكَيْفِيَّةِ.',\n",
       " 'وَلْنُمَثِّلْ ذَلِكَ مِنَ العَدَدِ فَنَفْرِضُ « ا » مِنَ البَمِّ مِنَ العَدَدِ 16، [فَالـ « و »] إِذًا مِنَ البَمِّ 12 لِأَنَّ « ا » كُلٌّ وَثُلُثُ كُلٍّ « و ».',\n",
       " 'وَ« و » مِنَ البَمِّ هِيَ « و » مِنَ المَثْلَثِ، فـَ« ك » مِنَ المَثْلَثِ إِذًا 9 لِأَنَّ « و » مِنَ المَثْلَثِ كُلُّ وِثُلُثِ كُلِّ « ك » مِنَ المَثْلَثِ.',\n",
       " 'وَ« ك » مِنَ المَثْنَى كُلٌّ وَثُمُنُ كُلٍّ مِنَ المَثْنَى.',\n",
       " 'فَـ« ا » إِذًا مِنَ البَمِّ [ضِعْفُ كُلِّ « ا » مِنَ المَثْنَى] إِذْ هِيَ [8].',\n",
       " 'وَإِذَا عُرِضَ ذِكْرُ، فَلْنَذْكُرْ مَا يَخْلِفُ مِنْ ذِكْرِ',\n",
       " 'إِنَّ مَوَاضِعَ النَّغَمِ مِنَ',\n",
       " 'وَالَّذِي بِالكُلِّ مَرَّتَيْنِ نَوْعَانِ :',\n",
       " 'أَحَدُهُمَا يُسَمَّى « المُتَّصِلُ »، وَهْوَ الَّذِي نَغْمَةُ « ا » مِنْ وَتَرِ المَثْنَى مُشْتَرِكَةٌ [فِيهِ لِلآخَرِ مِنَ الَّذِي بِالكُّلِّ الأَوَّلِ، وَلِأَوَّلِ الَّذِي بِالكُلِّ الثَّانِي].',\n",
       " 'فَأَمَّا جَمْعُ الافْتِرَاقِ فَهْوَ الَّذِي مُبْتَدَأُ الأَوَّلِ مِنْهُ « ا » البَمِّ [و]نِهَايَتُهُ « ا » المَثْنَى، وَمُبْتَدَأُ الثَّانِي مِنْهُ « جـ » المَثْنَى وَنِهَايَتُهُ « حـ » الزِّيرِ الثَّانِي. وَ[هَذَا الجَمْعُ مُنْفَصِلٌ] بِبُعْدِ « ا » المَثْنَى إِلَى « جـ » المَثْنَى الَّذِي هُوَ بُعْدُ طَنِينٍ، أَعْنِي نِسْبَةَ كُلٍّ وَثُمُنَ كُلٍّ.',\n",
       " 'فَهَذِهِ النَّغَمُ الَّتِي ذَكَرْنَا هِيَ الَّتِي تُحِيطُ بِجَمْعِ الانْفِصَالِ وَمَا دُونَهُ.',\n",
       " 'وَإِذْ ذَكَرْنَا مَوَاضِعَ النَّغَمِ، وَالنَّغَمَ المُسْتَعْمَلَةَ، فَيَنْبَغِي أَنْ نَذْكُرَ النَّغَمَ الَّتِي فِي جَمْعِ الَّذِي بِالكُلِّ مَرَّتَيْنِ، وَنَذْكُرَ عِدَّةَ مَوَاضِعِهَا.',\n",
       " 'وَأَمَّا عِدَّةُ مَوَاضِعِهَا، فَعِشْرُونَ مَوْضِعًا، لِأَنَّ فِي كُلِّ وَتَرٍ أَرْبَعُ نَغَمَاتٍ، أَعْنِي بِالَّذِي بِالْأَرْبَعَةِ، وَهْيَ خَمْسَةُ أَوْتَارٍ، وَالنَّغْمَةُ الَّتِي هِيَ « جـ » مِنَ',\n",
       " 'فَأَمَّا كَمْ مَوَاضِعُهَا المُسْتَعْمَلَةُ :',\n",
       " 'الـ « و » فَمِنَ البَمِّ وَمِنَ المَثْلَثِ وَاحِدَةٌ.',\n",
       " 'وَالـ « ك » مِنَ المَثْلَثِ وَالمَثْنَى وَاحِدَةٌ.',\n",
       " 'وَالـ « د » [مِنَ المَثْنَى]، وَالزِّيرِ الأَوَّلِ وَاحِدَةٌ.',\n",
       " 'وَالـ « ط » مِنَ الزِّيرِ الأَوَّلِ وَالزِّيرِ الثَّانِي وَاحِدَةٌ،',\n",
       " 'فَإِذًا تَبْقَى النَّغَمُ سِتَّةَ عَشَرَ نَغَمًا - وَهَذِهِ',\n",
       " 'فَإِنَّ اسْتِعْمَالَ الأَنْوَاعِ يُبَدِّلُ مَا كَانَ فِيمَا بَيْنَ النِّهَايَاتِ، لِأَنَّ الأَوَّلَ مِنَ الطَّنِينِ',\n",
       " 'وَلْنَضَعْ لِلنَّغَمِ أَسْمَاءً لِيَسْهُلَ بِهَا تِكْرَارُ القَوْلِ فِيهَا :',\n",
       " 'فَنُسَمِّي مُطْلَقَ البَمِّ الَّذِي هُوَ البَمُّ « المَفْرُوضَةَ » لِأَنَّنَا نَفْرِضُهَا مُبْتَدَأَ النَّغَمِ.',\n",
       " 'وَنُسَمِّى البَاقِيَاتِ عَلَى مَا هُوَ أَقْرَبُ مِنْ فَهْمِكَ، وَمَا يَسْهَلُ بِهِ عَلَيْكَ حِفْظُ ذَلِكَ.',\n",
       " 'فَأَمَّا كَيْفَ سَمَّاهَا القُدَمَاءُ، وَكَيْفَ سَمَّينَاهَا نَحْنُ عَلَى اسْتِحْقَاقٍ، وَعِلَلُ ذَلِكَ، فَقَدْ أَوْضَحْنَا ذَلِكَ فِي كِتَابِنَا الأَعْظَمِ فِي تَأْلِيفِ اللُّحُونِ.',\n",
       " 'وَلْنُبَيِّنْ عِلَّةَ مَا وَضَعْنَا أَسْمَاءَهَا :',\n",
       " 'فَنُسَمِّى الجُمُوعَ اللَّاتِي بِالأَرْبَعَةِ المُتَتَالِيَةِ بِأَسْمَاءَ خَاصَّةٍ بِهَا، مُشْتَقَّةٍ مِنْ أَحْوَالِهَا.',\n",
       " 'فَنُسَمِّى الجَمْعَ الأَوَّلَ الَّذِي فِي البَمِّ مِنَ اللَّوَاتِي بِالأَرْبَعَةِ : « المُقَدَّمَ » لِأَنَّ أَكْثَرَ مَا يُسْتَعْمَلُ فِي الجِنْسِ الطَّنِينِي مِنَ النَّوْعِ الأَوَّلِ وَالنَّوْعِ الثَّانِي يَصِيرُ [مُبْتَدَاهُ مِنَ الدَّسْتَانِ الأَوَّلِ]. فَأَمَّا النَّوْعُ الثَّالِثُ فَإِنَّهُ يَخْرُجُ بَدْؤُهُ مِنْ مُطْلَقِ الوَتَرِ.',\n",
       " 'فَلِذَلِكَ سَمَّيْنَا مُطْلَقَ البَمِّ - الَّذِي هُوَ « ا » « المَفْرُوضَةَ » وَنِهَايَةَ النَّغَمِ الَّتِي هِيَ « ا » مِنَ الزِّيرِ الثَّانِي « حَادَّةَ الحَادَّاتِ » لَأَنَّهَا نِهَايَةُ الحِدَّةِ مِنَ المَفْرُوضَةِ فِي جَمْعِ الاتِّصَالِ الأَعْظَمِ.',\n",
       " 'وَتُسَمَّى « ا » الَّتِي هِيَ عَلَى أَوَّلِ دَسْتَانٍ مِنَ المَثْنَى « الوُسْطَى » إِذْ هِيَ مُتَوَسِّطَةٌ فِي البُعْدِ مِنَ المَفْرُوضَةِ وَحَادَّةِ الحَادَّاتِ فِي الجَمْعِ الأَعْظَمِ ذِي الاتِّصِالَ.',\n",
       " 'وَقَدْ قُلْنَا: إِنَّ الجَمْعَ الَّذِي بِالأَرْبَعَةِ الَّذِي مُبْتَدَاهُ الجِيمُ هُوَ « الجَمْعُ المُقَدَّمُ » فَنُسَمِّي نَغَمَهُ جَمِيعًا « المُقَدَّمَات ».',\n",
       " 'وَنُسَمِّى الجَمْعَ الَّذِي مبتداه الحاء « جمع الأوساط » إذ نهايته الوسطى الّتي هي « ا » من المثنى.',\n",
       " 'ونسمّى الجمع الّذي يلي هذا « جمع الوسطى ».',\n",
       " 'ونسمّى الجمع الّذي يليه الّذي مبتداه « و » من الزّير الأوّل  « جمع الحادّات ».',\n",
       " 'ونسمّى الجمع الّذي يليه، [الذي] مبتداه « ك » من الزّير الثّاني « جمع حادّات الحادّات ».',\n",
       " 'فإذا، نسمّى « ج » من البمّ الّتي هي على أوّل الدّساتين « مقدّمة المقدّمات »،',\n",
       " 'و « د » من البمّ إن استعملنا النّوع الأوّل والثّاني من الطّنين، أو « هـ » إن استعملنا النّوع الثّالث من الطّنين « القريبة من مقدّمة المقدّمات ».',\n",
       " '[و « و » من البمّ] « ثالثة المقدّمات ».',\n",
       " 'و « ح » من المثلث « مقدّمة الأوساط » إذ هي أوّل الجمعين المتوسّطين.',\n",
       " 'و « ط » أو « ي » أيّهما استعمل في الجمع « القريبة من مقدّمة الأوساط »',\n",
       " 'و « ك » من المثلث « ثالثة الأوساط »',\n",
       " 'و « ا » من المثنى « الوسطى »',\n",
       " 'و « ب » من المثنى أو « جـ » منه « القريبة من الوسطى »',\n",
       " 'و « د » من المثنى « ثالثة الوسطى »',\n",
       " 'و « و » من الزّير الأوّل « مقدّمة الحادّات »',\n",
       " 'و « ز » أو « ح » منه أيهما استعملت « القريبة من مقدّمة الحادّات »',\n",
       " 'و « ط » منه ثالثة الحادّات',\n",
       " 'و « ك » من الزّير الثّاني « حادّة الحادّات »',\n",
       " 'و « ل » أو « ا »، أيهما استعملت في جمع [الاتّصال] « القريبة من حادّة الحادّات »',\n",
       " 'و « ب » أو « جـ » منه أيّهما استعملت في جمع الانفصال « ثالثة حادّة الحادّات »',\n",
       " 'فإذ تقدّم هذا الوصف لنقل الآن إنّ النّغم المستعملة في جمع الاتّصال خمسة عشر، لأنّ [ا] المثنى مشتركة لجمعي الّذي بالكلّ جميعا.',\n",
       " 'فإذا، إذ الّذي بالكلّ ثماني نغمات، و « ا » مشتركة للجمعين، وكلّ جمع يشبه [الآخر]، فإذا المستعملة في جمع اتصّال [15 نغمة].',\n",
       " 'فَأَمَّا كَمِ النَّغَمُ فِي الكَيْفِيَّةِ فِي جَمْعِ الَّذِي بِالكُلِّ مَرَّتَيْنِ، فَسَبْعُ نَغَمَاتٍ، يَخْرُجُ بِهَا كَلُّ لَحْنٍ، لِأَنَّ « ا » مِنَ المَثْنَى هِيَ « ا » مِنَ البَمِّ بِالكَيْفِيَّةِ.',\n",
       " 'فَإِذًا، الحَاصِلُ مِنَ الَّذِي بِالكُلِّ سَبْعُ نَغَمَاتٍ، إِذْ نِهَايَتَاهُ جَمِيعًا نَغْمَةٌ وَاحِدَةُ بِالكَيْفِيَّةِ.',\n",
       " 'فَلْنَقُلِ الآنَ مَا الأَوَّلُ مِنَ الطَّنِينَاتِ، أَعْنِي اللُّحُونَ، الَّتِي تُسَمَّى « الجَوَانِبَ »، فَإِنَّهَا سُمِّيَتِ الجَوَانِبَ لِأَنَّ كُلَّ نَغْمَةٍ صَارَتْ ابْتِدَاءً لِلَّحْنِ، أَعْنِى أَنْ يَنْصَرِفَ مِنْهَا الجَانِبُ جِهَةَ الحِدَّةِ أَوْ جِهَةَ الثِّقَلِ وَيَعُودُ إِلَيهَا. [وَ]لَهَا جِهَتَانِ : الجِهَةُ الَّتِي تَلِي الثِّقَلَ وَالجِهَةُ الَّتِي تَلِي الحِدَّةَ.',\n",
       " '[وَ]نُسَمِّى لِكُلِّ لَحْنٍ جَانِبَيْنِ : إِنْ أُخِذَ مِنَ النَّغْمَةِ المُبْتَدَاةِ إِلَى الحِدَّةِ سُمِّي الجَانِبَ الأَحَدَّ، وِإِنْ أُخِذَ مِنَ المُبْتَدَاةِ إِلَى الثِّقَلِ، سُمِّي الجَانِبَ الأَثْقَلَ.',\n",
       " 'وَقَدْ يُمْكِنُنَا أَنْ نَسْتَعْمِلَ [أَوَّلَ] هَذِهِ اللُّحُونِ اسْتِعْمَالَيْنِ :',\n",
       " 'أَحَدُهُمَا : أَنْ نَفْرِضَ الأَوَّلَ الَّذِي مُبْتَدَاهُ نَغْمَةُ « و مِنَ الزِّيرِ » الأَوَّلِ صَاعِدِينَ - أَعْنِي تَنْصِيبًا - أَوْ مُنْحَدِرِينَ، إِلَى أَنْ نَعُودَ فِي ذَلِكَ كُلَّهُ إِلَى الـ « و » الَّتِي ابْتَدَأْنَا بِهَا. مِنْهَا صَعَدْنَا فِي الحِدَّةِ أَوِ انْحَدَرْنَا فِي الثِّقَلِ.',\n",
       " 'وَنُسَمِّى النَّغَمَاتِ الَّتِي تَخْرُجُ فِي جِهَةِ الثِّقَلِ مِنْهُ « الجَانِبَ الأَثْقَلَ » وَالَّتِي تَخْرُجُ فِي جَانِبِ [الحِدَّةِ مِنْهُ] « الجَانِبَ الأَحَدَّ ».',\n",
       " 'وَالثَّانِي مُبْتَدَاهُ مِنْ « د » فِي المَثْنَى، أَخَذْنَا مِنْهَا إِلَى الثِّقَلِ أَوْ إِلَى الحِدَّةِ. وَنُسَمِّي الأَخْذَ إِلَى الثِّقَلِ مِنْهَا « الجَانِبَ الأَثْقَلَ مِنَ الثَّانِي » وَنُسَمِّى الأَخْذَ مِنْهَا إِلَى الحِدَّةِ « الجَانِبَ الأَحَدَّ مِنَ الثَّانِي ».',\n",
       " 'فَأَمَّا الثَّالِثُ فَبُعْدُهُ مِنَ الثَّانِي المُسَمَّى نِصْفَ طَنِينٍ، أَعْنِي أَنَّ مُبْتَدَاهُ « حـ » مِنَ المَثْنَى، أُخِذَ إِلَى الحِدَّةِ أَوِ الثِّقَلِ. وَنُسَمِّي جَانِبَيْهِ مِنْهُ كَمَا سَمَّيْنَا الَّذِي قَبْلَهُ.',\n",
       " 'فَأَمَّا الرَّابِعُ فَبُعْدُهُ مِنَ الثَّالِثِ بُعْدٍ طَنِينِي. أَعْنِي أَنَّ مُبْتَدَاهُ [ا] مِنَ المَثْنَى، الَّتِي هِيَ الوُسْطَى مِنَ النَّغَمِ، وَهْوَ [الأَوْسَطُ مِنَ] اللُّحُونِ إِذْ هِيَ سَبْعَةٌ، وَجَانِبَاهُ آخِذَانِ أَسْمَاءَ الثِّقَلِ وَالحِدَّةِ كَالَّذِي قَبْلَهُ.',\n",
       " 'فَأَمَّا الخَامِسُ فَبُعْدُهُ مِنَ الرَّابِعِ طَنِينِ إِلَى الثِّقَلِ، وَمُبْتَدَاهُ « ك » مِنَ المَثْلَثِ.',\n",
       " 'فَأَمَّا السَّادِسُ، فَبُعْدُهُ مِنْ « ك » البُعْدُ المُسَمَّى بُعْدَ طَنِينٍ، وَهْوَ « ط » مِنَ المَثْلَثِ.',\n",
       " 'فَأَمَّا السَّابِعُ، فَإِنَّ بُعْدَهُ مِنَ السَّادِسِ البُعْدُ المُسَمَّى [نِصْفَ طَنِينٍ] إِلَى الثِّقَلِ، وَمُبْتَدَاهُ « ح » مِنَ المَثْلَثِ، لِتَكُونَ نِهَايَةُ الَّذِي بِالأَرْبَعَةِ إِلَى الثِّقَلِ مِنْهُ « مُقَدَّمَةَ المُقَدَّمَاتِ ». وَقَدْ يُسْتَعْمَلُ [كَالأَوَّلِ] إِنْ قَرَنْتَ فِيهِ [ا] المَثْنَى وَ « ي » فِي تَرْتِيبٍ كَالأَوَّلِ، فَيَأْخُذُ كُلُّ وَاحِدٍ مِنْ هَذِهِ الأَلْحَانِ غَيْرَ جِنْسِهِ مِنْ بُعْدِ الَّذِي بِالأَرْبَعَةِ، [إِلَّا أَنَّ الَّذِي يَسْتَعْمِلُهُ] يَفْرِضُ لِأَوَّلِهِ عَلاَمَةَ « و » مِنَ الزِّيرِ الأَوَّلِ.',\n",
       " 'وَقَدْ أَوْضَحْنَا فِي كِتَابِنَا الأَعْظَمِ فِي التَّأْلِيفِ العِلَلَ الَّتِي صَيَّرَتْ هَذِهِ اللُّحُونَ سَبْعَةً، لَا أَقَلَّ وَلَا أَكْثَرَ، بِالبَرَاهِينِ الوَاضِحَةِ. فَأَمَّا هَا هُنَا فَإِنَّمَا غَرَضُنَا أَنْ نُخْبِرَ عَنْ أَغْرَاضِ الصِّنَاعَةِ بِالأَمْرِ المُجَرَّدِ الخَبَرِي، إِلَّا فِي الأَقَلِّ مِمَّا يُحْتَاجُ إِلَى أَنْ يُدَلَّ عَلَى عِلَلِهِ بَعْضَ الدَّلَالَةِ. وَأَمَّا هُنَاكَ فَالأَغْرَاضُ الرَّدِيَّةُ المُفْسِدَةُ لِقَوْلِ مَنْ زَعَمَ أَنَّ اللُّحُونَ ثَلَاثَةٌ أَوْ أَرْبَعَةٌ أَوْ سِتَّةٌ أَوْ ثَلَاثَةَ عَشَرَ أَوْ خَمْسَةَ عَشَرَ.',\n",
       " 'وَإِذَا أَتَيْنَا عَلَى ذِكْرِ الطَّنِينَاتِ، أَعْنِي اللُّحُونَ، فَلْنَقُلِ الآنَ عَلَى الاسْتِحَالَاتِ الصَّوْتِيَّةِ، وَقَدْ قُلْنَا آنِفًا فِي صَدْرِ هَذَا القَوْلِ،',\n",
       " 'وَإِذْ تَكْمُلُ صِنَاعَةٌ التَّأْلِيفِ الصَّوْتِي أَنْ تَكُونَ مَسْمُوعَاتُ الأَصْوَاتِ مُؤْتَلِفَةً مُسْتَحْسَنَةً فِي السَّمْعِ، مُسْتَأْثَرَةٌ وَلَا مُسْتَكْرَهَةٌ، فَإِذًا يَنْبَغِي أَنْ تَكُونَ جَمِيعُ هَذِهِ الاسْتِحَالَاتِ الَّتِي وَصَفْنَا مُؤْتَلِفَةً : أَعْنِي أَنْ نَنْتَقِلَ مِنْ نَغْمَةٍ إِلَى نَغْمَةٍ مُتَآلِفَةٍ لَهَا، أَعْنِي مَعَهَا فِي نِسْبَةٍ بَسِيطَةٍ.',\n",
       " 'وَكَذَلِكَ إِذَا انْتَقَلْنَا مِنْ بُعْدٍ، انْتَقَلْنَا إِلَى بُعْدٍ مُشَاكِلٍ لَهُ، فَإِنَّ الأَبْعَادَ المُتَبَايِنَةَ جِدًّا، المُتَبَاعِدَةٍ النِّهَايَاتِ، إِذَا انْتُقِلَ مِنْهَا إِلَى بُعْدٍ مُتَقَارِبِ النِّهَايَاتِ، أَحْدَثَتْ تَبَايُنًا فِي المَسْمُوعِ. فَيَنْبَغِي أَنْ تَكُونَ النُّقْلَةُ مِنَ البُعْدِ الأَعْظَمِ إِلَى بُعْدٍ مُقَارِبِ لَهُ، فَإِنَّا إِذَا انْتقَلْنَا مِنْ نَغْمَتَيْنِ بُعْدُ إِحْدَاهُمَا مِنَ الأُخْرَى بُعْدُ الَّذِي بِالكُلِّ إِلَى نَغْمَتَيْنِ بُعْدُ إِحْدَاهِمَا مِنَ الأُخْرَى بُعْدُ طَنِينٍ، حَنَّتِ الحَرَكَةُ النَّفْسَانِيَّةُ المُتَحَرِّكَةُ لِحَرَكَةِ الصُّونِ وَأَحْدَثَتْ تَبَايُنًا فِي النَّفَسِ، لِلانْتِقَالِ مِنَ العُلُوِّ وَشِدَّةِ الحَرَكَةِ إِلَى الانْقِبَاضِ وَصِغَرِ الحَرَكَةِ، وَهَذَا يُسْتَعْمَلُ كَثِيرًا فِي الأَصْواتِ المُحْزِنَةِ - فَأَمَّا فِي المُطْرِبَةِ الُمحَرِّكَةِ النَّاشِطَةِ، فَمُضَادٌّ لَهَا.',\n",
       " 'وَكَذَلِكَ الاسْتِحَالَةُ مِن النَّغْمَتَيْنِ اللَّتَيْنِ فِي بُعْدِ كُلٍّ وَنِصْفِ كُلٍّ، الَّذِي هُوَ بِالخَمْسَةِ، إِلَى البُعْدِ المُسَمَّى نِصْفَ طَنِينٍ أَوْ مَا قَارَبَهُ مِنَ الأَبْعَادِ المُؤْتَلِفَةِ.',\n",
       " 'وَكَذَلِكَ يَعْرِضُ فِي الَّذِي بِالأَرْبَعَةِ وَالبُعْدِ المُسَمَّى إِرْخَاءً وَمَا كَانَ كَذَلِكَ.',\n",
       " 'فَيَنْبَغِي إِذًا أَنْ تَكُونَ النُّقْلَةُ فِي الأَبْعَادِ نُقْلَةٌ مِنْ بُعْدٍ إِلَى بُعْدٍ مُقَارِبٍ لَهُ مُؤْتَلِفِ النِّهَايَاتِ.',\n",
       " 'وَأَمَّا الاسْتِحَالَةُ فِي الأَجْنَاسِ (γένος)، فَأَنْ تَكُونَ الاسْتِحَالَةُ [مِنْ] جِنْسٍ إِلَى جِنْسٍ مُقَارِبٍ لَهُ فِي فُصُولِ الأَبْعَادِ كَالطَّنِينِ إِلَى اللَّوْنِي وَاللَّوْنِي إِلَى التَّأْلِيفِي،- [وَ]أَعْنِي بِالطَّنِينِي، المَفْصُولِ بِطَنِينٍ وَطَنِينٍ، وَأَعْنِي بِاللَّونِي المَفْصُولَ بِثَلَاثَةِ أَنْصَافِ طَنِينٍ، وَأَعْنِي بِالتَّأْلِيفِيِّ المَفْصُولَ بِالبُعْدِ المُسَمَّى [إرخاء وإرخاء وضعف] طنين -، فَإِنَّ الانْتِقَالَ مِنْ طَنِينٍ إِلَى طَنِينٍ [وطنين] أَبْعَدُ مِنَ الانْتِقَالِ مِنْ طَنِينٍ إِلَى ثَلَاثَةِ أَنْصَافِ طَنِينٍ.',\n",
       " 'وَيَنْبَغِي أَنْ تَكُونَ النُّقْلَةُ فِي الجِنْسِ فِي الأَبْعَادِ العُظْمَى، فَإِنَّهَا أَشَدُّ إِفْصَاحًا بِتَبَاعُدِ النَّغَمِ وَأَظْهَرُ إِيلَافًا. فَأَمَّا مِنْ أَبْعَادِهَا الصُّغْرَى إِلَى أَبْعَادِهَا الصُّغْرَى، وَإِنِ انْتُقِلَتْ عَلَى ائْتِلَافٍ، فَإِنَّ ائْتِلَافَهَا غَيْرُ مُفْصِحٍ كَإِفْصَاحِ الأَبْعَادِ العُظْمَى.',\n",
       " 'فَأَمَّا الانْتِقَالُ مِنْ جَمْعٍ إِلَى جَمْعٍ فَأَنْ تَكُونَ نِهَايَتَا الجَمْعَيْنِ اللَّذَيْنِ انْتُقِلَ مِنْ أَحَدِهِمَا إِلَى الآخَرِ نَغْمَةٌ مَشْتَرَكَةٌ، أَوْ [أَنْ يَكُونَ] بُعْدُ نِهَايَةِ المُبْتَدَإِ مِنْهَا الأَخِيرَةَ إِلَى نِهَايَةِ المُبْتَدَإِ مِنْهَا الأُولَى فِي نِسْبَةٍ بَسِيطَةٍ ظَاهِرَةِ الائْتِلَافِ، كَالَّذِي بِالخَمْسَةِ وَمَا قَرِبَ مِنْهُ، وَأَنْ تَكُونَ أَوَّلُ نَغَمِ الثَّانِي مِنَ الجَمْعَيْنِ مَوَالِفَةً لِبُعْدِ النُّقْلَةِ، أَعْنِي المَسَافَةَ بَيْنَ نِهَايَتَي الجَمْعَيْنِ، وَأَنْ تَكُونَ نِهَايَةُ الجَمْعِ الأَخِيرِ عَائِدَةً إِلَى مُبْتَدَإِ الجَمْعِ الأَوَّلِ بِالكَيْفِيَّةِ، لِيَكُونَ الانْتِقَالُ فِي دَوْرٍ مُتَّصِلٍ.',\n",
       " 'وَأَمَّا الاسْتِحَالَةُ الَّتِي فِي الطَّنِينِ، أَعْنِي الَّتِي فِي اللُّحُونِ، فَأَنْ تَكُونَ النُّقْلَةُ عَلَى تَتَالِي مَرَاتِبِهَا، أَوِ الانْتِقَالُ فِي بُعْدِ الَّذِي بِالخَمْسَةِ مُصْعِدًا أَوْ هَابِطًا، كَالانْتِقَالِ مِنَ الأَوَّلِ إِلَى الثَّالِثِ وَمَا أَشْبَهَ ذَلِكَ.',\n",
       " 'وَلَا تَكُونُ النُّقْلَةُ مِنْ لَحْنِ إِلَى لَحْنٍ حَتَّى يَعُودَ دَوْرُ اللَّحْنِ إِلَى مَرْتَبَتِهِ، ثُمَّ يُنْتَقَلُ مِنْهَا إِلَى مَرْتَبَةِ اللَّحْنِ الَّذِي قُصِدَ الانْتِقَالُ إِلَيْهِ.',\n",
       " 'فَإِنْ عَرَضَ أَنْ يُنْتَقَلَ مِنْ نَغْمَةٍ غَيْرِ نَغْمَةِ مُرَتِّبَةِ اللَّحْنِ، الَّتِي هِيَ مُبْتَدَأُ نَغْمَةٍ إِلَى مُشَاكِلَةٍ لَهَا مِنْ لَحْنٍ آخَرَ، اسْتَرَقَ السَّمْعُ انْتِقَالَ اللَّحْنِ وَلَمْ يُفْصِحْ بِهِ إِلَّا بَعْدَ أَنْ يَعُودَ إِلَى مَرْتَبَةِ اللَّحْنِ، ثُمَّ يُنْتَقَلُ مِنْهَا إِلَى مُرَتِّبَةٍ غَيْرَهُ، لِأَنَّ النَّغْمَةَ المُتَوَسِّطَةَ فِي اللَّحْنِ قَدْ تَعْرِضُ إِنْ مُشْتَرِكَةٌ لِلَحْنَيْنِ وَلَا تَبِينُ النُّقْلَةُ مِنْهَا.',\n",
       " 'وَقَدْ يَعْرِضُ أَنْ يُنْتَقَلَ فِي هَذِهِ اللُّحُونِ كَثِيرًا فِي المُشَابَهَةِ : أَعْنِي الطَّرَبِي إِلى الطَّرَبِي، وَالحَزِينُ إِلَى الحَزِينِ، وَلَسْتُ أَعْنِي أَنَّهُمَا جَمِيعًا [طَرِبَانِ أَوْ] حَزِينَانِ لِأَنَّ أَشْكَالَهُمَا بِالطَّرَبِ وَاحِدَةٌ، وَأَشْكَالُهُمَا بِالحُزْنِ وَاحِدَةٌ، وَلَكِنَّ أَقْرَبَ الأَشْيَاءِ إِلَى المُحْزِنِ شَبِيهٌ بِالمُحْزِنِ، وَأَقْرَبُ الأَشْيَاءِ إِلَى المُطْرِبِ شَبِيهٌ بِالمُطْرِبِ.',\n",
       " 'فَلْنَقُلِ الآنَ عَلَى صَنْعَةِ اللَّحْنِ، الَّتِي هِيَ غَرَضُ هَذِهِ الصِّنَاعَةِ، فَنَقُولُ :',\n",
       " 'إِنَّ صِنَاعَةَ اللَّحْنِ أَنْ تَقْصِدَ جَمْعًا مُؤْتَلِفًا، أَعْنِي مُؤْتَلِفَ النَّغَمَ، يَسْتَعْمِلُ فِيهِ جِنْسًا وَاحِدًا، وَنَوْعًا مِنَ الجِنْسِ وَاحِدًا، وَلَحْنًا وَاحِدًا، وَنُقْلَةُ نِهَايَاتِهِ مُؤْتَلِفَةٌ إِمًّا دَوْرًا تَامَّا، أَعْنِي دَوْرَ نِهَايَاتِ الَّذِي بِالكُلِّ، أَوْ دَوْرَ نِهَايَاتِ الَّذِي بِالخَمْسَةِ، حَتَّى يَكُونَ الانْصِرَافُ مِنْ آخِرِ التَّأْلِيفِ الَّذِي فِيهِ إِلَى مُبْتَدَاهُ مُؤْتَلِفًا.',\n",
       " 'فَأَمَّا عَلَى كَمْ ضَرْبٍ يَكُونُ اللَّحْنُ، فَهْوَ يَنْقَسِمُ إِلَى قِسْمَينِ : أَحَدُهُمَا « المُتَتَالِي » وَالآخَرُ « اللَّامُتَتَالِي ».',\n",
       " 'أَمَّا المُتَتَالِي، فَكَالابْتِدَاءِ مِنْ نَغْمَةٍ، ثُمَّ التَّزَيُّدُ فِي الحِدَّةِ أَوِ الثِّقَلِ عَلَى اسْتِقَامَةٍ.',\n",
       " 'وَأَمَّا اللَّامُتَتَالِي، فَيَنْقَسِمُ قِسْمَينِ : أَحَدُهُمَا « اللَّوْلَبِي »، وَالآخَرُ « المُوَشَّحُ ».',\n",
       " 'أَمَّا اللَّوْلَبِي فَأَنْ يُبْتَدَئَ بِنَغْمَةٍ، ثُمَّ يُثَنَّى بِنِهَايَةِ البُعْدِ، ثُمَّ يُثَلَّثُ بِالَّتِي تَلِي النَّغْمَةَ المُبْتَدَاةَ، ثُمَّ يُرَبَّعُ بِالَّتِي تَلِي النَّغْمَةَ الأَخِيرَةَ، حَتَّى يَنْتَهِي إِلَى نِهَايَةِ نَغَمِ الجَمْعِ، ثُمَّ يَكُونُ الانْصِرَافُ مِنَ الَّتِي انْتَهَى إِلَيْهَا إِلَى المُبْتَدَأَةِ. وَهَذَا يُسَمَّى « اللَّوْلَبِيُّ الدَّاخِلُ ».',\n",
       " 'وَأَمَّا النَّوْعُ الآخَرُ مِنَ اللَّوْلَبِي، فَأَنْ يَبْتَدِئَ مِنْ هَذِهِ النَّغْمَةِ الَّتِي فُرِضَتْ أَخِيرًا، ثُمَّ تَكُونُ النُّقْلَةُ مِنْهَا بِالدَّوْرِ كَمَا وَصَفْنَا فِي الَّذِي قَبْلَهُ، حَتَّى يَنْتَهِي إِلَى أَحَدِّ نِهَايَتَيْ الجَمْعِ، ثُمَّ يَكُونُ الانْصِرَافُ إِلَى هَذِهِ المُبْتَدَأَةِ. وَهَذَا النَّوْعُ مِنَ اللَّوْلَبِي يُسَمَّى « اللَّوْلَبِي الخَارِجِي ».',\n",
       " 'وأمّا النّوع الثّاني من الّذي ليس [بمتتال]، المسمّى الضّفير، فهو المبتدأ من نغمة ثمّ ينتقل إلى أخرى، ثمّ ينتقل منها إلى دور الأولى، ثمّ ينتقل منها إلى خلف نهايته، ثمّ كذلك حتّى يؤتى على جميع نغم الجمع، ثمّ تكون النّقلة من آخره إلى مبتداه مؤتلفة.',\n",
       " 'وهذا الضّفير يكون نوعين : أحدهما منفصل، والآخر مشتبك.',\n",
       " 'أمّا المشتبك، فهذا الّذي وصفنا أوّلا.',\n",
       " 'وأمّا المنفصل فأن يبدأ من نغمة ثمّ ينتقل منها إلى أخرى، ثمّ ينتقل منها إلى دور الأولى، ثمّ ينتقل منها إلى خارجة من الثّانية، تقع فيما بين الثّانينة والّتي انتقل منها، ثمّ ينتقل منها إلى خارجة عن الّتي انتقل منها أيضا، حتّى يؤتى على آخر نغم الجمع. وتكون النّقلة من آخره إلى ابتداء النّغم نقلة مؤتلفة.',\n",
       " 'ونضع لذلك مثالا في صورة، ليكون أشدّ تقريبا لفهم ذلك من أنفس المتعلّمين، ونضع ذلك في الجمع الّذي بالكلّ : ا، ج، د، و، ح، ط، ك ا.',\n",
       " 'فنفرض النّغمة الأولى منه، المسمّاة المفروضة، نغمة « ا »، ومقدّمة المقدّمات « جـ »، والقريبة من مقدّمة المقدّمات « د »، وحادّة المقدّمات « و »، ورئيسة الأوساط « ح »، والقريبة من [رئيسة] الأوساط « ط »، وحادّة الأوساط « ك »، والوسطى « ا ».',\n",
       " 'فأمّا التّأليف المستقيم المتتالي، كانتقالنا من « ا » إلى « جـ »، ومن « جـ » إلى « د » ومن « د » إلى « و »، ومن « و » إلى « ح » ومن « ح » إلى « ط »، ومن « ط » إلى « ك »، ومن « ك » إلى « ا » المبتداة [بها]، [أو] من [الحدّة إلى الثّقل] كانتقالنا من « ا » [الحادّة] إلى « ك » ومن « ك » إلى « ط » ومن « ط » إلى « ح » ومن « ح » إلى « و » ومن « و » إلى « د » ومن « د » إلى « جـ » ومن « جـ » إلى « ا » المبتداة.',\n",
       " 'وأمّا الدّور في [اللّولبي الدّاخل] فالانتقال من « ا » إلى « ح » ومن « ح » إلى « جـ » ومن « جـ » إلى « و » ومن « و » إلى « ا ».',\n",
       " 'وأمّا اللّولبي الخارجي فكالانتقال من « و » إلى « جـ » ومن « جـ » إلى « ح » ومن « ح » إلى « ا » ومن « ا » إلى « و ».',\n",
       " 'أمّا الصّفير المشتبك، فنضع له جدولا للنّغم كلّه، ليكون أمكن في استعماله كانتقالنا من « ا » الحادّة إلى « و » الأولى ثمّ من « و » إلى « ب » الأولى، ثمّ من « ب » إلى « ي » الأولى، ثمّ من « ي » إلى « هـ » ثمّ من « هـ » إلى « ل » ثمّ من « ل » إلى « ط » الأولى ثمّ من « ط » إلى « ك » الثّانية، وكذلك إلى حيث يتناهى الضّفير، ثمّ العودة إلى المبتدإ.',\n",
       " 'ا - ج - د - و - ح - ط - ي',\n",
       " 'ك - ل - ا - جـ - د - هـ - و',\n",
       " 'ز - ح - ط - ك - ل - ا - ب',\n",
       " 'وأمّا الضّفير المنفصل، فكالابتداء من [« ا »] الحادّة والانتقال إلى « و » الأولى، ثمّ الانتقال من « و » إلى « جـ »، ومن « جـ » إلى « ي » الأولى، ومن « ي » إلى « ح » الأولى ومن « ح » إلى « ا » الثّانية.',\n",
       " 'وَفِيمَا قَدَّمْنَا فِيهِ كِفَايَةٌ لِلتَّنْبِيهِ والتّذكرة. وأمّا تحصيل ذلك على الكمال والاستقصاء فَقَدْ أَتَيْنَا عَلَيْهِ فِي كِتَابِنَا الأَعْظَمِ فِي التَّأْليفِ.',\n",
       " 'فأمّا خاصّة التّأليف بالقول المرسل الّذي يجب أن يقال فيه بتقصّي البرهان، والقسم، وقسم القسم، والخواصّ، والعوامّ، فليس في صناعة هذا الكتاب، بل من صناعة كتابنا الأعظم.',\n",
       " 'فَأَمَّا تَكْمِيلُ المُوسِيقَارِيَّةِ فَهْيَ مَوْضِعُ التَّأْلِيفِ فِي قَوْلٍ عَدَدِيٍّ مُتَنَاسِبٍ، نَقِيٍّ مِنَ الأَعْرَاضِ المُفْسِدَةِ لِلْقَوْلِ العَدَدِيِّ، وَبِأَزْمَانٍ مُتَسَاوِيَةِ الأَرْكَانِ مُتَشَابِهَةِ النِّسَبِ الَّتِي مِنْ عَادَةِ النَّاسِ أَنْ يُسَمُّوهَا إِيقَاعًا، كَمَا قَدْ أَنْبَأَنَا بِذَلِكَ فِي كِتَابِنَا فِي الأَقَاوِيلِ العَدَدِيَّةِ وَفِي كِتَابِنَا فِي النِّسَبِ الزَّمَنِيَّةِ.',\n",
       " 'إِلَّا أَنَّنَا نَقُولُ هَا هُنَا بَعْضَ مَا يُكَمِّلُ صِنَاعَةَ التَّأْلِيفِ عِنْدَ مَنَ عَرَفَ صِنَاعَةَ الأَعْدَادِ القَوْلِيَّةِ، وَصِنَاعَةِ النِّسَبِ الزَّمَانِيَّةِ فَنَقُولُ :',\n",
       " 'إِنَّ التَّأْلِيفَ إِمَّا أَنْ يَكُونَ مِنَ النَّوْعِ الَّذِي يُسَمَّى « البَسْطِي »، وَإِمَّا مِنَ النَّوْعِ الَّذِي يُسَمَّى « القَبْضِي »، وَإِمَّا أَنْ يَكُونَ مِنَ النَّوْعِ الَّذِي يُسَمَّى « المُعْتَدِلَ ».',\n",
       " 'أَمَّا القَبْضِيُّ، فَالنَّوْعُ المُحْزِنُ؛ وَأَمَّا البَسْطِيُّ فَالمُحَرِّكُ المُطْرِبُ، وَأَمَّا المُعْتَدِلُ فَالمُحَرِّكُ الجَلَالَةَ وَالكَرَمَ وَالمَدْحَ الجَمِيلَ المُسْتَجَادَ.',\n",
       " 'فَيَنْبَغِي أَنْ يَكُونَ القَوْلُ العَدَدِي - أَعْنِي الشِّعْرَ - المُلْبِسَ اللَّحْنَ مُشَاكِلًا فِي المَعْنَى لِطَبْعِ اللَّحْنِ فِي هَذِهِ الأَنْحَاءِ الثَّلَاثَةِ وَأَنْوَاعِهَا، وَفِي نِسْبَةٍ زَمَانِيَّةٍ، أَعْنِي إِيقَاعًا مُشَاكِلًا لِمَعْنَى اللَّحْنِ.',\n",
       " 'فَإِنَّ الإِيقَاعَاتِ الثَّقِيلَةَ المُمْتَدَّةَ الأَزْمَانِ مُشَاكِلَةٌ لِلشَّجَى وَالحُزْنِ، وَالخَفِيفَةُ المُتَقَارِبَةُ مُشَاكِلَةٌ لِلطَّرَبِ وَشِدَّةِ الحَرَكَةِ وَالتَّبَسُّطِ، وَالمُعْتَدِلَةُ مُشَاكِلَةٌ لِلْمُعْتَدِلِ.',\n",
       " 'وَكَذَلِكَ أَوْزَانُ الأَقْوَالِ العَدَدِيَّةِ المُشَابِهَةِ لِلنِّسَبِ، كَمَا قَدْ أَنْبَأْنَا وَأَوْضَحْنَا ذَلِكَ فِي كِتَابِنَا فِيهَا، فَيَنْبَغِي أَنْ تُوضَعَ مُشَابَهَةٌ لِنَحْوٍ مِنْ هَذِهِ الثَّلَاثَةِ الأَنْحَاءِ.',\n",
       " 'فَإِنْ يَكْمُلْ ذَلِكَ، يَكُنْ تَكْمِيلُ حَرَكَةِ النَّفْسِ فِي النَّوْعِ الَّذِي قَدْ [يَكُونُ] تَحْرِيكُهَا فِيهِ مِنَ الأَنْحَاءِ الثَّلَاثَةِ وَأَقْسَامِهَا.',\n",
       " 'وهذا فيما سألت كاف، كفاك اللّه المهمّ من أمر دنياك وآخرتك، والحمد للّه ربّ العالمين.',\n",
       " 'كملت رسالة يعقوب بن إسحاق الكندي في خبر تأليف الألحان.',\n",
       " 'وفرغنا من تحريره 18 شهر ربيع الثّاني سنة 1073، وكان المنقول عنه مكتوبا في أواخر شوّال سنة 631 بمدينة دمشق، من نسخة سقيمة غير معتمدة.',\n",
       " 'فهرست شلواح 1979: [175]']"
      ]
     },
     "execution_count": 51,
     "metadata": {},
     "output_type": "execute_result"
    }
   ],
   "source": [
    "doc.split('\\n')"
   ]
  },
  {
   "cell_type": "code",
   "execution_count": 70,
   "metadata": {},
   "outputs": [
    {
     "data": {
      "text/plain": [
       "(15753, 1920, 5757)"
      ]
     },
     "execution_count": 70,
     "metadata": {},
     "output_type": "execute_result"
    }
   ],
   "source": [
    "clean_doc = cleanup_arabic_text(doc)\n",
    "doc_ngrams = preprocess_text(clean_doc)\n",
    "len(clean_doc),len(doc_ngrams)"
   ]
  },
  {
   "cell_type": "code",
   "execution_count": 71,
   "metadata": {},
   "outputs": [
    {
     "name": "stdout",
     "output_type": "stream",
     "text": [
      "[بالاعتماد على تحقيق يوسف شوقي.]\n",
      "[الرّسالة منقوصة في بدايتها.]\n",
      "وَ « ك » إِلَى « ا »\n",
      "وَقَدْ بَيَّنَّا أَنَّ فَضْلَ\n",
      "فَإِذًا، بُعْدُ « و » الَّتِي هِيَ مُطْلَقُ المَثْلَثِ مِنْ « ا » الَّتِي هِيَ أَوَّلُ\n"
     ]
    }
   ],
   "source": [
    "print(doc[0:200])"
   ]
  },
  {
   "cell_type": "code",
   "execution_count": 72,
   "metadata": {},
   "outputs": [
    {
     "name": "stdout",
     "output_type": "stream",
     "text": [
      "[بالاعتماد علي تحقيق يوسف شوقي.] [الرسالة منقوصة في بدايتها.] و « ك » الي « ا » وقد بينا ان فضل فاذا، بعد « و » التي هي مطلق المثلث من « ا » التي هي اول دساتين المثني هو البعد الذي بالخمسة. ومن الذي ب\n"
     ]
    }
   ],
   "source": [
    "print(clean_doc[0:200])"
   ]
  },
  {
   "cell_type": "code",
   "execution_count": 77,
   "metadata": {},
   "outputs": [
    {
     "data": {
      "text/plain": [
       "['بالاعتماد',\n",
       " 'علي',\n",
       " 'تحقيق',\n",
       " 'يوسف',\n",
       " 'شوقي',\n",
       " 'الرسالة',\n",
       " 'منقوصة',\n",
       " 'بدايتها',\n",
       " 'الي',\n",
       " 'وقد']"
      ]
     },
     "execution_count": 77,
     "metadata": {},
     "output_type": "execute_result"
    }
   ],
   "source": [
    "doc_ngrams[0:10]"
   ]
  },
  {
   "cell_type": "code",
   "execution_count": 74,
   "metadata": {},
   "outputs": [
    {
     "data": {
      "text/plain": [
       "['شوال سنة 631',\n",
       " 'سنة 631 بمدينة',\n",
       " '631 بمدينة دمشق',\n",
       " 'بمدينة دمشق نسخة',\n",
       " 'دمشق نسخة سقيمة',\n",
       " 'نسخة سقيمة معتمدة',\n",
       " 'سقيمة معتمدة فهرست',\n",
       " 'معتمدة فهرست شلواح',\n",
       " 'فهرست شلواح 1979',\n",
       " 'شلواح 1979 175']"
      ]
     },
     "execution_count": 74,
     "metadata": {},
     "output_type": "execute_result"
    }
   ],
   "source": [
    "doc_ngrams[-10:]"
   ]
  },
  {
   "cell_type": "markdown",
   "metadata": {},
   "source": [
    "END UNIT TEST"
   ]
  },
  {
   "cell_type": "code",
   "execution_count": 113,
   "metadata": {},
   "outputs": [],
   "source": [
    "corpus_words = doc_data_df.raw_text.map(lambda _: preprocess_text(_,ngram_range=1))\n",
    "corpus_ngrams = doc_data_df.raw_text.map(lambda _: preprocess_text(_,ngram_range=3))"
   ]
  },
  {
   "cell_type": "code",
   "execution_count": 114,
   "metadata": {},
   "outputs": [
    {
     "data": {
      "text/plain": [
       "0    [بالاعتماد, علي, تحقيق, يوسف, شوقي, الرسالة, م...\n",
       "1    [اعتمادا, علي, تحقيق, زكريا, يوسف, اطال, الله,...\n",
       "2    [انار, اليه, خفيات, الامور, بموضحات, الرسوم, ا...\n",
       "3    [بسم, الله, الرحمان, الرحيم, توفيقي, الا, بالل...\n",
       "4    [الدساتين, علامات, توضع, علي, سواعد, الالات, ذ...\n",
       "Name: raw_text, dtype: object"
      ]
     },
     "execution_count": 114,
     "metadata": {},
     "output_type": "execute_result"
    }
   ],
   "source": [
    "corpus_words.head()"
   ]
  },
  {
   "cell_type": "code",
   "execution_count": 115,
   "metadata": {},
   "outputs": [
    {
     "data": {
      "text/plain": [
       "0    [بالاعتماد, علي, تحقيق, يوسف, شوقي, الرسالة, م...\n",
       "1    [اعتمادا, علي, تحقيق, زكريا, يوسف, اطال, الله,...\n",
       "2    [انار, اليه, خفيات, الامور, بموضحات, الرسوم, ا...\n",
       "3    [بسم, الله, الرحمان, الرحيم, توفيقي, الا, بالل...\n",
       "4    [الدساتين, علامات, توضع, علي, سواعد, الالات, ذ...\n",
       "Name: raw_text, dtype: object"
      ]
     },
     "execution_count": 115,
     "metadata": {},
     "output_type": "execute_result"
    }
   ],
   "source": [
    "corpus_ngrams.head()"
   ]
  },
  {
   "cell_type": "markdown",
   "metadata": {},
   "source": [
    "***"
   ]
  },
  {
   "cell_type": "markdown",
   "metadata": {},
   "source": [
    "## Exploration of tokenized corpus"
   ]
  },
  {
   "cell_type": "markdown",
   "metadata": {},
   "source": [
    "### Distribution of number of words per document"
   ]
  },
  {
   "cell_type": "code",
   "execution_count": 89,
   "metadata": {},
   "outputs": [
    {
     "data": {
      "text/plain": [
       "count       39.000000\n",
       "mean      1713.153846\n",
       "std       2122.908166\n",
       "min         54.000000\n",
       "25%        397.500000\n",
       "50%        998.000000\n",
       "75%       1939.000000\n",
       "max      11485.000000\n",
       "Name: raw_text, dtype: float64"
      ]
     },
     "execution_count": 89,
     "metadata": {},
     "output_type": "execute_result"
    }
   ],
   "source": [
    "u = corpus_words.map(len)\n",
    "u.describe()"
   ]
  },
  {
   "cell_type": "code",
   "execution_count": 91,
   "metadata": {},
   "outputs": [
    {
     "data": {
      "image/png": "[encoded data removed]",
      "text/plain": [
       "<Figure size 432x288 with 1 Axes>"
      ]
     },
     "metadata": {
      "needs_background": "light"
     },
     "output_type": "display_data"
    },
    {
     "data": {
      "text/plain": [
       "<matplotlib.axes._subplots.AxesSubplot at 0x1991d68cf60>"
      ]
     },
     "execution_count": 91,
     "metadata": {},
     "output_type": "execute_result"
    },
    {
     "data": {
      "image/png": "[encoded data removed]",
      "text/plain": [
       "<Figure size 432x288 with 1 Axes>"
      ]
     },
     "metadata": {
      "needs_background": "light"
     },
     "output_type": "display_data"
    }
   ],
   "source": [
    "u.plot.hist()\n",
    "plt.show()\n",
    "u.plot.box()"
   ]
  },
  {
   "cell_type": "markdown",
   "metadata": {},
   "source": [
    "#### very short documents"
   ]
  },
  {
   "cell_type": "code",
   "execution_count": 112,
   "metadata": {},
   "outputs": [
    {
     "name": "stdout",
     "output_type": "stream",
     "text": [
      "5\n"
     ]
    },
    {
     "data": {
      "text/html": [
       "<div>\n",
       "<style scoped>\n",
       "    .dataframe tbody tr th:only-of-type {\n",
       "        vertical-align: middle;\n",
       "    }\n",
       "\n",
       "    .dataframe tbody tr th {\n",
       "        vertical-align: top;\n",
       "    }\n",
       "\n",
       "    .dataframe thead th {\n",
       "        text-align: right;\n",
       "    }\n",
       "</style>\n",
       "<table border=\"1\" class=\"dataframe\">\n",
       "  <thead>\n",
       "    <tr style=\"text-align: right;\">\n",
       "      <th></th>\n",
       "      <th>doc_title</th>\n",
       "      <th>nb_words</th>\n",
       "    </tr>\n",
       "  </thead>\n",
       "  <tbody>\n",
       "    <tr>\n",
       "      <th>13</th>\n",
       "      <td>كتاب الامتاع والانتفاع في مسألة سماع السّماع</td>\n",
       "      <td>54</td>\n",
       "    </tr>\n",
       "    <tr>\n",
       "      <th>35</th>\n",
       "      <td>تلخيص كتاب النّفس</td>\n",
       "      <td>89</td>\n",
       "    </tr>\n",
       "    <tr>\n",
       "      <th>7</th>\n",
       "      <td>كتاب الشّفاء</td>\n",
       "      <td>107</td>\n",
       "    </tr>\n",
       "    <tr>\n",
       "      <th>4</th>\n",
       "      <td>كتاب الأدوار</td>\n",
       "      <td>129</td>\n",
       "    </tr>\n",
       "    <tr>\n",
       "      <th>18</th>\n",
       "      <td>كتاب النّفس : القول في السّمع</td>\n",
       "      <td>172</td>\n",
       "    </tr>\n",
       "  </tbody>\n",
       "</table>\n",
       "</div>"
      ],
      "text/plain": [
       "                                       doc_title  nb_words\n",
       "13  كتاب الامتاع والانتفاع في مسألة سماع السّماع        54\n",
       "35                             تلخيص كتاب النّفس        89\n",
       "7                                   كتاب الشّفاء       107\n",
       "4                                   كتاب الأدوار       129\n",
       "18                 كتاب النّفس : القول في السّمع       172"
      ]
     },
     "execution_count": 112,
     "metadata": {},
     "output_type": "execute_result"
    }
   ],
   "source": [
    "print((u<200).sum())\n",
    "pd.DataFrame({'doc_title':doc_data_df.title_arabic[u<200],'nb_words':u[u<200]}).sort_values(by='nb_words')"
   ]
  },
  {
   "cell_type": "markdown",
   "metadata": {},
   "source": [
    "#### very long documents"
   ]
  },
  {
   "cell_type": "code",
   "execution_count": 110,
   "metadata": {},
   "outputs": [
    {
     "name": "stdout",
     "output_type": "stream",
     "text": [
      "4\n"
     ]
    },
    {
     "data": {
      "text/html": [
       "<div>\n",
       "<style scoped>\n",
       "    .dataframe tbody tr th:only-of-type {\n",
       "        vertical-align: middle;\n",
       "    }\n",
       "\n",
       "    .dataframe tbody tr th {\n",
       "        vertical-align: top;\n",
       "    }\n",
       "\n",
       "    .dataframe thead th {\n",
       "        text-align: right;\n",
       "    }\n",
       "</style>\n",
       "<table border=\"1\" class=\"dataframe\">\n",
       "  <thead>\n",
       "    <tr style=\"text-align: right;\">\n",
       "      <th></th>\n",
       "      <th>doc_title</th>\n",
       "      <th>nb_words</th>\n",
       "    </tr>\n",
       "  </thead>\n",
       "  <tbody>\n",
       "    <tr>\n",
       "      <th>24</th>\n",
       "      <td>رسالة القيان</td>\n",
       "      <td>4508</td>\n",
       "    </tr>\n",
       "    <tr>\n",
       "      <th>12</th>\n",
       "      <td>برء الأسقام، شرح القصيدة في الأنغام</td>\n",
       "      <td>4707</td>\n",
       "    </tr>\n",
       "    <tr>\n",
       "      <th>31</th>\n",
       "      <td>كتاب اللهو والملاهي</td>\n",
       "      <td>5168</td>\n",
       "    </tr>\n",
       "    <tr>\n",
       "      <th>27</th>\n",
       "      <td>العقد الفريد</td>\n",
       "      <td>11485</td>\n",
       "    </tr>\n",
       "  </tbody>\n",
       "</table>\n",
       "</div>"
      ],
      "text/plain": [
       "                              doc_title  nb_words\n",
       "24                         رسالة القيان      4508\n",
       "12  برء الأسقام، شرح القصيدة في الأنغام      4707\n",
       "31                  كتاب اللهو والملاهي      5168\n",
       "27                         العقد الفريد     11485"
      ]
     },
     "execution_count": 110,
     "metadata": {},
     "output_type": "execute_result"
    }
   ],
   "source": [
    "print((u>4000).sum())\n",
    "pd.DataFrame({'doc_title':doc_data_df.title_arabic[u>4000],'nb_words':u[u>4000]}).sort_values(by='nb_words')"
   ]
  },
  {
   "cell_type": "markdown",
   "metadata": {},
   "source": [
    "### Distribution of word frequency"
   ]
  },
  {
   "cell_type": "code",
   "execution_count": 175,
   "metadata": {},
   "outputs": [
    {
     "name": "stdout",
     "output_type": "stream",
     "text": [
      "number of words: 66813\n",
      "number of distinct words: 20872\n",
      "Number of distinct words that occur only once: 13481\n"
     ]
    }
   ],
   "source": [
    "fdist_words = FreqDist([tok for doc in corpus_words for tok in doc])\n",
    "fdist_words.N(),fdist_words.B()\n",
    "print(\"number of words:\",fdist_words.N())\n",
    "print(\"number of distinct words:\",fdist_words.B())\n",
    "print('Number of distinct words that occur only once:',(pd.Series(list(fdist_words.values()))==1).sum())"
   ]
  },
  {
   "cell_type": "code",
   "execution_count": 134,
   "metadata": {},
   "outputs": [
    {
     "name": "stdout",
     "output_type": "stream",
     "text": [
      "The 20 most common characters:\n"
     ]
    },
    {
     "data": {
      "text/plain": [
       "[('علي', 1069),\n",
       " ('ان', 914),\n",
       " ('الي', 904),\n",
       " ('قال', 538),\n",
       " ('بن', 480),\n",
       " ('الله', 423),\n",
       " ('كان', 301),\n",
       " ('فقال', 271),\n",
       " ('اذا', 244),\n",
       " ('او', 241),\n",
       " ('الا', 213),\n",
       " ('الاول', 207),\n",
       " ('وكان', 195),\n",
       " ('الثاني', 190),\n",
       " ('حتي', 182),\n",
       " ('وقال', 173),\n",
       " ('المثني', 159),\n",
       " ('النغم', 159),\n",
       " ('وقد', 156),\n",
       " ('يكون', 154)]"
      ]
     },
     "execution_count": 134,
     "metadata": {},
     "output_type": "execute_result"
    }
   ],
   "source": [
    "print('The 20 most common words:')\n",
    "fdist_words.most_common(20)"
   ]
  },
  {
   "cell_type": "code",
   "execution_count": 135,
   "metadata": {},
   "outputs": [
    {
     "name": "stdout",
     "output_type": "stream",
     "text": [
      "The 20 least common characters:\n"
     ]
    },
    {
     "data": {
      "text/plain": [
       "[('القد', 1),\n",
       " ('الانشراح', 1),\n",
       " ('خانة', 1),\n",
       " ('جركة', 1),\n",
       " ('لبينا', 1),\n",
       " ('وتهليلة', 1),\n",
       " ('يخصهم', 1),\n",
       " ('الصنايع', 1),\n",
       " ('لاكن', 1),\n",
       " ('القهار', 1),\n",
       " ('الاستفتاحات', 1),\n",
       " ('باليك', 1),\n",
       " ('مددت', 1),\n",
       " ('بصنعة', 1),\n",
       " ('ءاله', 1),\n",
       " ('الفضلا', 1),\n",
       " ('البراني', 1),\n",
       " ('المربعة', 1),\n",
       " ('لرصد', 1),\n",
       " ('وجركة', 1)]"
      ]
     },
     "execution_count": 135,
     "metadata": {},
     "output_type": "execute_result"
    }
   ],
   "source": [
    "print('The 20 least common words:')\n",
    "fdist_words.most_common()[-20:]"
   ]
  },
  {
   "cell_type": "code",
   "execution_count": 138,
   "metadata": {},
   "outputs": [
    {
     "data": {
      "image/png": "[encoded data removed]",
      "text/plain": [
       "<Figure size 432x288 with 1 Axes>"
      ]
     },
     "metadata": {
      "needs_background": "light"
     },
     "output_type": "display_data"
    },
    {
     "data": {
      "text/plain": [
       "<matplotlib.axes._subplots.AxesSubplot at 0x199204af7b8>"
      ]
     },
     "execution_count": 138,
     "metadata": {},
     "output_type": "execute_result"
    }
   ],
   "source": [
    "# the 10 most frequent words account for ~ 12% of all word occurrences in the corpus.\n",
    "\n",
    "fdist_words.plot(20, cumulative=True)"
   ]
  },
  {
   "cell_type": "code",
   "execution_count": 137,
   "metadata": {},
   "outputs": [
    {
     "data": {
      "image/png": "[encoded data removed]",
      "text/plain": [
       "<Figure size 432x288 with 1 Axes>"
      ]
     },
     "metadata": {
      "needs_background": "light"
     },
     "output_type": "display_data"
    },
    {
     "data": {
      "text/plain": [
       "<matplotlib.axes._subplots.AxesSubplot at 0x199202cd710>"
      ]
     },
     "execution_count": 137,
     "metadata": {},
     "output_type": "execute_result"
    }
   ],
   "source": [
    "# the 100 most frequent words account for ~ 20% of all word occurrences in the corpus.\n",
    "\n",
    "fdist_words.plot(100, cumulative=True)"
   ]
  },
  {
   "cell_type": "code",
   "execution_count": 146,
   "metadata": {},
   "outputs": [
    {
     "data": {
      "text/plain": [
       "(20872,)"
      ]
     },
     "execution_count": 146,
     "metadata": {},
     "output_type": "execute_result"
    }
   ],
   "source": [
    "word_freq_df = pd.Series(list(fdist_words.values()),index=list(fdist_words.keys()))\n",
    "word_freq_df.shape"
   ]
  },
  {
   "cell_type": "code",
   "execution_count": 147,
   "metadata": {},
   "outputs": [
    {
     "data": {
      "text/plain": [
       "count    20872.000000\n",
       "mean         3.201083\n",
       "std         15.666554\n",
       "min          1.000000\n",
       "25%          1.000000\n",
       "50%          1.000000\n",
       "75%          2.000000\n",
       "max       1069.000000\n",
       "dtype: float64"
      ]
     },
     "execution_count": 147,
     "metadata": {},
     "output_type": "execute_result"
    }
   ],
   "source": [
    "word_freq_df.describe()"
   ]
  },
  {
   "cell_type": "code",
   "execution_count": 160,
   "metadata": {},
   "outputs": [
    {
     "data": {
      "image/png": "[encoded data removed]",
      "text/plain": [
       "<Figure size 432x288 with 1 Axes>"
      ]
     },
     "metadata": {
      "needs_background": "light"
     },
     "output_type": "display_data"
    },
    {
     "data": {
      "image/png": "[encoded data removed]",
      "text/plain": [
       "<Figure size 432x288 with 1 Axes>"
      ]
     },
     "metadata": {
      "needs_background": "light"
     },
     "output_type": "display_data"
    },
    {
     "data": {
      "image/png": "[encoded data removed]",
      "text/plain": [
       "<Figure size 432x288 with 1 Axes>"
      ]
     },
     "metadata": {
      "needs_background": "light"
     },
     "output_type": "display_data"
    }
   ],
   "source": [
    "word_freq_df.plot.hist()\n",
    "fig1=plt.title('Word frequency distribution')\n",
    "plt.show()\n",
    "word_freq_df[word_freq_df>100].plot.hist()\n",
    "fig2=plt.title('Word frequency distribution of words with MORE than 100 occurrences')\n",
    "plt.show()\n",
    "word_freq_df[word_freq_df<20].plot.hist()\n",
    "fig3=plt.title('Word frequency distribution of words with LESS than 20 occurrences')"
   ]
  },
  {
   "cell_type": "markdown",
   "metadata": {},
   "source": [
    "### Distribution of ngram frequency (n=1,2,3)"
   ]
  },
  {
   "cell_type": "code",
   "execution_count": 173,
   "metadata": {},
   "outputs": [
    {
     "name": "stdout",
     "output_type": "stream",
     "text": [
      "number of ngrams: 200322\n",
      "number of distinct ngrams: 140269\n",
      "Number of grams that occur only once: 125664\n"
     ]
    }
   ],
   "source": [
    "fdist_ngrams = FreqDist([tok for doc in corpus_ngrams for tok in doc])\n",
    "fdist_ngrams.N(),fdist_ngrams.B()\n",
    "print(\"number of ngrams:\",fdist_ngrams.N())\n",
    "print(\"number of distinct ngrams:\",fdist_ngrams.B())\n",
    "print('Number of distinct ngrams that occur only once:',(pd.Series(list(fdist_ngrams.values()))==1).sum())"
   ]
  },
  {
   "cell_type": "code",
   "execution_count": 174,
   "metadata": {},
   "outputs": [
    {
     "name": "stdout",
     "output_type": "stream",
     "text": [
      "The 20 most common ngrams:\n"
     ]
    },
    {
     "data": {
      "text/plain": [
       "[('علي', 1069),\n",
       " ('ان', 914),\n",
       " ('الي', 904),\n",
       " ('قال', 538),\n",
       " ('بن', 480),\n",
       " ('الله', 423),\n",
       " ('كان', 301),\n",
       " ('فقال', 271),\n",
       " ('اذا', 244),\n",
       " ('او', 241),\n",
       " ('الا', 213),\n",
       " ('الاول', 207),\n",
       " ('وكان', 195),\n",
       " ('الثاني', 190),\n",
       " ('حتي', 182),\n",
       " ('وقال', 173),\n",
       " ('المثني', 159),\n",
       " ('النغم', 159),\n",
       " ('وقد', 156),\n",
       " ('يكون', 154)]"
      ]
     },
     "execution_count": 174,
     "metadata": {},
     "output_type": "execute_result"
    }
   ],
   "source": [
    "print('The 20 most common ngrams:')\n",
    "fdist_ngrams.most_common(20)"
   ]
  },
  {
   "cell_type": "markdown",
   "metadata": {},
   "source": [
    "### Observations and conclusions\n",
    "\n",
    "- more than 65% of the tokens (words or ngrams) occur only once in the entire corpus, i.e. hapaxes.\n",
    "- I believe light stemming will help conflate similar words and reduce the number of hapaxes ..."
   ]
  },
  {
   "cell_type": "markdown",
   "metadata": {},
   "source": [
    "******"
   ]
  },
  {
   "cell_type": "markdown",
   "metadata": {},
   "source": [
    "## Save results to a file"
   ]
  },
  {
   "cell_type": "code",
   "execution_count": 176,
   "metadata": {},
   "outputs": [],
   "source": [
    "with open('../pickle_files/doc_tokenized_data.pickle', 'wb') as f:\n",
    "    pickle.dump([corpus_words, corpus_ngrams], f)"
   ]
  },
  {
   "cell_type": "code",
   "execution_count": null,
   "metadata": {},
   "outputs": [],
   "source": []
  }
 ],
 "metadata": {
  "kernelspec": {
   "display_name": "Python 3",
   "language": "python",
   "name": "python3"
  },
  "language_info": {
   "codemirror_mode": {
    "name": "ipython",
    "version": 3
   },
   "file_extension": ".py",
   "mimetype": "text/x-python",
   "name": "python",
   "nbconvert_exporter": "python",
   "pygments_lexer": "ipython3",
   "version": "3.7.3"
  },
  "toc": {
   "base_numbering": 1,
   "nav_menu": {},
   "number_sections": true,
   "sideBar": true,
   "skip_h1_title": false,
   "title_cell": "Table of Contents",
   "title_sidebar": "Contents",
   "toc_cell": false,
   "toc_position": {},
   "toc_section_display": true,
   "toc_window_display": true
  }
 },
 "nbformat": 4,
 "nbformat_minor": 2
}
