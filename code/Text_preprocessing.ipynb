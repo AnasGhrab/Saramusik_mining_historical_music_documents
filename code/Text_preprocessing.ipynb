{
 "cells": [
  {
   "cell_type": "markdown",
   "metadata": {},
   "source": [
    "**Objective**\n",
    "\n",
    "This script reads raw text content of the documents from a pickle file and cleans up this text using standard operations specific to the **Arabic** language and to this corpus. Pre-exploration of the corpus helps determine those specificities.\n",
    "\n",
    "The preprocessing pipeline is as follows:\n",
    "\n",
    "1. Orthographic normalization (remove diacritic marks and tatwil character; normalize different forms of alif character)\n",
    "2. Tokenization (remove non-word characters and convert to sequence of words)\n",
    "3. Light stemming based on common prefixes and suffixes (**TO DO**)\n",
    "4. remove stopwords\n",
    "5. remove one-character and two-character tokens"
   ]
  },
  {
   "cell_type": "code",
   "execution_count": 1,
   "metadata": {},
   "outputs": [],
   "source": [
    "import pandas as pd\n",
    "from matplotlib import pyplot as plt\n",
    "import seaborn as sns"
   ]
  },
  {
   "cell_type": "code",
   "execution_count": 2,
   "metadata": {},
   "outputs": [],
   "source": [
    "import re\n",
    "from collections import Counter\n",
    "from collections import defaultdict"
   ]
  },
  {
   "cell_type": "code",
   "execution_count": 3,
   "metadata": {},
   "outputs": [],
   "source": [
    "import pickle"
   ]
  },
  {
   "cell_type": "code",
   "execution_count": 4,
   "metadata": {},
   "outputs": [],
   "source": [
    "import arabic_reshaper\n",
    "from bidi.algorithm import get_display"
   ]
  },
  {
   "cell_type": "markdown",
   "metadata": {},
   "source": [
    "## Read data files\n",
    "- meta data\n",
    "- raw corpus text\n",
    "- special vocabulary list"
   ]
  },
  {
   "cell_type": "markdown",
   "metadata": {},
   "source": [
    "###  raw text data and metadata"
   ]
  },
  {
   "cell_type": "code",
   "execution_count": 5,
   "metadata": {},
   "outputs": [
    {
     "data": {
      "text/plain": [
       "(pandas.core.frame.DataFrame, (39, 9))"
      ]
     },
     "execution_count": 5,
     "metadata": {},
     "output_type": "execute_result"
    }
   ],
   "source": [
    "with open('../pickle_files/doc_parsed_data.pickle', 'rb') as f:\n",
    "    doc_data_df = pickle.load(f)\n",
    "type(doc_data_df),doc_data_df.shape"
   ]
  },
  {
   "cell_type": "code",
   "execution_count": 6,
   "metadata": {
    "scrolled": false
   },
   "outputs": [
    {
     "data": {
      "text/html": [
       "<div>\n",
       "<style scoped>\n",
       "    .dataframe tbody tr th:only-of-type {\n",
       "        vertical-align: middle;\n",
       "    }\n",
       "\n",
       "    .dataframe tbody tr th {\n",
       "        vertical-align: top;\n",
       "    }\n",
       "\n",
       "    .dataframe thead th {\n",
       "        text-align: right;\n",
       "    }\n",
       "</style>\n",
       "<table border=\"1\" class=\"dataframe\">\n",
       "  <thead>\n",
       "    <tr style=\"text-align: right;\">\n",
       "      <th></th>\n",
       "      <th>hyperlink</th>\n",
       "      <th>filename</th>\n",
       "      <th>author</th>\n",
       "      <th>source</th>\n",
       "      <th>title_arabic</th>\n",
       "      <th>title_latin_translit</th>\n",
       "      <th>tags</th>\n",
       "      <th>section_titles</th>\n",
       "      <th>raw_text</th>\n",
       "    </tr>\n",
       "  </thead>\n",
       "  <tbody>\n",
       "    <tr>\n",
       "      <th>0</th>\n",
       "      <td>http://saramusik.org/5/textei/</td>\n",
       "      <td>5.txt</td>\n",
       "      <td>يعقوب بن إسحاق الكندي</td>\n",
       "      <td>[بريطانيا العظمى]</td>\n",
       "      <td>رسالة في خبر صناعة التّأليف</td>\n",
       "      <td>risāla fī ẖabar ṣināʿat al-taʾlīf</td>\n",
       "      <td>[الموسيقى والفلسفة, المدرسة الأفلاطونيّة المتج...</td>\n",
       "      <td>[1 , تبيا, النّغم المتشابه في الكيفيّة, تمثيل ...</td>\n",
       "      <td>[بالاعتماد على تحقيق يوسف شوقي.]\\n[الرّسالة من...</td>\n",
       "    </tr>\n",
       "    <tr>\n",
       "      <th>1</th>\n",
       "      <td>http://saramusik.org/6/textei/</td>\n",
       "      <td>6.txt</td>\n",
       "      <td>يعقوب بن إسحاق الكندي</td>\n",
       "      <td>[بريطانيا العظمى]</td>\n",
       "      <td>كتاب المصوّتات الوتريّة من ذات الوتر الواحد إل...</td>\n",
       "      <td>kitāb al-muṣawwiṭāt al-watariyya min ḍāt al-wa...</td>\n",
       "      <td>[الموسيقى والفلسفة, المدرسة الأفلاطونيّة المتج...</td>\n",
       "      <td>[لمقالة الأولى : في ذكر الآلات الصّوتيّة وسائر...</td>\n",
       "      <td>[اعتمادا على تحقيق زكريّا يوسف]\\n\\nأَطَالَ الَ...</td>\n",
       "    </tr>\n",
       "    <tr>\n",
       "      <th>2</th>\n",
       "      <td>http://saramusik.org/7/textei/</td>\n",
       "      <td>7.txt</td>\n",
       "      <td>يعقوب بن إسحاق الكندي</td>\n",
       "      <td>[ألمانيا, تونس, ألمانيا]</td>\n",
       "      <td>رسالة في أجزاء خبريّة في الموسيقى</td>\n",
       "      <td>risāla fī aǧzāʾ ẖabariyya fī al-mūsīqā</td>\n",
       "      <td>[المدرسة الأفلاطونيّة المتجدّدة]</td>\n",
       "      <td>[مقدّمة, لمقالة الأول, لمقالة الثّاني, لمقالة ...</td>\n",
       "      <td>أنار إليه من خفيّات الأمور بموضحات الرّسوم أفض...</td>\n",
       "    </tr>\n",
       "    <tr>\n",
       "      <th>3</th>\n",
       "      <td>http://saramusik.org/9/textei/</td>\n",
       "      <td>9.txt</td>\n",
       "      <td>يعقوب بن إسحاق الكندي</td>\n",
       "      <td>[ألمانيا, تركيا, ألمانيا]</td>\n",
       "      <td>رسالة الكندي في اللّحون والنّغم</td>\n",
       "      <td>Risālat al-kindī fī al-luhūn wa al-naġam</td>\n",
       "      <td>[المدرسة الأفلاطونيّة المتجدّدة]</td>\n",
       "      <td>[مقدّمة, لفنّ الأوّل : [في تركيب العود وقسمة ا...</td>\n",
       "      <td>بِسْمِ اللَّهِ الرَّحْمَانِ الرَّحِيمِ\\nوَمَا ...</td>\n",
       "    </tr>\n",
       "    <tr>\n",
       "      <th>4</th>\n",
       "      <td>http://saramusik.org/10/textei/</td>\n",
       "      <td>10.txt</td>\n",
       "      <td>صفي الدّين عبد المؤمن أبو يوسف بن فخر الأرموي</td>\n",
       "      <td>[تونس, تونس, نمسا, سعوديّة, مصر, مصر, مصر, مصر...</td>\n",
       "      <td>كتاب الأدوار</td>\n",
       "      <td>Kitāb al-Adwār</td>\n",
       "      <td>[نظريّات موسيقيّة, المدرسة الأرمويّة]</td>\n",
       "      <td>[مقدّمة, ِي تَعْرِيفِ النَّغَمِ وَبَيَانِ الحِ...</td>\n",
       "      <td>الدَّسَاتِينُ هِيَ عَلَامَاتٌ تُوضَعُ عَلَى سَ...</td>\n",
       "    </tr>\n",
       "  </tbody>\n",
       "</table>\n",
       "</div>"
      ],
      "text/plain": [
       "                         hyperlink filename  \\\n",
       "0   http://saramusik.org/5/textei/    5.txt   \n",
       "1   http://saramusik.org/6/textei/    6.txt   \n",
       "2   http://saramusik.org/7/textei/    7.txt   \n",
       "3   http://saramusik.org/9/textei/    9.txt   \n",
       "4  http://saramusik.org/10/textei/   10.txt   \n",
       "\n",
       "                                          author  \\\n",
       "0                          يعقوب بن إسحاق الكندي   \n",
       "1                          يعقوب بن إسحاق الكندي   \n",
       "2                          يعقوب بن إسحاق الكندي   \n",
       "3                          يعقوب بن إسحاق الكندي   \n",
       "4  صفي الدّين عبد المؤمن أبو يوسف بن فخر الأرموي   \n",
       "\n",
       "                                              source  \\\n",
       "0                                  [بريطانيا العظمى]   \n",
       "1                                  [بريطانيا العظمى]   \n",
       "2                           [ألمانيا, تونس, ألمانيا]   \n",
       "3                          [ألمانيا, تركيا, ألمانيا]   \n",
       "4  [تونس, تونس, نمسا, سعوديّة, مصر, مصر, مصر, مصر...   \n",
       "\n",
       "                                        title_arabic  \\\n",
       "0                        رسالة في خبر صناعة التّأليف   \n",
       "1  كتاب المصوّتات الوتريّة من ذات الوتر الواحد إل...   \n",
       "2                  رسالة في أجزاء خبريّة في الموسيقى   \n",
       "3                    رسالة الكندي في اللّحون والنّغم   \n",
       "4                                       كتاب الأدوار   \n",
       "\n",
       "                                title_latin_translit  \\\n",
       "0                  risāla fī ẖabar ṣināʿat al-taʾlīf   \n",
       "1  kitāb al-muṣawwiṭāt al-watariyya min ḍāt al-wa...   \n",
       "2             risāla fī aǧzāʾ ẖabariyya fī al-mūsīqā   \n",
       "3           Risālat al-kindī fī al-luhūn wa al-naġam   \n",
       "4                                     Kitāb al-Adwār   \n",
       "\n",
       "                                                tags  \\\n",
       "0  [الموسيقى والفلسفة, المدرسة الأفلاطونيّة المتج...   \n",
       "1  [الموسيقى والفلسفة, المدرسة الأفلاطونيّة المتج...   \n",
       "2                   [المدرسة الأفلاطونيّة المتجدّدة]   \n",
       "3                   [المدرسة الأفلاطونيّة المتجدّدة]   \n",
       "4              [نظريّات موسيقيّة, المدرسة الأرمويّة]   \n",
       "\n",
       "                                      section_titles  \\\n",
       "0  [1 , تبيا, النّغم المتشابه في الكيفيّة, تمثيل ...   \n",
       "1  [لمقالة الأولى : في ذكر الآلات الصّوتيّة وسائر...   \n",
       "2  [مقدّمة, لمقالة الأول, لمقالة الثّاني, لمقالة ...   \n",
       "3  [مقدّمة, لفنّ الأوّل : [في تركيب العود وقسمة ا...   \n",
       "4  [مقدّمة, ِي تَعْرِيفِ النَّغَمِ وَبَيَانِ الحِ...   \n",
       "\n",
       "                                            raw_text  \n",
       "0  [بالاعتماد على تحقيق يوسف شوقي.]\\n[الرّسالة من...  \n",
       "1  [اعتمادا على تحقيق زكريّا يوسف]\\n\\nأَطَالَ الَ...  \n",
       "2  أنار إليه من خفيّات الأمور بموضحات الرّسوم أفض...  \n",
       "3  بِسْمِ اللَّهِ الرَّحْمَانِ الرَّحِيمِ\\nوَمَا ...  \n",
       "4  الدَّسَاتِينُ هِيَ عَلَامَاتٌ تُوضَعُ عَلَى سَ...  "
      ]
     },
     "execution_count": 6,
     "metadata": {},
     "output_type": "execute_result"
    }
   ],
   "source": [
    "doc_data_df.head()"
   ]
  },
  {
   "cell_type": "markdown",
   "metadata": {},
   "source": [
    "### Special vocabulary words\n",
    "\n",
    "Words that will be preprocessed in a special way."
   ]
  },
  {
   "cell_type": "code",
   "execution_count": 7,
   "metadata": {},
   "outputs": [
    {
     "data": {
      "text/plain": [
       "18"
      ]
     },
     "execution_count": 7,
     "metadata": {},
     "output_type": "execute_result"
    }
   ],
   "source": [
    "special_words_list =[]\n",
    "with open('../resources/special_vocabulary.txt', 'r', encoding='utf8') as f:\n",
    "    for line in f:\n",
    "        special_words_list.append(line.strip())\n",
    "len(special_words_list)"
   ]
  },
  {
   "cell_type": "code",
   "execution_count": 8,
   "metadata": {},
   "outputs": [
    {
     "data": {
      "text/plain": [
       "['اصفهان',\n",
       " 'حجاز',\n",
       " 'راست',\n",
       " 'زركشي',\n",
       " 'زروكند',\n",
       " 'زنكلاه',\n",
       " 'شهناز',\n",
       " 'عراق',\n",
       " 'نيروز',\n",
       " 'بزرك',\n",
       " 'سلمك',\n",
       " 'كوشت',\n",
       " 'ماياه',\n",
       " 'نوى',\n",
       " 'أبوسليك',\n",
       " 'عشاق',\n",
       " 'حسيني',\n",
       " 'رهاوي']"
      ]
     },
     "execution_count": 8,
     "metadata": {},
     "output_type": "execute_result"
    }
   ],
   "source": [
    "special_words_list"
   ]
  },
  {
   "cell_type": "markdown",
   "metadata": {},
   "source": [
    "****"
   ]
  },
  {
   "cell_type": "markdown",
   "metadata": {},
   "source": [
    "## Exploratory analysis of raw corpus"
   ]
  },
  {
   "cell_type": "markdown",
   "metadata": {},
   "source": [
    "### Corpus character set\n",
    "\n",
    "What are the characters in this corpus and how frequently do they occur."
   ]
  },
  {
   "cell_type": "markdown",
   "metadata": {},
   "source": [
    "#### Overview of character set"
   ]
  },
  {
   "cell_type": "code",
   "execution_count": 9,
   "metadata": {},
   "outputs": [],
   "source": [
    "from nltk import FreqDist"
   ]
  },
  {
   "cell_type": "code",
   "execution_count": 10,
   "metadata": {},
   "outputs": [],
   "source": [
    "def analyze_corpus_charset(corpus):\n",
    "    fdist = FreqDist([c for doc in corpus for c in doc])\n",
    "\n",
    "    corpus_chars_df = pd.DataFrame(fdist.items())\n",
    "    corpus_chars_df.columns = ['character','frequency']\n",
    "    corpus_chars_df['unicode_dec']= corpus_chars_df.character.map(ord)\n",
    "    corpus_chars_df['unicode_hex']= corpus_chars_df.character.map(lambda x: hex(ord(x)))\n",
    "    corpus_chars_df = corpus_chars_df.set_index('character')\n",
    "\n",
    "    idx1= (corpus_chars_df.unicode_hex.map(len)==5) & (corpus_chars_df.unicode_hex.str.startswith('0x64')|corpus_chars_df.unicode_hex.str.startswith('0x65'))\n",
    "    idx2 = (corpus_chars_df.unicode_hex.str.startswith('0xfb') | corpus_chars_df.unicode_hex.str.startswith('0xfc') | corpus_chars_df.unicode_hex.str.startswith('0xfd') | corpus_chars_df.unicode_hex.str.startswith('0xfe')) & (corpus_chars_df.unicode_hex.map(len)==6)\n",
    "\n",
    "    print(\"number of characters: \", fdist.N())\n",
    "    print(\"number of distinct characters: \", fdist.B())\n",
    "    print(\"Number of characters from the Standard Arabic character set: %d\" %idx1.sum())\n",
    "\n",
    "    print('List of distinct characters:')\n",
    "    print(sorted(list(fdist.keys())))\n",
    "\n",
    "    print('The 20 most common characters:')\n",
    "    print(fdist.most_common(20))\n",
    "\n",
    "    print('The 20 least common characters:')\n",
    "    print(fdist.most_common()[-20:])\n",
    "\n",
    "    fdist.plot(20, cumulative=True)\n",
    "\n",
    "    return corpus_chars_df"
   ]
  },
  {
   "cell_type": "code",
   "execution_count": 11,
   "metadata": {},
   "outputs": [
    {
     "name": "stdout",
     "output_type": "stream",
     "text": [
      "number of characters:  542130\n",
      "number of distinct characters:  128\n",
      "Number of characters from the Standard Arabic character set: 22\n",
      "List of distinct characters:\n",
      "['\\t', '\\n', ' ', '!', '\"', '(', ')', '*', '+', '-', '.', '/', '0', '1', '2', '3', '4', '5', '6', '7', '8', '9', ':', '>', 'N', '[', ']', 'e', 'n', 'o', '{', '}', '~', '\\xa0', '¦', '«', '»', 'έ', 'γ', 'ν', 'ο', 'ς', 'ג', 'ד', 'ה', 'ז', 'ח', 'כ', 'ן', '،', '؛', '؟', 'ء', 'آ', 'أ', 'ؤ', 'إ', 'ئ', 'ا', 'ب', 'ة', 'ت', 'ث', 'ج', 'ح', 'خ', 'د', 'ذ', 'ر', 'ز', 'س', 'ش', 'ص', 'ض', 'ط', 'ظ', 'ع', 'غ', 'ـ', 'ف', 'ق', 'ك', 'ل', 'م', 'ن', 'ه', 'و', 'ى', 'ي', 'ً', 'ٌ', 'ٍ', 'َ', 'ُ', 'ِ', 'ّ', 'ْ', 'ٓ', 'ٔ', 'ٕ', '٠', '١', '٢', '٣', '٤', '٥', '٦', '٧', '٨', '٩', '٬', '٭', 'ٱ', 'ە', '۟', '۴', '۵', '۶', '\\u200f', '‘', '’', '“', '”', '…', '\\u2028', '\\u202c', '\\u202e', '❊']\n",
      "The 20 most common characters:\n",
      "[(' ', 82207), ('ا', 49313), ('ل', 41807), ('َ', 31558), ('ي', 22936), ('و', 22492), ('ن', 22113), ('م', 21927), ('ِ', 15484), ('ر', 14677), ('ه', 14295), ('ب', 13448), ('ّ', 12773), ('ت', 12313), ('ع', 12075), ('ف', 10736), ('ْ', 10567), ('د', 8590), ('أ', 8497), ('ُ', 8448)]\n",
      "The 20 least common characters:\n",
      "[('‘', 3), ('ە', 2), ('ד', 2), ('>', 2), ('γ', 1), ('έ', 1), ('ν', 1), ('ο', 1), ('ς', 1), ('٭', 1), ('כ', 1), ('ג', 1), ('ה', 1), ('ן', 1), ('ז', 1), ('ח', 1), ('۟', 1), ('\\u202e', 1), ('\\u202c', 1), ('٬', 1)]\n"
     ]
    },
    {
     "data": {
      "image/png": "[encoded data removed]",
      "text/plain": [
       "<Figure size 432x288 with 1 Axes>"
      ]
     },
     "metadata": {
      "needs_background": "light"
     },
     "output_type": "display_data"
    }
   ],
   "source": [
    "raw_corpus_chars_df = analyze_corpus_charset(doc_data_df.raw_text)"
   ]
  },
  {
   "cell_type": "code",
   "execution_count": 12,
   "metadata": {},
   "outputs": [
    {
     "name": "stdout",
     "output_type": "stream",
     "text": [
      "22\n"
     ]
    },
    {
     "data": {
      "text/html": [
       "<div>\n",
       "<style scoped>\n",
       "    .dataframe tbody tr th:only-of-type {\n",
       "        vertical-align: middle;\n",
       "    }\n",
       "\n",
       "    .dataframe tbody tr th {\n",
       "        vertical-align: top;\n",
       "    }\n",
       "\n",
       "    .dataframe thead th {\n",
       "        text-align: right;\n",
       "    }\n",
       "</style>\n",
       "<table border=\"1\" class=\"dataframe\">\n",
       "  <thead>\n",
       "    <tr style=\"text-align: right;\">\n",
       "      <th></th>\n",
       "      <th>frequency</th>\n",
       "      <th>unicode_dec</th>\n",
       "      <th>unicode_hex</th>\n",
       "    </tr>\n",
       "    <tr>\n",
       "      <th>character</th>\n",
       "      <th></th>\n",
       "      <th></th>\n",
       "      <th></th>\n",
       "    </tr>\n",
       "  </thead>\n",
       "  <tbody>\n",
       "    <tr>\n",
       "      <th>ـ</th>\n",
       "      <td>2803</td>\n",
       "      <td>1600</td>\n",
       "      <td>0x640</td>\n",
       "    </tr>\n",
       "    <tr>\n",
       "      <th>ف</th>\n",
       "      <td>10736</td>\n",
       "      <td>1601</td>\n",
       "      <td>0x641</td>\n",
       "    </tr>\n",
       "    <tr>\n",
       "      <th>ق</th>\n",
       "      <td>8138</td>\n",
       "      <td>1602</td>\n",
       "      <td>0x642</td>\n",
       "    </tr>\n",
       "    <tr>\n",
       "      <th>ك</th>\n",
       "      <td>8144</td>\n",
       "      <td>1603</td>\n",
       "      <td>0x643</td>\n",
       "    </tr>\n",
       "    <tr>\n",
       "      <th>ل</th>\n",
       "      <td>41807</td>\n",
       "      <td>1604</td>\n",
       "      <td>0x644</td>\n",
       "    </tr>\n",
       "    <tr>\n",
       "      <th>م</th>\n",
       "      <td>21927</td>\n",
       "      <td>1605</td>\n",
       "      <td>0x645</td>\n",
       "    </tr>\n",
       "    <tr>\n",
       "      <th>ن</th>\n",
       "      <td>22113</td>\n",
       "      <td>1606</td>\n",
       "      <td>0x646</td>\n",
       "    </tr>\n",
       "    <tr>\n",
       "      <th>ه</th>\n",
       "      <td>14295</td>\n",
       "      <td>1607</td>\n",
       "      <td>0x647</td>\n",
       "    </tr>\n",
       "    <tr>\n",
       "      <th>و</th>\n",
       "      <td>22492</td>\n",
       "      <td>1608</td>\n",
       "      <td>0x648</td>\n",
       "    </tr>\n",
       "    <tr>\n",
       "      <th>ى</th>\n",
       "      <td>3565</td>\n",
       "      <td>1609</td>\n",
       "      <td>0x649</td>\n",
       "    </tr>\n",
       "    <tr>\n",
       "      <th>ي</th>\n",
       "      <td>22936</td>\n",
       "      <td>1610</td>\n",
       "      <td>0x64a</td>\n",
       "    </tr>\n",
       "    <tr>\n",
       "      <th>ً</th>\n",
       "      <td>932</td>\n",
       "      <td>1611</td>\n",
       "      <td>0x64b</td>\n",
       "    </tr>\n",
       "    <tr>\n",
       "      <th>ٌ</th>\n",
       "      <td>1113</td>\n",
       "      <td>1612</td>\n",
       "      <td>0x64c</td>\n",
       "    </tr>\n",
       "    <tr>\n",
       "      <th>ٍ</th>\n",
       "      <td>889</td>\n",
       "      <td>1613</td>\n",
       "      <td>0x64d</td>\n",
       "    </tr>\n",
       "    <tr>\n",
       "      <th>َ</th>\n",
       "      <td>31558</td>\n",
       "      <td>1614</td>\n",
       "      <td>0x64e</td>\n",
       "    </tr>\n",
       "    <tr>\n",
       "      <th>ُ</th>\n",
       "      <td>8448</td>\n",
       "      <td>1615</td>\n",
       "      <td>0x64f</td>\n",
       "    </tr>\n",
       "    <tr>\n",
       "      <th>ِ</th>\n",
       "      <td>15484</td>\n",
       "      <td>1616</td>\n",
       "      <td>0x650</td>\n",
       "    </tr>\n",
       "    <tr>\n",
       "      <th>ّ</th>\n",
       "      <td>12773</td>\n",
       "      <td>1617</td>\n",
       "      <td>0x651</td>\n",
       "    </tr>\n",
       "    <tr>\n",
       "      <th>ْ</th>\n",
       "      <td>10567</td>\n",
       "      <td>1618</td>\n",
       "      <td>0x652</td>\n",
       "    </tr>\n",
       "    <tr>\n",
       "      <th>ٓ</th>\n",
       "      <td>6</td>\n",
       "      <td>1619</td>\n",
       "      <td>0x653</td>\n",
       "    </tr>\n",
       "    <tr>\n",
       "      <th>ٔ</th>\n",
       "      <td>101</td>\n",
       "      <td>1620</td>\n",
       "      <td>0x654</td>\n",
       "    </tr>\n",
       "    <tr>\n",
       "      <th>ٕ</th>\n",
       "      <td>65</td>\n",
       "      <td>1621</td>\n",
       "      <td>0x655</td>\n",
       "    </tr>\n",
       "  </tbody>\n",
       "</table>\n",
       "</div>"
      ],
      "text/plain": [
       "           frequency  unicode_dec unicode_hex\n",
       "character                                    \n",
       "ـ               2803         1600       0x640\n",
       "ف              10736         1601       0x641\n",
       "ق               8138         1602       0x642\n",
       "ك               8144         1603       0x643\n",
       "ل              41807         1604       0x644\n",
       "م              21927         1605       0x645\n",
       "ن              22113         1606       0x646\n",
       "ه              14295         1607       0x647\n",
       "و              22492         1608       0x648\n",
       "ى               3565         1609       0x649\n",
       "ي              22936         1610       0x64a\n",
       "ً                932         1611       0x64b\n",
       "ٌ               1113         1612       0x64c\n",
       "ٍ                889         1613       0x64d\n",
       "َ              31558         1614       0x64e\n",
       "ُ               8448         1615       0x64f\n",
       "ِ              15484         1616       0x650\n",
       "ّ              12773         1617       0x651\n",
       "ْ              10567         1618       0x652\n",
       "ٓ                  6         1619       0x653\n",
       "ٔ                101         1620       0x654\n",
       "ٕ                 65         1621       0x655"
      ]
     },
     "execution_count": 12,
     "metadata": {},
     "output_type": "execute_result"
    }
   ],
   "source": [
    "# Standard arabic characters\n",
    "\n",
    "idx= (raw_corpus_chars_df.unicode_hex.map(len)==5) & (raw_corpus_chars_df.unicode_hex.str.startswith('0x64')|raw_corpus_chars_df.unicode_hex.str.startswith('0x65'))\n",
    "print(idx.sum())\n",
    "raw_corpus_chars_df[idx].sort_values(by='unicode_hex')"
   ]
  },
  {
   "cell_type": "markdown",
   "metadata": {},
   "source": [
    "#### Frequency distribution of characters\n",
    "\n",
    "What are the rare and non-rare characters in this corpus."
   ]
  },
  {
   "cell_type": "code",
   "execution_count": 13,
   "metadata": {},
   "outputs": [
    {
     "data": {
      "text/html": [
       "<div>\n",
       "<style scoped>\n",
       "    .dataframe tbody tr th:only-of-type {\n",
       "        vertical-align: middle;\n",
       "    }\n",
       "\n",
       "    .dataframe tbody tr th {\n",
       "        vertical-align: top;\n",
       "    }\n",
       "\n",
       "    .dataframe thead th {\n",
       "        text-align: right;\n",
       "    }\n",
       "</style>\n",
       "<table border=\"1\" class=\"dataframe\">\n",
       "  <thead>\n",
       "    <tr style=\"text-align: right;\">\n",
       "      <th></th>\n",
       "      <th>frequency</th>\n",
       "      <th>unicode_dec</th>\n",
       "      <th>unicode_hex</th>\n",
       "    </tr>\n",
       "    <tr>\n",
       "      <th>character</th>\n",
       "      <th></th>\n",
       "      <th></th>\n",
       "      <th></th>\n",
       "    </tr>\n",
       "  </thead>\n",
       "  <tbody>\n",
       "    <tr>\n",
       "      <th>[</th>\n",
       "      <td>580</td>\n",
       "      <td>91</td>\n",
       "      <td>0x5b</td>\n",
       "    </tr>\n",
       "    <tr>\n",
       "      <th>ب</th>\n",
       "      <td>13448</td>\n",
       "      <td>1576</td>\n",
       "      <td>0x628</td>\n",
       "    </tr>\n",
       "    <tr>\n",
       "      <th>ا</th>\n",
       "      <td>49313</td>\n",
       "      <td>1575</td>\n",
       "      <td>0x627</td>\n",
       "    </tr>\n",
       "    <tr>\n",
       "      <th>ل</th>\n",
       "      <td>41807</td>\n",
       "      <td>1604</td>\n",
       "      <td>0x644</td>\n",
       "    </tr>\n",
       "    <tr>\n",
       "      <th>ع</th>\n",
       "      <td>12075</td>\n",
       "      <td>1593</td>\n",
       "      <td>0x639</td>\n",
       "    </tr>\n",
       "  </tbody>\n",
       "</table>\n",
       "</div>"
      ],
      "text/plain": [
       "           frequency  unicode_dec unicode_hex\n",
       "character                                    \n",
       "[                580           91        0x5b\n",
       "ب              13448         1576       0x628\n",
       "ا              49313         1575       0x627\n",
       "ل              41807         1604       0x644\n",
       "ع              12075         1593       0x639"
      ]
     },
     "execution_count": 13,
     "metadata": {},
     "output_type": "execute_result"
    }
   ],
   "source": [
    "raw_corpus_chars_df.head()"
   ]
  },
  {
   "cell_type": "code",
   "execution_count": 14,
   "metadata": {},
   "outputs": [
    {
     "data": {
      "text/plain": [
       "count      128.000000\n",
       "mean      4235.390625\n",
       "std      10441.276488\n",
       "min          1.000000\n",
       "25%         17.000000\n",
       "50%         94.500000\n",
       "75%       3374.500000\n",
       "max      82207.000000\n",
       "Name: frequency, dtype: float64"
      ]
     },
     "execution_count": 14,
     "metadata": {},
     "output_type": "execute_result"
    }
   ],
   "source": [
    "raw_corpus_chars_df.frequency.describe()"
   ]
  },
  {
   "cell_type": "code",
   "execution_count": 15,
   "metadata": {},
   "outputs": [
    {
     "data": {
      "text/plain": [
       "<matplotlib.axes._subplots.AxesSubplot at 0x24b0ec33048>"
      ]
     },
     "execution_count": 15,
     "metadata": {},
     "output_type": "execute_result"
    },
    {
     "data": {
      "image/png": "[encoded data removed]",
      "text/plain": [
       "<Figure size 432x288 with 1 Axes>"
      ]
     },
     "metadata": {
      "needs_background": "light"
     },
     "output_type": "display_data"
    }
   ],
   "source": [
    "raw_corpus_chars_df.frequency.plot.hist()"
   ]
  },
  {
   "cell_type": "code",
   "execution_count": 16,
   "metadata": {},
   "outputs": [
    {
     "data": {
      "image/png": "[encoded data removed]",
      "text/plain": [
       "<Figure size 432x288 with 1 Axes>"
      ]
     },
     "metadata": {
      "needs_background": "light"
     },
     "output_type": "display_data"
    },
    {
     "data": {
      "text/plain": [
       "<matplotlib.axes._subplots.AxesSubplot at 0x24b0ec9f9b0>"
      ]
     },
     "execution_count": 16,
     "metadata": {},
     "output_type": "execute_result"
    },
    {
     "data": {
      "image/png": "[encoded data removed]",
      "text/plain": [
       "<Figure size 432x288 with 1 Axes>"
      ]
     },
     "metadata": {
      "needs_background": "light"
     },
     "output_type": "display_data"
    }
   ],
   "source": [
    "idx = raw_corpus_chars_df.frequency<=5000\n",
    "raw_corpus_chars_df.loc[idx,'frequency'].plot.hist()\n",
    "plt.show()\n",
    "raw_corpus_chars_df.loc[idx,'frequency'].plot.box()"
   ]
  },
  {
   "cell_type": "code",
   "execution_count": 17,
   "metadata": {},
   "outputs": [
    {
     "name": "stdout",
     "output_type": "stream",
     "text": [
      "70 58\n"
     ]
    },
    {
     "data": {
      "image/png": "[encoded data removed]",
      "text/plain": [
       "<Figure size 432x288 with 1 Axes>"
      ]
     },
     "metadata": {
      "needs_background": "light"
     },
     "output_type": "display_data"
    },
    {
     "data": {
      "text/plain": [
       "<matplotlib.axes._subplots.AxesSubplot at 0x24b0ed88588>"
      ]
     },
     "execution_count": 17,
     "metadata": {},
     "output_type": "execute_result"
    },
    {
     "data": {
      "image/png": "[encoded data removed]",
      "text/plain": [
       "<Figure size 432x288 with 1 Axes>"
      ]
     },
     "metadata": {
      "needs_background": "light"
     },
     "output_type": "display_data"
    }
   ],
   "source": [
    "idx = raw_corpus_chars_df.frequency<=300\n",
    "print(idx.sum(),(~idx).sum())\n",
    "\n",
    "raw_corpus_chars_df.loc[idx,'frequency'].plot.hist()\n",
    "plt.show()\n",
    "raw_corpus_chars_df.loc[idx,'frequency'].plot.box()"
   ]
  },
  {
   "cell_type": "code",
   "execution_count": 18,
   "metadata": {},
   "outputs": [
    {
     "name": "stdout",
     "output_type": "stream",
     "text": [
      "Number of characters that occur more than 150 times in corpus: 63\n",
      "Number of characters that occur less than 150 times in corpus: 65\n"
     ]
    }
   ],
   "source": [
    "# separate rare and non-rare characters\n",
    "# frequency threshold of 150 was determined via inspection (see above histogram plots)\n",
    "\n",
    "idx = raw_corpus_chars_df.frequency<=150\n",
    "print( f\"Number of characters that occur more than 150 times in corpus: {(~idx).sum()}\\nNumber of characters that occur less than 150 times in corpus: {idx.sum()}\" )"
   ]
  },
  {
   "cell_type": "code",
   "execution_count": 19,
   "metadata": {},
   "outputs": [
    {
     "data": {
      "text/plain": [
       "['\\t',\n",
       " '(',\n",
       " ')',\n",
       " '+',\n",
       " '/',\n",
       " '0',\n",
       " '1',\n",
       " '2',\n",
       " '3',\n",
       " '4',\n",
       " '5',\n",
       " '6',\n",
       " '7',\n",
       " '8',\n",
       " '9',\n",
       " '>',\n",
       " 'N',\n",
       " 'e',\n",
       " 'n',\n",
       " 'o',\n",
       " '{',\n",
       " '}',\n",
       " '~',\n",
       " '¦',\n",
       " 'έ',\n",
       " 'γ',\n",
       " 'ν',\n",
       " 'ο',\n",
       " 'ς',\n",
       " 'ג',\n",
       " 'ד',\n",
       " 'ה',\n",
       " 'ז',\n",
       " 'ח',\n",
       " 'כ',\n",
       " 'ן',\n",
       " 'ٓ',\n",
       " 'ٔ',\n",
       " 'ٕ',\n",
       " '٠',\n",
       " '١',\n",
       " '٢',\n",
       " '٣',\n",
       " '٤',\n",
       " '٥',\n",
       " '٦',\n",
       " '٧',\n",
       " '٨',\n",
       " '٩',\n",
       " '٬',\n",
       " '٭',\n",
       " 'ە',\n",
       " '۟',\n",
       " '۴',\n",
       " '۵',\n",
       " '۶',\n",
       " '‘',\n",
       " '’',\n",
       " '“',\n",
       " '”',\n",
       " '…',\n",
       " '\\u2028',\n",
       " '\\u202c',\n",
       " '\\u202e',\n",
       " '❊']"
      ]
     },
     "execution_count": 19,
     "metadata": {},
     "output_type": "execute_result"
    }
   ],
   "source": [
    "# rare characters\n",
    "\n",
    "sorted(raw_corpus_chars_df[idx].index.tolist())"
   ]
  },
  {
   "cell_type": "code",
   "execution_count": 20,
   "metadata": {},
   "outputs": [
    {
     "data": {
      "text/html": [
       "<div>\n",
       "<style scoped>\n",
       "    .dataframe tbody tr th:only-of-type {\n",
       "        vertical-align: middle;\n",
       "    }\n",
       "\n",
       "    .dataframe tbody tr th {\n",
       "        vertical-align: top;\n",
       "    }\n",
       "\n",
       "    .dataframe thead th {\n",
       "        text-align: right;\n",
       "    }\n",
       "</style>\n",
       "<table border=\"1\" class=\"dataframe\">\n",
       "  <thead>\n",
       "    <tr style=\"text-align: right;\">\n",
       "      <th></th>\n",
       "      <th>frequency</th>\n",
       "      <th>unicode_dec</th>\n",
       "      <th>unicode_hex</th>\n",
       "    </tr>\n",
       "    <tr>\n",
       "      <th>character</th>\n",
       "      <th></th>\n",
       "      <th></th>\n",
       "      <th></th>\n",
       "    </tr>\n",
       "  </thead>\n",
       "  <tbody>\n",
       "    <tr>\n",
       "      <th>\\t</th>\n",
       "      <td>4</td>\n",
       "      <td>9</td>\n",
       "      <td>0x9</td>\n",
       "    </tr>\n",
       "    <tr>\n",
       "      <th>(</th>\n",
       "      <td>62</td>\n",
       "      <td>40</td>\n",
       "      <td>0x28</td>\n",
       "    </tr>\n",
       "    <tr>\n",
       "      <th>)</th>\n",
       "      <td>64</td>\n",
       "      <td>41</td>\n",
       "      <td>0x29</td>\n",
       "    </tr>\n",
       "    <tr>\n",
       "      <th>+</th>\n",
       "      <td>41</td>\n",
       "      <td>43</td>\n",
       "      <td>0x2b</td>\n",
       "    </tr>\n",
       "    <tr>\n",
       "      <th>/</th>\n",
       "      <td>81</td>\n",
       "      <td>47</td>\n",
       "      <td>0x2f</td>\n",
       "    </tr>\n",
       "    <tr>\n",
       "      <th>0</th>\n",
       "      <td>62</td>\n",
       "      <td>48</td>\n",
       "      <td>0x30</td>\n",
       "    </tr>\n",
       "    <tr>\n",
       "      <th>1</th>\n",
       "      <td>88</td>\n",
       "      <td>49</td>\n",
       "      <td>0x31</td>\n",
       "    </tr>\n",
       "    <tr>\n",
       "      <th>2</th>\n",
       "      <td>59</td>\n",
       "      <td>50</td>\n",
       "      <td>0x32</td>\n",
       "    </tr>\n",
       "    <tr>\n",
       "      <th>3</th>\n",
       "      <td>32</td>\n",
       "      <td>51</td>\n",
       "      <td>0x33</td>\n",
       "    </tr>\n",
       "    <tr>\n",
       "      <th>4</th>\n",
       "      <td>39</td>\n",
       "      <td>52</td>\n",
       "      <td>0x34</td>\n",
       "    </tr>\n",
       "    <tr>\n",
       "      <th>5</th>\n",
       "      <td>24</td>\n",
       "      <td>53</td>\n",
       "      <td>0x35</td>\n",
       "    </tr>\n",
       "    <tr>\n",
       "      <th>6</th>\n",
       "      <td>12</td>\n",
       "      <td>54</td>\n",
       "      <td>0x36</td>\n",
       "    </tr>\n",
       "    <tr>\n",
       "      <th>7</th>\n",
       "      <td>53</td>\n",
       "      <td>55</td>\n",
       "      <td>0x37</td>\n",
       "    </tr>\n",
       "    <tr>\n",
       "      <th>8</th>\n",
       "      <td>10</td>\n",
       "      <td>56</td>\n",
       "      <td>0x38</td>\n",
       "    </tr>\n",
       "    <tr>\n",
       "      <th>9</th>\n",
       "      <td>73</td>\n",
       "      <td>57</td>\n",
       "      <td>0x39</td>\n",
       "    </tr>\n",
       "    <tr>\n",
       "      <th>&gt;</th>\n",
       "      <td>2</td>\n",
       "      <td>62</td>\n",
       "      <td>0x3e</td>\n",
       "    </tr>\n",
       "    <tr>\n",
       "      <th>N</th>\n",
       "      <td>17</td>\n",
       "      <td>78</td>\n",
       "      <td>0x4e</td>\n",
       "    </tr>\n",
       "    <tr>\n",
       "      <th>e</th>\n",
       "      <td>17</td>\n",
       "      <td>101</td>\n",
       "      <td>0x65</td>\n",
       "    </tr>\n",
       "    <tr>\n",
       "      <th>n</th>\n",
       "      <td>17</td>\n",
       "      <td>110</td>\n",
       "      <td>0x6e</td>\n",
       "    </tr>\n",
       "    <tr>\n",
       "      <th>o</th>\n",
       "      <td>17</td>\n",
       "      <td>111</td>\n",
       "      <td>0x6f</td>\n",
       "    </tr>\n",
       "    <tr>\n",
       "      <th>{</th>\n",
       "      <td>20</td>\n",
       "      <td>123</td>\n",
       "      <td>0x7b</td>\n",
       "    </tr>\n",
       "    <tr>\n",
       "      <th>}</th>\n",
       "      <td>24</td>\n",
       "      <td>125</td>\n",
       "      <td>0x7d</td>\n",
       "    </tr>\n",
       "    <tr>\n",
       "      <th>~</th>\n",
       "      <td>9</td>\n",
       "      <td>126</td>\n",
       "      <td>0x7e</td>\n",
       "    </tr>\n",
       "    <tr>\n",
       "      <th>¦</th>\n",
       "      <td>75</td>\n",
       "      <td>166</td>\n",
       "      <td>0xa6</td>\n",
       "    </tr>\n",
       "    <tr>\n",
       "      <th>έ</th>\n",
       "      <td>1</td>\n",
       "      <td>941</td>\n",
       "      <td>0x3ad</td>\n",
       "    </tr>\n",
       "    <tr>\n",
       "      <th>γ</th>\n",
       "      <td>1</td>\n",
       "      <td>947</td>\n",
       "      <td>0x3b3</td>\n",
       "    </tr>\n",
       "    <tr>\n",
       "      <th>ν</th>\n",
       "      <td>1</td>\n",
       "      <td>957</td>\n",
       "      <td>0x3bd</td>\n",
       "    </tr>\n",
       "    <tr>\n",
       "      <th>ο</th>\n",
       "      <td>1</td>\n",
       "      <td>959</td>\n",
       "      <td>0x3bf</td>\n",
       "    </tr>\n",
       "    <tr>\n",
       "      <th>ς</th>\n",
       "      <td>1</td>\n",
       "      <td>962</td>\n",
       "      <td>0x3c2</td>\n",
       "    </tr>\n",
       "    <tr>\n",
       "      <th>ג</th>\n",
       "      <td>1</td>\n",
       "      <td>1490</td>\n",
       "      <td>0x5d2</td>\n",
       "    </tr>\n",
       "    <tr>\n",
       "      <th>...</th>\n",
       "      <td>...</td>\n",
       "      <td>...</td>\n",
       "      <td>...</td>\n",
       "    </tr>\n",
       "    <tr>\n",
       "      <th>ן</th>\n",
       "      <td>1</td>\n",
       "      <td>1503</td>\n",
       "      <td>0x5df</td>\n",
       "    </tr>\n",
       "    <tr>\n",
       "      <th>ٓ</th>\n",
       "      <td>6</td>\n",
       "      <td>1619</td>\n",
       "      <td>0x653</td>\n",
       "    </tr>\n",
       "    <tr>\n",
       "      <th>ٔ</th>\n",
       "      <td>101</td>\n",
       "      <td>1620</td>\n",
       "      <td>0x654</td>\n",
       "    </tr>\n",
       "    <tr>\n",
       "      <th>ٕ</th>\n",
       "      <td>65</td>\n",
       "      <td>1621</td>\n",
       "      <td>0x655</td>\n",
       "    </tr>\n",
       "    <tr>\n",
       "      <th>٠</th>\n",
       "      <td>36</td>\n",
       "      <td>1632</td>\n",
       "      <td>0x660</td>\n",
       "    </tr>\n",
       "    <tr>\n",
       "      <th>١</th>\n",
       "      <td>52</td>\n",
       "      <td>1633</td>\n",
       "      <td>0x661</td>\n",
       "    </tr>\n",
       "    <tr>\n",
       "      <th>٢</th>\n",
       "      <td>59</td>\n",
       "      <td>1634</td>\n",
       "      <td>0x662</td>\n",
       "    </tr>\n",
       "    <tr>\n",
       "      <th>٣</th>\n",
       "      <td>56</td>\n",
       "      <td>1635</td>\n",
       "      <td>0x663</td>\n",
       "    </tr>\n",
       "    <tr>\n",
       "      <th>٤</th>\n",
       "      <td>38</td>\n",
       "      <td>1636</td>\n",
       "      <td>0x664</td>\n",
       "    </tr>\n",
       "    <tr>\n",
       "      <th>٥</th>\n",
       "      <td>19</td>\n",
       "      <td>1637</td>\n",
       "      <td>0x665</td>\n",
       "    </tr>\n",
       "    <tr>\n",
       "      <th>٦</th>\n",
       "      <td>36</td>\n",
       "      <td>1638</td>\n",
       "      <td>0x666</td>\n",
       "    </tr>\n",
       "    <tr>\n",
       "      <th>٧</th>\n",
       "      <td>34</td>\n",
       "      <td>1639</td>\n",
       "      <td>0x667</td>\n",
       "    </tr>\n",
       "    <tr>\n",
       "      <th>٨</th>\n",
       "      <td>29</td>\n",
       "      <td>1640</td>\n",
       "      <td>0x668</td>\n",
       "    </tr>\n",
       "    <tr>\n",
       "      <th>٩</th>\n",
       "      <td>18</td>\n",
       "      <td>1641</td>\n",
       "      <td>0x669</td>\n",
       "    </tr>\n",
       "    <tr>\n",
       "      <th>٬</th>\n",
       "      <td>1</td>\n",
       "      <td>1644</td>\n",
       "      <td>0x66c</td>\n",
       "    </tr>\n",
       "    <tr>\n",
       "      <th>٭</th>\n",
       "      <td>1</td>\n",
       "      <td>1645</td>\n",
       "      <td>0x66d</td>\n",
       "    </tr>\n",
       "    <tr>\n",
       "      <th>ە</th>\n",
       "      <td>2</td>\n",
       "      <td>1749</td>\n",
       "      <td>0x6d5</td>\n",
       "    </tr>\n",
       "    <tr>\n",
       "      <th>۟</th>\n",
       "      <td>1</td>\n",
       "      <td>1759</td>\n",
       "      <td>0x6df</td>\n",
       "    </tr>\n",
       "    <tr>\n",
       "      <th>۴</th>\n",
       "      <td>20</td>\n",
       "      <td>1780</td>\n",
       "      <td>0x6f4</td>\n",
       "    </tr>\n",
       "    <tr>\n",
       "      <th>۵</th>\n",
       "      <td>15</td>\n",
       "      <td>1781</td>\n",
       "      <td>0x6f5</td>\n",
       "    </tr>\n",
       "    <tr>\n",
       "      <th>۶</th>\n",
       "      <td>15</td>\n",
       "      <td>1782</td>\n",
       "      <td>0x6f6</td>\n",
       "    </tr>\n",
       "    <tr>\n",
       "      <th>‘</th>\n",
       "      <td>3</td>\n",
       "      <td>8216</td>\n",
       "      <td>0x2018</td>\n",
       "    </tr>\n",
       "    <tr>\n",
       "      <th>’</th>\n",
       "      <td>3</td>\n",
       "      <td>8217</td>\n",
       "      <td>0x2019</td>\n",
       "    </tr>\n",
       "    <tr>\n",
       "      <th>“</th>\n",
       "      <td>40</td>\n",
       "      <td>8220</td>\n",
       "      <td>0x201c</td>\n",
       "    </tr>\n",
       "    <tr>\n",
       "      <th>”</th>\n",
       "      <td>45</td>\n",
       "      <td>8221</td>\n",
       "      <td>0x201d</td>\n",
       "    </tr>\n",
       "    <tr>\n",
       "      <th>…</th>\n",
       "      <td>4</td>\n",
       "      <td>8230</td>\n",
       "      <td>0x2026</td>\n",
       "    </tr>\n",
       "    <tr>\n",
       "      <th></th>\n",
       "      <td>9</td>\n",
       "      <td>8232</td>\n",
       "      <td>0x2028</td>\n",
       "    </tr>\n",
       "    <tr>\n",
       "      <th>‬</th>\n",
       "      <td>1</td>\n",
       "      <td>8236</td>\n",
       "      <td>0x202c</td>\n",
       "    </tr>\n",
       "    <tr>\n",
       "      <th>‮</th>\n",
       "      <td>1</td>\n",
       "      <td>8238</td>\n",
       "      <td>0x202e</td>\n",
       "    </tr>\n",
       "    <tr>\n",
       "      <th>❊</th>\n",
       "      <td>21</td>\n",
       "      <td>10058</td>\n",
       "      <td>0x274a</td>\n",
       "    </tr>\n",
       "  </tbody>\n",
       "</table>\n",
       "<p>65 rows × 3 columns</p>\n",
       "</div>"
      ],
      "text/plain": [
       "           frequency  unicode_dec unicode_hex\n",
       "character                                    \n",
       "\\t                 4            9         0x9\n",
       "(                 62           40        0x28\n",
       ")                 64           41        0x29\n",
       "+                 41           43        0x2b\n",
       "/                 81           47        0x2f\n",
       "0                 62           48        0x30\n",
       "1                 88           49        0x31\n",
       "2                 59           50        0x32\n",
       "3                 32           51        0x33\n",
       "4                 39           52        0x34\n",
       "5                 24           53        0x35\n",
       "6                 12           54        0x36\n",
       "7                 53           55        0x37\n",
       "8                 10           56        0x38\n",
       "9                 73           57        0x39\n",
       ">                  2           62        0x3e\n",
       "N                 17           78        0x4e\n",
       "e                 17          101        0x65\n",
       "n                 17          110        0x6e\n",
       "o                 17          111        0x6f\n",
       "{                 20          123        0x7b\n",
       "}                 24          125        0x7d\n",
       "~                  9          126        0x7e\n",
       "¦                 75          166        0xa6\n",
       "έ                  1          941       0x3ad\n",
       "γ                  1          947       0x3b3\n",
       "ν                  1          957       0x3bd\n",
       "ο                  1          959       0x3bf\n",
       "ς                  1          962       0x3c2\n",
       "ג                  1         1490       0x5d2\n",
       "...              ...          ...         ...\n",
       "ן                  1         1503       0x5df\n",
       "ٓ                  6         1619       0x653\n",
       "ٔ                101         1620       0x654\n",
       "ٕ                 65         1621       0x655\n",
       "٠                 36         1632       0x660\n",
       "١                 52         1633       0x661\n",
       "٢                 59         1634       0x662\n",
       "٣                 56         1635       0x663\n",
       "٤                 38         1636       0x664\n",
       "٥                 19         1637       0x665\n",
       "٦                 36         1638       0x666\n",
       "٧                 34         1639       0x667\n",
       "٨                 29         1640       0x668\n",
       "٩                 18         1641       0x669\n",
       "٬                  1         1644       0x66c\n",
       "٭                  1         1645       0x66d\n",
       "ە                  2         1749       0x6d5\n",
       "۟                  1         1759       0x6df\n",
       "۴                 20         1780       0x6f4\n",
       "۵                 15         1781       0x6f5\n",
       "۶                 15         1782       0x6f6\n",
       "‘                  3         8216      0x2018\n",
       "’                  3         8217      0x2019\n",
       "“                 40         8220      0x201c\n",
       "”                 45         8221      0x201d\n",
       "…                  4         8230      0x2026\n",
       "\n",
       "                  9         8232      0x2028\n",
       "‬                  1         8236      0x202c\n",
       "‮                  1         8238      0x202e\n",
       "❊                 21        10058      0x274a\n",
       "\n",
       "[65 rows x 3 columns]"
      ]
     },
     "execution_count": 20,
     "metadata": {},
     "output_type": "execute_result"
    }
   ],
   "source": [
    "raw_corpus_chars_df[idx].sort_values(by='unicode_dec')"
   ]
  },
  {
   "cell_type": "code",
   "execution_count": 20,
   "metadata": {},
   "outputs": [
    {
     "data": {
      "text/plain": [
       "['\\n',\n",
       " ' ',\n",
       " '!',\n",
       " '\"',\n",
       " '*',\n",
       " '-',\n",
       " '.',\n",
       " ':',\n",
       " '[',\n",
       " ']',\n",
       " '\\xa0',\n",
       " '«',\n",
       " '»',\n",
       " '،',\n",
       " '؛',\n",
       " '؟',\n",
       " 'ء',\n",
       " 'آ',\n",
       " 'أ',\n",
       " 'ؤ',\n",
       " 'إ',\n",
       " 'ئ',\n",
       " 'ا',\n",
       " 'ب',\n",
       " 'ة',\n",
       " 'ت',\n",
       " 'ث',\n",
       " 'ج',\n",
       " 'ح',\n",
       " 'خ',\n",
       " 'د',\n",
       " 'ذ',\n",
       " 'ر',\n",
       " 'ز',\n",
       " 'س',\n",
       " 'ش',\n",
       " 'ص',\n",
       " 'ض',\n",
       " 'ط',\n",
       " 'ظ',\n",
       " 'ع',\n",
       " 'غ',\n",
       " 'ـ',\n",
       " 'ف',\n",
       " 'ق',\n",
       " 'ك',\n",
       " 'ل',\n",
       " 'م',\n",
       " 'ن',\n",
       " 'ه',\n",
       " 'و',\n",
       " 'ى',\n",
       " 'ي',\n",
       " 'ً',\n",
       " 'ٌ',\n",
       " 'ٍ',\n",
       " 'َ',\n",
       " 'ُ',\n",
       " 'ِ',\n",
       " 'ّ',\n",
       " 'ْ',\n",
       " 'ٱ',\n",
       " '\\u200f']"
      ]
     },
     "execution_count": 20,
     "metadata": {},
     "output_type": "execute_result"
    }
   ],
   "source": [
    "# non-rare characters\n",
    "\n",
    "sorted(raw_corpus_chars_df[~idx].index.tolist())"
   ]
  },
  {
   "cell_type": "code",
   "execution_count": 21,
   "metadata": {},
   "outputs": [
    {
     "data": {
      "text/html": [
       "<div>\n",
       "<style scoped>\n",
       "    .dataframe tbody tr th:only-of-type {\n",
       "        vertical-align: middle;\n",
       "    }\n",
       "\n",
       "    .dataframe tbody tr th {\n",
       "        vertical-align: top;\n",
       "    }\n",
       "\n",
       "    .dataframe thead th {\n",
       "        text-align: right;\n",
       "    }\n",
       "</style>\n",
       "<table border=\"1\" class=\"dataframe\">\n",
       "  <thead>\n",
       "    <tr style=\"text-align: right;\">\n",
       "      <th></th>\n",
       "      <th>frequency</th>\n",
       "      <th>unicode_dec</th>\n",
       "      <th>unicode_hex</th>\n",
       "    </tr>\n",
       "    <tr>\n",
       "      <th>character</th>\n",
       "      <th></th>\n",
       "      <th></th>\n",
       "      <th></th>\n",
       "    </tr>\n",
       "  </thead>\n",
       "  <tbody>\n",
       "    <tr>\n",
       "      <th>\\n</th>\n",
       "      <td>3773</td>\n",
       "      <td>10</td>\n",
       "      <td>0xa</td>\n",
       "    </tr>\n",
       "    <tr>\n",
       "      <th></th>\n",
       "      <td>82207</td>\n",
       "      <td>32</td>\n",
       "      <td>0x20</td>\n",
       "    </tr>\n",
       "    <tr>\n",
       "      <th>!</th>\n",
       "      <td>207</td>\n",
       "      <td>33</td>\n",
       "      <td>0x21</td>\n",
       "    </tr>\n",
       "    <tr>\n",
       "      <th>\"</th>\n",
       "      <td>317</td>\n",
       "      <td>34</td>\n",
       "      <td>0x22</td>\n",
       "    </tr>\n",
       "    <tr>\n",
       "      <th>*</th>\n",
       "      <td>2068</td>\n",
       "      <td>42</td>\n",
       "      <td>0x2a</td>\n",
       "    </tr>\n",
       "    <tr>\n",
       "      <th>-</th>\n",
       "      <td>301</td>\n",
       "      <td>45</td>\n",
       "      <td>0x2d</td>\n",
       "    </tr>\n",
       "    <tr>\n",
       "      <th>.</th>\n",
       "      <td>3164</td>\n",
       "      <td>46</td>\n",
       "      <td>0x2e</td>\n",
       "    </tr>\n",
       "    <tr>\n",
       "      <th>:</th>\n",
       "      <td>1939</td>\n",
       "      <td>58</td>\n",
       "      <td>0x3a</td>\n",
       "    </tr>\n",
       "    <tr>\n",
       "      <th>[</th>\n",
       "      <td>580</td>\n",
       "      <td>91</td>\n",
       "      <td>0x5b</td>\n",
       "    </tr>\n",
       "    <tr>\n",
       "      <th>]</th>\n",
       "      <td>574</td>\n",
       "      <td>93</td>\n",
       "      <td>0x5d</td>\n",
       "    </tr>\n",
       "    <tr>\n",
       "      <th></th>\n",
       "      <td>286</td>\n",
       "      <td>160</td>\n",
       "      <td>0xa0</td>\n",
       "    </tr>\n",
       "    <tr>\n",
       "      <th>«</th>\n",
       "      <td>398</td>\n",
       "      <td>171</td>\n",
       "      <td>0xab</td>\n",
       "    </tr>\n",
       "    <tr>\n",
       "      <th>»</th>\n",
       "      <td>387</td>\n",
       "      <td>187</td>\n",
       "      <td>0xbb</td>\n",
       "    </tr>\n",
       "    <tr>\n",
       "      <th>،</th>\n",
       "      <td>4259</td>\n",
       "      <td>1548</td>\n",
       "      <td>0x60c</td>\n",
       "    </tr>\n",
       "    <tr>\n",
       "      <th>؛</th>\n",
       "      <td>345</td>\n",
       "      <td>1563</td>\n",
       "      <td>0x61b</td>\n",
       "    </tr>\n",
       "    <tr>\n",
       "      <th>؟</th>\n",
       "      <td>208</td>\n",
       "      <td>1567</td>\n",
       "      <td>0x61f</td>\n",
       "    </tr>\n",
       "    <tr>\n",
       "      <th>ء</th>\n",
       "      <td>1255</td>\n",
       "      <td>1569</td>\n",
       "      <td>0x621</td>\n",
       "    </tr>\n",
       "    <tr>\n",
       "      <th>آ</th>\n",
       "      <td>380</td>\n",
       "      <td>1570</td>\n",
       "      <td>0x622</td>\n",
       "    </tr>\n",
       "    <tr>\n",
       "      <th>أ</th>\n",
       "      <td>8497</td>\n",
       "      <td>1571</td>\n",
       "      <td>0x623</td>\n",
       "    </tr>\n",
       "    <tr>\n",
       "      <th>ؤ</th>\n",
       "      <td>228</td>\n",
       "      <td>1572</td>\n",
       "      <td>0x624</td>\n",
       "    </tr>\n",
       "    <tr>\n",
       "      <th>إ</th>\n",
       "      <td>3311</td>\n",
       "      <td>1573</td>\n",
       "      <td>0x625</td>\n",
       "    </tr>\n",
       "    <tr>\n",
       "      <th>ئ</th>\n",
       "      <td>746</td>\n",
       "      <td>1574</td>\n",
       "      <td>0x626</td>\n",
       "    </tr>\n",
       "    <tr>\n",
       "      <th>ا</th>\n",
       "      <td>49313</td>\n",
       "      <td>1575</td>\n",
       "      <td>0x627</td>\n",
       "    </tr>\n",
       "    <tr>\n",
       "      <th>ب</th>\n",
       "      <td>13448</td>\n",
       "      <td>1576</td>\n",
       "      <td>0x628</td>\n",
       "    </tr>\n",
       "    <tr>\n",
       "      <th>ة</th>\n",
       "      <td>5909</td>\n",
       "      <td>1577</td>\n",
       "      <td>0x629</td>\n",
       "    </tr>\n",
       "    <tr>\n",
       "      <th>ت</th>\n",
       "      <td>12313</td>\n",
       "      <td>1578</td>\n",
       "      <td>0x62a</td>\n",
       "    </tr>\n",
       "    <tr>\n",
       "      <th>ث</th>\n",
       "      <td>3781</td>\n",
       "      <td>1579</td>\n",
       "      <td>0x62b</td>\n",
       "    </tr>\n",
       "    <tr>\n",
       "      <th>ج</th>\n",
       "      <td>4163</td>\n",
       "      <td>1580</td>\n",
       "      <td>0x62c</td>\n",
       "    </tr>\n",
       "    <tr>\n",
       "      <th>ح</th>\n",
       "      <td>6467</td>\n",
       "      <td>1581</td>\n",
       "      <td>0x62d</td>\n",
       "    </tr>\n",
       "    <tr>\n",
       "      <th>خ</th>\n",
       "      <td>2758</td>\n",
       "      <td>1582</td>\n",
       "      <td>0x62e</td>\n",
       "    </tr>\n",
       "    <tr>\n",
       "      <th>...</th>\n",
       "      <td>...</td>\n",
       "      <td>...</td>\n",
       "      <td>...</td>\n",
       "    </tr>\n",
       "    <tr>\n",
       "      <th>ز</th>\n",
       "      <td>2824</td>\n",
       "      <td>1586</td>\n",
       "      <td>0x632</td>\n",
       "    </tr>\n",
       "    <tr>\n",
       "      <th>س</th>\n",
       "      <td>7595</td>\n",
       "      <td>1587</td>\n",
       "      <td>0x633</td>\n",
       "    </tr>\n",
       "    <tr>\n",
       "      <th>ش</th>\n",
       "      <td>3049</td>\n",
       "      <td>1588</td>\n",
       "      <td>0x634</td>\n",
       "    </tr>\n",
       "    <tr>\n",
       "      <th>ص</th>\n",
       "      <td>3694</td>\n",
       "      <td>1589</td>\n",
       "      <td>0x635</td>\n",
       "    </tr>\n",
       "    <tr>\n",
       "      <th>ض</th>\n",
       "      <td>1870</td>\n",
       "      <td>1590</td>\n",
       "      <td>0x636</td>\n",
       "    </tr>\n",
       "    <tr>\n",
       "      <th>ط</th>\n",
       "      <td>2714</td>\n",
       "      <td>1591</td>\n",
       "      <td>0x637</td>\n",
       "    </tr>\n",
       "    <tr>\n",
       "      <th>ظ</th>\n",
       "      <td>626</td>\n",
       "      <td>1592</td>\n",
       "      <td>0x638</td>\n",
       "    </tr>\n",
       "    <tr>\n",
       "      <th>ع</th>\n",
       "      <td>12075</td>\n",
       "      <td>1593</td>\n",
       "      <td>0x639</td>\n",
       "    </tr>\n",
       "    <tr>\n",
       "      <th>غ</th>\n",
       "      <td>2561</td>\n",
       "      <td>1594</td>\n",
       "      <td>0x63a</td>\n",
       "    </tr>\n",
       "    <tr>\n",
       "      <th>ـ</th>\n",
       "      <td>2803</td>\n",
       "      <td>1600</td>\n",
       "      <td>0x640</td>\n",
       "    </tr>\n",
       "    <tr>\n",
       "      <th>ف</th>\n",
       "      <td>10736</td>\n",
       "      <td>1601</td>\n",
       "      <td>0x641</td>\n",
       "    </tr>\n",
       "    <tr>\n",
       "      <th>ق</th>\n",
       "      <td>8138</td>\n",
       "      <td>1602</td>\n",
       "      <td>0x642</td>\n",
       "    </tr>\n",
       "    <tr>\n",
       "      <th>ك</th>\n",
       "      <td>8144</td>\n",
       "      <td>1603</td>\n",
       "      <td>0x643</td>\n",
       "    </tr>\n",
       "    <tr>\n",
       "      <th>ل</th>\n",
       "      <td>41807</td>\n",
       "      <td>1604</td>\n",
       "      <td>0x644</td>\n",
       "    </tr>\n",
       "    <tr>\n",
       "      <th>م</th>\n",
       "      <td>21927</td>\n",
       "      <td>1605</td>\n",
       "      <td>0x645</td>\n",
       "    </tr>\n",
       "    <tr>\n",
       "      <th>ن</th>\n",
       "      <td>22113</td>\n",
       "      <td>1606</td>\n",
       "      <td>0x646</td>\n",
       "    </tr>\n",
       "    <tr>\n",
       "      <th>ه</th>\n",
       "      <td>14295</td>\n",
       "      <td>1607</td>\n",
       "      <td>0x647</td>\n",
       "    </tr>\n",
       "    <tr>\n",
       "      <th>و</th>\n",
       "      <td>22492</td>\n",
       "      <td>1608</td>\n",
       "      <td>0x648</td>\n",
       "    </tr>\n",
       "    <tr>\n",
       "      <th>ى</th>\n",
       "      <td>3565</td>\n",
       "      <td>1609</td>\n",
       "      <td>0x649</td>\n",
       "    </tr>\n",
       "    <tr>\n",
       "      <th>ي</th>\n",
       "      <td>22936</td>\n",
       "      <td>1610</td>\n",
       "      <td>0x64a</td>\n",
       "    </tr>\n",
       "    <tr>\n",
       "      <th>ً</th>\n",
       "      <td>932</td>\n",
       "      <td>1611</td>\n",
       "      <td>0x64b</td>\n",
       "    </tr>\n",
       "    <tr>\n",
       "      <th>ٌ</th>\n",
       "      <td>1113</td>\n",
       "      <td>1612</td>\n",
       "      <td>0x64c</td>\n",
       "    </tr>\n",
       "    <tr>\n",
       "      <th>ٍ</th>\n",
       "      <td>889</td>\n",
       "      <td>1613</td>\n",
       "      <td>0x64d</td>\n",
       "    </tr>\n",
       "    <tr>\n",
       "      <th>َ</th>\n",
       "      <td>31558</td>\n",
       "      <td>1614</td>\n",
       "      <td>0x64e</td>\n",
       "    </tr>\n",
       "    <tr>\n",
       "      <th>ُ</th>\n",
       "      <td>8448</td>\n",
       "      <td>1615</td>\n",
       "      <td>0x64f</td>\n",
       "    </tr>\n",
       "    <tr>\n",
       "      <th>ِ</th>\n",
       "      <td>15484</td>\n",
       "      <td>1616</td>\n",
       "      <td>0x650</td>\n",
       "    </tr>\n",
       "    <tr>\n",
       "      <th>ّ</th>\n",
       "      <td>12773</td>\n",
       "      <td>1617</td>\n",
       "      <td>0x651</td>\n",
       "    </tr>\n",
       "    <tr>\n",
       "      <th>ْ</th>\n",
       "      <td>10567</td>\n",
       "      <td>1618</td>\n",
       "      <td>0x652</td>\n",
       "    </tr>\n",
       "    <tr>\n",
       "      <th>ٱ</th>\n",
       "      <td>1954</td>\n",
       "      <td>1649</td>\n",
       "      <td>0x671</td>\n",
       "    </tr>\n",
       "    <tr>\n",
       "      <th>‏</th>\n",
       "      <td>246</td>\n",
       "      <td>8207</td>\n",
       "      <td>0x200f</td>\n",
       "    </tr>\n",
       "  </tbody>\n",
       "</table>\n",
       "<p>63 rows × 3 columns</p>\n",
       "</div>"
      ],
      "text/plain": [
       "           frequency  unicode_dec unicode_hex\n",
       "character                                    \n",
       "\\n              3773           10         0xa\n",
       "               82207           32        0x20\n",
       "!                207           33        0x21\n",
       "\"                317           34        0x22\n",
       "*               2068           42        0x2a\n",
       "-                301           45        0x2d\n",
       ".               3164           46        0x2e\n",
       ":               1939           58        0x3a\n",
       "[                580           91        0x5b\n",
       "]                574           93        0x5d\n",
       "                 286          160        0xa0\n",
       "«                398          171        0xab\n",
       "»                387          187        0xbb\n",
       "،               4259         1548       0x60c\n",
       "؛                345         1563       0x61b\n",
       "؟                208         1567       0x61f\n",
       "ء               1255         1569       0x621\n",
       "آ                380         1570       0x622\n",
       "أ               8497         1571       0x623\n",
       "ؤ                228         1572       0x624\n",
       "إ               3311         1573       0x625\n",
       "ئ                746         1574       0x626\n",
       "ا              49313         1575       0x627\n",
       "ب              13448         1576       0x628\n",
       "ة               5909         1577       0x629\n",
       "ت              12313         1578       0x62a\n",
       "ث               3781         1579       0x62b\n",
       "ج               4163         1580       0x62c\n",
       "ح               6467         1581       0x62d\n",
       "خ               2758         1582       0x62e\n",
       "...              ...          ...         ...\n",
       "ز               2824         1586       0x632\n",
       "س               7595         1587       0x633\n",
       "ش               3049         1588       0x634\n",
       "ص               3694         1589       0x635\n",
       "ض               1870         1590       0x636\n",
       "ط               2714         1591       0x637\n",
       "ظ                626         1592       0x638\n",
       "ع              12075         1593       0x639\n",
       "غ               2561         1594       0x63a\n",
       "ـ               2803         1600       0x640\n",
       "ف              10736         1601       0x641\n",
       "ق               8138         1602       0x642\n",
       "ك               8144         1603       0x643\n",
       "ل              41807         1604       0x644\n",
       "م              21927         1605       0x645\n",
       "ن              22113         1606       0x646\n",
       "ه              14295         1607       0x647\n",
       "و              22492         1608       0x648\n",
       "ى               3565         1609       0x649\n",
       "ي              22936         1610       0x64a\n",
       "ً                932         1611       0x64b\n",
       "ٌ               1113         1612       0x64c\n",
       "ٍ                889         1613       0x64d\n",
       "َ              31558         1614       0x64e\n",
       "ُ               8448         1615       0x64f\n",
       "ِ              15484         1616       0x650\n",
       "ّ              12773         1617       0x651\n",
       "ْ              10567         1618       0x652\n",
       "ٱ               1954         1649       0x671\n",
       "‏                246         8207      0x200f\n",
       "\n",
       "[63 rows x 3 columns]"
      ]
     },
     "execution_count": 21,
     "metadata": {},
     "output_type": "execute_result"
    }
   ],
   "source": [
    "raw_corpus_chars_df[~idx].sort_values(by='unicode_dec')"
   ]
  },
  {
   "cell_type": "markdown",
   "metadata": {},
   "source": [
    "#### Remarks and conclusions\n",
    "\n",
    "- Non-rare characters:\n",
    "\n",
    "        standard arabic letters, including diacritics\n",
    "        visual formatting symbols: [,],«,»\n",
    "        digits\n",
    "        punctuation marks\n",
    "        whitespace\n",
    "        invisible control characters: \\u200f (bidirectional ordering character), \\xa0 (U+00A0 NO-BREAK SPACE)\n",
    "        Arabic diacritic marks: \\u064B,\\u064C,\\u064D,\\u064E,\\u064F,\\u0650,\\u0651,\\u0652\n",
    "\n",
    "- Rare characters:\n",
    "\n",
    "        non-standard arabic letters (they are variations of standard arabic letters)\n",
    "        non-arabic characters (latin)\n",
    "        visual formatting symbols: ❊,{,},(,),¦\n",
    "        digits\n",
    "        punctuation marks\n",
    "        whitespace\n",
    "        invisible control characters: \\u2028,\\u202c,\\u202e (bidirectional ordering characters)\n",
    "\n",
    "- Characters that should be normalized = non-standard arabic letters\n",
    "\n",
    "       'ٱ'   ARABIC ALEF WASLA  (extended letter used in Koranic Arabic)  \\u0671\n",
    "       'ە'   EXTENDED ARABIC LETTER AE  (used in middle-asian countries ...)  \\u06D5\n",
    "       '۶'   EXTENDED ARABIC-INDIC DIGIT SIX   \\u06F6 \n",
    "\n",
    "- Characters that should be removed (because useless or convey little meaning) :\n",
    "\n",
    "        TATWIL character (kashida)  \\u0640\n",
    "        visual formatting symbols\n",
    "        punctuation marks\n",
    "        whitespace\n",
    "        invisible control characters\n",
    "\n",
    "\n",
    "**Note about the NO-BREAK SPACE character**\n",
    "\n",
    "- Also called non-breaking space, non-breakable space (NBSP), hard space, or fixed space.\n",
    "- It is a space character that prevents an automatic line break at its position."
   ]
  },
  {
   "cell_type": "markdown",
   "metadata": {},
   "source": [
    "***"
   ]
  },
  {
   "cell_type": "markdown",
   "metadata": {},
   "source": [
    "### Special markup symbols\n",
    "\n",
    "How are special symbols used in this corpus; do they require special tokenization?\n",
    "\n",
    "    [ ]\n",
    "    { }\n",
    "    « »\n",
    "    “ ”\n",
    "    ¦ \n",
    "    ❊"
   ]
  },
  {
   "cell_type": "code",
   "execution_count": 22,
   "metadata": {},
   "outputs": [
    {
     "data": {
      "text/plain": [
       "542168"
      ]
     },
     "execution_count": 22,
     "metadata": {},
     "output_type": "execute_result"
    }
   ],
   "source": [
    "raw_corpus_str = '\\n'.join(doc_data_df.raw_text)\n",
    "len(raw_corpus_str)"
   ]
  },
  {
   "cell_type": "code",
   "execution_count": 23,
   "metadata": {},
   "outputs": [
    {
     "name": "stdout",
     "output_type": "stream",
     "text": [
      "566 455\n"
     ]
    },
    {
     "data": {
      "text/plain": [
       "[('[None]', 17),\n",
       " ('[و]', 13),\n",
       " ('[...]', 9),\n",
       " ('[وَ]', 5),\n",
       " ('[فِي]', 5),\n",
       " ('[عمر]', 5),\n",
       " ('[وهو]', 5),\n",
       " ('[ا]', 4),\n",
       " ('[.]', 4),\n",
       " ('[هو]', 4),\n",
       " ('[حركة]', 4),\n",
       " ('[1]', 3),\n",
       " ('[2]', 3),\n",
       " ('[3]', 3),\n",
       " ('[٦٢ب]', 3),\n",
       " ('[٧٤أ]', 3),\n",
       " ('[مِنَ المَثْنَى]', 2),\n",
       " ('[8]', 2),\n",
       " ('[4]', 2),\n",
       " ('[5]', 2),\n",
       " ('[ثمانية]', 2),\n",
       " ('[10]', 2),\n",
       " ('[على]', 2),\n",
       " ('[تسوية]', 2),\n",
       " ('[نغم]', 2),\n",
       " ('[أي]', 2),\n",
       " ('[كما]', 2),\n",
       " ('[وتحرّك]', 2),\n",
       " ('[من]', 2),\n",
       " ('[هِيَ]', 2),\n",
       " ('[132 ب]', 2),\n",
       " ('[أي أرسطو طاليس]', 2),\n",
       " ('[وذلك]', 2),\n",
       " ('[هي]', 2),\n",
       " ('[٦٣أ]', 2),\n",
       " ('[٦٣ب]', 2),\n",
       " ('[٦٤أ]', 2),\n",
       " ('[٦٤ب]', 2),\n",
       " ('[٧٢أ]', 2),\n",
       " ('[٧٢ب]', 2),\n",
       " ('[٧٣أ]', 2),\n",
       " ('[٧٣ب]', 2),\n",
       " ('[٧٤ب]', 2),\n",
       " ('[٧٥أ]', 2),\n",
       " ('[54]', 2),\n",
       " ('[فـَ]', 2),\n",
       " ('[هُوَ]', 2),\n",
       " ('[كَذَا]', 2),\n",
       " ('[٠٤ب]', 2),\n",
       " ('[٥٤ب]', 2),\n",
       " ('[46]', 2),\n",
       " ('[يزيد بعد موت حبابة]', 2),\n",
       " ('[المعتصم وجارية]', 2),\n",
       " ('[بالاعتماد على تحقيق يوسف شوقي.]', 1),\n",
       " ('[الرّسالة منقوصة في بدايتها.]', 1),\n",
       " ('[« ا » مِنَ]', 1),\n",
       " ('[وَإِذَا كَانَ المَثْنَى ثُلُثَيْ المَثْلَثِ]', 1),\n",
       " ('[نِهَايَةِ الوَتَرِ]', 1),\n",
       " ('[فَالـ « و »]', 1),\n",
       " ('[ضِعْفُ كُلِّ « ا » مِنَ المَثْنَى]', 1),\n",
       " ('[فِيهِ لِلآخَرِ مِنَ الَّذِي بِالكُّلِّ الأَوَّلِ، وَلِأَوَّلِ الَّذِي بِالكُلِّ الثَّانِي]',\n",
       "  1),\n",
       " ('[هَذَا الجَمْعُ مُنْفَصِلٌ]', 1),\n",
       " ('[مُبْتَدَاهُ مِنَ الدَّسْتَانِ الأَوَّلِ]', 1),\n",
       " ('[الذي]', 1),\n",
       " ('[و « و » من البمّ]', 1),\n",
       " ('[الاتّصال]', 1),\n",
       " ('[الآخر]', 1),\n",
       " ('[15 نغمة]', 1),\n",
       " ('[أَوَّلَ]', 1),\n",
       " ('[الحِدَّةِ مِنْهُ]', 1),\n",
       " ('[الأَوْسَطُ مِنَ]', 1),\n",
       " ('[نِصْفَ طَنِينٍ]', 1),\n",
       " ('[كَالأَوَّلِ]', 1),\n",
       " ('[إِلَّا أَنَّ الَّذِي يَسْتَعْمِلُهُ]', 1),\n",
       " ('[مِنْ]', 1),\n",
       " ('[إرخاء وإرخاء وضعف]', 1),\n",
       " ('[وطنين]', 1),\n",
       " ('[أَنْ يَكُونَ]', 1),\n",
       " ('[طَرِبَانِ أَوْ]', 1),\n",
       " ('[بمتتال]', 1),\n",
       " ('[رئيسة]', 1),\n",
       " ('[بها]', 1),\n",
       " ('[أو]', 1),\n",
       " ('[الحدّة إلى الثّقل]', 1),\n",
       " ('[الحادّة]', 1),\n",
       " ('[اللّولبي الدّاخل]', 1),\n",
       " ('[« ا »]', 1),\n",
       " ('[يَكُونُ]', 1),\n",
       " ('[175]', 1),\n",
       " ('[اعتمادا على تحقيق زكريّا يوسف]', 1),\n",
       " ('[فَقَدْ]', 1),\n",
       " ('[والوجه الثّالث... ؟]', 1),\n",
       " ('[والادراك]', 1),\n",
       " ('[أسباب]', 1),\n",
       " ('[7-6]', 1),\n",
       " ('[وهي]', 1),\n",
       " ('[وخفيف الثّقيل : ثلاث نقرات متواليات لا يمكن أن يكون بين واحدة منها زمان نقرة[ وبين كلّ ثلاث نقرات وثلاث نقرات زمان]',\n",
       "  1),\n",
       " ('[والرّمل : يبدأ بفردة منفردة، ونقرتان متواليتان لا يمكن بينهما زمان نقرة، وبين رفعه ووضعه ووضعه ورفعه زمان نقرة.]',\n",
       "  1),\n",
       " ('[وخفيف الرّمل : ثلاث نقرات متحرّكات ثمّ يعود الإيقاع كما ابتدئ به]', 1),\n",
       " ('[وخفيف الخفيف]', 1)]"
      ]
     },
     "execution_count": 23,
     "metadata": {},
     "output_type": "execute_result"
    }
   ],
   "source": [
    "z = re.findall('\\[.*?\\]',raw_corpus_str)\n",
    "print(len(z),len(set(z)))\n",
    "Counter(z).most_common(100)"
   ]
  },
  {
   "cell_type": "code",
   "execution_count": 24,
   "metadata": {},
   "outputs": [
    {
     "name": "stdout",
     "output_type": "stream",
     "text": [
      "21\n"
     ]
    },
    {
     "data": {
      "text/plain": [
       "['مان الرحيم❊وصلى الله ',\n",
       " 'يم الوهاب ❊ الغفور ال',\n",
       " 'تواب ❊ الهادي ال',\n",
       " 'ي الصواب ❊ المعطى من',\n",
       " 'بغير حساب ❊ وجاعل الع',\n",
       " 'ر الاقطاب ❊ وسببا لهد',\n",
       " 'ب الاسباب ❊ وصلى لله ',\n",
       " 'رب والعجم ❊ الذي اوتي',\n",
       " 'امع الكلم ❊ صلاة تستو',\n",
       " 'يم والنعم ❊ ما صدحت ا',\n",
       " 'لما وعملا ❊ وتدقيقا و',\n",
       " 'تحقيقا ❊ ورايت من ',\n",
       " 'رات ورموز ❊ وسلك به ط',\n",
       " 'اب الكنوز ❊ فابهم وما',\n",
       " 'ن الجامده ❊ ولم يصلوا',\n",
       " 'ذا الطريق ❊ واسلك بهم',\n",
       " ' والتحقيق ❊ لايمة من ',\n",
       " ' والتصديق ❊ واوافق غر',\n",
       " 'ض الصديق ❊ فاقول وبا',\n",
       " 'ت النغمات ❊الرست له س',\n",
       " ' الاوازات ❊ النيروز ن']"
      ]
     },
     "execution_count": 24,
     "metadata": {},
     "output_type": "execute_result"
    }
   ],
   "source": [
    "g = re.findall('.{1,10}❊.{1,10}',raw_corpus_str)\n",
    "print(len(g))\n",
    "g"
   ]
  },
  {
   "cell_type": "code",
   "execution_count": 25,
   "metadata": {},
   "outputs": [
    {
     "name": "stdout",
     "output_type": "stream",
     "text": [
      "65\n"
     ]
    },
    {
     "data": {
      "text/plain": [
       "['ـابِسٌ    ¦   حَـــــ',\n",
       " 'ـــــبٌ   ¦   بَـــــ',\n",
       " 'ـــــبٌ   ¦     بَـــ',\n",
       " 'نْكَلَا   ¦   عِرَاقٌ',\n",
       " 'يْنِيٌّ   ¦   إِصْفَه',\n",
       " 'سَلِيكٌ   ¦   زِيرَفْ',\n",
       " 'َاقٌ      ¦عِرَاقٌ بَ',\n",
       " 'كٌ مَايٌ  ¦     زِيرَ',\n",
       " 'َهَوِيٌّ  ¦     إِصْف',\n",
       " 'ارِيَّةٌ  ¦ أَنْغَـــ',\n",
       " 'َّــــةٌ  ¦      أَنْ',\n",
       " 'ِيَّةٌ    ¦    أَنْغَ',\n",
       " 'ـابِسَةٌ  ¦ حَـــــار',\n",
       " 'ـــبَةٌ   ¦      بَــ',\n",
       " 'ــبَةٌ    ¦     بَـــ',\n",
       " 'سَلِيكٌ   ¦    عِرَاق',\n",
       " ' نَوَى    ¦   زِيرَاف',\n",
       " 'ٌ مَايٌ   ¦    إِصْفَ',\n",
       " 'ابِسَةٌ   ¦  هَوَاءٌ ',\n",
       " 'رَطْبَةٌ  ¦     مَائِ',\n",
       " 'طْبَةٌ    ¦       تُر',\n",
       " 'ـــــــلٌ ¦ مُشْتَـــ',\n",
       " 'ــــــرِي ¦ مَرِّيـــ',\n",
       " 'ـــــــخٌ ¦ شَمْـسٌ ¦',\n",
       " 'ـــــرَةٌ ¦ عُـــــــ',\n",
       " 'ــطَارِدٌ ¦ قَمَـــــ',\n",
       " 'َلْــــوٌ ¦ قَوْسٌ  ح',\n",
       " 'ُــــوتٌ ¦ حَمَلٌ عَ',\n",
       " 'قْرَبٌ  ¦ أَسَــــد',\n",
       " 'ٌ ¦ ثَوْرٌ مِ',\n",
       " 'ــــزَانٌ ¦ جَوْزَاءٌ',\n",
       " 'ـــــــةٌ ¦ سَرَطَانٌ',\n",
       " 'يكٌ مَايْ ¦ عُشَّـــا',\n",
       " ' بُزُرْكٌ ¦ رَهَوِيٌّ',\n",
       " 'زَنْكُلَا ¦ عِرَاقٌ ¦',\n",
       " 'صْفَهَانٌ ¦ حُسَيْنِي',\n",
       " 'َفْكَنْدٌ ¦ رَسْـــتٌ',\n",
       " 'ــــــارٌ ¦ هَـــــــ',\n",
       " 'ــــوَاءٌ ¦ مَـــــــ',\n",
       " 'ــــــاءٌ ¦ تُـــــــ',\n",
       " 'دٌ قَوْسٌ ¦ جَوْزَاءٌ',\n",
       " 'نٌ دَلْوٌ ¦ سَرَطَانٌ',\n",
       " 'َبٌ حُوتٌ ¦ ثَوْرٌ سُ',\n",
       " 'نَيْرُوزٌ ¦ سُلْمَكٌ ',\n",
       " 'رْكَشِيٌّ ¦ حِجَازٌ ك',\n",
       " 'ــــزَالٌ ¦ زَوَالِــ',\n",
       " 'ــــــيٌّ ¦ عَكْبَـــ',\n",
       " 'ٌ عِرَاقٌ ¦  زِيرَافْ',\n",
       " 'صْفَهَانٌ ¦  بَوْسَلِ',\n",
       " 'يكٌ نَوَى ¦  بُزُرْكٌ',\n",
       " 'رَهَوِيٌّ ¦  زَنْكُلَ',\n",
       " 'ِجَازِيٌّ ¦  حُسَيْنِ',\n",
       " 'ــــرُوزٌ ¦ شَهْنَـــ',\n",
       " 'ــــــازٌ ¦ مَــــــا',\n",
       " 'ــــــاهْ ¦ سُلْـــــ',\n",
       " 'ـــــمَكٌ ¦ كُرْدَانِ',\n",
       " 'ـــــــةٌ ¦ كَـــــــ',\n",
       " 'ـــــــلٌ ¦¦ [5] خَفِ',\n",
       " 'كْه تَكْه ¦¦ دُمْ تَك',\n",
       " 'كْ تَكْ   ¦¦ تَكْ دُم',\n",
       " 'َكْ تَكْه ¦¦ تَكْ دُم',\n",
       " '       هه ¦¦ دُمْ تَك',\n",
       " 'ـــــزَجٌ ¦¦ فَــــــ',\n",
       " 'دُمْ تَكْ ¦¦ دُمْ تَك',\n",
       " 'َكْ تَكْه ¦¦ تَكْه   ']"
      ]
     },
     "execution_count": 25,
     "metadata": {},
     "output_type": "execute_result"
    }
   ],
   "source": [
    "h = re.findall('.{1,10}¦.{1,10}',raw_corpus_str)\n",
    "print(len(h))\n",
    "h"
   ]
  },
  {
   "cell_type": "code",
   "execution_count": 26,
   "metadata": {},
   "outputs": [
    {
     "name": "stdout",
     "output_type": "stream",
     "text": [
      "17\n"
     ]
    },
    {
     "data": {
      "text/plain": [
       "['{الدَّسَاتِينِ}',\n",
       " '{وَرُبَّمَا اسْتَعْمَلَ المُغَنِّي البِنْصَر عَلَى المَثْلَثِ}',\n",
       " '{الانْتِسَابُ}',\n",
       " '{غِلَظِهِمَا}',\n",
       " '{لَطَافَتِهِمَا}',\n",
       " '{شِدَّتِهِمَا}',\n",
       " '{.}',\n",
       " '{تُسْمِعْهُ}',\n",
       " '{نَغْمَةَ كُلِّ طَبَقَةٍ تَكُونُ}',\n",
       " '{تَلْبَثُ}',\n",
       " '{وَسَبَّابَتُهُ وَخِنْصَرُهُ}',\n",
       " '{لَا}',\n",
       " '{هُوَ}',\n",
       " '{وَهْيَ النَّغْمَةُ العَاشِرَةُ الَّتِي مَرَّ ذِكْرُهَا}',\n",
       " '{العَشْرُ}',\n",
       " '{وَيُمْكِنُ أَنْ يَخْرُجَ مِنْ عِرَاقٍ وَزِوَرْكَنْدٍ نَغَمٌ وَتُسَمِّيَهُ بِإِسْمٍ وَمِنْ إِصْفَهَانٍ وَبَوْسَلِيكٍ نَغَمٌ وَمِنَ ٱلنَّوَى وَٱلْبُزُرْكِ نَغَمٌ وَمِنَ ٱلرَّهَوِيِّ وَٱلزَّنْكُلَا نَغَمٌ وَمِنَ ٱلْمَايِ وَٱلْحُسَيْنِيِّ نَغَمٌ، فَهَذِهِ خَمْسَةٌ وَأَيْضًا يَخْرُجُ مِنَ ٱلرَّسْتِ وَٱلْعُشَّاقِ نَغَمٌ وَمِنَ ٱلْحُسَيْنِيِّ وَٱلْعِرَاقِ نَغَمٌ، إِلَخْ، نُقِلَ عَنْهُ أَنَّ كُوَشْتًـ[ا] لِزِوَرْكَنْدٍ إِلَخْ}',\n",
       " '{بِحَسَبِ}']"
      ]
     },
     "execution_count": 26,
     "metadata": {},
     "output_type": "execute_result"
    }
   ],
   "source": [
    "w = re.findall('{.*?}',raw_corpus_str)\n",
    "print(len(w))\n",
    "w"
   ]
  },
  {
   "cell_type": "markdown",
   "metadata": {},
   "source": [
    "#### Remarks and conclusions\n",
    "\n",
    "- The only symbols we need to worry about is [ ] because it occurs quite frequently.\n",
    "- Text enclosed in [] seems to be explanatory text added by expert (not part of original document) and should probably be removed ... ????"
   ]
  },
  {
   "cell_type": "markdown",
   "metadata": {},
   "source": [
    "### Example orthographic errors\n",
    "\n",
    "Such errors are difficult to fix in a context-independent way, but it's a good idea to be aware of them ..."
   ]
  },
  {
   "cell_type": "code",
   "execution_count": null,
   "metadata": {},
   "outputs": [],
   "source": []
  },
  {
   "cell_type": "code",
   "execution_count": null,
   "metadata": {},
   "outputs": [],
   "source": []
  },
  {
   "cell_type": "markdown",
   "metadata": {},
   "source": [
    "### Repeated words\n",
    "\n",
    "- I noticed repeated words while visually inspecting the corpus.\n",
    "- Is this something I should worry about (and clean up)?"
   ]
  },
  {
   "cell_type": "code",
   "execution_count": 33,
   "metadata": {},
   "outputs": [],
   "source": [
    "two_plus_words_RE = re.compile(r\"(\\w+\\s+)\\1{1,}\", re.DOTALL)"
   ]
  },
  {
   "cell_type": "code",
   "execution_count": 34,
   "metadata": {},
   "outputs": [
    {
     "data": {
      "text/plain": [
       "[]"
      ]
     },
     "execution_count": 34,
     "metadata": {},
     "output_type": "execute_result"
    }
   ],
   "source": [
    "doc = doc_data_df.raw_text[0]\n",
    "two_plus_words_RE.findall(doc)"
   ]
  },
  {
   "cell_type": "code",
   "execution_count": 35,
   "metadata": {},
   "outputs": [],
   "source": [
    "u = doc_data_df.raw_text.map(lambda doc: two_plus_words_RE.findall(doc))"
   ]
  },
  {
   "cell_type": "code",
   "execution_count": 36,
   "metadata": {},
   "outputs": [
    {
     "data": {
      "text/plain": [
       "0                                                    []\n",
       "1                                              [ووضعه ]\n",
       "2                  [لك , ووضعه , من , من , من , واحدا ]\n",
       "3                                                 [ما ]\n",
       "4                                                    []\n",
       "5                                               [ونصف ]\n",
       "6                                                    []\n",
       "7                                                    []\n",
       "8                                                    []\n",
       "9                                                    []\n",
       "10    [بها , نقرتين , نقرتين , نقرتين , نقرتين , تن ...\n",
       "11                                                   []\n",
       "12                                                   []\n",
       "13                                                   []\n",
       "14                                                   []\n",
       "15       [نقرة , تن , نقرتين , تن , تن , تن , تن , تن ]\n",
       "16                                                   []\n",
       "17                                                   []\n",
       "18                                                   []\n",
       "19                                                   []\n",
       "20                              [على , له , حمد , علم ]\n",
       "21                                                   []\n",
       "22                                           [من , يا ]\n",
       "23                           [قليلا , لم , جزءا , جزء ]\n",
       "24                                               [كون ]\n",
       "25                                                   []\n",
       "26                                                   []\n",
       "27                 [من , أحتبسها , ألف , لا , ما , ما ]\n",
       "28                                          [اصل , يا ]\n",
       "29                                                   []\n",
       "30                                                 [و ]\n",
       "31                                          [يوم , لا ]\n",
       "32                                                [ما ]\n",
       "33                                                   []\n",
       "34                                                   []\n",
       "35                                                   []\n",
       "36                                                   []\n",
       "37                                                   []\n",
       "38                                                   []\n",
       "Name: raw_text, dtype: object"
      ]
     },
     "execution_count": 36,
     "metadata": {},
     "output_type": "execute_result"
    }
   ],
   "source": [
    "u"
   ]
  },
  {
   "cell_type": "markdown",
   "metadata": {},
   "source": [
    "****"
   ]
  },
  {
   "cell_type": "markdown",
   "metadata": {},
   "source": [
    "## Text preprocessing"
   ]
  },
  {
   "cell_type": "markdown",
   "metadata": {},
   "source": [
    "### Wrapper functions of entire pipeline"
   ]
  },
  {
   "cell_type": "markdown",
   "metadata": {},
   "source": [
    "Preprocessing pipeline:\n",
    "\n",
    "1. Orthographic letter normalization (remove diacritic marks and tatwil character; normalize different forms of alif character, ...)\n",
    "2. Tokenization (remove non-word characters and convert to sequence of words)\n",
    "3. Remove useless words (stopwords and one-character and two-character tokens)\n",
    "4. Normalization of important domain-specific words\n",
    "5. Light stemming based on common prefixes and suffixes"
   ]
  },
  {
   "cell_type": "code",
   "execution_count": 37,
   "metadata": {},
   "outputs": [],
   "source": [
    "from nltk.corpus import stopwords\n",
    "from nltk.tokenize import word_tokenize, regexp_tokenize"
   ]
  },
  {
   "cell_type": "code",
   "execution_count": 38,
   "metadata": {},
   "outputs": [],
   "source": [
    "# Reference: https://pypi.org/project/Tashaphyne/\n",
    "\n",
    "from tashaphyne.stemming import ArabicLightStemmer"
   ]
  },
  {
   "cell_type": "code",
   "execution_count": 39,
   "metadata": {},
   "outputs": [],
   "source": [
    "## wrapper function for Arabic letter normalization + miscellaneous other corpus-specific cleanup\n",
    "\n",
    "from arabic_nlp_utils import normalize_arabic_letters\n",
    "import re\n",
    "\n",
    "def cleanup_arabic_text(text):\n",
    "    '''wrapper function for Arabic letter normalization + miscellaneous other corpus-specific cleanup.'''\n",
    "\n",
    "    # remove non-arabic text\n",
    "    # SKIPPING THIS FOR NOW BECAUSE SUCH TEXT IS RARE ANYWAY\n",
    "\n",
    "    ## orthographic normalization of certain arabic characters\n",
    "    text = normalize_arabic_letters(text,norm_alif=False)\n",
    "\n",
    "    ## Corpus-specific cleaning\n",
    "    # remove any text between []\n",
    "    text = re.sub('\\[.*?\\]','',text)\n",
    "\n",
    "    return text"
   ]
  },
  {
   "cell_type": "code",
   "execution_count": 40,
   "metadata": {},
   "outputs": [],
   "source": [
    "from nltk import edit_distance"
   ]
  },
  {
   "cell_type": "code",
   "execution_count": 41,
   "metadata": {},
   "outputs": [],
   "source": [
    "## wrapper function for finding all variants of a special set of important words\n",
    "## orthographic variants of a word are different ways of writing it\n",
    "## based on orthographic similarity of words (edit distance ...)\n",
    "\n",
    "MAX_WORD_LEN_DIFF = 2\n",
    "MAX_WORD1_LEN = 6\n",
    "MAX_WORD2_LEN = 6\n",
    "\n",
    "def find_orth_word_variants(corpus_tokens,norm_words):\n",
    "    '''\n",
    "    wrapper function for finding all variants of a special set of important words\n",
    "    based on the orthographic similarity of words (edit distance ...)\n",
    "    Remark: this method is just a simple heuristic and is not expected to be fool proof. \n",
    "       Example false negative: 'رست' and 'راست' \n",
    "    '''\n",
    "    corpus_tokens_list = [tok for doc in corpus_tokens for tok in doc]\n",
    "    corpus_tokens_dict = Counter(corpus_tokens_list)\n",
    "    corpus_distinct_words_list = sorted(list(corpus_tokens_dict.keys()))\n",
    "    assert len(corpus_distinct_words_list)==len(corpus_tokens_dict)\n",
    "\n",
    "    word_variants_dict = defaultdict(list)\n",
    "    word_variants_reverse_dict = dict()\n",
    "\n",
    "    # just in case some special words don't have any matches\n",
    "    for word in norm_words:\n",
    "        word_variants_dict[word] = []\n",
    "\n",
    "    for word in corpus_distinct_words_list:\n",
    "        word_ = word\n",
    "        #custom light stemming ...\n",
    "        if len(word)>=5 and word.startswith('ال'):\n",
    "            word = word[2:]\n",
    "        n1 = len(word)\n",
    "        for special_word in norm_words:\n",
    "            n2 = len(special_word)\n",
    "            u1= (word==special_word or word.startswith(special_word) or word.endswith(special_word))\n",
    "            u2= (n1>=MAX_WORD1_LEN and n2>=MAX_WORD2_LEN and abs(n2-n1)<=MAX_WORD_LEN_DIFF and edit_distance(special_word,word)<=2)\n",
    "            #u3 = (abs(n2-n1)<=MAX_WORD_LEN_DIFF and edit_distance(special_word,word)==1)\n",
    "            if u1 or u2:\n",
    "                assert word_ not in word_variants_reverse_dict\n",
    "                word_variants_dict[special_word].append(word_)\n",
    "                word_variants_reverse_dict[word_] = special_word\n",
    "\n",
    "    assert len(word_variants_dict)==len(norm_words)\n",
    "    word_variants_df = pd.DataFrame(word_variants_dict.items(), columns=['special_word','word_variants'])\n",
    "    word_variants_df.set_index('special_word',inplace=True)\n",
    "\n",
    "    u = word_variants_df.word_variants.map(len)\n",
    "    assert u.sum() == len(word_variants_reverse_dict)\n",
    "    print(\"Number of variants for each special word:\")\n",
    "    print(u)\n",
    "    print()\n",
    "\n",
    "    print(\"The variants of each special word:\")\n",
    "    for special_word,variants in word_variants_df.iterrows():\n",
    "        print(special_word)\n",
    "        print(variants[0])\n",
    "        print()\n",
    "\n",
    "\n",
    "\n",
    "    return word_variants_reverse_dict"
   ]
  },
  {
   "cell_type": "code",
   "execution_count": 42,
   "metadata": {},
   "outputs": [],
   "source": [
    "## wrapper functions for the entire text preprocessing pipeline\n",
    "\n",
    "## Important remark: this regex treats diacritics as \\W, so diacritics must be removed before this step\n",
    "tokenize_regex = \"\\w+\"\n",
    "\n",
    "stop_words_ar_raw = stopwords.words('arabic')\n",
    "stop_words_ar = [cleanup_arabic_text(word) for word in stop_words_ar_raw]\n",
    "special_words_clean = [cleanup_arabic_text(word) for word in special_words_list]\n",
    "simple_stemmer = ArabicLightStemmer()\n",
    "\n",
    "# FOR DEBUGGING\n",
    "debug_word_stem_dict = defaultdict(str)\n",
    "debug_reverse_word_stem_dict = defaultdict(set)\n",
    "\n",
    "def preprocess_text_part1(doc,debug=False):\n",
    "    '''\n",
    "    wrapper function for the entire document preprocessing pipeline.\n",
    "    input = raw text document as a sequence of characters\n",
    "    output = sequence of words\n",
    "    processing steps:\n",
    "    step1: Orthographic letter normalization (remove diacritic marks and tatwil character; normalize different forms of alif character, ...)\n",
    "    step2: Tokenization (remove non-word characters and convert to sequence of words)\n",
    "    step3: Remove useless words (stopwords and one-character and two-character tokens)\n",
    "    '''\n",
    "\n",
    "    ## Arabic language-specific cleaning/normalization\n",
    "    doc = cleanup_arabic_text(doc) \n",
    "\n",
    "    ## Tokenization using custom regular expression\n",
    "    ## remove redundant white spaces\n",
    "    ## UNNECESSARY BECAUSE TOKENIZATION IGNORES THEM ANYWAY\n",
    "    #doc = re.sub('\\s+', ' ', doc)\n",
    "    #doc = doc.strip()\n",
    "    doc_tokens = regexp_tokenize(doc,tokenize_regex)\n",
    "    if debug: print('I am here 1'); print(doc_tokens)\n",
    "\n",
    "    ## Remove stopwords, one-character and two-character tokens\n",
    "    doc_tokens = [tok for tok in doc_tokens if (tok not in stop_words_ar and len(tok)>=3)]\n",
    "    if debug: print('I am here 2'); print(doc_tokens)\n",
    "\n",
    "    return doc_tokens\n",
    "\n",
    "def stemming_wrapper(tok):\n",
    "\n",
    "    if tok.endswith('الله'):\n",
    "        stem_tok = 'الله'\n",
    "    elif (len(tok)>=5) and tok not in special_words_clean:\n",
    "        stem_tok = simple_stemmer.light_stem(tok)\n",
    "        if (len(tok)-len(stem_tok)) >= 5:\n",
    "            stem_tok = tok\n",
    "    else:\n",
    "        stem_tok = tok\n",
    "\n",
    "    debug_word_stem_dict[tok] = stem_tok\n",
    "    debug_reverse_word_stem_dict[stem_tok].add(tok)\n",
    "\n",
    "    return stem_tok\n",
    "\n",
    "\n",
    "def preprocess_text_part2(doc_tokens,word_norm_dict,debug=False):\n",
    "    '''\n",
    "    input = sequence of words\n",
    "    output = sequence of normalized words\n",
    "    processing steps:\n",
    "    step1: Word normalization based on a given dictionary of words and their corresponding variants.\n",
    "    step2: light stemming\n",
    "    '''\n",
    "    # map all special words's variations to one standard form.\n",
    "    doc_tokens = [word_norm_dict[tok] if tok in word_norm_dict else tok for tok in doc_tokens]                    \n",
    "\n",
    "    ## light stemming based on common prefixes  EXCEPT SPECIAL VOCABULARY TERMS\n",
    "    doc_tokens = [stemming_wrapper(tok) for tok in doc_tokens]\n",
    "    if debug: print('I am here 3'); print(doc_tokens)\n",
    "\n",
    "    ## Remove stopwords, one-character and two-character tokens\n",
    "    doc_tokens = [tok for tok in doc_tokens if (tok not in stop_words_ar and len(tok)>=3)]\n",
    "    if debug: print('I am here 4'); print(doc_tokens)\n",
    "\n",
    "    return doc_tokens"
   ]
  },
  {
   "cell_type": "code",
   "execution_count": 43,
   "metadata": {},
   "outputs": [],
   "source": [
    "corpus_words_1 = [preprocess_text_part1(doc) for doc in doc_data_df.raw_text.tolist()]"
   ]
  },
  {
   "cell_type": "code",
   "execution_count": 44,
   "metadata": {},
   "outputs": [
    {
     "data": {
      "text/plain": [
       "['وقد',\n",
       " 'بينا',\n",
       " 'فضل',\n",
       " 'مطلق',\n",
       " 'المثلث',\n",
       " 'اول',\n",
       " 'دساتين',\n",
       " 'المثني',\n",
       " 'البعد',\n",
       " 'بالخمسة']"
      ]
     },
     "execution_count": 44,
     "metadata": {},
     "output_type": "execute_result"
    }
   ],
   "source": [
    "corpus_words_1[0][0:10]"
   ]
  },
  {
   "cell_type": "code",
   "execution_count": 45,
   "metadata": {},
   "outputs": [
    {
     "name": "stdout",
     "output_type": "stream",
     "text": [
      "Number of variants for each special word:\n",
      "special_word\n",
      "اصفهان     16\n",
      "حجاز       12\n",
      "راست        4\n",
      "زركشي       6\n",
      "زروكند     16\n",
      "زنكلاه      3\n",
      "شهناز       7\n",
      "عراق       10\n",
      "نيروز       9\n",
      "بزرك       11\n",
      "سلمك        9\n",
      "كوشت        5\n",
      "ماياه       5\n",
      "نوي        10\n",
      "ابوسليك     8\n",
      "عشاق        9\n",
      "حسيني       8\n",
      "رهاوي       6\n",
      "Name: word_variants, dtype: int64\n",
      "\n",
      "The variants of each special word:\n",
      "اصفهان\n",
      "['اصبهان', 'اصبهانه', 'اصفهان', 'اصفهاناسمه', 'اصفهاني', 'الاصبعان', 'الاصبهان', 'الاصفهان', 'الاصفياء', 'باصفهان', 'بالاصفهان', 'للاصفهان', 'واصبهان', 'واصفهان', 'والاصفهان', 'وللاصفهان']\n",
      "\n",
      "حجاز\n",
      "['الحجاز', 'الحجازي', 'الحجازيون', 'بالحجاز', 'حجاز', 'حجازا', 'حجازنا', 'حجازي', 'حجازية', 'للحجاز', 'والحجاز', 'وبالحجاز']\n",
      "\n",
      "راست\n",
      "['الراست', 'راست', 'فالراست', 'للراست']\n",
      "\n",
      "زركشي\n",
      "['الزركشي', 'بالزركشي', 'زركشي', 'للزركشي', 'والزركشي', 'وزركشي']\n",
      "\n",
      "زروكند\n",
      "['الزروكند', 'الزوركند', 'الزيرفكند', 'الزيلكند', 'بالزروكند', 'زرفكند', 'زروكند', 'زروكندا', 'زروكندي', 'زوركند', 'زيرفكند', 'زيلكند', 'لزرفكند', 'للزروكند', 'والزروكند', 'وزروكند']\n",
      "\n",
      "زنكلاه\n",
      "['زنكولا', 'والزنكلاه', 'وزنكلا']\n",
      "\n",
      "شهناز\n",
      "['الشهناز', 'شهناز', 'شهنازا', 'شهنازنا', 'شهنازها', 'شهنازي', 'والشهناز']\n",
      "\n",
      "عراق\n",
      "['العراق', 'العراقي', 'بالعراق', 'عراق', 'عراقي', 'فالعراق', 'للعراق', 'والعراق', 'وعراق', 'وللعراق']\n",
      "\n",
      "نيروز\n",
      "['النيروز', 'النيروزي', 'بالنيروز', 'للنيروز', 'لنيروز', 'نيروز', 'نيروزا', 'نيروزها', 'والنيروز']\n",
      "\n",
      "بزرك\n",
      "['البزرك', 'بالبزرك', 'بزرك', 'بزركا', 'بزركاه', 'بزركي', 'فالبزرك', 'فللبزرك', 'للبزرك', 'والبزرك', 'وبزرك']\n",
      "\n",
      "سلمك\n",
      "['السلمك', 'بالسلمك', 'بسلمك', 'سلمك', 'سلمكا', 'سلمكهم', 'لسلمك', 'والسلمك', 'وسلمك']\n",
      "\n",
      "كوشت\n",
      "['الكوشت', 'كوشت', 'كوشتها', 'والكوشت', 'وكوشت']\n",
      "\n",
      "ماياه\n",
      "['ارماياه', 'الماياه', 'بالماياه', 'بماياه', 'ماياه']\n",
      "\n",
      "نوي\n",
      "['البوسنوي', 'النوي', 'بالنوي', 'تنوي', 'للنوي', 'نوي', 'والنوي', 'وبالنوي', 'ونوي', 'ينوي']\n",
      "\n",
      "ابوسليك\n",
      "['ابوسليك', 'البوسليك', 'بالبوسليك', 'بوسليك', 'لبوسليك', 'وابوسليك', 'وبوسليك', 'وبوسليكا']\n",
      "\n",
      "عشاق\n",
      "['العشاق', 'بالعشاق', 'عشاق', 'عشاقا', 'عشاقهم', 'للعشاق', 'والعشاق', 'وعشاق', 'وللعشاق']\n",
      "\n",
      "حسيني\n",
      "['الحسيني', 'بالحسيني', 'حسيني', 'للحسيني', 'والحسيني', 'وبالحسيني', 'وحسيني', 'وللحسيني']\n",
      "\n",
      "رهاوي\n",
      "['الرهاوي', 'بالرهاوي', 'رهاوي', 'للرهاوي', 'والرهاوي', 'وبالرهاوي']\n",
      "\n"
     ]
    }
   ],
   "source": [
    "word_norm_dict = find_orth_word_variants(corpus_words_1,special_words_clean)"
   ]
  },
  {
   "cell_type": "code",
   "execution_count": 46,
   "metadata": {},
   "outputs": [
    {
     "data": {
      "text/html": [
       "<div>\n",
       "<style scoped>\n",
       "    .dataframe tbody tr th:only-of-type {\n",
       "        vertical-align: middle;\n",
       "    }\n",
       "\n",
       "    .dataframe tbody tr th {\n",
       "        vertical-align: top;\n",
       "    }\n",
       "\n",
       "    .dataframe thead th {\n",
       "        text-align: right;\n",
       "    }\n",
       "</style>\n",
       "<table border=\"1\" class=\"dataframe\">\n",
       "  <thead>\n",
       "    <tr style=\"text-align: right;\">\n",
       "      <th></th>\n",
       "      <th>0</th>\n",
       "    </tr>\n",
       "  </thead>\n",
       "  <tbody>\n",
       "    <tr>\n",
       "      <th>نوى</th>\n",
       "      <td>True</td>\n",
       "    </tr>\n",
       "    <tr>\n",
       "      <th>أبوسليك</th>\n",
       "      <td>True</td>\n",
       "    </tr>\n",
       "  </tbody>\n",
       "</table>\n",
       "</div>"
      ],
      "text/plain": [
       "            0\n",
       "نوى      True\n",
       "أبوسليك  True"
      ]
     },
     "execution_count": 46,
     "metadata": {},
     "output_type": "execute_result"
    }
   ],
   "source": [
    "u=pd.DataFrame(special_words_list)!=pd.DataFrame(special_words_clean)\n",
    "u.index = special_words_list\n",
    "u[u.iloc[:,0]]"
   ]
  },
  {
   "cell_type": "code",
   "execution_count": 47,
   "metadata": {},
   "outputs": [
    {
     "name": "stdout",
     "output_type": "stream",
     "text": [
      "Wall time: 4.12 s\n"
     ]
    }
   ],
   "source": [
    "%time corpus_words_2 = [preprocess_text_part2(doc_tokens,word_norm_dict) for doc_tokens in corpus_words_1]"
   ]
  },
  {
   "cell_type": "code",
   "execution_count": 48,
   "metadata": {},
   "outputs": [
    {
     "data": {
      "text/plain": [
       "['وقد',\n",
       " 'بينا',\n",
       " 'فضل',\n",
       " 'مطلق',\n",
       " 'المثلث',\n",
       " 'اول',\n",
       " 'دساتين',\n",
       " 'المثني',\n",
       " 'البعد',\n",
       " 'بالخمسة']"
      ]
     },
     "execution_count": 48,
     "metadata": {},
     "output_type": "execute_result"
    }
   ],
   "source": [
    "corpus_words_1[0][0:10]"
   ]
  },
  {
   "cell_type": "code",
   "execution_count": 49,
   "metadata": {},
   "outputs": [
    {
     "data": {
      "text/plain": [
       "['وقد', 'بينا', 'فضل', 'مطلق', 'مثلث', 'اول', 'دسا', 'مثن', 'خمس', 'خمس']"
      ]
     },
     "execution_count": 49,
     "metadata": {},
     "output_type": "execute_result"
    }
   ],
   "source": [
    "corpus_words_2[0][0:10]"
   ]
  },
  {
   "cell_type": "markdown",
   "metadata": {},
   "source": [
    "### Save result to a file"
   ]
  },
  {
   "cell_type": "code",
   "execution_count": 50,
   "metadata": {},
   "outputs": [],
   "source": [
    "with open('../pickle_files/doc_tokenized_data.pickle', 'wb') as f:\n",
    "    pickle.dump(corpus_words_2, f)"
   ]
  },
  {
   "cell_type": "code",
   "execution_count": 263,
   "metadata": {},
   "outputs": [],
   "source": [
    "with open('../pickle_files/debug_reverse_word_stem_dict.pickle', 'wb') as f:\n",
    "    pickle.dump(debug_reverse_word_stem_dict, f)"
   ]
  },
  {
   "cell_type": "markdown",
   "metadata": {},
   "source": [
    "****"
   ]
  },
  {
   "cell_type": "markdown",
   "metadata": {},
   "source": [
    "***"
   ]
  },
  {
   "cell_type": "markdown",
   "metadata": {},
   "source": [
    "## Extra Stuff\n",
    "\n",
    "Visually inspect results to see if we might need to improve the text preprocessing pipeline."
   ]
  },
  {
   "cell_type": "markdown",
   "metadata": {},
   "source": [
    "### Unit tests of preprocessing functions"
   ]
  },
  {
   "cell_type": "code",
   "execution_count": 54,
   "metadata": {},
   "outputs": [
    {
     "data": {
      "text/plain": [
       "'blah blah dsf  jkasf sakjfhsd '"
      ]
     },
     "execution_count": 54,
     "metadata": {},
     "output_type": "execute_result"
    }
   ],
   "source": [
    "x = 'blah blah dsf [فِي] jkasf sakjfhsd '\n",
    "re.sub('\\[.*?\\]','',x)"
   ]
  },
  {
   "cell_type": "code",
   "execution_count": 55,
   "metadata": {},
   "outputs": [
    {
     "data": {
      "text/plain": [
       "22768"
      ]
     },
     "execution_count": 55,
     "metadata": {},
     "output_type": "execute_result"
    }
   ],
   "source": [
    "doc = doc_data_df.raw_text[0]\n",
    "len(doc)"
   ]
  },
  {
   "cell_type": "code",
   "execution_count": 56,
   "metadata": {},
   "outputs": [],
   "source": [
    "doc_sub = doc[0:500]\n",
    "clean_doc = cleanup_arabic_text(doc_sub)"
   ]
  },
  {
   "cell_type": "code",
   "execution_count": 57,
   "metadata": {},
   "outputs": [
    {
     "name": "stdout",
     "output_type": "stream",
     "text": [
      "[بالاعتماد على تحقيق يوسف شوقي.]\n",
      "[الرّسالة منقوصة في بدايتها.]\n",
      "وَ « ك » إِلَى « ا »\n",
      "وَقَدْ بَيَّنَّا أَنَّ فَضْلَ\n",
      "فَإِذًا، بُعْدُ « و » الَّتِي هِيَ مُطْلَقُ المَثْلَثِ مِنْ « ا » الَّتِي هِيَ أَوَّلُ دَسَاتِينِ المَثْنَى هُوَ البُعْدُ الَّذِي بِالخَمْسَةِ.\n",
      "وَمِنَ الَّذِي بِالخَمْسَةِ وَالَّذِي بِالأَرْبَعَةِ رُكِّبَ الَّذِي بِالكُلِّ.\n",
      "فَإذًا بُعْدُ « ا » مِنَ البَمِّ مِنْ « ا » مِنَ المَثْنَى هُوَ الَّذِي بِالكُلِّ. فَإِذًا نِسْبَةُ « ا » مِنَ البَمِّ إِلَى « ا » مِنَ المَثْنَى هِيَ نِسْبَةُ ال\n"
     ]
    }
   ],
   "source": [
    "print(doc_sub)"
   ]
  },
  {
   "cell_type": "code",
   "execution_count": 58,
   "metadata": {},
   "outputs": [
    {
     "data": {
      "text/plain": [
       "'\\n\\nو « ك » الي « ا »\\nوقد بينا ان فضل\\nفاذا، بعد « و » التي هي مطلق المثلث من « ا » التي هي اول دساتين المثني هو البعد الذي بالخمسة.\\nومن الذي بالخمسة والذي بالاربعة ركب الذي بالكل.\\nفاذا بعد « ا » من البم من « ا » من المثني هو الذي بالكل. فاذا نسبة « ا » من البم الي « ا » من المثني هي نسبة ال'"
      ]
     },
     "execution_count": 58,
     "metadata": {},
     "output_type": "execute_result"
    }
   ],
   "source": [
    "clean_doc"
   ]
  },
  {
   "cell_type": "code",
   "execution_count": 59,
   "metadata": {},
   "outputs": [],
   "source": [
    "doc_tokens0 = regexp_tokenize(clean_doc,tokenize_regex)"
   ]
  },
  {
   "cell_type": "code",
   "execution_count": 60,
   "metadata": {},
   "outputs": [
    {
     "name": "stdout",
     "output_type": "stream",
     "text": [
      "I am here 1\n",
      "['و', 'ك', 'الي', 'ا', 'وقد', 'بينا', 'ان', 'فضل', 'فاذا', 'بعد', 'و', 'التي', 'هي', 'مطلق', 'المثلث', 'من', 'ا', 'التي', 'هي', 'اول', 'دساتين', 'المثني', 'هو', 'البعد', 'الذي', 'بالخمسة', 'ومن', 'الذي', 'بالخمسة', 'والذي', 'بالاربعة', 'ركب', 'الذي', 'بالكل', 'فاذا', 'بعد', 'ا', 'من', 'البم', 'من', 'ا', 'من', 'المثني', 'هو', 'الذي', 'بالكل', 'فاذا', 'نسبة', 'ا', 'من', 'البم', 'الي', 'ا', 'من', 'المثني', 'هي', 'نسبة', 'ال']\n",
      "I am here 2\n",
      "['وقد', 'بينا', 'فضل', 'مطلق', 'المثلث', 'اول', 'دساتين', 'المثني', 'البعد', 'بالخمسة', 'بالخمسة', 'بالاربعة', 'ركب', 'بالكل', 'البم', 'المثني', 'بالكل', 'نسبة', 'البم', 'المثني', 'نسبة']\n"
     ]
    },
    {
     "data": {
      "text/plain": [
       "(22768, 289, 21)"
      ]
     },
     "execution_count": 60,
     "metadata": {},
     "output_type": "execute_result"
    }
   ],
   "source": [
    "doc_tokens_1 = preprocess_text_part1(clean_doc,debug=True)\n",
    "len(doc), len(clean_doc),len(doc_tokens_1)"
   ]
  },
  {
   "cell_type": "code",
   "execution_count": 61,
   "metadata": {},
   "outputs": [
    {
     "name": "stdout",
     "output_type": "stream",
     "text": [
      "I am here 3\n",
      "['وقد', 'بينا', 'فضل', 'مطلق', 'مثلث', 'اول', 'دسا', 'مثن', 'بعد', 'خمس', 'خمس', 'اربع', 'ركب', 'كل', 'البم', 'مثن', 'كل', 'نسبة', 'البم', 'مثن', 'نسبة']\n",
      "I am here 4\n",
      "['وقد', 'بينا', 'فضل', 'مطلق', 'مثلث', 'اول', 'دسا', 'مثن', 'خمس', 'خمس', 'اربع', 'ركب', 'البم', 'مثن', 'نسبة', 'البم', 'مثن', 'نسبة']\n"
     ]
    }
   ],
   "source": [
    "doc_tokens_2 = preprocess_text_part2(doc_tokens_1,word_norm_dict,debug=True)"
   ]
  },
  {
   "cell_type": "code",
   "execution_count": 62,
   "metadata": {},
   "outputs": [
    {
     "name": "stdout",
     "output_type": "stream",
     "text": [
      "['و', 'ك', 'الي', 'ا', 'وقد', 'بينا', 'ان', 'فضل', 'فاذا', 'بعد', 'و', 'التي', 'هي', 'مطلق', 'المثلث', 'من', 'ا', 'التي', 'هي', 'اول', 'دساتين', 'المثني', 'هو', 'البعد', 'الذي', 'بالخمسة', 'ومن', 'الذي', 'بالخمسة', 'والذي', 'بالاربعة', 'ركب', 'الذي', 'بالكل', 'فاذا', 'بعد', 'ا', 'من', 'البم', 'من', 'ا', 'من', 'المثني', 'هو', 'الذي', 'بالكل', 'فاذا', 'نسبة', 'ا', 'من', 'البم', 'الي', 'ا', 'من', 'المثني', 'هي', 'نسبة', 'ال']\n"
     ]
    }
   ],
   "source": [
    "print(doc_tokens0)"
   ]
  },
  {
   "cell_type": "code",
   "execution_count": 63,
   "metadata": {},
   "outputs": [
    {
     "name": "stdout",
     "output_type": "stream",
     "text": [
      "['وقد', 'بينا', 'فضل', 'مطلق', 'المثلث', 'اول', 'دساتين', 'المثني', 'البعد', 'بالخمسة', 'بالخمسة', 'بالاربعة', 'ركب', 'بالكل', 'البم', 'المثني', 'بالكل', 'نسبة', 'البم', 'المثني', 'نسبة']\n"
     ]
    }
   ],
   "source": [
    "print(doc_tokens_1)"
   ]
  },
  {
   "cell_type": "code",
   "execution_count": 64,
   "metadata": {},
   "outputs": [
    {
     "name": "stdout",
     "output_type": "stream",
     "text": [
      "['وقد', 'بينا', 'فضل', 'مطلق', 'مثلث', 'اول', 'دسا', 'مثن', 'خمس', 'خمس', 'اربع', 'ركب', 'البم', 'مثن', 'نسبة', 'البم', 'مثن', 'نسبة']\n"
     ]
    }
   ],
   "source": [
    "print(doc_tokens_2)"
   ]
  },
  {
   "cell_type": "markdown",
   "metadata": {},
   "source": [
    "### Stopwords before and after normalization"
   ]
  },
  {
   "cell_type": "code",
   "execution_count": 231,
   "metadata": {},
   "outputs": [
    {
     "name": "stdout",
     "output_type": "stream",
     "text": [
      "Unnormalized and normalized Arabic stopwords:\n"
     ]
    },
    {
     "data": {
      "text/html": [
       "<div>\n",
       "<style scoped>\n",
       "    .dataframe tbody tr th:only-of-type {\n",
       "        vertical-align: middle;\n",
       "    }\n",
       "\n",
       "    .dataframe tbody tr th {\n",
       "        vertical-align: top;\n",
       "    }\n",
       "\n",
       "    .dataframe thead th {\n",
       "        text-align: right;\n",
       "    }\n",
       "</style>\n",
       "<table border=\"1\" class=\"dataframe\">\n",
       "  <thead>\n",
       "    <tr style=\"text-align: right;\">\n",
       "      <th></th>\n",
       "      <th>raw_stopword</th>\n",
       "      <th>norm_stopword</th>\n",
       "    </tr>\n",
       "  </thead>\n",
       "  <tbody>\n",
       "    <tr>\n",
       "      <th>0</th>\n",
       "      <td>إذ</td>\n",
       "      <td>اذ</td>\n",
       "    </tr>\n",
       "    <tr>\n",
       "      <th>1</th>\n",
       "      <td>إذا</td>\n",
       "      <td>اذا</td>\n",
       "    </tr>\n",
       "    <tr>\n",
       "      <th>2</th>\n",
       "      <td>إذما</td>\n",
       "      <td>اذما</td>\n",
       "    </tr>\n",
       "    <tr>\n",
       "      <th>3</th>\n",
       "      <td>إذن</td>\n",
       "      <td>اذن</td>\n",
       "    </tr>\n",
       "    <tr>\n",
       "      <th>4</th>\n",
       "      <td>أف</td>\n",
       "      <td>اف</td>\n",
       "    </tr>\n",
       "  </tbody>\n",
       "</table>\n",
       "</div>"
      ],
      "text/plain": [
       "  raw_stopword norm_stopword\n",
       "0           إذ            اذ\n",
       "1          إذا           اذا\n",
       "2         إذما          اذما\n",
       "3          إذن           اذن\n",
       "4           أف            اف"
      ]
     },
     "execution_count": 231,
     "metadata": {},
     "output_type": "execute_result"
    }
   ],
   "source": [
    "print('Unnormalized and normalized Arabic stopwords:')\n",
    "u = pd.DataFrame(zip(stop_words_ar_raw,stop_words_ar),columns=['raw_stopword','norm_stopword'])\n",
    "u.head()"
   ]
  },
  {
   "cell_type": "code",
   "execution_count": 232,
   "metadata": {},
   "outputs": [
    {
     "name": "stdout",
     "output_type": "stream",
     "text": [
      "60 stopwords were normalized.\n"
     ]
    },
    {
     "data": {
      "text/html": [
       "<div>\n",
       "<style scoped>\n",
       "    .dataframe tbody tr th:only-of-type {\n",
       "        vertical-align: middle;\n",
       "    }\n",
       "\n",
       "    .dataframe tbody tr th {\n",
       "        vertical-align: top;\n",
       "    }\n",
       "\n",
       "    .dataframe thead th {\n",
       "        text-align: right;\n",
       "    }\n",
       "</style>\n",
       "<table border=\"1\" class=\"dataframe\">\n",
       "  <thead>\n",
       "    <tr style=\"text-align: right;\">\n",
       "      <th></th>\n",
       "      <th>raw_stopword</th>\n",
       "      <th>norm_stopword</th>\n",
       "    </tr>\n",
       "  </thead>\n",
       "  <tbody>\n",
       "    <tr>\n",
       "      <th>0</th>\n",
       "      <td>إذ</td>\n",
       "      <td>اذ</td>\n",
       "    </tr>\n",
       "    <tr>\n",
       "      <th>1</th>\n",
       "      <td>إذا</td>\n",
       "      <td>اذا</td>\n",
       "    </tr>\n",
       "    <tr>\n",
       "      <th>2</th>\n",
       "      <td>إذما</td>\n",
       "      <td>اذما</td>\n",
       "    </tr>\n",
       "    <tr>\n",
       "      <th>3</th>\n",
       "      <td>إذن</td>\n",
       "      <td>اذن</td>\n",
       "    </tr>\n",
       "    <tr>\n",
       "      <th>4</th>\n",
       "      <td>أف</td>\n",
       "      <td>اف</td>\n",
       "    </tr>\n",
       "  </tbody>\n",
       "</table>\n",
       "</div>"
      ],
      "text/plain": [
       "  raw_stopword norm_stopword\n",
       "0           إذ            اذ\n",
       "1          إذا           اذا\n",
       "2         إذما          اذما\n",
       "3          إذن           اذن\n",
       "4           أف            اف"
      ]
     },
     "execution_count": 232,
     "metadata": {},
     "output_type": "execute_result"
    }
   ],
   "source": [
    "idx = u.raw_stopword!=u.norm_stopword\n",
    "print(f\"{idx.sum()} stopwords were normalized.\")\n",
    "u[idx].head()"
   ]
  },
  {
   "cell_type": "markdown",
   "metadata": {},
   "source": [
    "### Word stemming results"
   ]
  },
  {
   "cell_type": "markdown",
   "metadata": {},
   "source": [
    "#### Overview"
   ]
  },
  {
   "cell_type": "code",
   "execution_count": 65,
   "metadata": {},
   "outputs": [],
   "source": [
    "def foo1(corpus_words):\n",
    "    fdist_words = FreqDist([tok for doc in corpus_words for tok in doc])\n",
    "    fdist_words.N(),fdist_words.B()\n",
    "    print(\"number of words:\",fdist_words.N())\n",
    "    print(\"number of distinct words:\",fdist_words.B())\n",
    "    print('Number of words that occur only once (called hapaxes):',(pd.Series(list(fdist_words.values()))==1).sum())\n",
    "    return fdist_words"
   ]
  },
  {
   "cell_type": "code",
   "execution_count": 66,
   "metadata": {},
   "outputs": [
    {
     "name": "stdout",
     "output_type": "stream",
     "text": [
      "number of words: 59424\n",
      "number of distinct words: 20403\n",
      "Number of words that occur only once (called hapaxes): 13233\n"
     ]
    }
   ],
   "source": [
    "fdist_words_1 = foo1(corpus_words_1)"
   ]
  },
  {
   "cell_type": "code",
   "execution_count": 67,
   "metadata": {},
   "outputs": [
    {
     "name": "stdout",
     "output_type": "stream",
     "text": [
      "number of words: 55801\n",
      "number of distinct words: 10851\n",
      "Number of words that occur only once (called hapaxes): 5566\n"
     ]
    }
   ],
   "source": [
    "fdist_words_2 = foo1(corpus_words_2)"
   ]
  },
  {
   "cell_type": "code",
   "execution_count": 68,
   "metadata": {},
   "outputs": [
    {
     "data": {
      "text/plain": [
       "count    20403.000000\n",
       "mean         5.452384\n",
       "std          1.440560\n",
       "min          3.000000\n",
       "25%          4.000000\n",
       "50%          5.000000\n",
       "75%          6.000000\n",
       "max         13.000000\n",
       "dtype: float64"
      ]
     },
     "execution_count": 68,
     "metadata": {},
     "output_type": "execute_result"
    }
   ],
   "source": [
    "pd.Series(list(fdist_words_1.keys())).map(len).describe()"
   ]
  },
  {
   "cell_type": "code",
   "execution_count": 69,
   "metadata": {},
   "outputs": [
    {
     "data": {
      "text/plain": [
       "count    10851.000000\n",
       "mean         4.140724\n",
       "std          1.105000\n",
       "min          3.000000\n",
       "25%          4.000000\n",
       "50%          4.000000\n",
       "75%          4.000000\n",
       "max         13.000000\n",
       "dtype: float64"
      ]
     },
     "execution_count": 69,
     "metadata": {},
     "output_type": "execute_result"
    }
   ],
   "source": [
    "pd.Series(list(fdist_words_2.keys())).map(len).describe()"
   ]
  },
  {
   "cell_type": "code",
   "execution_count": 70,
   "metadata": {},
   "outputs": [
    {
     "data": {
      "text/plain": [
       "(20403, 10851)"
      ]
     },
     "execution_count": 70,
     "metadata": {},
     "output_type": "execute_result"
    }
   ],
   "source": [
    "fdist_words_1.B(),fdist_words_2.B()"
   ]
  },
  {
   "cell_type": "code",
   "execution_count": 71,
   "metadata": {},
   "outputs": [
    {
     "data": {
      "text/plain": [
       "(20267, 11250)"
      ]
     },
     "execution_count": 71,
     "metadata": {},
     "output_type": "execute_result"
    }
   ],
   "source": [
    "len(debug_word_stem_dict),len(debug_reverse_word_stem_dict)"
   ]
  },
  {
   "cell_type": "code",
   "execution_count": 72,
   "metadata": {},
   "outputs": [],
   "source": [
    "# debug_reverse_word_stem_dict - fdist_words_2 == STOPWORDS OR 1- OR 2-CHARACTER WORDS\n",
    "\n",
    "assert fdist_words_2.B()<=len(debug_reverse_word_stem_dict)"
   ]
  },
  {
   "cell_type": "code",
   "execution_count": 73,
   "metadata": {},
   "outputs": [
    {
     "data": {
      "text/plain": [
       "(20403, 20267, 137, 1)"
      ]
     },
     "execution_count": 73,
     "metadata": {},
     "output_type": "execute_result"
    }
   ],
   "source": [
    "S1=set(fdist_words_1.keys())\n",
    "S2=set(debug_word_stem_dict.keys())\n",
    "len(S1),len(S2),len(S1-S2),len(S2-S1)"
   ]
  },
  {
   "cell_type": "code",
   "execution_count": 74,
   "metadata": {},
   "outputs": [
    {
     "data": {
      "text/plain": [
       "{'زنكلاه'}"
      ]
     },
     "execution_count": 74,
     "metadata": {},
     "output_type": "execute_result"
    }
   ],
   "source": [
    "# S2-S1 == special words that do not occur literally in the clean corpus\n",
    "\n",
    "assert sum([word not in set(special_words_clean) for word in (S2-S1)])==0\n",
    "S2-S1"
   ]
  },
  {
   "cell_type": "code",
   "execution_count": 161,
   "metadata": {},
   "outputs": [
    {
     "data": {
      "text/plain": [
       "True"
      ]
     },
     "execution_count": 161,
     "metadata": {},
     "output_type": "execute_result"
    }
   ],
   "source": [
    "'زنكلاه' in fdist_words_2"
   ]
  },
  {
   "cell_type": "code",
   "execution_count": 75,
   "metadata": {},
   "outputs": [
    {
     "data": {
      "text/plain": [
       "{'ارماياه',\n",
       " 'اصبهان',\n",
       " 'اصبهانه',\n",
       " 'اصفهاناسمه',\n",
       " 'اصفهاني',\n",
       " 'الاصبعان',\n",
       " 'الاصبهان',\n",
       " 'الاصفهان',\n",
       " 'الاصفياء',\n",
       " 'البزرك',\n",
       " 'البوسليك',\n",
       " 'البوسنوي',\n",
       " 'الحجاز',\n",
       " 'الحجازي',\n",
       " 'الحجازيون',\n",
       " 'الحسيني',\n",
       " 'الراست',\n",
       " 'الرهاوي',\n",
       " 'الزركشي',\n",
       " 'الزروكند',\n",
       " 'الزوركند',\n",
       " 'الزيرفكند',\n",
       " 'الزيلكند',\n",
       " 'السلمك',\n",
       " 'الشهناز',\n",
       " 'العراق',\n",
       " 'العراقي',\n",
       " 'العشاق',\n",
       " 'الكوشت',\n",
       " 'الماياه',\n",
       " 'النوي',\n",
       " 'النيروز',\n",
       " 'النيروزي',\n",
       " 'باصفهان',\n",
       " 'بالاصفهان',\n",
       " 'بالبزرك',\n",
       " 'بالبوسليك',\n",
       " 'بالحجاز',\n",
       " 'بالحسيني',\n",
       " 'بالرهاوي',\n",
       " 'بالزركشي',\n",
       " 'بالزروكند',\n",
       " 'بالسلمك',\n",
       " 'بالعراق',\n",
       " 'بالعشاق',\n",
       " 'بالماياه',\n",
       " 'بالنوي',\n",
       " 'بالنيروز',\n",
       " 'بزركا',\n",
       " 'بزركاه',\n",
       " 'بزركي',\n",
       " 'بسلمك',\n",
       " 'بماياه',\n",
       " 'بوسليك',\n",
       " 'تنوي',\n",
       " 'حجازا',\n",
       " 'حجازنا',\n",
       " 'حجازي',\n",
       " 'حجازية',\n",
       " 'زرفكند',\n",
       " 'زروكندا',\n",
       " 'زروكندي',\n",
       " 'زنكولا',\n",
       " 'زوركند',\n",
       " 'زيرفكند',\n",
       " 'زيلكند',\n",
       " 'سلمكا',\n",
       " 'سلمكهم',\n",
       " 'شهنازا',\n",
       " 'شهنازنا',\n",
       " 'شهنازها',\n",
       " 'شهنازي',\n",
       " 'عراقي',\n",
       " 'عشاقا',\n",
       " 'عشاقهم',\n",
       " 'فالبزرك',\n",
       " 'فالراست',\n",
       " 'فالعراق',\n",
       " 'فللبزرك',\n",
       " 'كوشتها',\n",
       " 'لبوسليك',\n",
       " 'لزرفكند',\n",
       " 'لسلمك',\n",
       " 'للاصفهان',\n",
       " 'للبزرك',\n",
       " 'للحجاز',\n",
       " 'للحسيني',\n",
       " 'للراست',\n",
       " 'للرهاوي',\n",
       " 'للزركشي',\n",
       " 'للزروكند',\n",
       " 'للعراق',\n",
       " 'للعشاق',\n",
       " 'للنوي',\n",
       " 'للنيروز',\n",
       " 'لنيروز',\n",
       " 'نيروزا',\n",
       " 'نيروزها',\n",
       " 'وابوسليك',\n",
       " 'واصبهان',\n",
       " 'واصفهان',\n",
       " 'والاصفهان',\n",
       " 'والبزرك',\n",
       " 'والحجاز',\n",
       " 'والحسيني',\n",
       " 'والرهاوي',\n",
       " 'والزركشي',\n",
       " 'والزروكند',\n",
       " 'والزنكلاه',\n",
       " 'والسلمك',\n",
       " 'والشهناز',\n",
       " 'والعراق',\n",
       " 'والعشاق',\n",
       " 'والكوشت',\n",
       " 'والنوي',\n",
       " 'والنيروز',\n",
       " 'وبالحجاز',\n",
       " 'وبالحسيني',\n",
       " 'وبالرهاوي',\n",
       " 'وبالنوي',\n",
       " 'وبزرك',\n",
       " 'وبوسليك',\n",
       " 'وبوسليكا',\n",
       " 'وحسيني',\n",
       " 'وزركشي',\n",
       " 'وزروكند',\n",
       " 'وزنكلا',\n",
       " 'وسلمك',\n",
       " 'وعراق',\n",
       " 'وعشاق',\n",
       " 'وكوشت',\n",
       " 'وللاصفهان',\n",
       " 'وللحسيني',\n",
       " 'وللعراق',\n",
       " 'وللعشاق',\n",
       " 'ونوي',\n",
       " 'ينوي'}"
      ]
     },
     "execution_count": 75,
     "metadata": {},
     "output_type": "execute_result"
    }
   ],
   "source": [
    "# S1-S2 == clean corpus words that were not stemmed -- THESE MUST ALL BE VARIANTS OF SPECIAL WORDS\n",
    "\n",
    "S1-S2"
   ]
  },
  {
   "cell_type": "markdown",
   "metadata": {},
   "source": [
    "#### Heuristic semi-automatic detection of stemming errors\n",
    "\n",
    "- find words that have a very short stem (<=2)\n",
    "- find words that have a much shorter stem than itself\n",
    "- **TO DO:** 3/17/2020  find sets of 2 or more words that correspond to the same stem, determine whether they are sufficiently similar or not (orthographic similarity) + find CCs in the latent similarity graph. \n",
    "\n",
    "might be a good idea to keep only frequent words in order to simplify things ..."
   ]
  },
  {
   "cell_type": "code",
   "execution_count": 227,
   "metadata": {},
   "outputs": [
    {
     "name": "stdout",
     "output_type": "stream",
     "text": [
      "(399, 4)\n"
     ]
    }
   ],
   "source": [
    "## How many word stems are very short or are stop words (and hence do not exist in corpus_words_2)\n",
    "\n",
    "_ = [(stem,len(stem),stem in stop_words_ar,original_words) for stem,original_words in debug_reverse_word_stem_dict.items() if (len(stem)<=2 or stem in stop_words_ar)]\n",
    "u1 = pd.DataFrame(_, columns=['stem','stem_len','is_stopword', 'original_words'])\n",
    "print(u1.shape)"
   ]
  },
  {
   "cell_type": "code",
   "execution_count": 228,
   "metadata": {},
   "outputs": [
    {
     "data": {
      "text/html": [
       "<div>\n",
       "<style scoped>\n",
       "    .dataframe tbody tr th:only-of-type {\n",
       "        vertical-align: middle;\n",
       "    }\n",
       "\n",
       "    .dataframe tbody tr th {\n",
       "        vertical-align: top;\n",
       "    }\n",
       "\n",
       "    .dataframe thead th {\n",
       "        text-align: right;\n",
       "    }\n",
       "</style>\n",
       "<table border=\"1\" class=\"dataframe\">\n",
       "  <thead>\n",
       "    <tr style=\"text-align: right;\">\n",
       "      <th></th>\n",
       "      <th>stem</th>\n",
       "      <th>stem_len</th>\n",
       "      <th>is_stopword</th>\n",
       "      <th>original_words</th>\n",
       "    </tr>\n",
       "  </thead>\n",
       "  <tbody>\n",
       "    <tr>\n",
       "      <th>0</th>\n",
       "      <td>بعد</td>\n",
       "      <td>3</td>\n",
       "      <td>True</td>\n",
       "      <td>{وبعده, بعدها, لبعده, والبعد, بالبعد, فبعده, ا...</td>\n",
       "    </tr>\n",
       "    <tr>\n",
       "      <th>1</th>\n",
       "      <td>كل</td>\n",
       "      <td>2</td>\n",
       "      <td>True</td>\n",
       "      <td>{بالكل, الكلي, فاكلنا, الكلية}</td>\n",
       "    </tr>\n",
       "    <tr>\n",
       "      <th>2</th>\n",
       "      <td>يف</td>\n",
       "      <td>2</td>\n",
       "      <td>False</td>\n",
       "      <td>{وكيفية, كيفيه, كيفيته, كيفية, كيفيات}</td>\n",
       "    </tr>\n",
       "    <tr>\n",
       "      <th>3</th>\n",
       "      <td>كيف</td>\n",
       "      <td>3</td>\n",
       "      <td>True</td>\n",
       "      <td>{الكيفية, الكيف, والكيف, بكيفيات, بكيفية}</td>\n",
       "    </tr>\n",
       "    <tr>\n",
       "      <th>4</th>\n",
       "      <td>كذلك</td>\n",
       "      <td>4</td>\n",
       "      <td>True</td>\n",
       "      <td>{فكذلك, وكذلك}</td>\n",
       "    </tr>\n",
       "    <tr>\n",
       "      <th>5</th>\n",
       "      <td>كو</td>\n",
       "      <td>2</td>\n",
       "      <td>False</td>\n",
       "      <td>{يكونا, لكونها, يكونه, لتكون, ولكون, ليكون, وي...</td>\n",
       "    </tr>\n",
       "    <tr>\n",
       "      <th>6</th>\n",
       "      <td>مر</td>\n",
       "      <td>2</td>\n",
       "      <td>False</td>\n",
       "      <td>{المرات, امركما, وتمرا, فامرها, المري, فامرني,...</td>\n",
       "    </tr>\n",
       "    <tr>\n",
       "      <th>7</th>\n",
       "      <td>حد</td>\n",
       "      <td>2</td>\n",
       "      <td>False</td>\n",
       "      <td>{والحدة, الحدا, يحدوا, احدها, واحدا, وللحدة, ل...</td>\n",
       "    </tr>\n",
       "    <tr>\n",
       "      <th>8</th>\n",
       "      <td>الذي</td>\n",
       "      <td>4</td>\n",
       "      <td>True</td>\n",
       "      <td>{كالذي, فالذي, بالذي}</td>\n",
       "    </tr>\n",
       "    <tr>\n",
       "      <th>9</th>\n",
       "      <td>طن</td>\n",
       "      <td>2</td>\n",
       "      <td>False</td>\n",
       "      <td>{وطنينا, طنينا, فطنته, الطنين, وطنين, للطنين, ...</td>\n",
       "    </tr>\n",
       "    <tr>\n",
       "      <th>10</th>\n",
       "      <td>ضع</td>\n",
       "      <td>2</td>\n",
       "      <td>False</td>\n",
       "      <td>{والضعة, فلنضع, وتضعا, وضعتها, ولنضع, وضعته, و...</td>\n",
       "    </tr>\n",
       "    <tr>\n",
       "      <th>11</th>\n",
       "      <td>ان</td>\n",
       "      <td>2</td>\n",
       "      <td>True</td>\n",
       "      <td>{فلانه, لانهما, الانية, لانها, فلانة, لاننا, و...</td>\n",
       "    </tr>\n",
       "    <tr>\n",
       "      <th>12</th>\n",
       "      <td>سم</td>\n",
       "      <td>2</td>\n",
       "      <td>False</td>\n",
       "      <td>{يسمونه, وتسميه, وتسمي, اسمها, واسمها, وسماها,...</td>\n",
       "    </tr>\n",
       "    <tr>\n",
       "      <th>13</th>\n",
       "      <td>لح</td>\n",
       "      <td>2</td>\n",
       "      <td>False</td>\n",
       "      <td>{اللحية, تلحين, اللحون, ويلحن, وتلحن, تلحوني, ...</td>\n",
       "    </tr>\n",
       "    <tr>\n",
       "      <th>14</th>\n",
       "      <td>بي</td>\n",
       "      <td>2</td>\n",
       "      <td>True</td>\n",
       "      <td>{ولنبين, البيان, ليبين, وابيك, تبيين, ونبين, ت...</td>\n",
       "    </tr>\n",
       "    <tr>\n",
       "      <th>15</th>\n",
       "      <td>ذلك</td>\n",
       "      <td>3</td>\n",
       "      <td>True</td>\n",
       "      <td>{ولذلك, فلذلك}</td>\n",
       "    </tr>\n",
       "    <tr>\n",
       "      <th>16</th>\n",
       "      <td>دس</td>\n",
       "      <td>2</td>\n",
       "      <td>False</td>\n",
       "      <td>{دستان, ودستان}</td>\n",
       "    </tr>\n",
       "    <tr>\n",
       "      <th>17</th>\n",
       "      <td>ثم</td>\n",
       "      <td>2</td>\n",
       "      <td>True</td>\n",
       "      <td>{ثماني, ثمنها}</td>\n",
       "    </tr>\n",
       "    <tr>\n",
       "      <th>18</th>\n",
       "      <td>قل</td>\n",
       "      <td>2</td>\n",
       "      <td>False</td>\n",
       "      <td>{لقلنا, نقلنا, وبقلة, وقلنا, فلنقل, قلناه, فقل...</td>\n",
       "    </tr>\n",
       "    <tr>\n",
       "      <th>19</th>\n",
       "      <td>نه</td>\n",
       "      <td>2</td>\n",
       "      <td>False</td>\n",
       "      <td>{فانها, ينههم, النهي, وانهن, ينهاك, وينهك, وانها}</td>\n",
       "    </tr>\n",
       "  </tbody>\n",
       "</table>\n",
       "</div>"
      ],
      "text/plain": [
       "    stem  stem_len  is_stopword  \\\n",
       "0    بعد         3         True   \n",
       "1     كل         2         True   \n",
       "2     يف         2        False   \n",
       "3    كيف         3         True   \n",
       "4   كذلك         4         True   \n",
       "5     كو         2        False   \n",
       "6     مر         2        False   \n",
       "7     حد         2        False   \n",
       "8   الذي         4         True   \n",
       "9     طن         2        False   \n",
       "10    ضع         2        False   \n",
       "11    ان         2         True   \n",
       "12    سم         2        False   \n",
       "13    لح         2        False   \n",
       "14    بي         2         True   \n",
       "15   ذلك         3         True   \n",
       "16    دس         2        False   \n",
       "17    ثم         2         True   \n",
       "18    قل         2        False   \n",
       "19    نه         2        False   \n",
       "\n",
       "                                       original_words  \n",
       "0   {وبعده, بعدها, لبعده, والبعد, بالبعد, فبعده, ا...  \n",
       "1                      {بالكل, الكلي, فاكلنا, الكلية}  \n",
       "2              {وكيفية, كيفيه, كيفيته, كيفية, كيفيات}  \n",
       "3           {الكيفية, الكيف, والكيف, بكيفيات, بكيفية}  \n",
       "4                                      {فكذلك, وكذلك}  \n",
       "5   {يكونا, لكونها, يكونه, لتكون, ولكون, ليكون, وي...  \n",
       "6   {المرات, امركما, وتمرا, فامرها, المري, فامرني,...  \n",
       "7   {والحدة, الحدا, يحدوا, احدها, واحدا, وللحدة, ل...  \n",
       "8                               {كالذي, فالذي, بالذي}  \n",
       "9   {وطنينا, طنينا, فطنته, الطنين, وطنين, للطنين, ...  \n",
       "10  {والضعة, فلنضع, وتضعا, وضعتها, ولنضع, وضعته, و...  \n",
       "11  {فلانه, لانهما, الانية, لانها, فلانة, لاننا, و...  \n",
       "12  {يسمونه, وتسميه, وتسمي, اسمها, واسمها, وسماها,...  \n",
       "13  {اللحية, تلحين, اللحون, ويلحن, وتلحن, تلحوني, ...  \n",
       "14  {ولنبين, البيان, ليبين, وابيك, تبيين, ونبين, ت...  \n",
       "15                                     {ولذلك, فلذلك}  \n",
       "16                                    {دستان, ودستان}  \n",
       "17                                     {ثماني, ثمنها}  \n",
       "18  {لقلنا, نقلنا, وبقلة, وقلنا, فلنقل, قلناه, فقل...  \n",
       "19  {فانها, ينههم, النهي, وانهن, ينهاك, وينهك, وانها}  "
      ]
     },
     "execution_count": 228,
     "metadata": {},
     "output_type": "execute_result"
    }
   ],
   "source": [
    "u1.head(20)"
   ]
  },
  {
   "cell_type": "code",
   "execution_count": 229,
   "metadata": {},
   "outputs": [
    {
     "data": {
      "text/plain": [
       "1470"
      ]
     },
     "execution_count": 229,
     "metadata": {},
     "output_type": "execute_result"
    }
   ],
   "source": [
    "# total number of original words\n",
    "\n",
    "u1.original_words.map(len).sum()"
   ]
  },
  {
   "cell_type": "code",
   "execution_count": 230,
   "metadata": {},
   "outputs": [
    {
     "data": {
      "text/html": [
       "<div>\n",
       "<style scoped>\n",
       "    .dataframe tbody tr th:only-of-type {\n",
       "        vertical-align: middle;\n",
       "    }\n",
       "\n",
       "    .dataframe tbody tr th {\n",
       "        vertical-align: top;\n",
       "    }\n",
       "\n",
       "    .dataframe thead th {\n",
       "        text-align: right;\n",
       "    }\n",
       "</style>\n",
       "<table border=\"1\" class=\"dataframe\">\n",
       "  <thead>\n",
       "    <tr style=\"text-align: right;\">\n",
       "      <th></th>\n",
       "      <th>stem_len</th>\n",
       "    </tr>\n",
       "  </thead>\n",
       "  <tbody>\n",
       "    <tr>\n",
       "      <th>count</th>\n",
       "      <td>399.000000</td>\n",
       "    </tr>\n",
       "    <tr>\n",
       "      <th>mean</th>\n",
       "      <td>2.192982</td>\n",
       "    </tr>\n",
       "    <tr>\n",
       "      <th>std</th>\n",
       "      <td>0.526056</td>\n",
       "    </tr>\n",
       "    <tr>\n",
       "      <th>min</th>\n",
       "      <td>2.000000</td>\n",
       "    </tr>\n",
       "    <tr>\n",
       "      <th>25%</th>\n",
       "      <td>2.000000</td>\n",
       "    </tr>\n",
       "    <tr>\n",
       "      <th>50%</th>\n",
       "      <td>2.000000</td>\n",
       "    </tr>\n",
       "    <tr>\n",
       "      <th>75%</th>\n",
       "      <td>2.000000</td>\n",
       "    </tr>\n",
       "    <tr>\n",
       "      <th>max</th>\n",
       "      <td>5.000000</td>\n",
       "    </tr>\n",
       "  </tbody>\n",
       "</table>\n",
       "</div>"
      ],
      "text/plain": [
       "         stem_len\n",
       "count  399.000000\n",
       "mean     2.192982\n",
       "std      0.526056\n",
       "min      2.000000\n",
       "25%      2.000000\n",
       "50%      2.000000\n",
       "75%      2.000000\n",
       "max      5.000000"
      ]
     },
     "execution_count": 230,
     "metadata": {},
     "output_type": "execute_result"
    }
   ],
   "source": [
    "u1.describe()"
   ]
  },
  {
   "cell_type": "code",
   "execution_count": 79,
   "metadata": {},
   "outputs": [
    {
     "data": {
      "text/plain": [
       "((10851, 2), 10851)"
      ]
     },
     "execution_count": 79,
     "metadata": {},
     "output_type": "execute_result"
    }
   ],
   "source": [
    "_ = [(stem,original_words) for stem,original_words in debug_reverse_word_stem_dict.items() if stem in fdist_words_2]\n",
    "u3 = pd.DataFrame(_, columns=['stem','original_words'])\n",
    "u3.shape,fdist_words_2.B()"
   ]
  },
  {
   "cell_type": "code",
   "execution_count": 80,
   "metadata": {},
   "outputs": [
    {
     "data": {
      "text/html": [
       "<div>\n",
       "<style scoped>\n",
       "    .dataframe tbody tr th:only-of-type {\n",
       "        vertical-align: middle;\n",
       "    }\n",
       "\n",
       "    .dataframe tbody tr th {\n",
       "        vertical-align: top;\n",
       "    }\n",
       "\n",
       "    .dataframe thead th {\n",
       "        text-align: right;\n",
       "    }\n",
       "</style>\n",
       "<table border=\"1\" class=\"dataframe\">\n",
       "  <thead>\n",
       "    <tr style=\"text-align: right;\">\n",
       "      <th></th>\n",
       "      <th>stem</th>\n",
       "      <th>original_words</th>\n",
       "    </tr>\n",
       "  </thead>\n",
       "  <tbody>\n",
       "    <tr>\n",
       "      <th>0</th>\n",
       "      <td>وقد</td>\n",
       "      <td>{وتوقد, وقد}</td>\n",
       "    </tr>\n",
       "    <tr>\n",
       "      <th>1</th>\n",
       "      <td>بينا</td>\n",
       "      <td>{بينا}</td>\n",
       "    </tr>\n",
       "    <tr>\n",
       "      <th>2</th>\n",
       "      <td>فضل</td>\n",
       "      <td>{الفضل, والفضلة, للفضل, لفضلنا, فضل, والفضل, ل...</td>\n",
       "    </tr>\n",
       "    <tr>\n",
       "      <th>3</th>\n",
       "      <td>مطلق</td>\n",
       "      <td>{مطلقين, فمطلق, فمطلقة, مطلقا, مطلق, لمطلق, ال...</td>\n",
       "    </tr>\n",
       "    <tr>\n",
       "      <th>4</th>\n",
       "      <td>مثلث</td>\n",
       "      <td>{المثلثة, المثلثات, مثلث, المثلث, للمثلث, والم...</td>\n",
       "    </tr>\n",
       "  </tbody>\n",
       "</table>\n",
       "</div>"
      ],
      "text/plain": [
       "   stem                                     original_words\n",
       "0   وقد                                       {وتوقد, وقد}\n",
       "1  بينا                                             {بينا}\n",
       "2   فضل  {الفضل, والفضلة, للفضل, لفضلنا, فضل, والفضل, ل...\n",
       "3  مطلق  {مطلقين, فمطلق, فمطلقة, مطلقا, مطلق, لمطلق, ال...\n",
       "4  مثلث  {المثلثة, المثلثات, مثلث, المثلث, للمثلث, والم..."
      ]
     },
     "execution_count": 80,
     "metadata": {},
     "output_type": "execute_result"
    }
   ],
   "source": [
    "u3.head()"
   ]
  },
  {
   "cell_type": "code",
   "execution_count": 82,
   "metadata": {},
   "outputs": [
    {
     "name": "stdout",
     "output_type": "stream",
     "text": [
      "(18797, 5) 12310 12310\n"
     ]
    }
   ],
   "source": [
    "u4 = pd.DataFrame([(tok,stem) for (tok,stem) in debug_word_stem_dict.items() if stem in fdist_words_2])\n",
    "u4.columns = ['word','stemmed_word']\n",
    "\n",
    "u4['word_len'] = u4.word.map(len)\n",
    "u4['stemmed_word_len'] = u4.stemmed_word.map(len)\n",
    "u4['word_len_diff'] = u4.word_len-u4.stemmed_word_len\n",
    "\n",
    "print(u4.shape,(u4.word!=u4.stemmed_word).sum(),(u4.word_len>u4.stemmed_word_len).sum())\n",
    "\n",
    "u4.set_index('word',inplace=True)"
   ]
  },
  {
   "cell_type": "code",
   "execution_count": 81,
   "metadata": {},
   "outputs": [
    {
     "data": {
      "text/plain": [
       "(20267, 10851)"
      ]
     },
     "execution_count": 81,
     "metadata": {},
     "output_type": "execute_result"
    }
   ],
   "source": [
    "len(debug_word_stem_dict),fdist_words_2.B()"
   ]
  },
  {
   "cell_type": "code",
   "execution_count": 83,
   "metadata": {
    "scrolled": true
   },
   "outputs": [
    {
     "data": {
      "text/html": [
       "<div>\n",
       "<style scoped>\n",
       "    .dataframe tbody tr th:only-of-type {\n",
       "        vertical-align: middle;\n",
       "    }\n",
       "\n",
       "    .dataframe tbody tr th {\n",
       "        vertical-align: top;\n",
       "    }\n",
       "\n",
       "    .dataframe thead th {\n",
       "        text-align: right;\n",
       "    }\n",
       "</style>\n",
       "<table border=\"1\" class=\"dataframe\">\n",
       "  <thead>\n",
       "    <tr style=\"text-align: right;\">\n",
       "      <th></th>\n",
       "      <th>stemmed_word</th>\n",
       "      <th>word_len</th>\n",
       "      <th>stemmed_word_len</th>\n",
       "      <th>word_len_diff</th>\n",
       "    </tr>\n",
       "    <tr>\n",
       "      <th>word</th>\n",
       "      <th></th>\n",
       "      <th></th>\n",
       "      <th></th>\n",
       "      <th></th>\n",
       "    </tr>\n",
       "  </thead>\n",
       "  <tbody>\n",
       "    <tr>\n",
       "      <th>وقد</th>\n",
       "      <td>وقد</td>\n",
       "      <td>3</td>\n",
       "      <td>3</td>\n",
       "      <td>0</td>\n",
       "    </tr>\n",
       "    <tr>\n",
       "      <th>بينا</th>\n",
       "      <td>بينا</td>\n",
       "      <td>4</td>\n",
       "      <td>4</td>\n",
       "      <td>0</td>\n",
       "    </tr>\n",
       "    <tr>\n",
       "      <th>فضل</th>\n",
       "      <td>فضل</td>\n",
       "      <td>3</td>\n",
       "      <td>3</td>\n",
       "      <td>0</td>\n",
       "    </tr>\n",
       "    <tr>\n",
       "      <th>مطلق</th>\n",
       "      <td>مطلق</td>\n",
       "      <td>4</td>\n",
       "      <td>4</td>\n",
       "      <td>0</td>\n",
       "    </tr>\n",
       "    <tr>\n",
       "      <th>المثلث</th>\n",
       "      <td>مثلث</td>\n",
       "      <td>6</td>\n",
       "      <td>4</td>\n",
       "      <td>2</td>\n",
       "    </tr>\n",
       "  </tbody>\n",
       "</table>\n",
       "</div>"
      ],
      "text/plain": [
       "       stemmed_word  word_len  stemmed_word_len  word_len_diff\n",
       "word                                                          \n",
       "وقد             وقد         3                 3              0\n",
       "بينا           بينا         4                 4              0\n",
       "فضل             فضل         3                 3              0\n",
       "مطلق           مطلق         4                 4              0\n",
       "المثلث         مثلث         6                 4              2"
      ]
     },
     "execution_count": 83,
     "metadata": {},
     "output_type": "execute_result"
    }
   ],
   "source": [
    "u4.head()"
   ]
  },
  {
   "cell_type": "code",
   "execution_count": 84,
   "metadata": {},
   "outputs": [
    {
     "data": {
      "text/html": [
       "<div>\n",
       "<style scoped>\n",
       "    .dataframe tbody tr th:only-of-type {\n",
       "        vertical-align: middle;\n",
       "    }\n",
       "\n",
       "    .dataframe tbody tr th {\n",
       "        vertical-align: top;\n",
       "    }\n",
       "\n",
       "    .dataframe thead th {\n",
       "        text-align: right;\n",
       "    }\n",
       "</style>\n",
       "<table border=\"1\" class=\"dataframe\">\n",
       "  <thead>\n",
       "    <tr style=\"text-align: right;\">\n",
       "      <th></th>\n",
       "      <th>word_len</th>\n",
       "      <th>stemmed_word_len</th>\n",
       "      <th>word_len_diff</th>\n",
       "    </tr>\n",
       "  </thead>\n",
       "  <tbody>\n",
       "    <tr>\n",
       "      <th>count</th>\n",
       "      <td>18797.000000</td>\n",
       "      <td>18797.000000</td>\n",
       "      <td>18797.000000</td>\n",
       "    </tr>\n",
       "    <tr>\n",
       "      <th>mean</th>\n",
       "      <td>5.453477</td>\n",
       "      <td>3.952918</td>\n",
       "      <td>1.500559</td>\n",
       "    </tr>\n",
       "    <tr>\n",
       "      <th>std</th>\n",
       "      <td>1.486310</td>\n",
       "      <td>1.001577</td>\n",
       "      <td>1.305024</td>\n",
       "    </tr>\n",
       "    <tr>\n",
       "      <th>min</th>\n",
       "      <td>3.000000</td>\n",
       "      <td>3.000000</td>\n",
       "      <td>0.000000</td>\n",
       "    </tr>\n",
       "    <tr>\n",
       "      <th>25%</th>\n",
       "      <td>4.000000</td>\n",
       "      <td>3.000000</td>\n",
       "      <td>0.000000</td>\n",
       "    </tr>\n",
       "    <tr>\n",
       "      <th>50%</th>\n",
       "      <td>5.000000</td>\n",
       "      <td>4.000000</td>\n",
       "      <td>2.000000</td>\n",
       "    </tr>\n",
       "    <tr>\n",
       "      <th>75%</th>\n",
       "      <td>6.000000</td>\n",
       "      <td>4.000000</td>\n",
       "      <td>2.000000</td>\n",
       "    </tr>\n",
       "    <tr>\n",
       "      <th>max</th>\n",
       "      <td>13.000000</td>\n",
       "      <td>13.000000</td>\n",
       "      <td>4.000000</td>\n",
       "    </tr>\n",
       "  </tbody>\n",
       "</table>\n",
       "</div>"
      ],
      "text/plain": [
       "           word_len  stemmed_word_len  word_len_diff\n",
       "count  18797.000000      18797.000000   18797.000000\n",
       "mean       5.453477          3.952918       1.500559\n",
       "std        1.486310          1.001577       1.305024\n",
       "min        3.000000          3.000000       0.000000\n",
       "25%        4.000000          3.000000       0.000000\n",
       "50%        5.000000          4.000000       2.000000\n",
       "75%        6.000000          4.000000       2.000000\n",
       "max       13.000000         13.000000       4.000000"
      ]
     },
     "execution_count": 84,
     "metadata": {},
     "output_type": "execute_result"
    }
   ],
   "source": [
    "u4.describe()"
   ]
  },
  {
   "cell_type": "code",
   "execution_count": 85,
   "metadata": {},
   "outputs": [
    {
     "data": {
      "text/plain": [
       "<matplotlib.axes._subplots.AxesSubplot at 0x15c03487a90>"
      ]
     },
     "execution_count": 85,
     "metadata": {},
     "output_type": "execute_result"
    },
    {
     "data": {
      "image/png": "[encoded data removed]",
      "text/plain": [
       "<Figure size 432x288 with 1 Axes>"
      ]
     },
     "metadata": {
      "needs_background": "light"
     },
     "output_type": "display_data"
    }
   ],
   "source": [
    "u4.boxplot()"
   ]
  },
  {
   "cell_type": "code",
   "execution_count": 89,
   "metadata": {},
   "outputs": [
    {
     "name": "stdout",
     "output_type": "stream",
     "text": [
      "0\n"
     ]
    },
    {
     "data": {
      "text/html": [
       "<div>\n",
       "<style scoped>\n",
       "    .dataframe tbody tr th:only-of-type {\n",
       "        vertical-align: middle;\n",
       "    }\n",
       "\n",
       "    .dataframe tbody tr th {\n",
       "        vertical-align: top;\n",
       "    }\n",
       "\n",
       "    .dataframe thead th {\n",
       "        text-align: right;\n",
       "    }\n",
       "</style>\n",
       "<table border=\"1\" class=\"dataframe\">\n",
       "  <thead>\n",
       "    <tr style=\"text-align: right;\">\n",
       "      <th></th>\n",
       "      <th>stemmed_word</th>\n",
       "      <th>word_len</th>\n",
       "      <th>stemmed_word_len</th>\n",
       "      <th>word_len_diff</th>\n",
       "    </tr>\n",
       "    <tr>\n",
       "      <th>word</th>\n",
       "      <th></th>\n",
       "      <th></th>\n",
       "      <th></th>\n",
       "      <th></th>\n",
       "    </tr>\n",
       "  </thead>\n",
       "  <tbody>\n",
       "  </tbody>\n",
       "</table>\n",
       "</div>"
      ],
      "text/plain": [
       "Empty DataFrame\n",
       "Columns: [stemmed_word, word_len, stemmed_word_len, word_len_diff]\n",
       "Index: []"
      ]
     },
     "execution_count": 89,
     "metadata": {},
     "output_type": "execute_result"
    }
   ],
   "source": [
    "idx = u4.word_len_diff>=5\n",
    "print(idx.sum())\n",
    "\n",
    "u4[idx].sort_values(by='word_len_diff',ascending=False)"
   ]
  },
  {
   "cell_type": "code",
   "execution_count": 90,
   "metadata": {},
   "outputs": [
    {
     "name": "stdout",
     "output_type": "stream",
     "text": [
      "1258\n"
     ]
    },
    {
     "data": {
      "text/html": [
       "<div>\n",
       "<style scoped>\n",
       "    .dataframe tbody tr th:only-of-type {\n",
       "        vertical-align: middle;\n",
       "    }\n",
       "\n",
       "    .dataframe tbody tr th {\n",
       "        vertical-align: top;\n",
       "    }\n",
       "\n",
       "    .dataframe thead th {\n",
       "        text-align: right;\n",
       "    }\n",
       "</style>\n",
       "<table border=\"1\" class=\"dataframe\">\n",
       "  <thead>\n",
       "    <tr style=\"text-align: right;\">\n",
       "      <th></th>\n",
       "      <th>stemmed_word</th>\n",
       "      <th>word_len</th>\n",
       "      <th>stemmed_word_len</th>\n",
       "      <th>word_len_diff</th>\n",
       "    </tr>\n",
       "    <tr>\n",
       "      <th>word</th>\n",
       "      <th></th>\n",
       "      <th></th>\n",
       "      <th></th>\n",
       "      <th></th>\n",
       "    </tr>\n",
       "  </thead>\n",
       "  <tbody>\n",
       "    <tr>\n",
       "      <th>بالخمسة</th>\n",
       "      <td>خمس</td>\n",
       "      <td>7</td>\n",
       "      <td>3</td>\n",
       "      <td>4</td>\n",
       "    </tr>\n",
       "    <tr>\n",
       "      <th>طبقاتها</th>\n",
       "      <td>طبق</td>\n",
       "      <td>7</td>\n",
       "      <td>3</td>\n",
       "      <td>4</td>\n",
       "    </tr>\n",
       "    <tr>\n",
       "      <th>القسرية</th>\n",
       "      <td>قسر</td>\n",
       "      <td>7</td>\n",
       "      <td>3</td>\n",
       "      <td>4</td>\n",
       "    </tr>\n",
       "    <tr>\n",
       "      <th>وبالعكس</th>\n",
       "      <td>عكس</td>\n",
       "      <td>7</td>\n",
       "      <td>3</td>\n",
       "      <td>4</td>\n",
       "    </tr>\n",
       "    <tr>\n",
       "      <th>اللفظية</th>\n",
       "      <td>لفظ</td>\n",
       "      <td>7</td>\n",
       "      <td>3</td>\n",
       "      <td>4</td>\n",
       "    </tr>\n",
       "    <tr>\n",
       "      <th>وثانيها</th>\n",
       "      <td>ثان</td>\n",
       "      <td>7</td>\n",
       "      <td>3</td>\n",
       "      <td>4</td>\n",
       "    </tr>\n",
       "    <tr>\n",
       "      <th>البطلان</th>\n",
       "      <td>بطل</td>\n",
       "      <td>7</td>\n",
       "      <td>3</td>\n",
       "      <td>4</td>\n",
       "    </tr>\n",
       "    <tr>\n",
       "      <th>القرعات</th>\n",
       "      <td>قرع</td>\n",
       "      <td>7</td>\n",
       "      <td>3</td>\n",
       "      <td>4</td>\n",
       "    </tr>\n",
       "    <tr>\n",
       "      <th>المعدين</th>\n",
       "      <td>معد</td>\n",
       "      <td>7</td>\n",
       "      <td>3</td>\n",
       "      <td>4</td>\n",
       "    </tr>\n",
       "    <tr>\n",
       "      <th>الخصمين</th>\n",
       "      <td>خصم</td>\n",
       "      <td>7</td>\n",
       "      <td>3</td>\n",
       "      <td>4</td>\n",
       "    </tr>\n",
       "    <tr>\n",
       "      <th>الاخوان</th>\n",
       "      <td>اخو</td>\n",
       "      <td>7</td>\n",
       "      <td>3</td>\n",
       "      <td>4</td>\n",
       "    </tr>\n",
       "    <tr>\n",
       "      <th>والبادي</th>\n",
       "      <td>باد</td>\n",
       "      <td>7</td>\n",
       "      <td>3</td>\n",
       "      <td>4</td>\n",
       "    </tr>\n",
       "    <tr>\n",
       "      <th>والمطوي</th>\n",
       "      <td>مطو</td>\n",
       "      <td>7</td>\n",
       "      <td>3</td>\n",
       "      <td>4</td>\n",
       "    </tr>\n",
       "    <tr>\n",
       "      <th>الكفاية</th>\n",
       "      <td>كفا</td>\n",
       "      <td>7</td>\n",
       "      <td>3</td>\n",
       "      <td>4</td>\n",
       "    </tr>\n",
       "    <tr>\n",
       "      <th>والبيضة</th>\n",
       "      <td>بيض</td>\n",
       "      <td>7</td>\n",
       "      <td>3</td>\n",
       "      <td>4</td>\n",
       "    </tr>\n",
       "    <tr>\n",
       "      <th>والبلوي</th>\n",
       "      <td>بلو</td>\n",
       "      <td>7</td>\n",
       "      <td>3</td>\n",
       "      <td>4</td>\n",
       "    </tr>\n",
       "    <tr>\n",
       "      <th>ونسائها</th>\n",
       "      <td>سائ</td>\n",
       "      <td>7</td>\n",
       "      <td>3</td>\n",
       "      <td>4</td>\n",
       "    </tr>\n",
       "    <tr>\n",
       "      <th>وتنسجين</th>\n",
       "      <td>نسج</td>\n",
       "      <td>7</td>\n",
       "      <td>3</td>\n",
       "      <td>4</td>\n",
       "    </tr>\n",
       "    <tr>\n",
       "      <th>فتزوجها</th>\n",
       "      <td>زوج</td>\n",
       "      <td>7</td>\n",
       "      <td>3</td>\n",
       "      <td>4</td>\n",
       "    </tr>\n",
       "    <tr>\n",
       "      <th>وتشورها</th>\n",
       "      <td>شور</td>\n",
       "      <td>7</td>\n",
       "      <td>3</td>\n",
       "      <td>4</td>\n",
       "    </tr>\n",
       "  </tbody>\n",
       "</table>\n",
       "</div>"
      ],
      "text/plain": [
       "        stemmed_word  word_len  stemmed_word_len  word_len_diff\n",
       "word                                                           \n",
       "بالخمسة          خمس         7                 3              4\n",
       "طبقاتها          طبق         7                 3              4\n",
       "القسرية          قسر         7                 3              4\n",
       "وبالعكس          عكس         7                 3              4\n",
       "اللفظية          لفظ         7                 3              4\n",
       "وثانيها          ثان         7                 3              4\n",
       "البطلان          بطل         7                 3              4\n",
       "القرعات          قرع         7                 3              4\n",
       "المعدين          معد         7                 3              4\n",
       "الخصمين          خصم         7                 3              4\n",
       "الاخوان          اخو         7                 3              4\n",
       "والبادي          باد         7                 3              4\n",
       "والمطوي          مطو         7                 3              4\n",
       "الكفاية          كفا         7                 3              4\n",
       "والبيضة          بيض         7                 3              4\n",
       "والبلوي          بلو         7                 3              4\n",
       "ونسائها          سائ         7                 3              4\n",
       "وتنسجين          نسج         7                 3              4\n",
       "فتزوجها          زوج         7                 3              4\n",
       "وتشورها          شور         7                 3              4"
      ]
     },
     "execution_count": 90,
     "metadata": {},
     "output_type": "execute_result"
    }
   ],
   "source": [
    "idx = u4.word_len_diff==4\n",
    "print(idx.sum())\n",
    "\n",
    "u4[idx].sort_values(by='word_len',ascending=True).head(20)"
   ]
  },
  {
   "cell_type": "markdown",
   "metadata": {},
   "source": [
    "#### Examples of stemming of  some important words"
   ]
  },
  {
   "cell_type": "code",
   "execution_count": 91,
   "metadata": {},
   "outputs": [],
   "source": [
    "def foo2(w):\n",
    "    print(f\"\\tGiven word: {w}\\n\\\n",
    "    \\tFrequency in clean corpus: {fdist_words_1[w]}\\n\\\n",
    "    \\tFrequency in stemmed corpus: {fdist_words_2[w]}\\n\\\n",
    "    \\tStemmed form of this word: {debug_word_stem_dict[w]}\\n\\\n",
    "    \\tset of clean words that are stemmed to this word: {debug_reverse_word_stem_dict[w]}\\n\")"
   ]
  },
  {
   "cell_type": "code",
   "execution_count": 92,
   "metadata": {},
   "outputs": [
    {
     "name": "stdout",
     "output_type": "stream",
     "text": [
      "\tGiven word: البعد\n",
      "    \tFrequency in clean corpus: 22\n",
      "    \tFrequency in stemmed corpus: 0\n",
      "    \tStemmed form of this word: بعد\n",
      "    \tset of clean words that are stemmed to this word: set()\n",
      "\n"
     ]
    }
   ],
   "source": [
    "foo2('البعد')"
   ]
  },
  {
   "cell_type": "code",
   "execution_count": 93,
   "metadata": {},
   "outputs": [
    {
     "name": "stdout",
     "output_type": "stream",
     "text": [
      "\tGiven word: بعد\n",
      "    \tFrequency in clean corpus: 0\n",
      "    \tFrequency in stemmed corpus: 0\n",
      "    \tStemmed form of this word: \n",
      "    \tset of clean words that are stemmed to this word: {'وبعده', 'بعدها', 'لبعده', 'والبعد', 'بالبعد', 'فبعده', 'البعد', 'وبعدها', 'فالبعد', 'وابعد', 'بعدهما'}\n",
      "\n"
     ]
    }
   ],
   "source": [
    "foo2('بعد')"
   ]
  },
  {
   "cell_type": "code",
   "execution_count": 94,
   "metadata": {},
   "outputs": [
    {
     "name": "stdout",
     "output_type": "stream",
     "text": [
      "\tGiven word: دساتين\n",
      "    \tFrequency in clean corpus: 7\n",
      "    \tFrequency in stemmed corpus: 2\n",
      "    \tStemmed form of this word: دسا\n",
      "    \tset of clean words that are stemmed to this word: {'دساتينه'}\n",
      "\n"
     ]
    }
   ],
   "source": [
    "foo2('دساتين')"
   ]
  },
  {
   "cell_type": "code",
   "execution_count": 95,
   "metadata": {},
   "outputs": [
    {
     "name": "stdout",
     "output_type": "stream",
     "text": [
      "\tGiven word: الدساتين\n",
      "    \tFrequency in clean corpus: 31\n",
      "    \tFrequency in stemmed corpus: 31\n",
      "    \tStemmed form of this word: الدساتين\n",
      "    \tset of clean words that are stemmed to this word: {'الدساتين'}\n",
      "\n"
     ]
    }
   ],
   "source": [
    "foo2('الدساتين')"
   ]
  },
  {
   "cell_type": "code",
   "execution_count": 96,
   "metadata": {},
   "outputs": [
    {
     "name": "stdout",
     "output_type": "stream",
     "text": [
      "\tGiven word: دسا\n",
      "    \tFrequency in clean corpus: 0\n",
      "    \tFrequency in stemmed corpus: 7\n",
      "    \tStemmed form of this word: \n",
      "    \tset of clean words that are stemmed to this word: {'دساتين'}\n",
      "\n"
     ]
    }
   ],
   "source": [
    "foo2('دسا')"
   ]
  },
  {
   "cell_type": "code",
   "execution_count": 97,
   "metadata": {},
   "outputs": [
    {
     "name": "stdout",
     "output_type": "stream",
     "text": [
      "\tGiven word: الله\n",
      "    \tFrequency in clean corpus: 420\n",
      "    \tFrequency in stemmed corpus: 509\n",
      "    \tStemmed form of this word: الله\n",
      "    \tset of clean words that are stemmed to this word: {'بالله', 'وبالله', 'الله', 'والله'}\n",
      "\n"
     ]
    }
   ],
   "source": [
    "foo2('الله')"
   ]
  },
  {
   "cell_type": "code",
   "execution_count": 98,
   "metadata": {},
   "outputs": [
    {
     "name": "stdout",
     "output_type": "stream",
     "text": [
      "\tGiven word: والله\n",
      "    \tFrequency in clean corpus: 71\n",
      "    \tFrequency in stemmed corpus: 0\n",
      "    \tStemmed form of this word: الله\n",
      "    \tset of clean words that are stemmed to this word: set()\n",
      "\n"
     ]
    }
   ],
   "source": [
    "foo2('والله')"
   ]
  },
  {
   "cell_type": "code",
   "execution_count": 99,
   "metadata": {},
   "outputs": [
    {
     "name": "stdout",
     "output_type": "stream",
     "text": [
      "\tGiven word: وبالله\n",
      "    \tFrequency in clean corpus: 7\n",
      "    \tFrequency in stemmed corpus: 0\n",
      "    \tStemmed form of this word: الله\n",
      "    \tset of clean words that are stemmed to this word: set()\n",
      "\n"
     ]
    }
   ],
   "source": [
    "foo2('وبالله')"
   ]
  },
  {
   "cell_type": "code",
   "execution_count": 100,
   "metadata": {},
   "outputs": [
    {
     "name": "stdout",
     "output_type": "stream",
     "text": [
      "\tGiven word: الاول\n",
      "    \tFrequency in clean corpus: 203\n",
      "    \tFrequency in stemmed corpus: 0\n",
      "    \tStemmed form of this word: اول\n",
      "    \tset of clean words that are stemmed to this word: set()\n",
      "\n"
     ]
    }
   ],
   "source": [
    "foo2('الاول')"
   ]
  },
  {
   "cell_type": "code",
   "execution_count": 101,
   "metadata": {},
   "outputs": [
    {
     "name": "stdout",
     "output_type": "stream",
     "text": [
      "\tGiven word: نغم\n",
      "    \tFrequency in clean corpus: 102\n",
      "    \tFrequency in stemmed corpus: 472\n",
      "    \tStemmed form of this word: نغم\n",
      "    \tset of clean words that are stemmed to this word: {'النغمة', 'فنغمة', 'لنغمة', 'للنغمات', 'فالنغم', 'النغمات', 'بنغمة', 'والنغم', 'للنغم', 'بنغمه', 'للنغمة', 'والنغمة', 'كنغمة', 'فالنغمة', 'النغم', 'بنغمات', 'ونغمة', 'بالنغم', 'نغم'}\n",
      "\n"
     ]
    }
   ],
   "source": [
    "foo2('نغم')"
   ]
  },
  {
   "cell_type": "code",
   "execution_count": 206,
   "metadata": {},
   "outputs": [
    {
     "name": "stdout",
     "output_type": "stream",
     "text": [
      "\tGiven word: نقرات\n",
      "    \tFrequency in clean corpus: 85\n",
      "    \tFrequency in stemmed corpus: 1\n",
      "    \tStemmed form of this word: قرات\n",
      "    \tset of clean words that are stemmed to this word: {'النقراتي'}\n",
      "\n"
     ]
    }
   ],
   "source": [
    "foo2('نقرات')"
   ]
  },
  {
   "cell_type": "code",
   "execution_count": 207,
   "metadata": {},
   "outputs": [
    {
     "name": "stdout",
     "output_type": "stream",
     "text": [
      "\tGiven word: نقرتين\n",
      "    \tFrequency in clean corpus: 52\n",
      "    \tFrequency in stemmed corpus: 0\n",
      "    \tStemmed form of this word: قرتي\n",
      "    \tset of clean words that are stemmed to this word: set()\n",
      "\n"
     ]
    }
   ],
   "source": [
    "foo2('نقرتين')"
   ]
  },
  {
   "cell_type": "code",
   "execution_count": 211,
   "metadata": {},
   "outputs": [
    {
     "name": "stdout",
     "output_type": "stream",
     "text": [
      "\tGiven word: نقرة\n",
      "    \tFrequency in clean corpus: 65\n",
      "    \tFrequency in stemmed corpus: 65\n",
      "    \tStemmed form of this word: نقرة\n",
      "    \tset of clean words that are stemmed to this word: {'نقرة'}\n",
      "\n"
     ]
    }
   ],
   "source": [
    "foo2('نقرة')"
   ]
  },
  {
   "cell_type": "code",
   "execution_count": 210,
   "metadata": {},
   "outputs": [
    {
     "name": "stdout",
     "output_type": "stream",
     "text": [
      "\tGiven word: نقرت\n",
      "    \tFrequency in clean corpus: 3\n",
      "    \tFrequency in stemmed corpus: 3\n",
      "    \tStemmed form of this word: نقرت\n",
      "    \tset of clean words that are stemmed to this word: {'نقرت'}\n",
      "\n"
     ]
    }
   ],
   "source": [
    "foo2('نقرت')"
   ]
  },
  {
   "cell_type": "code",
   "execution_count": 216,
   "metadata": {},
   "outputs": [
    {
     "data": {
      "text/plain": [
       "[('نقر', 76),\n",
       " ('والنقرات', 2),\n",
       " ('نقرة', 65),\n",
       " ('النقرتين', 5),\n",
       " ('نقرت', 3),\n",
       " ('بالنقرات', 1),\n",
       " ('انقر', 1),\n",
       " ('ونقر', 1),\n",
       " ('نقره', 2),\n",
       " ('نقرات', 1),\n",
       " ('ينقر', 1)]"
      ]
     },
     "execution_count": 216,
     "metadata": {},
     "output_type": "execute_result"
    }
   ],
   "source": [
    "[(word,freq) for word,freq in fdist_words_2.items() if 'نقر' in word]"
   ]
  },
  {
   "cell_type": "code",
   "execution_count": 220,
   "metadata": {},
   "outputs": [
    {
     "name": "stdout",
     "output_type": "stream",
     "text": [
      "نقر\n",
      "قر\n",
      "نقر\n",
      "\n",
      "والنقرات\n",
      "نقر\n",
      "والنقرات\n",
      "\n",
      "نقرة\n",
      "نقر\n",
      "نقرة\n",
      "\n",
      "النقرتين\n",
      "نقر\n",
      "النقرتين\n",
      "\n",
      "نقرت\n",
      "قرت\n",
      "نقرت\n",
      "\n",
      "بالنقرات\n",
      "نقر\n",
      "بالنقرات\n",
      "\n",
      "انقر\n",
      "نقر\n",
      "انقر\n",
      "\n",
      "ونقر\n",
      "قر\n",
      "ونقر\n",
      "\n",
      "نقره\n",
      "قر\n",
      "نقره\n",
      "\n",
      "نقرات\n",
      "قرات\n",
      "قرات\n",
      "\n",
      "ينقر\n",
      "نقر\n",
      "ينقر\n",
      "\n"
     ]
    }
   ],
   "source": [
    "for word in fdist_words_2:\n",
    "    if 'نقر' in word:\n",
    "        print(word)\n",
    "        print(simple_stemmer.light_stem(word))\n",
    "        print(stemming_wrapper(word))\n",
    "        print()"
   ]
  },
  {
   "cell_type": "code",
   "execution_count": 217,
   "metadata": {},
   "outputs": [
    {
     "name": "stdout",
     "output_type": "stream",
     "text": [
      "\tGiven word: نقر\n",
      "    \tFrequency in clean corpus: 9\n",
      "    \tFrequency in stemmed corpus: 76\n",
      "    \tStemmed form of this word: نقر\n",
      "    \tset of clean words that are stemmed to this word: {'وينقر', 'ونقرة', 'فنقرة', 'بنقرتي', 'بنقرات', 'النقر', 'نقر', 'النقرة', 'للنقرات', 'والنقرة', 'النقرات', 'بنقرة', 'بالنقرة'}\n",
      "\n",
      "\tGiven word: والنقرات\n",
      "    \tFrequency in clean corpus: 2\n",
      "    \tFrequency in stemmed corpus: 2\n",
      "    \tStemmed form of this word: والنقرات\n",
      "    \tset of clean words that are stemmed to this word: {'والنقرات'}\n",
      "\n",
      "\tGiven word: نقرة\n",
      "    \tFrequency in clean corpus: 65\n",
      "    \tFrequency in stemmed corpus: 65\n",
      "    \tStemmed form of this word: نقرة\n",
      "    \tset of clean words that are stemmed to this word: {'نقرة'}\n",
      "\n",
      "\tGiven word: النقرتين\n",
      "    \tFrequency in clean corpus: 5\n",
      "    \tFrequency in stemmed corpus: 5\n",
      "    \tStemmed form of this word: النقرتين\n",
      "    \tset of clean words that are stemmed to this word: {'النقرتين'}\n",
      "\n",
      "\tGiven word: نقرت\n",
      "    \tFrequency in clean corpus: 3\n",
      "    \tFrequency in stemmed corpus: 3\n",
      "    \tStemmed form of this word: نقرت\n",
      "    \tset of clean words that are stemmed to this word: {'نقرت'}\n",
      "\n",
      "\tGiven word: بالنقرات\n",
      "    \tFrequency in clean corpus: 1\n",
      "    \tFrequency in stemmed corpus: 1\n",
      "    \tStemmed form of this word: بالنقرات\n",
      "    \tset of clean words that are stemmed to this word: {'بالنقرات'}\n",
      "\n",
      "\tGiven word: انقر\n",
      "    \tFrequency in clean corpus: 1\n",
      "    \tFrequency in stemmed corpus: 1\n",
      "    \tStemmed form of this word: انقر\n",
      "    \tset of clean words that are stemmed to this word: {'انقر'}\n",
      "\n",
      "\tGiven word: ونقر\n",
      "    \tFrequency in clean corpus: 1\n",
      "    \tFrequency in stemmed corpus: 1\n",
      "    \tStemmed form of this word: ونقر\n",
      "    \tset of clean words that are stemmed to this word: {'ونقر'}\n",
      "\n",
      "\tGiven word: نقره\n",
      "    \tFrequency in clean corpus: 2\n",
      "    \tFrequency in stemmed corpus: 2\n",
      "    \tStemmed form of this word: نقره\n",
      "    \tset of clean words that are stemmed to this word: {'نقره'}\n",
      "\n",
      "\tGiven word: نقرات\n",
      "    \tFrequency in clean corpus: 85\n",
      "    \tFrequency in stemmed corpus: 1\n",
      "    \tStemmed form of this word: قرات\n",
      "    \tset of clean words that are stemmed to this word: {'النقراتي'}\n",
      "\n",
      "\tGiven word: ينقر\n",
      "    \tFrequency in clean corpus: 1\n",
      "    \tFrequency in stemmed corpus: 1\n",
      "    \tStemmed form of this word: ينقر\n",
      "    \tset of clean words that are stemmed to this word: {'ينقر'}\n",
      "\n"
     ]
    }
   ],
   "source": [
    "for word in fdist_words_2:\n",
    "    if 'نقر' in word:\n",
    "        foo2(word)"
   ]
  },
  {
   "cell_type": "markdown",
   "metadata": {},
   "source": [
    "### Distribution of number of words per document"
   ]
  },
  {
   "cell_type": "code",
   "execution_count": 104,
   "metadata": {},
   "outputs": [
    {
     "data": {
      "text/plain": [
       "count      39.000000\n",
       "mean     1430.794872\n",
       "std      1753.905914\n",
       "min        51.000000\n",
       "25%       330.500000\n",
       "50%       846.000000\n",
       "75%      1667.500000\n",
       "max      9390.000000\n",
       "dtype: float64"
      ]
     },
     "execution_count": 104,
     "metadata": {},
     "output_type": "execute_result"
    }
   ],
   "source": [
    "u = pd.Series(corpus_words_2).map(len)\n",
    "u.describe()"
   ]
  },
  {
   "cell_type": "code",
   "execution_count": 105,
   "metadata": {},
   "outputs": [
    {
     "data": {
      "image/png": "[encoded data removed]",
      "text/plain": [
       "<Figure size 432x288 with 1 Axes>"
      ]
     },
     "metadata": {
      "needs_background": "light"
     },
     "output_type": "display_data"
    },
    {
     "data": {
      "text/plain": [
       "<matplotlib.axes._subplots.AxesSubplot at 0x15c059aa5f8>"
      ]
     },
     "execution_count": 105,
     "metadata": {},
     "output_type": "execute_result"
    },
    {
     "data": {
      "image/png": "[encoded data removed]",
      "text/plain": [
       "<Figure size 432x288 with 1 Axes>"
      ]
     },
     "metadata": {
      "needs_background": "light"
     },
     "output_type": "display_data"
    }
   ],
   "source": [
    "u.plot.hist()\n",
    "plt.show()\n",
    "u.plot.box()"
   ]
  },
  {
   "cell_type": "markdown",
   "metadata": {},
   "source": [
    "#### very short documents"
   ]
  },
  {
   "cell_type": "code",
   "execution_count": 106,
   "metadata": {},
   "outputs": [
    {
     "name": "stdout",
     "output_type": "stream",
     "text": [
      "4\n"
     ]
    },
    {
     "data": {
      "text/html": [
       "<div>\n",
       "<style scoped>\n",
       "    .dataframe tbody tr th:only-of-type {\n",
       "        vertical-align: middle;\n",
       "    }\n",
       "\n",
       "    .dataframe tbody tr th {\n",
       "        vertical-align: top;\n",
       "    }\n",
       "\n",
       "    .dataframe thead th {\n",
       "        text-align: right;\n",
       "    }\n",
       "</style>\n",
       "<table border=\"1\" class=\"dataframe\">\n",
       "  <thead>\n",
       "    <tr style=\"text-align: right;\">\n",
       "      <th></th>\n",
       "      <th>doc_title</th>\n",
       "      <th>nb_words</th>\n",
       "    </tr>\n",
       "  </thead>\n",
       "  <tbody>\n",
       "    <tr>\n",
       "      <th>13</th>\n",
       "      <td>كتاب الامتاع والانتفاع في مسألة سماع السّماع</td>\n",
       "      <td>51</td>\n",
       "    </tr>\n",
       "    <tr>\n",
       "      <th>35</th>\n",
       "      <td>تلخيص كتاب النّفس</td>\n",
       "      <td>71</td>\n",
       "    </tr>\n",
       "    <tr>\n",
       "      <th>7</th>\n",
       "      <td>كتاب الشّفاء</td>\n",
       "      <td>87</td>\n",
       "    </tr>\n",
       "    <tr>\n",
       "      <th>4</th>\n",
       "      <td>كتاب الأدوار</td>\n",
       "      <td>90</td>\n",
       "    </tr>\n",
       "  </tbody>\n",
       "</table>\n",
       "</div>"
      ],
      "text/plain": [
       "                                       doc_title  nb_words\n",
       "13  كتاب الامتاع والانتفاع في مسألة سماع السّماع        51\n",
       "35                             تلخيص كتاب النّفس        71\n",
       "7                                   كتاب الشّفاء        87\n",
       "4                                   كتاب الأدوار        90"
      ]
     },
     "execution_count": 106,
     "metadata": {},
     "output_type": "execute_result"
    }
   ],
   "source": [
    "print((u<100).sum())\n",
    "pd.DataFrame({'doc_title':doc_data_df.title_arabic[u<100],'nb_words':u[u<100]}).sort_values(by='nb_words')"
   ]
  },
  {
   "cell_type": "markdown",
   "metadata": {},
   "source": [
    "#### very long documents"
   ]
  },
  {
   "cell_type": "code",
   "execution_count": 108,
   "metadata": {},
   "outputs": [
    {
     "name": "stdout",
     "output_type": "stream",
     "text": [
      "4\n"
     ]
    },
    {
     "data": {
      "text/html": [
       "<div>\n",
       "<style scoped>\n",
       "    .dataframe tbody tr th:only-of-type {\n",
       "        vertical-align: middle;\n",
       "    }\n",
       "\n",
       "    .dataframe tbody tr th {\n",
       "        vertical-align: top;\n",
       "    }\n",
       "\n",
       "    .dataframe thead th {\n",
       "        text-align: right;\n",
       "    }\n",
       "</style>\n",
       "<table border=\"1\" class=\"dataframe\">\n",
       "  <thead>\n",
       "    <tr style=\"text-align: right;\">\n",
       "      <th></th>\n",
       "      <th>doc_title</th>\n",
       "      <th>nb_words</th>\n",
       "    </tr>\n",
       "  </thead>\n",
       "  <tbody>\n",
       "    <tr>\n",
       "      <th>24</th>\n",
       "      <td>رسالة القيان</td>\n",
       "      <td>3689</td>\n",
       "    </tr>\n",
       "    <tr>\n",
       "      <th>12</th>\n",
       "      <td>برء الأسقام، شرح القصيدة في الأنغام</td>\n",
       "      <td>3988</td>\n",
       "    </tr>\n",
       "    <tr>\n",
       "      <th>31</th>\n",
       "      <td>كتاب اللهو والملاهي</td>\n",
       "      <td>4431</td>\n",
       "    </tr>\n",
       "    <tr>\n",
       "      <th>27</th>\n",
       "      <td>العقد الفريد</td>\n",
       "      <td>9390</td>\n",
       "    </tr>\n",
       "  </tbody>\n",
       "</table>\n",
       "</div>"
      ],
      "text/plain": [
       "                              doc_title  nb_words\n",
       "24                         رسالة القيان      3689\n",
       "12  برء الأسقام، شرح القصيدة في الأنغام      3988\n",
       "31                  كتاب اللهو والملاهي      4431\n",
       "27                         العقد الفريد      9390"
      ]
     },
     "execution_count": 108,
     "metadata": {},
     "output_type": "execute_result"
    }
   ],
   "source": [
    "print((u>3000).sum())\n",
    "pd.DataFrame({'doc_title':doc_data_df.title_arabic[u>3000],'nb_words':u[u>3000]}).sort_values(by='nb_words')"
   ]
  },
  {
   "cell_type": "markdown",
   "metadata": {},
   "source": [
    "### Distribution of word frequency"
   ]
  },
  {
   "cell_type": "code",
   "execution_count": 109,
   "metadata": {},
   "outputs": [
    {
     "name": "stdout",
     "output_type": "stream",
     "text": [
      "number of words: 55801\n",
      "number of distinct words: 10851\n",
      "Number of distinct words that occur only once (called hapaxes): 5566\n"
     ]
    }
   ],
   "source": [
    "fdist_words = FreqDist([tok for doc in corpus_words_2 for tok in doc])\n",
    "fdist_words.N(),fdist_words.B()\n",
    "print(\"number of words:\",fdist_words.N())\n",
    "print(\"number of distinct words:\",fdist_words.B())\n",
    "print('Number of distinct words that occur only once (called hapaxes):',(pd.Series(list(fdist_words.values()))==1).sum())"
   ]
  },
  {
   "cell_type": "code",
   "execution_count": 111,
   "metadata": {},
   "outputs": [
    {
     "name": "stdout",
     "output_type": "stream",
     "text": [
      "The 20 most common words:\n"
     ]
    },
    {
     "data": {
      "text/plain": [
       "[('قال', 615),\n",
       " ('الله', 509),\n",
       " ('نغم', 472),\n",
       " ('اول', 365),\n",
       " ('ثان', 300),\n",
       " ('فقال', 271),\n",
       " ('بيت', 217),\n",
       " ('ثلاث', 214),\n",
       " ('صوت', 202),\n",
       " ('ثقيل', 198),\n",
       " ('وكان', 195),\n",
       " ('قول', 187),\n",
       " ('علم', 185),\n",
       " ('اربع', 174),\n",
       " ('وقال', 173),\n",
       " ('دور', 171),\n",
       " ('نفس', 166),\n",
       " ('غناء', 166),\n",
       " ('رست', 165),\n",
       " ('مثن', 163)]"
      ]
     },
     "execution_count": 111,
     "metadata": {},
     "output_type": "execute_result"
    }
   ],
   "source": [
    "print('The 20 most common words:')\n",
    "fdist_words.most_common(20)"
   ]
  },
  {
   "cell_type": "code",
   "execution_count": 112,
   "metadata": {},
   "outputs": [
    {
     "name": "stdout",
     "output_type": "stream",
     "text": [
      "The 20 least common words:\n"
     ]
    },
    {
     "data": {
      "text/plain": [
       "[('ارتب', 1),\n",
       " ('حبه', 1),\n",
       " ('تهاليل', 1),\n",
       " ('مشطاطر', 1),\n",
       " ('تشطر', 1),\n",
       " ('يخدم', 1),\n",
       " ('شايب', 1),\n",
       " ('منتسب', 1),\n",
       " ('بشراف', 1),\n",
       " ('انتهائ', 1),\n",
       " ('القد', 1),\n",
       " ('خانة', 1),\n",
       " ('جركة', 1),\n",
       " ('صنايع', 1),\n",
       " ('لاكن', 1),\n",
       " ('قهار', 1),\n",
       " ('مددت', 1),\n",
       " ('ءاله', 1),\n",
       " ('بران', 1),\n",
       " ('لرصد', 1)]"
      ]
     },
     "execution_count": 112,
     "metadata": {},
     "output_type": "execute_result"
    }
   ],
   "source": [
    "print('The 20 least common words:')\n",
    "fdist_words.most_common()[-20:]"
   ]
  },
  {
   "cell_type": "code",
   "execution_count": 113,
   "metadata": {},
   "outputs": [
    {
     "data": {
      "image/png": "[encoded data removed]",
      "text/plain": [
       "<Figure size 432x288 with 1 Axes>"
      ]
     },
     "metadata": {
      "needs_background": "light"
     },
     "output_type": "display_data"
    },
    {
     "data": {
      "text/plain": [
       "<matplotlib.axes._subplots.AxesSubplot at 0x15c059d5be0>"
      ]
     },
     "execution_count": 113,
     "metadata": {},
     "output_type": "execute_result"
    }
   ],
   "source": [
    "# the 20 most frequent words account for ~ 9% (~ 5000/55801) of all word occurrences in the corpus.\n",
    "\n",
    "fdist_words.plot(20, cumulative=True)"
   ]
  },
  {
   "cell_type": "code",
   "execution_count": 115,
   "metadata": {},
   "outputs": [
    {
     "data": {
      "image/png": "[encoded data removed]",
      "text/plain": [
       "<Figure size 432x288 with 1 Axes>"
      ]
     },
     "metadata": {
      "needs_background": "light"
     },
     "output_type": "display_data"
    },
    {
     "data": {
      "text/plain": [
       "<matplotlib.axes._subplots.AxesSubplot at 0x15c0472fa58>"
      ]
     },
     "execution_count": 115,
     "metadata": {},
     "output_type": "execute_result"
    }
   ],
   "source": [
    "# the 100 most frequent words account for ~23% (~12700/55801) of all word occurrences in the corpus.\n",
    "\n",
    "fdist_words.plot(100, cumulative=True)"
   ]
  },
  {
   "cell_type": "code",
   "execution_count": 135,
   "metadata": {},
   "outputs": [
    {
     "data": {
      "text/plain": [
       "(10851, 2)"
      ]
     },
     "execution_count": 135,
     "metadata": {},
     "output_type": "execute_result"
    }
   ],
   "source": [
    "corpus_words_df = pd.DataFrame(fdist_words.most_common(), columns=['word','frequency'])\n",
    "corpus_words_df.shape"
   ]
  },
  {
   "cell_type": "code",
   "execution_count": 122,
   "metadata": {},
   "outputs": [
    {
     "data": {
      "text/html": [
       "<div>\n",
       "<style scoped>\n",
       "    .dataframe tbody tr th:only-of-type {\n",
       "        vertical-align: middle;\n",
       "    }\n",
       "\n",
       "    .dataframe tbody tr th {\n",
       "        vertical-align: top;\n",
       "    }\n",
       "\n",
       "    .dataframe thead th {\n",
       "        text-align: right;\n",
       "    }\n",
       "</style>\n",
       "<table border=\"1\" class=\"dataframe\">\n",
       "  <thead>\n",
       "    <tr style=\"text-align: right;\">\n",
       "      <th></th>\n",
       "      <th>word</th>\n",
       "      <th>frequency</th>\n",
       "    </tr>\n",
       "  </thead>\n",
       "  <tbody>\n",
       "    <tr>\n",
       "      <th>0</th>\n",
       "      <td>قال</td>\n",
       "      <td>615</td>\n",
       "    </tr>\n",
       "    <tr>\n",
       "      <th>1</th>\n",
       "      <td>الله</td>\n",
       "      <td>509</td>\n",
       "    </tr>\n",
       "    <tr>\n",
       "      <th>2</th>\n",
       "      <td>نغم</td>\n",
       "      <td>472</td>\n",
       "    </tr>\n",
       "    <tr>\n",
       "      <th>3</th>\n",
       "      <td>اول</td>\n",
       "      <td>365</td>\n",
       "    </tr>\n",
       "    <tr>\n",
       "      <th>4</th>\n",
       "      <td>ثان</td>\n",
       "      <td>300</td>\n",
       "    </tr>\n",
       "  </tbody>\n",
       "</table>\n",
       "</div>"
      ],
      "text/plain": [
       "   word  frequency\n",
       "0   قال        615\n",
       "1  الله        509\n",
       "2   نغم        472\n",
       "3   اول        365\n",
       "4   ثان        300"
      ]
     },
     "execution_count": 122,
     "metadata": {},
     "output_type": "execute_result"
    }
   ],
   "source": [
    "corpus_words_df.head()"
   ]
  },
  {
   "cell_type": "code",
   "execution_count": 123,
   "metadata": {},
   "outputs": [
    {
     "data": {
      "text/html": [
       "<div>\n",
       "<style scoped>\n",
       "    .dataframe tbody tr th:only-of-type {\n",
       "        vertical-align: middle;\n",
       "    }\n",
       "\n",
       "    .dataframe tbody tr th {\n",
       "        vertical-align: top;\n",
       "    }\n",
       "\n",
       "    .dataframe thead th {\n",
       "        text-align: right;\n",
       "    }\n",
       "</style>\n",
       "<table border=\"1\" class=\"dataframe\">\n",
       "  <thead>\n",
       "    <tr style=\"text-align: right;\">\n",
       "      <th></th>\n",
       "      <th>frequency</th>\n",
       "    </tr>\n",
       "  </thead>\n",
       "  <tbody>\n",
       "    <tr>\n",
       "      <th>count</th>\n",
       "      <td>10851.000000</td>\n",
       "    </tr>\n",
       "    <tr>\n",
       "      <th>mean</th>\n",
       "      <td>5.142475</td>\n",
       "    </tr>\n",
       "    <tr>\n",
       "      <th>std</th>\n",
       "      <td>16.549876</td>\n",
       "    </tr>\n",
       "    <tr>\n",
       "      <th>min</th>\n",
       "      <td>1.000000</td>\n",
       "    </tr>\n",
       "    <tr>\n",
       "      <th>25%</th>\n",
       "      <td>1.000000</td>\n",
       "    </tr>\n",
       "    <tr>\n",
       "      <th>50%</th>\n",
       "      <td>1.000000</td>\n",
       "    </tr>\n",
       "    <tr>\n",
       "      <th>75%</th>\n",
       "      <td>3.000000</td>\n",
       "    </tr>\n",
       "    <tr>\n",
       "      <th>max</th>\n",
       "      <td>615.000000</td>\n",
       "    </tr>\n",
       "  </tbody>\n",
       "</table>\n",
       "</div>"
      ],
      "text/plain": [
       "          frequency\n",
       "count  10851.000000\n",
       "mean       5.142475\n",
       "std       16.549876\n",
       "min        1.000000\n",
       "25%        1.000000\n",
       "50%        1.000000\n",
       "75%        3.000000\n",
       "max      615.000000"
      ]
     },
     "execution_count": 123,
     "metadata": {},
     "output_type": "execute_result"
    }
   ],
   "source": [
    "corpus_words_df.describe()"
   ]
  },
  {
   "cell_type": "code",
   "execution_count": 125,
   "metadata": {},
   "outputs": [
    {
     "data": {
      "image/png": "[encoded data removed]",
      "text/plain": [
       "<Figure size 432x288 with 1 Axes>"
      ]
     },
     "metadata": {
      "needs_background": "light"
     },
     "output_type": "display_data"
    },
    {
     "data": {
      "image/png": "[encoded data removed]",
      "text/plain": [
       "<Figure size 432x288 with 1 Axes>"
      ]
     },
     "metadata": {
      "needs_background": "light"
     },
     "output_type": "display_data"
    },
    {
     "data": {
      "image/png": "[encoded data removed]",
      "text/plain": [
       "<Figure size 432x288 with 1 Axes>"
      ]
     },
     "metadata": {
      "needs_background": "light"
     },
     "output_type": "display_data"
    }
   ],
   "source": [
    "corpus_words_df.frequency.plot.hist()\n",
    "fig1=plt.title('Word frequency distribution')\n",
    "plt.show()\n",
    "corpus_words_df.frequency[corpus_words_df.frequency>100].plot.hist()\n",
    "fig2=plt.title('Word frequency distribution of words with MORE than 100 occurrences')\n",
    "plt.show()\n",
    "corpus_words_df.frequency[corpus_words_df.frequency<20].plot.hist()\n",
    "fig3=plt.title('Word frequency distribution of words with LESS than 20 occurrences')"
   ]
  },
  {
   "cell_type": "markdown",
   "metadata": {},
   "source": [
    "### Distribution of word length"
   ]
  },
  {
   "cell_type": "code",
   "execution_count": 136,
   "metadata": {},
   "outputs": [
    {
     "data": {
      "text/html": [
       "<div>\n",
       "<style scoped>\n",
       "    .dataframe tbody tr th:only-of-type {\n",
       "        vertical-align: middle;\n",
       "    }\n",
       "\n",
       "    .dataframe tbody tr th {\n",
       "        vertical-align: top;\n",
       "    }\n",
       "\n",
       "    .dataframe thead th {\n",
       "        text-align: right;\n",
       "    }\n",
       "</style>\n",
       "<table border=\"1\" class=\"dataframe\">\n",
       "  <thead>\n",
       "    <tr style=\"text-align: right;\">\n",
       "      <th></th>\n",
       "      <th>word</th>\n",
       "      <th>frequency</th>\n",
       "      <th>word_len</th>\n",
       "    </tr>\n",
       "  </thead>\n",
       "  <tbody>\n",
       "    <tr>\n",
       "      <th>0</th>\n",
       "      <td>قال</td>\n",
       "      <td>615</td>\n",
       "      <td>3</td>\n",
       "    </tr>\n",
       "    <tr>\n",
       "      <th>1</th>\n",
       "      <td>الله</td>\n",
       "      <td>509</td>\n",
       "      <td>4</td>\n",
       "    </tr>\n",
       "    <tr>\n",
       "      <th>2</th>\n",
       "      <td>نغم</td>\n",
       "      <td>472</td>\n",
       "      <td>3</td>\n",
       "    </tr>\n",
       "    <tr>\n",
       "      <th>3</th>\n",
       "      <td>اول</td>\n",
       "      <td>365</td>\n",
       "      <td>3</td>\n",
       "    </tr>\n",
       "    <tr>\n",
       "      <th>4</th>\n",
       "      <td>ثان</td>\n",
       "      <td>300</td>\n",
       "      <td>3</td>\n",
       "    </tr>\n",
       "  </tbody>\n",
       "</table>\n",
       "</div>"
      ],
      "text/plain": [
       "   word  frequency  word_len\n",
       "0   قال        615         3\n",
       "1  الله        509         4\n",
       "2   نغم        472         3\n",
       "3   اول        365         3\n",
       "4   ثان        300         3"
      ]
     },
     "execution_count": 136,
     "metadata": {},
     "output_type": "execute_result"
    }
   ],
   "source": [
    "corpus_words_df['word_len'] = corpus_words_df.word.map(len)\n",
    "corpus_words_df.head()"
   ]
  },
  {
   "cell_type": "code",
   "execution_count": 137,
   "metadata": {},
   "outputs": [
    {
     "data": {
      "text/html": [
       "<div>\n",
       "<style scoped>\n",
       "    .dataframe tbody tr th:only-of-type {\n",
       "        vertical-align: middle;\n",
       "    }\n",
       "\n",
       "    .dataframe tbody tr th {\n",
       "        vertical-align: top;\n",
       "    }\n",
       "\n",
       "    .dataframe thead th {\n",
       "        text-align: right;\n",
       "    }\n",
       "</style>\n",
       "<table border=\"1\" class=\"dataframe\">\n",
       "  <thead>\n",
       "    <tr style=\"text-align: right;\">\n",
       "      <th></th>\n",
       "      <th>frequency</th>\n",
       "      <th>word_len</th>\n",
       "    </tr>\n",
       "  </thead>\n",
       "  <tbody>\n",
       "    <tr>\n",
       "      <th>count</th>\n",
       "      <td>10851.000000</td>\n",
       "      <td>10851.000000</td>\n",
       "    </tr>\n",
       "    <tr>\n",
       "      <th>mean</th>\n",
       "      <td>5.142475</td>\n",
       "      <td>4.140724</td>\n",
       "    </tr>\n",
       "    <tr>\n",
       "      <th>std</th>\n",
       "      <td>16.549876</td>\n",
       "      <td>1.105000</td>\n",
       "    </tr>\n",
       "    <tr>\n",
       "      <th>min</th>\n",
       "      <td>1.000000</td>\n",
       "      <td>3.000000</td>\n",
       "    </tr>\n",
       "    <tr>\n",
       "      <th>25%</th>\n",
       "      <td>1.000000</td>\n",
       "      <td>4.000000</td>\n",
       "    </tr>\n",
       "    <tr>\n",
       "      <th>50%</th>\n",
       "      <td>1.000000</td>\n",
       "      <td>4.000000</td>\n",
       "    </tr>\n",
       "    <tr>\n",
       "      <th>75%</th>\n",
       "      <td>3.000000</td>\n",
       "      <td>4.000000</td>\n",
       "    </tr>\n",
       "    <tr>\n",
       "      <th>max</th>\n",
       "      <td>615.000000</td>\n",
       "      <td>13.000000</td>\n",
       "    </tr>\n",
       "  </tbody>\n",
       "</table>\n",
       "</div>"
      ],
      "text/plain": [
       "          frequency      word_len\n",
       "count  10851.000000  10851.000000\n",
       "mean       5.142475      4.140724\n",
       "std       16.549876      1.105000\n",
       "min        1.000000      3.000000\n",
       "25%        1.000000      4.000000\n",
       "50%        1.000000      4.000000\n",
       "75%        3.000000      4.000000\n",
       "max      615.000000     13.000000"
      ]
     },
     "execution_count": 137,
     "metadata": {},
     "output_type": "execute_result"
    }
   ],
   "source": [
    "corpus_words_df.describe()"
   ]
  },
  {
   "cell_type": "code",
   "execution_count": 129,
   "metadata": {},
   "outputs": [
    {
     "data": {
      "text/plain": [
       "<matplotlib.axes._subplots.AxesSubplot at 0x15c075259b0>"
      ]
     },
     "execution_count": 129,
     "metadata": {},
     "output_type": "execute_result"
    },
    {
     "data": {
      "image/png": "[encoded data removed]",
      "text/plain": [
       "<Figure size 432x288 with 1 Axes>"
      ]
     },
     "metadata": {
      "needs_background": "light"
     },
     "output_type": "display_data"
    }
   ],
   "source": [
    "corpus_words_df.word_len.plot.hist()"
   ]
  },
  {
   "cell_type": "code",
   "execution_count": 145,
   "metadata": {},
   "outputs": [
    {
     "name": "stdout",
     "output_type": "stream",
     "text": [
      "126\n"
     ]
    },
    {
     "data": {
      "text/html": [
       "<div>\n",
       "<style scoped>\n",
       "    .dataframe tbody tr th:only-of-type {\n",
       "        vertical-align: middle;\n",
       "    }\n",
       "\n",
       "    .dataframe tbody tr th {\n",
       "        vertical-align: top;\n",
       "    }\n",
       "\n",
       "    .dataframe thead th {\n",
       "        text-align: right;\n",
       "    }\n",
       "</style>\n",
       "<table border=\"1\" class=\"dataframe\">\n",
       "  <thead>\n",
       "    <tr style=\"text-align: right;\">\n",
       "      <th></th>\n",
       "      <th>word</th>\n",
       "      <th>frequency</th>\n",
       "      <th>word_len</th>\n",
       "    </tr>\n",
       "  </thead>\n",
       "  <tbody>\n",
       "    <tr>\n",
       "      <th>1311</th>\n",
       "      <td>والاصبهان</td>\n",
       "      <td>8</td>\n",
       "      <td>9</td>\n",
       "    </tr>\n",
       "    <tr>\n",
       "      <th>1698</th>\n",
       "      <td>الزيرافكند</td>\n",
       "      <td>6</td>\n",
       "      <td>10</td>\n",
       "    </tr>\n",
       "    <tr>\n",
       "      <th>2102</th>\n",
       "      <td>الجرادتان</td>\n",
       "      <td>5</td>\n",
       "      <td>9</td>\n",
       "    </tr>\n",
       "    <tr>\n",
       "      <th>2736</th>\n",
       "      <td>والترابية</td>\n",
       "      <td>3</td>\n",
       "      <td>9</td>\n",
       "    </tr>\n",
       "    <tr>\n",
       "      <th>2896</th>\n",
       "      <td>والاسجاحات</td>\n",
       "      <td>3</td>\n",
       "      <td>10</td>\n",
       "    </tr>\n",
       "    <tr>\n",
       "      <th>2988</th>\n",
       "      <td>والهوائية</td>\n",
       "      <td>3</td>\n",
       "      <td>9</td>\n",
       "    </tr>\n",
       "    <tr>\n",
       "      <th>3064</th>\n",
       "      <td>بالفارسية</td>\n",
       "      <td>3</td>\n",
       "      <td>9</td>\n",
       "    </tr>\n",
       "    <tr>\n",
       "      <th>3935</th>\n",
       "      <td>والدساتين</td>\n",
       "      <td>2</td>\n",
       "      <td>9</td>\n",
       "    </tr>\n",
       "    <tr>\n",
       "      <th>5277</th>\n",
       "      <td>ومقابلاتها</td>\n",
       "      <td>2</td>\n",
       "      <td>10</td>\n",
       "    </tr>\n",
       "    <tr>\n",
       "      <th>5272</th>\n",
       "      <td>والبراهين</td>\n",
       "      <td>2</td>\n",
       "      <td>9</td>\n",
       "    </tr>\n",
       "    <tr>\n",
       "      <th>5178</th>\n",
       "      <td>ارسطاطاليس</td>\n",
       "      <td>2</td>\n",
       "      <td>10</td>\n",
       "    </tr>\n",
       "    <tr>\n",
       "      <th>4590</th>\n",
       "      <td>والرياحين</td>\n",
       "      <td>2</td>\n",
       "      <td>9</td>\n",
       "    </tr>\n",
       "    <tr>\n",
       "      <th>4441</th>\n",
       "      <td>وكيفياتها</td>\n",
       "      <td>2</td>\n",
       "      <td>9</td>\n",
       "    </tr>\n",
       "    <tr>\n",
       "      <th>4035</th>\n",
       "      <td>والكردانية</td>\n",
       "      <td>2</td>\n",
       "      <td>10</td>\n",
       "    </tr>\n",
       "    <tr>\n",
       "      <th>4428</th>\n",
       "      <td>الطبيعيات</td>\n",
       "      <td>2</td>\n",
       "      <td>9</td>\n",
       "    </tr>\n",
       "    <tr>\n",
       "      <th>3735</th>\n",
       "      <td>والايقاعات</td>\n",
       "      <td>2</td>\n",
       "      <td>10</td>\n",
       "    </tr>\n",
       "    <tr>\n",
       "      <th>3709</th>\n",
       "      <td>والابتداءات</td>\n",
       "      <td>2</td>\n",
       "      <td>11</td>\n",
       "    </tr>\n",
       "    <tr>\n",
       "      <th>3690</th>\n",
       "      <td>والسرورية</td>\n",
       "      <td>2</td>\n",
       "      <td>9</td>\n",
       "    </tr>\n",
       "    <tr>\n",
       "      <th>3687</th>\n",
       "      <td>الاخيرتين</td>\n",
       "      <td>2</td>\n",
       "      <td>9</td>\n",
       "    </tr>\n",
       "    <tr>\n",
       "      <th>3665</th>\n",
       "      <td>والمذاقات</td>\n",
       "      <td>2</td>\n",
       "      <td>9</td>\n",
       "    </tr>\n",
       "    <tr>\n",
       "      <th>3601</th>\n",
       "      <td>والهزاردستان</td>\n",
       "      <td>2</td>\n",
       "      <td>12</td>\n",
       "    </tr>\n",
       "    <tr>\n",
       "      <th>3546</th>\n",
       "      <td>بالبراهين</td>\n",
       "      <td>2</td>\n",
       "      <td>9</td>\n",
       "    </tr>\n",
       "    <tr>\n",
       "      <th>7521</th>\n",
       "      <td>والستارات</td>\n",
       "      <td>1</td>\n",
       "      <td>9</td>\n",
       "    </tr>\n",
       "    <tr>\n",
       "      <th>7486</th>\n",
       "      <td>فبالضرورة</td>\n",
       "      <td>1</td>\n",
       "      <td>9</td>\n",
       "    </tr>\n",
       "    <tr>\n",
       "      <th>7516</th>\n",
       "      <td>والمؤثرين</td>\n",
       "      <td>1</td>\n",
       "      <td>9</td>\n",
       "    </tr>\n",
       "    <tr>\n",
       "      <th>7520</th>\n",
       "      <td>والراغبين</td>\n",
       "      <td>1</td>\n",
       "      <td>9</td>\n",
       "    </tr>\n",
       "    <tr>\n",
       "      <th>7755</th>\n",
       "      <td>ويعيرونها</td>\n",
       "      <td>1</td>\n",
       "      <td>9</td>\n",
       "    </tr>\n",
       "    <tr>\n",
       "      <th>7522</th>\n",
       "      <td>والمراوءات</td>\n",
       "      <td>1</td>\n",
       "      <td>10</td>\n",
       "    </tr>\n",
       "    <tr>\n",
       "      <th>7751</th>\n",
       "      <td>ويستسمجونه</td>\n",
       "      <td>1</td>\n",
       "      <td>10</td>\n",
       "    </tr>\n",
       "    <tr>\n",
       "      <th>7448</th>\n",
       "      <td>كالمقنطرات</td>\n",
       "      <td>1</td>\n",
       "      <td>10</td>\n",
       "    </tr>\n",
       "    <tr>\n",
       "      <th>...</th>\n",
       "      <td>...</td>\n",
       "      <td>...</td>\n",
       "      <td>...</td>\n",
       "    </tr>\n",
       "    <tr>\n",
       "      <th>5414</th>\n",
       "      <td>بالجوهرية</td>\n",
       "      <td>1</td>\n",
       "      <td>9</td>\n",
       "    </tr>\n",
       "    <tr>\n",
       "      <th>5364</th>\n",
       "      <td>الارتماطيقي</td>\n",
       "      <td>1</td>\n",
       "      <td>11</td>\n",
       "    </tr>\n",
       "    <tr>\n",
       "      <th>5324</th>\n",
       "      <td>واشكالهما</td>\n",
       "      <td>1</td>\n",
       "      <td>9</td>\n",
       "    </tr>\n",
       "    <tr>\n",
       "      <th>5799</th>\n",
       "      <td>والناقصين</td>\n",
       "      <td>1</td>\n",
       "      <td>9</td>\n",
       "    </tr>\n",
       "    <tr>\n",
       "      <th>5803</th>\n",
       "      <td>فالمتباينان</td>\n",
       "      <td>1</td>\n",
       "      <td>11</td>\n",
       "    </tr>\n",
       "    <tr>\n",
       "      <th>5837</th>\n",
       "      <td>وعلاماتها</td>\n",
       "      <td>1</td>\n",
       "      <td>9</td>\n",
       "    </tr>\n",
       "    <tr>\n",
       "      <th>6344</th>\n",
       "      <td>وبالزنوجي</td>\n",
       "      <td>1</td>\n",
       "      <td>9</td>\n",
       "    </tr>\n",
       "    <tr>\n",
       "      <th>6783</th>\n",
       "      <td>المصطفاويه</td>\n",
       "      <td>1</td>\n",
       "      <td>10</td>\n",
       "    </tr>\n",
       "    <tr>\n",
       "      <th>6714</th>\n",
       "      <td>المطافره١٣</td>\n",
       "      <td>1</td>\n",
       "      <td>10</td>\n",
       "    </tr>\n",
       "    <tr>\n",
       "      <th>6543</th>\n",
       "      <td>والاصبعين</td>\n",
       "      <td>1</td>\n",
       "      <td>9</td>\n",
       "    </tr>\n",
       "    <tr>\n",
       "      <th>6542</th>\n",
       "      <td>والاوازات</td>\n",
       "      <td>1</td>\n",
       "      <td>9</td>\n",
       "    </tr>\n",
       "    <tr>\n",
       "      <th>6540</th>\n",
       "      <td>وبالفارسي</td>\n",
       "      <td>1</td>\n",
       "      <td>9</td>\n",
       "    </tr>\n",
       "    <tr>\n",
       "      <th>6471</th>\n",
       "      <td>باليونانية</td>\n",
       "      <td>1</td>\n",
       "      <td>10</td>\n",
       "    </tr>\n",
       "    <tr>\n",
       "      <th>6437</th>\n",
       "      <td>والمسلمات</td>\n",
       "      <td>1</td>\n",
       "      <td>9</td>\n",
       "    </tr>\n",
       "    <tr>\n",
       "      <th>6436</th>\n",
       "      <td>وللمسلمين</td>\n",
       "      <td>1</td>\n",
       "      <td>9</td>\n",
       "    </tr>\n",
       "    <tr>\n",
       "      <th>6408</th>\n",
       "      <td>وتاثيراتها</td>\n",
       "      <td>1</td>\n",
       "      <td>10</td>\n",
       "    </tr>\n",
       "    <tr>\n",
       "      <th>6364</th>\n",
       "      <td>كزيرافكند</td>\n",
       "      <td>1</td>\n",
       "      <td>9</td>\n",
       "    </tr>\n",
       "    <tr>\n",
       "      <th>6293</th>\n",
       "      <td>والتبديلات</td>\n",
       "      <td>1</td>\n",
       "      <td>10</td>\n",
       "    </tr>\n",
       "    <tr>\n",
       "      <th>5863</th>\n",
       "      <td>الباقيتان</td>\n",
       "      <td>1</td>\n",
       "      <td>9</td>\n",
       "    </tr>\n",
       "    <tr>\n",
       "      <th>6289</th>\n",
       "      <td>بزيرافكند</td>\n",
       "      <td>1</td>\n",
       "      <td>9</td>\n",
       "    </tr>\n",
       "    <tr>\n",
       "      <th>6265</th>\n",
       "      <td>الزايرافكند</td>\n",
       "      <td>1</td>\n",
       "      <td>11</td>\n",
       "    </tr>\n",
       "    <tr>\n",
       "      <th>6255</th>\n",
       "      <td>والزايرافكند</td>\n",
       "      <td>1</td>\n",
       "      <td>12</td>\n",
       "    </tr>\n",
       "    <tr>\n",
       "      <th>6240</th>\n",
       "      <td>الزايرفكند</td>\n",
       "      <td>1</td>\n",
       "      <td>10</td>\n",
       "    </tr>\n",
       "    <tr>\n",
       "      <th>6195</th>\n",
       "      <td>بالمباحات</td>\n",
       "      <td>1</td>\n",
       "      <td>9</td>\n",
       "    </tr>\n",
       "    <tr>\n",
       "      <th>6189</th>\n",
       "      <td>والمستحبات</td>\n",
       "      <td>1</td>\n",
       "      <td>10</td>\n",
       "    </tr>\n",
       "    <tr>\n",
       "      <th>6114</th>\n",
       "      <td>ادوارهماجميعا</td>\n",
       "      <td>1</td>\n",
       "      <td>13</td>\n",
       "    </tr>\n",
       "    <tr>\n",
       "      <th>6091</th>\n",
       "      <td>بالاختلاسات</td>\n",
       "      <td>1</td>\n",
       "      <td>11</td>\n",
       "    </tr>\n",
       "    <tr>\n",
       "      <th>6083</th>\n",
       "      <td>فلنحاكيها</td>\n",
       "      <td>1</td>\n",
       "      <td>9</td>\n",
       "    </tr>\n",
       "    <tr>\n",
       "      <th>6033</th>\n",
       "      <td>الارثماطيقي</td>\n",
       "      <td>1</td>\n",
       "      <td>11</td>\n",
       "    </tr>\n",
       "    <tr>\n",
       "      <th>10808</th>\n",
       "      <td>وكالكيفيات</td>\n",
       "      <td>1</td>\n",
       "      <td>10</td>\n",
       "    </tr>\n",
       "  </tbody>\n",
       "</table>\n",
       "<p>126 rows × 3 columns</p>\n",
       "</div>"
      ],
      "text/plain": [
       "                word  frequency  word_len\n",
       "1311       والاصبهان          8         9\n",
       "1698      الزيرافكند          6        10\n",
       "2102       الجرادتان          5         9\n",
       "2736       والترابية          3         9\n",
       "2896      والاسجاحات          3        10\n",
       "2988       والهوائية          3         9\n",
       "3064       بالفارسية          3         9\n",
       "3935       والدساتين          2         9\n",
       "5277      ومقابلاتها          2        10\n",
       "5272       والبراهين          2         9\n",
       "5178      ارسطاطاليس          2        10\n",
       "4590       والرياحين          2         9\n",
       "4441       وكيفياتها          2         9\n",
       "4035      والكردانية          2        10\n",
       "4428       الطبيعيات          2         9\n",
       "3735      والايقاعات          2        10\n",
       "3709     والابتداءات          2        11\n",
       "3690       والسرورية          2         9\n",
       "3687       الاخيرتين          2         9\n",
       "3665       والمذاقات          2         9\n",
       "3601    والهزاردستان          2        12\n",
       "3546       بالبراهين          2         9\n",
       "7521       والستارات          1         9\n",
       "7486       فبالضرورة          1         9\n",
       "7516       والمؤثرين          1         9\n",
       "7520       والراغبين          1         9\n",
       "7755       ويعيرونها          1         9\n",
       "7522      والمراوءات          1        10\n",
       "7751      ويستسمجونه          1        10\n",
       "7448      كالمقنطرات          1        10\n",
       "...              ...        ...       ...\n",
       "5414       بالجوهرية          1         9\n",
       "5364     الارتماطيقي          1        11\n",
       "5324       واشكالهما          1         9\n",
       "5799       والناقصين          1         9\n",
       "5803     فالمتباينان          1        11\n",
       "5837       وعلاماتها          1         9\n",
       "6344       وبالزنوجي          1         9\n",
       "6783      المصطفاويه          1        10\n",
       "6714      المطافره١٣          1        10\n",
       "6543       والاصبعين          1         9\n",
       "6542       والاوازات          1         9\n",
       "6540       وبالفارسي          1         9\n",
       "6471      باليونانية          1        10\n",
       "6437       والمسلمات          1         9\n",
       "6436       وللمسلمين          1         9\n",
       "6408      وتاثيراتها          1        10\n",
       "6364       كزيرافكند          1         9\n",
       "6293      والتبديلات          1        10\n",
       "5863       الباقيتان          1         9\n",
       "6289       بزيرافكند          1         9\n",
       "6265     الزايرافكند          1        11\n",
       "6255    والزايرافكند          1        12\n",
       "6240      الزايرفكند          1        10\n",
       "6195       بالمباحات          1         9\n",
       "6189      والمستحبات          1        10\n",
       "6114   ادوارهماجميعا          1        13\n",
       "6091     بالاختلاسات          1        11\n",
       "6083       فلنحاكيها          1         9\n",
       "6033     الارثماطيقي          1        11\n",
       "10808     وكالكيفيات          1        10\n",
       "\n",
       "[126 rows x 3 columns]"
      ]
     },
     "execution_count": 145,
     "metadata": {},
     "output_type": "execute_result"
    }
   ],
   "source": [
    "idx = corpus_words_df.word_len>=9\n",
    "print(idx.sum())\n",
    "corpus_words_df[idx].sort_values(by='frequency',ascending=False)"
   ]
  },
  {
   "cell_type": "markdown",
   "metadata": {},
   "source": [
    "### Repeated words"
   ]
  },
  {
   "cell_type": "code",
   "execution_count": 233,
   "metadata": {},
   "outputs": [],
   "source": [
    "def foo3(tokens):\n",
    "    prev_tok=tokens[0]\n",
    "    run_len=1\n",
    "    L=[]\n",
    "\n",
    "    for tok in tokens[1:]:\n",
    "        if tok==prev_tok:\n",
    "            run_len+=1\n",
    "        else:\n",
    "            if run_len>1:\n",
    "                L.append((prev_tok,run_len))\n",
    "            run_len=1\n",
    "        prev_tok=tok\n",
    "    df=pd.DataFrame(L,columns=['word','run_length']).sort_values(by='run_length',ascending=False)\n",
    "    return [(i,x) for i,x in df.word.value_counts().iteritems()]"
   ]
  },
  {
   "cell_type": "code",
   "execution_count": 235,
   "metadata": {},
   "outputs": [
    {
     "data": {
      "text/plain": [
       "(39,)"
      ]
     },
     "execution_count": 235,
     "metadata": {},
     "output_type": "execute_result"
    }
   ],
   "source": [
    "u5 = pd.Series([foo3(doc_tokens) for doc_tokens in corpus_words_2])\n",
    "u5.shape"
   ]
  },
  {
   "cell_type": "code",
   "execution_count": 236,
   "metadata": {},
   "outputs": [
    {
     "data": {
      "text/plain": [
       "0    [(مقدم, 5), (مثن, 2), (اول, 2), (حاد, 2), (مثل...\n",
       "1    [(موجود, 2), (ماخور, 2), (قرتي, 2), (نقرة, 2),...\n",
       "2    [(خفيف, 2), (ماخور, 2), (قرتي, 2), (حال, 1), (...\n",
       "3    [(ضعيف, 1), (سادس, 1), (اسم, 1), (فرح, 1), (حز...\n",
       "4                     [(قسم, 2), (ثالث, 1), (رابع, 1)]\n",
       "dtype: object"
      ]
     },
     "execution_count": 236,
     "metadata": {},
     "output_type": "execute_result"
    }
   ],
   "source": [
    "u5.head()"
   ]
  },
  {
   "cell_type": "code",
   "execution_count": 237,
   "metadata": {},
   "outputs": [
    {
     "data": {
      "text/plain": [
       "<matplotlib.axes._subplots.AxesSubplot at 0x15c093cf9b0>"
      ]
     },
     "execution_count": 237,
     "metadata": {},
     "output_type": "execute_result"
    },
    {
     "data": {
      "image/png": "[encoded data removed]",
      "text/plain": [
       "<Figure size 432x288 with 1 Axes>"
      ]
     },
     "metadata": {
      "needs_background": "light"
     },
     "output_type": "display_data"
    }
   ],
   "source": [
    "u5.map(len).plot.hist()"
   ]
  },
  {
   "cell_type": "code",
   "execution_count": 238,
   "metadata": {},
   "outputs": [
    {
     "data": {
      "text/plain": [
       "count    39.000000\n",
       "mean      6.794872\n",
       "std       8.492038\n",
       "min       0.000000\n",
       "25%       1.000000\n",
       "50%       3.000000\n",
       "75%      10.000000\n",
       "max      36.000000\n",
       "dtype: float64"
      ]
     },
     "execution_count": 238,
     "metadata": {},
     "output_type": "execute_result"
    }
   ],
   "source": [
    "u5.map(len).describe()"
   ]
  },
  {
   "cell_type": "code",
   "execution_count": 239,
   "metadata": {},
   "outputs": [
    {
     "data": {
      "text/plain": [
       "(265, 2)"
      ]
     },
     "execution_count": 239,
     "metadata": {},
     "output_type": "execute_result"
    }
   ],
   "source": [
    "z = pd.DataFrame([y for x in u5.tolist() for y in x],columns=['word','frequency'])\n",
    "z.shape"
   ]
  },
  {
   "cell_type": "code",
   "execution_count": 240,
   "metadata": {},
   "outputs": [
    {
     "data": {
      "text/html": [
       "<div>\n",
       "<style scoped>\n",
       "    .dataframe tbody tr th:only-of-type {\n",
       "        vertical-align: middle;\n",
       "    }\n",
       "\n",
       "    .dataframe tbody tr th {\n",
       "        vertical-align: top;\n",
       "    }\n",
       "\n",
       "    .dataframe thead th {\n",
       "        text-align: right;\n",
       "    }\n",
       "</style>\n",
       "<table border=\"1\" class=\"dataframe\">\n",
       "  <thead>\n",
       "    <tr style=\"text-align: right;\">\n",
       "      <th></th>\n",
       "      <th>word</th>\n",
       "      <th>frequency</th>\n",
       "    </tr>\n",
       "  </thead>\n",
       "  <tbody>\n",
       "    <tr>\n",
       "      <th>0</th>\n",
       "      <td>مقدم</td>\n",
       "      <td>5</td>\n",
       "    </tr>\n",
       "    <tr>\n",
       "      <th>1</th>\n",
       "      <td>مثن</td>\n",
       "      <td>2</td>\n",
       "    </tr>\n",
       "    <tr>\n",
       "      <th>2</th>\n",
       "      <td>اول</td>\n",
       "      <td>2</td>\n",
       "    </tr>\n",
       "    <tr>\n",
       "      <th>3</th>\n",
       "      <td>حاد</td>\n",
       "      <td>2</td>\n",
       "    </tr>\n",
       "    <tr>\n",
       "      <th>4</th>\n",
       "      <td>مثلث</td>\n",
       "      <td>2</td>\n",
       "    </tr>\n",
       "  </tbody>\n",
       "</table>\n",
       "</div>"
      ],
      "text/plain": [
       "   word  frequency\n",
       "0  مقدم          5\n",
       "1   مثن          2\n",
       "2   اول          2\n",
       "3   حاد          2\n",
       "4  مثلث          2"
      ]
     },
     "execution_count": 240,
     "metadata": {},
     "output_type": "execute_result"
    }
   ],
   "source": [
    "z.head()"
   ]
  },
  {
   "cell_type": "code",
   "execution_count": 241,
   "metadata": {},
   "outputs": [
    {
     "data": {
      "text/plain": [
       "217"
      ]
     },
     "execution_count": 241,
     "metadata": {},
     "output_type": "execute_result"
    }
   ],
   "source": [
    "z.word.nunique()"
   ]
  },
  {
   "cell_type": "code",
   "execution_count": 242,
   "metadata": {},
   "outputs": [
    {
     "data": {
      "text/plain": [
       "['ئتلاف',\n",
       " 'ابواب',\n",
       " 'اجساد',\n",
       " 'احسن',\n",
       " 'اختيار',\n",
       " 'اخر',\n",
       " 'اربا',\n",
       " 'ارض',\n",
       " 'ازاء',\n",
       " 'اسكت',\n",
       " 'اسم',\n",
       " 'اصبع',\n",
       " 'اصل',\n",
       " 'اضطرار',\n",
       " 'اقرب',\n",
       " 'اقوم',\n",
       " 'اكرم',\n",
       " 'البم',\n",
       " 'الدن',\n",
       " 'الف',\n",
       " 'الله',\n",
       " 'امسك',\n",
       " 'انتا',\n",
       " 'انعام',\n",
       " 'انفس',\n",
       " 'اود',\n",
       " 'اول',\n",
       " 'بدن',\n",
       " 'بكي',\n",
       " 'بيات',\n",
       " 'بيض',\n",
       " 'تاليف',\n",
       " 'تبعيد',\n",
       " 'تجار',\n",
       " 'تراب',\n",
       " 'ترك',\n",
       " 'تطوي',\n",
       " 'تكه',\n",
       " 'تلامذ',\n",
       " 'تنن',\n",
       " 'ثالث',\n",
       " 'ثان',\n",
       " 'ثاني',\n",
       " 'ثقال',\n",
       " 'ثقيل',\n",
       " 'ثلاث',\n",
       " 'ثلث',\n",
       " 'ثنتا',\n",
       " 'ثنتي',\n",
       " 'جانب',\n",
       " 'جزء',\n",
       " 'جزءا',\n",
       " 'جسم',\n",
       " 'جلاب',\n",
       " 'جمع',\n",
       " 'جنس',\n",
       " 'جهة',\n",
       " 'حاد',\n",
       " 'حال',\n",
       " 'حبيب',\n",
       " 'حتبس',\n",
       " 'حديث',\n",
       " 'حرك',\n",
       " 'حركة',\n",
       " 'حزن',\n",
       " 'حسن',\n",
       " 'حضار',\n",
       " 'حلم',\n",
       " 'حمو',\n",
       " 'خالد',\n",
       " 'خبر',\n",
       " 'ختلاف',\n",
       " 'خشب',\n",
       " 'خفيف',\n",
       " 'خلخل',\n",
       " 'خلق',\n",
       " 'خمس',\n",
       " 'خنصر',\n",
       " 'خير',\n",
       " 'دجن',\n",
       " 'دخل',\n",
       " 'دمع',\n",
       " 'دوار',\n",
       " 'دور',\n",
       " 'دوكاه',\n",
       " 'ذكر',\n",
       " 'رابع',\n",
       " 'رست',\n",
       " 'رطب',\n",
       " 'رفع',\n",
       " 'ركب',\n",
       " 'روي',\n",
       " 'زرع',\n",
       " 'زلزل',\n",
       " 'زمان',\n",
       " 'زمجر',\n",
       " 'زيد',\n",
       " 'زير',\n",
       " 'سابع',\n",
       " 'سادس',\n",
       " 'سبيل',\n",
       " 'ستدل',\n",
       " 'سحاب',\n",
       " 'سرور',\n",
       " 'سكر',\n",
       " 'سمع',\n",
       " 'سمك',\n",
       " 'سيكاه',\n",
       " 'شجاع',\n",
       " 'شيء',\n",
       " 'شيئا',\n",
       " 'شيب',\n",
       " 'صاحب',\n",
       " 'صام',\n",
       " 'صدقت',\n",
       " 'صغير',\n",
       " 'صنف',\n",
       " 'صوت',\n",
       " 'ضرب',\n",
       " 'ضعيف',\n",
       " 'طابت',\n",
       " 'طبق',\n",
       " 'طبيع',\n",
       " 'طرب',\n",
       " 'طرف',\n",
       " 'طعام',\n",
       " 'طنين',\n",
       " 'طول',\n",
       " 'طيب',\n",
       " 'عدل',\n",
       " 'عرف',\n",
       " 'عشاق',\n",
       " 'عصب',\n",
       " 'عضل',\n",
       " 'عقل',\n",
       " 'علل',\n",
       " 'علم',\n",
       " 'عود',\n",
       " 'عول',\n",
       " 'فتو',\n",
       " 'فرح',\n",
       " 'فعل',\n",
       " 'فعلت',\n",
       " 'فقال',\n",
       " 'فهم',\n",
       " 'قال',\n",
       " 'قبل',\n",
       " 'قبيح',\n",
       " 'قراء',\n",
       " 'قرتي',\n",
       " 'قسم',\n",
       " 'قليل',\n",
       " 'قوة',\n",
       " 'قوم',\n",
       " 'كبير',\n",
       " 'كون',\n",
       " 'لبس',\n",
       " 'لحن',\n",
       " 'لون',\n",
       " 'لونه',\n",
       " 'ماء',\n",
       " 'ماخور',\n",
       " 'مام',\n",
       " 'متفعلن',\n",
       " 'مثلث',\n",
       " 'مثله',\n",
       " 'مثن',\n",
       " 'مجدوف',\n",
       " 'مجر',\n",
       " 'محمد',\n",
       " 'مركز',\n",
       " 'مزاج',\n",
       " 'مسال',\n",
       " 'مساو',\n",
       " 'مشاكل',\n",
       " 'مضاعف',\n",
       " 'مضمار',\n",
       " 'مطلق',\n",
       " 'مظفر',\n",
       " 'مغن',\n",
       " 'مقدم',\n",
       " 'مكان',\n",
       " 'منزل',\n",
       " 'منطق',\n",
       " 'منكر',\n",
       " 'موجود',\n",
       " 'موضع',\n",
       " 'نار',\n",
       " 'ناس',\n",
       " 'نتقل',\n",
       " 'نغم',\n",
       " 'نغمة',\n",
       " 'نفس',\n",
       " 'نقر',\n",
       " 'نقرة',\n",
       " 'نوي',\n",
       " 'هادي',\n",
       " 'هزج',\n",
       " 'هواء',\n",
       " 'واحد',\n",
       " 'وتر',\n",
       " 'وجب',\n",
       " 'وضع',\n",
       " 'وعلي',\n",
       " 'وكان',\n",
       " 'ونصف',\n",
       " 'يؤلف',\n",
       " 'يحضر',\n",
       " 'يحيي',\n",
       " 'يدا',\n",
       " 'يداه',\n",
       " 'يستحيل',\n",
       " 'يفهم',\n",
       " 'يقاع',\n",
       " 'يكون',\n",
       " 'يوم',\n",
       " 'ييت']"
      ]
     },
     "execution_count": 242,
     "metadata": {},
     "output_type": "execute_result"
    }
   ],
   "source": [
    "sorted(z.word.unique().tolist())"
   ]
  },
  {
   "cell_type": "code",
   "execution_count": 244,
   "metadata": {},
   "outputs": [
    {
     "data": {
      "text/html": [
       "<div>\n",
       "<style scoped>\n",
       "    .dataframe tbody tr th:only-of-type {\n",
       "        vertical-align: middle;\n",
       "    }\n",
       "\n",
       "    .dataframe tbody tr th {\n",
       "        vertical-align: top;\n",
       "    }\n",
       "\n",
       "    .dataframe thead th {\n",
       "        text-align: right;\n",
       "    }\n",
       "</style>\n",
       "<table border=\"1\" class=\"dataframe\">\n",
       "  <thead>\n",
       "    <tr style=\"text-align: right;\">\n",
       "      <th></th>\n",
       "      <th>frequency</th>\n",
       "    </tr>\n",
       "    <tr>\n",
       "      <th>word</th>\n",
       "      <th></th>\n",
       "    </tr>\n",
       "  </thead>\n",
       "  <tbody>\n",
       "    <tr>\n",
       "      <th>قال</th>\n",
       "      <td>14</td>\n",
       "    </tr>\n",
       "    <tr>\n",
       "      <th>قرتي</th>\n",
       "      <td>11</td>\n",
       "    </tr>\n",
       "    <tr>\n",
       "      <th>نغمة</th>\n",
       "      <td>5</td>\n",
       "    </tr>\n",
       "    <tr>\n",
       "      <th>مقدم</th>\n",
       "      <td>5</td>\n",
       "    </tr>\n",
       "    <tr>\n",
       "      <th>نغم</th>\n",
       "      <td>5</td>\n",
       "    </tr>\n",
       "    <tr>\n",
       "      <th>وتر</th>\n",
       "      <td>5</td>\n",
       "    </tr>\n",
       "    <tr>\n",
       "      <th>ماخور</th>\n",
       "      <td>4</td>\n",
       "    </tr>\n",
       "    <tr>\n",
       "      <th>رست</th>\n",
       "      <td>4</td>\n",
       "    </tr>\n",
       "    <tr>\n",
       "      <th>قسم</th>\n",
       "      <td>3</td>\n",
       "    </tr>\n",
       "    <tr>\n",
       "      <th>دوار</th>\n",
       "      <td>3</td>\n",
       "    </tr>\n",
       "  </tbody>\n",
       "</table>\n",
       "</div>"
      ],
      "text/plain": [
       "       frequency\n",
       "word            \n",
       "قال           14\n",
       "قرتي          11\n",
       "نغمة           5\n",
       "مقدم           5\n",
       "نغم            5\n",
       "وتر            5\n",
       "ماخور          4\n",
       "رست            4\n",
       "قسم            3\n",
       "دوار           3"
      ]
     },
     "execution_count": 244,
     "metadata": {},
     "output_type": "execute_result"
    }
   ],
   "source": [
    "z.groupby('word').agg('sum').sort_values(by='frequency',ascending=False).head(10)"
   ]
  },
  {
   "cell_type": "markdown",
   "metadata": {},
   "source": [
    "### Frequency of occurrence of special terms in documents"
   ]
  },
  {
   "cell_type": "code",
   "execution_count": 245,
   "metadata": {},
   "outputs": [],
   "source": [
    "from sklearn.feature_extraction.text import CountVectorizer"
   ]
  },
  {
   "cell_type": "code",
   "execution_count": 246,
   "metadata": {},
   "outputs": [
    {
     "data": {
      "text/plain": [
       "(39, 18)"
      ]
     },
     "execution_count": 246,
     "metadata": {},
     "output_type": "execute_result"
    }
   ],
   "source": [
    "len(corpus_words_str),len(special_words_clean)"
   ]
  },
  {
   "cell_type": "code",
   "execution_count": 247,
   "metadata": {},
   "outputs": [
    {
     "data": {
      "text/plain": [
       "39"
      ]
     },
     "execution_count": 247,
     "metadata": {},
     "output_type": "execute_result"
    }
   ],
   "source": [
    "corpus_words_str = [' '.join(doc_tokens) for doc_tokens in corpus_words_2]\n",
    "len(corpus_words_str)"
   ]
  },
  {
   "cell_type": "code",
   "execution_count": 248,
   "metadata": {},
   "outputs": [
    {
     "data": {
      "text/plain": [
       "(39, 18)"
      ]
     },
     "execution_count": 248,
     "metadata": {},
     "output_type": "execute_result"
    }
   ],
   "source": [
    "special_vec = CountVectorizer(vocabulary=special_words_clean)\n",
    "\n",
    "doc_special_vocab_mat = special_vec.fit_transform(corpus_words_str)\n",
    "doc_special_vocab_mat.shape"
   ]
  },
  {
   "cell_type": "code",
   "execution_count": 249,
   "metadata": {},
   "outputs": [
    {
     "data": {
      "text/plain": [
       "(0, 42)"
      ]
     },
     "execution_count": 249,
     "metadata": {},
     "output_type": "execute_result"
    }
   ],
   "source": [
    "doc_special_vocab_mat.min(),doc_special_vocab_mat.max()"
   ]
  },
  {
   "cell_type": "code",
   "execution_count": 250,
   "metadata": {
    "scrolled": true
   },
   "outputs": [
    {
     "data": {
      "image/png": "[encoded data removed]",
      "text/plain": [
       "<Figure size 432x288 with 1 Axes>"
      ]
     },
     "metadata": {
      "needs_background": "light"
     },
     "output_type": "display_data"
    }
   ],
   "source": [
    "reshaped_special_vocab = [get_display(arabic_reshaper.reshape(word)) for word in special_words_clean]\n",
    "\n",
    "plt.spy(doc_special_vocab_mat,precision=0, markersize=3, aspect='auto')\n",
    "plt.xlabel('special term')\n",
    "plt.ylabel('document')\n",
    "#plt.title('Number of occurrences of special terms in documents')\n",
    "fig=plt.xticks(list(range(len(special_words_clean))), reshaped_special_vocab, rotation=40)"
   ]
  },
  {
   "cell_type": "code",
   "execution_count": 251,
   "metadata": {},
   "outputs": [
    {
     "data": {
      "text/plain": [
       "(39, 18)"
      ]
     },
     "execution_count": 251,
     "metadata": {},
     "output_type": "execute_result"
    }
   ],
   "source": [
    "doc_special_vocab_df = pd.DataFrame(doc_special_vocab_mat.A, columns=special_words_clean, index=doc_data_df.title_arabic)\n",
    "doc_special_vocab_df.shape"
   ]
  },
  {
   "cell_type": "code",
   "execution_count": 252,
   "metadata": {},
   "outputs": [],
   "source": [
    "doc_special_vocab_df.index = doc_special_vocab_df.index.map(lambda x: x[0:50])"
   ]
  },
  {
   "cell_type": "code",
   "execution_count": 253,
   "metadata": {},
   "outputs": [
    {
     "data": {
      "text/html": [
       "<div>\n",
       "<style scoped>\n",
       "    .dataframe tbody tr th:only-of-type {\n",
       "        vertical-align: middle;\n",
       "    }\n",
       "\n",
       "    .dataframe tbody tr th {\n",
       "        vertical-align: top;\n",
       "    }\n",
       "\n",
       "    .dataframe thead th {\n",
       "        text-align: right;\n",
       "    }\n",
       "</style>\n",
       "<table border=\"1\" class=\"dataframe\">\n",
       "  <thead>\n",
       "    <tr style=\"text-align: right;\">\n",
       "      <th></th>\n",
       "      <th>اصفهان</th>\n",
       "      <th>حجاز</th>\n",
       "      <th>راست</th>\n",
       "      <th>زركشي</th>\n",
       "      <th>زروكند</th>\n",
       "      <th>زنكلاه</th>\n",
       "      <th>شهناز</th>\n",
       "      <th>عراق</th>\n",
       "      <th>نيروز</th>\n",
       "      <th>بزرك</th>\n",
       "      <th>سلمك</th>\n",
       "      <th>كوشت</th>\n",
       "      <th>ماياه</th>\n",
       "      <th>نوي</th>\n",
       "      <th>ابوسليك</th>\n",
       "      <th>عشاق</th>\n",
       "      <th>حسيني</th>\n",
       "      <th>رهاوي</th>\n",
       "    </tr>\n",
       "    <tr>\n",
       "      <th>title_arabic</th>\n",
       "      <th></th>\n",
       "      <th></th>\n",
       "      <th></th>\n",
       "      <th></th>\n",
       "      <th></th>\n",
       "      <th></th>\n",
       "      <th></th>\n",
       "      <th></th>\n",
       "      <th></th>\n",
       "      <th></th>\n",
       "      <th></th>\n",
       "      <th></th>\n",
       "      <th></th>\n",
       "      <th></th>\n",
       "      <th></th>\n",
       "      <th></th>\n",
       "      <th></th>\n",
       "      <th></th>\n",
       "    </tr>\n",
       "  </thead>\n",
       "  <tbody>\n",
       "    <tr>\n",
       "      <th>رسالة في خبر صناعة التّأليف</th>\n",
       "      <td>0</td>\n",
       "      <td>0</td>\n",
       "      <td>0</td>\n",
       "      <td>0</td>\n",
       "      <td>0</td>\n",
       "      <td>0</td>\n",
       "      <td>0</td>\n",
       "      <td>0</td>\n",
       "      <td>0</td>\n",
       "      <td>0</td>\n",
       "      <td>0</td>\n",
       "      <td>0</td>\n",
       "      <td>0</td>\n",
       "      <td>0</td>\n",
       "      <td>0</td>\n",
       "      <td>0</td>\n",
       "      <td>0</td>\n",
       "      <td>0</td>\n",
       "    </tr>\n",
       "    <tr>\n",
       "      <th>كتاب المصوّتات الوتريّة من ذات الوتر الواحد إلى ذا</th>\n",
       "      <td>0</td>\n",
       "      <td>0</td>\n",
       "      <td>0</td>\n",
       "      <td>0</td>\n",
       "      <td>0</td>\n",
       "      <td>0</td>\n",
       "      <td>0</td>\n",
       "      <td>0</td>\n",
       "      <td>0</td>\n",
       "      <td>0</td>\n",
       "      <td>0</td>\n",
       "      <td>0</td>\n",
       "      <td>0</td>\n",
       "      <td>0</td>\n",
       "      <td>0</td>\n",
       "      <td>0</td>\n",
       "      <td>0</td>\n",
       "      <td>0</td>\n",
       "    </tr>\n",
       "    <tr>\n",
       "      <th>رسالة في أجزاء خبريّة في الموسيقى</th>\n",
       "      <td>0</td>\n",
       "      <td>0</td>\n",
       "      <td>0</td>\n",
       "      <td>0</td>\n",
       "      <td>0</td>\n",
       "      <td>0</td>\n",
       "      <td>0</td>\n",
       "      <td>0</td>\n",
       "      <td>0</td>\n",
       "      <td>0</td>\n",
       "      <td>0</td>\n",
       "      <td>0</td>\n",
       "      <td>0</td>\n",
       "      <td>0</td>\n",
       "      <td>0</td>\n",
       "      <td>0</td>\n",
       "      <td>0</td>\n",
       "      <td>0</td>\n",
       "    </tr>\n",
       "    <tr>\n",
       "      <th>رسالة الكندي في اللّحون والنّغم</th>\n",
       "      <td>0</td>\n",
       "      <td>0</td>\n",
       "      <td>0</td>\n",
       "      <td>0</td>\n",
       "      <td>0</td>\n",
       "      <td>0</td>\n",
       "      <td>0</td>\n",
       "      <td>0</td>\n",
       "      <td>1</td>\n",
       "      <td>0</td>\n",
       "      <td>0</td>\n",
       "      <td>0</td>\n",
       "      <td>0</td>\n",
       "      <td>0</td>\n",
       "      <td>0</td>\n",
       "      <td>0</td>\n",
       "      <td>0</td>\n",
       "      <td>0</td>\n",
       "    </tr>\n",
       "    <tr>\n",
       "      <th>كتاب الأدوار</th>\n",
       "      <td>0</td>\n",
       "      <td>0</td>\n",
       "      <td>0</td>\n",
       "      <td>0</td>\n",
       "      <td>0</td>\n",
       "      <td>0</td>\n",
       "      <td>0</td>\n",
       "      <td>0</td>\n",
       "      <td>0</td>\n",
       "      <td>0</td>\n",
       "      <td>0</td>\n",
       "      <td>0</td>\n",
       "      <td>0</td>\n",
       "      <td>0</td>\n",
       "      <td>0</td>\n",
       "      <td>0</td>\n",
       "      <td>0</td>\n",
       "      <td>0</td>\n",
       "    </tr>\n",
       "  </tbody>\n",
       "</table>\n",
       "</div>"
      ],
      "text/plain": [
       "                                                    اصفهان  حجاز  راست  زركشي  \\\n",
       "title_arabic                                                                    \n",
       "رسالة في خبر صناعة التّأليف                              0     0     0      0   \n",
       "كتاب المصوّتات الوتريّة من ذات الوتر الواحد إلى ذا       0     0     0      0   \n",
       "رسالة في أجزاء خبريّة في الموسيقى                        0     0     0      0   \n",
       "رسالة الكندي في اللّحون والنّغم                          0     0     0      0   \n",
       "كتاب الأدوار                                             0     0     0      0   \n",
       "\n",
       "                                                    زروكند  زنكلاه  شهناز  \\\n",
       "title_arabic                                                                \n",
       "رسالة في خبر صناعة التّأليف                              0       0      0   \n",
       "كتاب المصوّتات الوتريّة من ذات الوتر الواحد إلى ذا       0       0      0   \n",
       "رسالة في أجزاء خبريّة في الموسيقى                        0       0      0   \n",
       "رسالة الكندي في اللّحون والنّغم                          0       0      0   \n",
       "كتاب الأدوار                                             0       0      0   \n",
       "\n",
       "                                                    عراق  نيروز  بزرك  سلمك  \\\n",
       "title_arabic                                                                  \n",
       "رسالة في خبر صناعة التّأليف                            0      0     0     0   \n",
       "كتاب المصوّتات الوتريّة من ذات الوتر الواحد إلى ذا     0      0     0     0   \n",
       "رسالة في أجزاء خبريّة في الموسيقى                      0      0     0     0   \n",
       "رسالة الكندي في اللّحون والنّغم                        0      1     0     0   \n",
       "كتاب الأدوار                                           0      0     0     0   \n",
       "\n",
       "                                                    كوشت  ماياه  نوي  ابوسليك  \\\n",
       "title_arabic                                                                    \n",
       "رسالة في خبر صناعة التّأليف                            0      0    0        0   \n",
       "كتاب المصوّتات الوتريّة من ذات الوتر الواحد إلى ذا     0      0    0        0   \n",
       "رسالة في أجزاء خبريّة في الموسيقى                      0      0    0        0   \n",
       "رسالة الكندي في اللّحون والنّغم                        0      0    0        0   \n",
       "كتاب الأدوار                                           0      0    0        0   \n",
       "\n",
       "                                                    عشاق  حسيني  رهاوي  \n",
       "title_arabic                                                            \n",
       "رسالة في خبر صناعة التّأليف                            0      0      0  \n",
       "كتاب المصوّتات الوتريّة من ذات الوتر الواحد إلى ذا     0      0      0  \n",
       "رسالة في أجزاء خبريّة في الموسيقى                      0      0      0  \n",
       "رسالة الكندي في اللّحون والنّغم                        0      0      0  \n",
       "كتاب الأدوار                                           0      0      0  "
      ]
     },
     "execution_count": 253,
     "metadata": {},
     "output_type": "execute_result"
    }
   ],
   "source": [
    "doc_special_vocab_df.head()"
   ]
  },
  {
   "cell_type": "code",
   "execution_count": 254,
   "metadata": {},
   "outputs": [
    {
     "data": {
      "text/plain": [
       "'كتاب الإنعام في معرفة الأنغام'"
      ]
     },
     "execution_count": 254,
     "metadata": {},
     "output_type": "execute_result"
    }
   ],
   "source": [
    "doc_data_df.title_arabic[19]"
   ]
  },
  {
   "cell_type": "code",
   "execution_count": 255,
   "metadata": {},
   "outputs": [
    {
     "data": {
      "text/plain": [
       "اصفهان      6\n",
       "حجاز        2\n",
       "راست       22\n",
       "زركشي       2\n",
       "زروكند      6\n",
       "زنكلاه      0\n",
       "شهناز       2\n",
       "عراق        6\n",
       "نيروز       2\n",
       "بزرك        3\n",
       "سلمك        2\n",
       "كوشت        2\n",
       "ماياه       1\n",
       "نوي         3\n",
       "ابوسليك     1\n",
       "عشاق        3\n",
       "حسيني       2\n",
       "رهاوي       2\n",
       "Name: كتاب الإنعام في معرفة الأنغام, dtype: int64"
      ]
     },
     "execution_count": 255,
     "metadata": {},
     "output_type": "execute_result"
    }
   ],
   "source": [
    "doc_special_vocab_df.iloc[19,:]"
   ]
  },
  {
   "cell_type": "code",
   "execution_count": 256,
   "metadata": {},
   "outputs": [
    {
     "data": {
      "text/plain": [
       "عراق       130\n",
       "حجاز       123\n",
       "عشاق       115\n",
       "اصفهان     113\n",
       "حسيني       93\n",
       "نوي         82\n",
       "زروكند      77\n",
       "بزرك        69\n",
       "نيروز       58\n",
       "ابوسليك     45\n",
       "زركشي       44\n",
       "راست        38\n",
       "سلمك        37\n",
       "ماياه       37\n",
       "كوشت        34\n",
       "شهناز       30\n",
       "رهاوي       27\n",
       "زنكلاه       6\n",
       "dtype: int64"
      ]
     },
     "execution_count": 256,
     "metadata": {},
     "output_type": "execute_result"
    }
   ],
   "source": [
    "## Total frequency of special terms\n",
    "\n",
    "doc_special_vocab_df.sum(axis=0).sort_values(ascending=False)"
   ]
  },
  {
   "cell_type": "code",
   "execution_count": 257,
   "metadata": {},
   "outputs": [
    {
     "data": {
      "text/plain": [
       "عراق       17\n",
       "حجاز       13\n",
       "اصفهان     11\n",
       "عشاق       10\n",
       "نوي        10\n",
       "زروكند      9\n",
       "نيروز       9\n",
       "سلمك        7\n",
       "بزرك        7\n",
       "حسيني       7\n",
       "كوشت        7\n",
       "شهناز       7\n",
       "ماياه       6\n",
       "زركشي       6\n",
       "راست        6\n",
       "ابوسليك     6\n",
       "رهاوي       5\n",
       "زنكلاه      3\n",
       "dtype: int64"
      ]
     },
     "execution_count": 257,
     "metadata": {},
     "output_type": "execute_result"
    }
   ],
   "source": [
    "## Document frequency of special terms\n",
    "\n",
    "(doc_special_vocab_df>0).sum(axis=0).sort_values(ascending=False)"
   ]
  },
  {
   "cell_type": "code",
   "execution_count": 258,
   "metadata": {},
   "outputs": [
    {
     "data": {
      "text/plain": [
       "3"
      ]
     },
     "execution_count": 258,
     "metadata": {},
     "output_type": "execute_result"
    }
   ],
   "source": [
    "sum([('زنكلاه' in doc_tokens) for doc_tokens in corpus_words_2])"
   ]
  },
  {
   "cell_type": "code",
   "execution_count": 259,
   "metadata": {
    "scrolled": true
   },
   "outputs": [
    {
     "data": {
      "text/plain": [
       "title_arabic\n",
       "برء الأسقام، شرح القصيدة في الأنغام                   319\n",
       "كتاب في علم الموسيقى ومعرفة الانغام                   290\n",
       "أرجوزة في الأنغام                                     156\n",
       "مقدّمة في قوانين الأنغام                              140\n",
       "رسالة الكشّاف في علم الأنغام / مقدّمة في علم الموس     81\n",
       "كتاب الإنعام في معرفة الأنغام                          67\n",
       "فنّ الأنغام                                            41\n",
       "رسالة في التّعريف ببعض كلمات فارسيّة وردت في تأليف     12\n",
       "العقد الفريد                                           12\n",
       "المواهب الخيريّة في كيفيّة عمل البردة البصيريّة        10\n",
       "نظم شجرة الطّبوع والطّبائع                              9\n",
       "إيقاد الشّموع للذّة المسموع بنغمات الطبوع               5\n",
       "كتاب اللهو والملاهي                                     4\n",
       "رسالة القيان                                            4\n",
       "المقدّمة : صناعة الغناء                                 2\n",
       "كتاب الامتاع والانتفاع في مسألة سماع السّماع            1\n",
       "رسالة الكندي في اللّحون والنّغم                         1\n",
       "كتاب المحاسن والمساوي                                   1\n",
       "كتاب الملاهي                                            1\n",
       "في الموسيقى                                             1\n",
       "كتاب النّغم                                             1\n",
       "قول على اللّحون وصنعة المعازف ومخارج الحروف             0\n",
       "كتاب الشّفاء                                            0\n",
       "كتاب عنصر الموسيقى وما افترقت عليه الفلاسفة من ترك      0\n",
       "كتاب الأدوار                                            0\n",
       "رسالة في أجزاء خبريّة في الموسيقى                       0\n",
       "كتاب المصوّتات الوتريّة من ذات الوتر الواحد إلى ذا      0\n",
       "مسألة في الموسيقى                                       0\n",
       "كتاب الأمانات والاعتقادات                               0\n",
       "كتاب إحصاء الإيقاعات                                    0\n",
       "القول على أجناس الّذي بالأربعة                          0\n",
       "تلخيص كتاب النّفس                                       0\n",
       "كتاب النّفس : القول في السّمع                           0\n",
       "تعريفات العلوم أو كتاب الفوائد الخاقانيّة الأحمديّ      0\n",
       "إحصاء العلوم                                            0\n",
       "شرح كتاب الأدوار                                        0\n",
       "طبقات المغنّين                                          0\n",
       "كتاب التّربيع والتّدوير                                 0\n",
       "رسالة في خبر صناعة التّأليف                             0\n",
       "dtype: int64"
      ]
     },
     "execution_count": 259,
     "metadata": {},
     "output_type": "execute_result"
    }
   ],
   "source": [
    "## Number of special terms per document\n",
    "\n",
    "doc_special_vocab_df.sum(axis=1).sort_values(ascending=False)"
   ]
  },
  {
   "cell_type": "code",
   "execution_count": 260,
   "metadata": {},
   "outputs": [
    {
     "data": {
      "text/plain": [
       "18"
      ]
     },
     "execution_count": 260,
     "metadata": {},
     "output_type": "execute_result"
    }
   ],
   "source": [
    "## Number of documents that contain 0 special terms\n",
    "\n",
    "sum((doc_special_vocab_df.sum(axis=1)==0).ravel())"
   ]
  },
  {
   "cell_type": "code",
   "execution_count": 261,
   "metadata": {},
   "outputs": [
    {
     "data": {
      "text/plain": [
       "Text(138.7707142857143, 0.5, 'document title')"
      ]
     },
     "execution_count": 261,
     "metadata": {},
     "output_type": "execute_result"
    },
    {
     "data": {
      "image/png": "[encoded data removed]",
      "text/plain": [
       "<Figure size 720x576 with 2 Axes>"
      ]
     },
     "metadata": {
      "needs_background": "light"
     },
     "output_type": "display_data"
    }
   ],
   "source": [
    "## Visualize matrix as a heatmap\n",
    "\n",
    "doc_special_vocab_df2 = doc_special_vocab_df.loc[doc_special_vocab_df.sum(axis=1)>0,:].copy()\n",
    "doc_special_vocab_df2.index = doc_special_vocab_df2.index.map(lambda word: get_display(arabic_reshaper.reshape(word)))\n",
    "doc_special_vocab_df2.columns = reshaped_special_vocab\n",
    "\n",
    "plt.figure(figsize=(10,8))\n",
    "plt.title('Number of occurrences of special terms in documents', y=1.05, size=12)\n",
    "sns.heatmap(doc_special_vocab_df2, linewidths=0.1, square=True, linecolor='white', annot=False, cmap=plt.cm.RdBu)\n",
    "plt.xlabel('term')\n",
    "plt.ylabel('document title')"
   ]
  },
  {
   "cell_type": "code",
   "execution_count": 262,
   "metadata": {},
   "outputs": [
    {
     "data": {
      "text/plain": [
       "Text(138.7707142857143, 0.5, 'document title')"
      ]
     },
     "execution_count": 262,
     "metadata": {},
     "output_type": "execute_result"
    },
    {
     "data": {
      "image/png": "[encoded data removed]",
      "text/plain": [
       "<Figure size 720x576 with 2 Axes>"
      ]
     },
     "metadata": {
      "needs_background": "light"
     },
     "output_type": "display_data"
    }
   ],
   "source": [
    "plt.figure(figsize=(10,8))\n",
    "plt.title('Binary occurrence of special terms in documents', y=1.05, size=12)\n",
    "sns.heatmap(doc_special_vocab_df2>0, linewidths=0.1, square=True, linecolor='white', annot=False, cmap=plt.cm.RdBu)\n",
    "plt.xlabel('term')\n",
    "plt.ylabel('document title')"
   ]
  },
  {
   "cell_type": "markdown",
   "metadata": {},
   "source": [
    "***"
   ]
  },
  {
   "cell_type": "markdown",
   "metadata": {},
   "source": [
    "### Remarks and conclusions\n",
    "\n",
    "- nearly 51% (5566/10851) of words **occur only once** in the entire corpus; these words are formally called *hapaxes*. Good stemming generally helps reduce the number of hapaxes.\n",
    "- very long words are either words that should've been stemmed OR named entities OR spelling errors.\n",
    "- word frequency distribution of this corpus seems to follow a z-distribution, which is typical.\n",
    "- there are various types of stemming errors, which we might be able to reduce by introducing more intelligent heuristics (for example by leveraging orthographic similarity) and corpus-specific heuristics."
   ]
  },
  {
   "cell_type": "markdown",
   "metadata": {},
   "source": [
    "******"
   ]
  }
 ],
 "metadata": {
  "kernelspec": {
   "display_name": "Python 3",
   "language": "python",
   "name": "python3"
  },
  "language_info": {
   "codemirror_mode": {
    "name": "ipython",
    "version": 3
   },
   "file_extension": ".py",
   "mimetype": "text/x-python",
   "name": "python",
   "nbconvert_exporter": "python",
   "pygments_lexer": "ipython3",
   "version": "3.7.3"
  },
  "toc": {
   "base_numbering": 1,
   "nav_menu": {},
   "number_sections": true,
   "sideBar": true,
   "skip_h1_title": false,
   "title_cell": "Table of Contents",
   "title_sidebar": "Contents",
   "toc_cell": false,
   "toc_position": {
    "height": "475px",
    "left": "445px",
    "top": "154.14px",
    "width": "273.2px"
   },
   "toc_section_display": true,
   "toc_window_display": false
  }
 },
 "nbformat": 4,
 "nbformat_minor": 2
}
